{
 "cells": [
  {
   "cell_type": "code",
   "execution_count": 92,
   "metadata": {
    "collapsed": true
   },
   "outputs": [],
   "source": [
    "%matplotlib inline\n",
    "from pandas_datareader import data\n",
    "import pandas as pd\n",
    "from SALib.sample import latin, saltelli, fast_sampler\n",
    "from SALib.sample.morris import sample\n",
    "from SALib.analyze import sobol, fast, morris\n",
    "from functions.stylizedfacts import *\n",
    "from functions.evolutionaryalgo import *\n",
    "from functions.sensitivity_analysis import *\n",
    "from functions.helpers import hurst, organise_data\n",
    "import matplotlib.pyplot as plt\n",
    "import quandl"
   ]
  },
  {
   "cell_type": "markdown",
   "metadata": {},
   "source": [
    "# Sensitivity analysis with respect to expectation components\n",
    "Perform sensitivity analyis on stylized facts with respect to the four components of expectations."
   ]
  },
  {
   "cell_type": "markdown",
   "metadata": {},
   "source": [
    "## 1 S&P stylized facts"
   ]
  },
  {
   "cell_type": "code",
   "execution_count": 2,
   "metadata": {
    "collapsed": true
   },
   "outputs": [],
   "source": [
    "start_date = '1960-01-01'\n",
    "end_date = '2016-8-31'\n",
    "window = 320\n",
    "\n",
    "spy_real_price = quandl.get(\"MULTPL/SP500_REAL_PRICE_MONTH\", authtoken=\"8EKNms1cLLU-dBjk5Y4d\").loc[start_date:end_date]\n",
    "spy_real_price = spy_real_price.rename(columns={\"Value\": \"price\"})\n",
    "\n",
    "spy_returns = spy_real_price.pct_change()[1:]\n",
    "\n",
    "spy_dividends = quandl.get(\"MULTPL/SP500_DIV_MONTH\", authtoken=\"8EKNms1cLLU-dBjk5Y4d\").loc[start_date:end_date]\n",
    "spy_dividends = spy_dividends.rename(columns={\"Value\": \"dividends\"})\n",
    "spy_dividends.index = spy_dividends.index + pd.offsets.MonthBegin(1)\n",
    "spy_all = spy_dividends.join(spy_real_price)\n",
    "\n",
    "spy_t_bill = quandl.get(\"FRED/INTGSTUSM193N\", authtoken=\"8EKNms1cLLU-dBjk5Y4d\").loc[start_date:end_date]\n",
    "spy_t_bill = spy_t_bill.rename(columns={\"Value\": \"dividends\"})\n",
    "\n",
    "spy_all['t_bill_int'] = spy_t_bill / 100\n",
    "\n",
    "spy_all['div_growth'] = spy_all['dividends'].pct_change()\n",
    "spy_all['av_div_growth'] = spy_all['div_growth'].rolling(window=window,center=False).mean()\n",
    "spy_all['yield'] = spy_all['dividends'].iloc[1:] / spy_all['price'].iloc[:-1]\n",
    "spy_all['ml_discount'] = [0.052 for x in range(len(spy_all))]\n",
    "spy_all['fixed_yield'] = spy_all['t_bill_int'] + spy_all['ml_discount']\n",
    "\n",
    "spy_all = spy_all.iloc[-window:-1]\n",
    "\n",
    "spy_all['fundamental'] = ((1 + spy_all['av_div_growth']) / (spy_all['fixed_yield'] - spy_all['av_div_growth'])) * spy_all['dividends']\n",
    "spy_all['dev_fundamental'] = (spy_all['price'] - spy_all['fundamental']) / spy_all['fundamental']"
   ]
  },
  {
   "cell_type": "code",
   "execution_count": 3,
   "metadata": {
    "collapsed": false
   },
   "outputs": [
    {
     "data": {
      "text/plain": [
       "{'autocorrelation': 0.00030320061625216735,\n",
       " 'autocorrelation_abs': 0.049914003700974562,\n",
       " 'av_dev_from_fund': 2.0192681168484445,\n",
       " 'hurst': 0.41423988932290962,\n",
       " 'kurtosis': 3.0676490833426238}"
      ]
     },
     "execution_count": 3,
     "metadata": {},
     "output_type": "execute_result"
    }
   ],
   "source": [
    "spy_autocorrelation = autocorrelation_returns(spy_returns['price'], 25)\n",
    "spy_kurtosis = kurtosis(spy_returns['price'])\n",
    "spy_autocorrelation_abs = autocorrelation_abs_returns(spy_returns['price'], 25)\n",
    "spy_hurst = hurst(spy_all['price'])\n",
    "av_def_fund = abs(np.mean(spy_all['dev_fundamental']))\n",
    "stylized_facts_spy = [spy_autocorrelation, spy_kurtosis, spy_autocorrelation_abs, spy_hurst, av_def_fund]\n",
    "\n",
    "stylized_facts_spy = pd.DataFrame(stylized_facts_spy, columns=['S&P500'], \n",
    "             index=['autocorrelation','kurtosis', 'autocorrelation_abs', 'hurst', 'av_dev_from_fund']).to_dict()['S&P500']\n",
    "\n",
    "stylized_facts_spy"
   ]
  },
  {
   "cell_type": "markdown",
   "metadata": {},
   "source": [
    "## 2 Define parameter space bounds \n",
    "\n",
    "Table 1 shows the parameter bounds, free parameters are **bold**. \n",
    "\n",
    "| Parameter | Values (start, stop, step) |\n",
    "| -------------| ------------|\n",
    "| ticks       | -, 1000, -   |\n",
    "| fundamental_value       | -, 100, -      |\n",
    "| n_traders       | -, 1981, -     |\n",
    "| trader_sample_size       | -, 21, -      |\n",
    "| std_fundamental       | -, 0.1075, - |\n",
    "| std_nois       | -, 0.2068, -      |\n",
    "| std_vol       | -, 11, -      |\n",
    "| max_order_expiration_ticks       | -, 24, -       |\n",
    "| **w_fundamentalists**       | 0.0, 100.0., 1.0      |\n",
    "| **w_momentum**       | 0.0, 100.0, 1.0      |\n",
    "| **w_random**       | 0.0, 100.0, 1.0      |\n",
    "| **w_mean_reversion**       | 0.0, 100.0, 1.0       |\n",
    "| spread_max       | -, 0.1075, -    |\n",
    "| horizon_min       | -, 7, -      |\n",
    "| horizon_max       | -, 11, -      |\n",
    "*Table 1 Parameter bounds*"
   ]
  },
  {
   "cell_type": "code",
   "execution_count": 4,
   "metadata": {
    "collapsed": true
   },
   "outputs": [],
   "source": [
    "problem = {\n",
    "  'num_vars': 4,\n",
    "  'names': ['w_fundamentalists', 'w_momentum', 'w_random', 'w_mean_reversion'],\n",
    "  'bounds': [[0.0, 100.0], [0.0, 100.0], [1.0, 100.0], [0.0, 100.0]]\n",
    "}"
   ]
  },
  {
   "cell_type": "code",
   "execution_count": 192,
   "metadata": {
    "collapsed": true
   },
   "outputs": [],
   "source": [
    "problem_morris = {\n",
    "    'num_vars': 13,\n",
    "    'names': ['n_traders', 'trader_sample_size', 'std_fundamental', 'std_noise', \n",
    "              'std_vol', 'max_order_expiration_ticks', 'w_fundamentalists', 'w_momentum',\n",
    "              'w_random', 'w_mean_reversion', 'spread_max',\n",
    "              'horizon_min', 'horizon_max'],\n",
    "    'bounds': [[1000, 2000], [1, 30], [0.01, 0.12], [0.05, 0.30], \n",
    "               [1, 15], [10, 100], [1.0, 100.0], [0.0, 100.0], \n",
    "               [0.0, 100.0], [0.0, 100.0], [0.01, 0.15], # change mean reversion to 100.0\n",
    "               [1, 8], [9, 30]]\n",
    "}"
   ]
  },
  {
   "cell_type": "markdown",
   "metadata": {},
   "source": [
    "## Perform Morris methods sensitivity analyis"
   ]
  },
  {
   "cell_type": "code",
   "execution_count": 193,
   "metadata": {
    "collapsed": false
   },
   "outputs": [],
   "source": [
    "morris_params = sample(problem_morris, 5, num_levels=4, grid_jump=2)\n",
    "morris_parameter_list = morris_params.tolist()"
   ]
  },
  {
   "cell_type": "code",
   "execution_count": 194,
   "metadata": {
    "collapsed": false
   },
   "outputs": [],
   "source": [
    "# convert nescessary parameters to ints\n",
    "for idx, parameters in enumerate(morris_parameter_list):\n",
    "    # ints: 0, 1, 4, 5, 11, 12\n",
    "    morris_parameter_list[idx][0] = int(morris_parameter_list[idx][0])\n",
    "    morris_parameter_list[idx][1] = int(morris_parameter_list[idx][1])\n",
    "    morris_parameter_list[idx][4] = int(morris_parameter_list[idx][4])\n",
    "    morris_parameter_list[idx][5] = int(morris_parameter_list[idx][5])\n",
    "    morris_parameter_list[idx][11] = int(morris_parameter_list[idx][11])\n",
    "    morris_parameter_list[idx][12] = int(morris_parameter_list[idx][12])"
   ]
  },
  {
   "cell_type": "code",
   "execution_count": 195,
   "metadata": {
    "collapsed": false
   },
   "outputs": [],
   "source": [
    "all_morris_parameters = []\n",
    "for parameters in morris_parameter_list:\n",
    "    pars = {}\n",
    "    for key, value in zip(problem_morris['names'], parameters):\n",
    "        pars[key] = value\n",
    "    all_morris_parameters.append(pars)"
   ]
  },
  {
   "cell_type": "code",
   "execution_count": 196,
   "metadata": {
    "collapsed": true
   },
   "outputs": [],
   "source": [
    "fixed_parameters = {\"ticks\": 100, \"fundamental_value\": 100, \"w_buy_hold\": 0.0}"
   ]
  },
  {
   "cell_type": "code",
   "execution_count": 197,
   "metadata": {
    "collapsed": false
   },
   "outputs": [
    {
     "name": "stderr",
     "output_type": "stream",
     "text": [
      "C:\\Users\\p267237\\Documents\\GitHub\\sim-fin-abm\\functions\\helpers.py:29: RankWarning: Polyfit may be poorly conditioned\n",
      "  poly = polyfit(log(lags), log(tau), 1)\n",
      "C:\\Users\\p267237\\Documents\\GitHub\\sim-fin-abm\\functions\\helpers.py:29: RankWarning: Polyfit may be poorly conditioned\n",
      "  poly = polyfit(log(lags), log(tau), 1)\n",
      "C:\\Users\\p267237\\Documents\\GitHub\\sim-fin-abm\\functions\\helpers.py:29: RankWarning: Polyfit may be poorly conditioned\n",
      "  poly = polyfit(log(lags), log(tau), 1)\n",
      "C:\\Users\\p267237\\Documents\\GitHub\\sim-fin-abm\\functions\\helpers.py:29: RankWarning: Polyfit may be poorly conditioned\n",
      "  poly = polyfit(log(lags), log(tau), 1)\n",
      "C:\\Users\\p267237\\Documents\\GitHub\\sim-fin-abm\\functions\\helpers.py:29: RankWarning: Polyfit may be poorly conditioned\n",
      "  poly = polyfit(log(lags), log(tau), 1)\n",
      "C:\\Users\\p267237\\Documents\\GitHub\\sim-fin-abm\\functions\\helpers.py:29: RankWarning: Polyfit may be poorly conditioned\n",
      "  poly = polyfit(log(lags), log(tau), 1)\n",
      "C:\\Users\\p267237\\Documents\\GitHub\\sim-fin-abm\\functions\\helpers.py:29: RankWarning: Polyfit may be poorly conditioned\n",
      "  poly = polyfit(log(lags), log(tau), 1)\n",
      "C:\\Users\\p267237\\Documents\\GitHub\\sim-fin-abm\\functions\\helpers.py:29: RankWarning: Polyfit may be poorly conditioned\n",
      "  poly = polyfit(log(lags), log(tau), 1)\n",
      "C:\\Users\\p267237\\Documents\\GitHub\\sim-fin-abm\\functions\\helpers.py:29: RankWarning: Polyfit may be poorly conditioned\n",
      "  poly = polyfit(log(lags), log(tau), 1)\n",
      "C:\\Users\\p267237\\Documents\\GitHub\\sim-fin-abm\\functions\\helpers.py:29: RankWarning: Polyfit may be poorly conditioned\n",
      "  poly = polyfit(log(lags), log(tau), 1)\n",
      "C:\\Users\\p267237\\Documents\\GitHub\\sim-fin-abm\\functions\\helpers.py:29: RankWarning: Polyfit may be poorly conditioned\n",
      "  poly = polyfit(log(lags), log(tau), 1)\n",
      "C:\\Users\\p267237\\Documents\\GitHub\\sim-fin-abm\\functions\\helpers.py:29: RankWarning: Polyfit may be poorly conditioned\n",
      "  poly = polyfit(log(lags), log(tau), 1)\n",
      "C:\\Users\\p267237\\Documents\\GitHub\\sim-fin-abm\\functions\\helpers.py:29: RankWarning: Polyfit may be poorly conditioned\n",
      "  poly = polyfit(log(lags), log(tau), 1)\n",
      "C:\\Users\\p267237\\Documents\\GitHub\\sim-fin-abm\\functions\\helpers.py:29: RankWarning: Polyfit may be poorly conditioned\n",
      "  poly = polyfit(log(lags), log(tau), 1)\n",
      "C:\\Users\\p267237\\Documents\\GitHub\\sim-fin-abm\\functions\\helpers.py:29: RankWarning: Polyfit may be poorly conditioned\n",
      "  poly = polyfit(log(lags), log(tau), 1)\n",
      "C:\\Users\\p267237\\Documents\\GitHub\\sim-fin-abm\\functions\\helpers.py:29: RankWarning: Polyfit may be poorly conditioned\n",
      "  poly = polyfit(log(lags), log(tau), 1)\n",
      "C:\\Users\\p267237\\Documents\\GitHub\\sim-fin-abm\\functions\\helpers.py:29: RankWarning: Polyfit may be poorly conditioned\n",
      "  poly = polyfit(log(lags), log(tau), 1)\n",
      "C:\\Users\\p267237\\Documents\\GitHub\\sim-fin-abm\\functions\\helpers.py:29: RankWarning: Polyfit may be poorly conditioned\n",
      "  poly = polyfit(log(lags), log(tau), 1)\n",
      "C:\\Users\\p267237\\Documents\\GitHub\\sim-fin-abm\\functions\\helpers.py:29: RankWarning: Polyfit may be poorly conditioned\n",
      "  poly = polyfit(log(lags), log(tau), 1)\n",
      "C:\\Users\\p267237\\Documents\\GitHub\\sim-fin-abm\\functions\\helpers.py:29: RankWarning: Polyfit may be poorly conditioned\n",
      "  poly = polyfit(log(lags), log(tau), 1)\n",
      "C:\\Users\\p267237\\Documents\\GitHub\\sim-fin-abm\\functions\\helpers.py:29: RankWarning: Polyfit may be poorly conditioned\n",
      "  poly = polyfit(log(lags), log(tau), 1)\n",
      "C:\\Users\\p267237\\Documents\\GitHub\\sim-fin-abm\\functions\\helpers.py:29: RankWarning: Polyfit may be poorly conditioned\n",
      "  poly = polyfit(log(lags), log(tau), 1)\n",
      "C:\\Users\\p267237\\Documents\\GitHub\\sim-fin-abm\\functions\\helpers.py:29: RankWarning: Polyfit may be poorly conditioned\n",
      "  poly = polyfit(log(lags), log(tau), 1)\n",
      "C:\\Users\\p267237\\Documents\\GitHub\\sim-fin-abm\\functions\\helpers.py:29: RankWarning: Polyfit may be poorly conditioned\n",
      "  poly = polyfit(log(lags), log(tau), 1)\n",
      "C:\\Users\\p267237\\Documents\\GitHub\\sim-fin-abm\\functions\\helpers.py:29: RankWarning: Polyfit may be poorly conditioned\n",
      "  poly = polyfit(log(lags), log(tau), 1)\n",
      "C:\\Users\\p267237\\Documents\\GitHub\\sim-fin-abm\\functions\\helpers.py:29: RankWarning: Polyfit may be poorly conditioned\n",
      "  poly = polyfit(log(lags), log(tau), 1)\n",
      "C:\\Users\\p267237\\Documents\\GitHub\\sim-fin-abm\\functions\\helpers.py:29: RankWarning: Polyfit may be poorly conditioned\n",
      "  poly = polyfit(log(lags), log(tau), 1)\n",
      "C:\\Users\\p267237\\Documents\\GitHub\\sim-fin-abm\\functions\\helpers.py:29: RankWarning: Polyfit may be poorly conditioned\n",
      "  poly = polyfit(log(lags), log(tau), 1)\n",
      "C:\\Users\\p267237\\Documents\\GitHub\\sim-fin-abm\\functions\\helpers.py:29: RankWarning: Polyfit may be poorly conditioned\n",
      "  poly = polyfit(log(lags), log(tau), 1)\n",
      "C:\\Users\\p267237\\Documents\\GitHub\\sim-fin-abm\\functions\\helpers.py:29: RankWarning: Polyfit may be poorly conditioned\n",
      "  poly = polyfit(log(lags), log(tau), 1)\n",
      "C:\\Users\\p267237\\Documents\\GitHub\\sim-fin-abm\\functions\\helpers.py:29: RankWarning: Polyfit may be poorly conditioned\n",
      "  poly = polyfit(log(lags), log(tau), 1)\n",
      "C:\\Users\\p267237\\Documents\\GitHub\\sim-fin-abm\\functions\\helpers.py:29: RankWarning: Polyfit may be poorly conditioned\n",
      "  poly = polyfit(log(lags), log(tau), 1)\n",
      "C:\\Users\\p267237\\Documents\\GitHub\\sim-fin-abm\\functions\\helpers.py:29: RankWarning: Polyfit may be poorly conditioned\n",
      "  poly = polyfit(log(lags), log(tau), 1)\n",
      "C:\\Users\\p267237\\Documents\\GitHub\\sim-fin-abm\\functions\\helpers.py:29: RankWarning: Polyfit may be poorly conditioned\n",
      "  poly = polyfit(log(lags), log(tau), 1)\n",
      "C:\\Users\\p267237\\Documents\\GitHub\\sim-fin-abm\\functions\\helpers.py:29: RankWarning: Polyfit may be poorly conditioned\n",
      "  poly = polyfit(log(lags), log(tau), 1)\n",
      "C:\\Users\\p267237\\Documents\\GitHub\\sim-fin-abm\\functions\\helpers.py:29: RankWarning: Polyfit may be poorly conditioned\n",
      "  poly = polyfit(log(lags), log(tau), 1)\n",
      "C:\\Users\\p267237\\Documents\\GitHub\\sim-fin-abm\\functions\\helpers.py:29: RankWarning: Polyfit may be poorly conditioned\n",
      "  poly = polyfit(log(lags), log(tau), 1)\n",
      "C:\\Users\\p267237\\Documents\\GitHub\\sim-fin-abm\\functions\\helpers.py:29: RankWarning: Polyfit may be poorly conditioned\n",
      "  poly = polyfit(log(lags), log(tau), 1)\n",
      "C:\\Users\\p267237\\Documents\\GitHub\\sim-fin-abm\\functions\\helpers.py:29: RankWarning: Polyfit may be poorly conditioned\n",
      "  poly = polyfit(log(lags), log(tau), 1)\n",
      "C:\\Users\\p267237\\Documents\\GitHub\\sim-fin-abm\\functions\\helpers.py:29: RankWarning: Polyfit may be poorly conditioned\n",
      "  poly = polyfit(log(lags), log(tau), 1)\n",
      "C:\\Users\\p267237\\Documents\\GitHub\\sim-fin-abm\\functions\\helpers.py:29: RankWarning: Polyfit may be poorly conditioned\n",
      "  poly = polyfit(log(lags), log(tau), 1)\n",
      "C:\\Users\\p267237\\Documents\\GitHub\\sim-fin-abm\\functions\\helpers.py:29: RankWarning: Polyfit may be poorly conditioned\n",
      "  poly = polyfit(log(lags), log(tau), 1)\n",
      "C:\\Users\\p267237\\Documents\\GitHub\\sim-fin-abm\\functions\\helpers.py:29: RankWarning: Polyfit may be poorly conditioned\n",
      "  poly = polyfit(log(lags), log(tau), 1)\n",
      "C:\\Users\\p267237\\Documents\\GitHub\\sim-fin-abm\\functions\\helpers.py:29: RankWarning: Polyfit may be poorly conditioned\n",
      "  poly = polyfit(log(lags), log(tau), 1)\n",
      "C:\\Users\\p267237\\Documents\\GitHub\\sim-fin-abm\\functions\\helpers.py:29: RankWarning: Polyfit may be poorly conditioned\n",
      "  poly = polyfit(log(lags), log(tau), 1)\n",
      "C:\\Users\\p267237\\Documents\\GitHub\\sim-fin-abm\\functions\\helpers.py:29: RankWarning: Polyfit may be poorly conditioned\n",
      "  poly = polyfit(log(lags), log(tau), 1)\n",
      "C:\\Users\\p267237\\Documents\\GitHub\\sim-fin-abm\\functions\\helpers.py:29: RankWarning: Polyfit may be poorly conditioned\n",
      "  poly = polyfit(log(lags), log(tau), 1)\n",
      "C:\\Users\\p267237\\Documents\\GitHub\\sim-fin-abm\\functions\\helpers.py:29: RankWarning: Polyfit may be poorly conditioned\n",
      "  poly = polyfit(log(lags), log(tau), 1)\n",
      "C:\\Users\\p267237\\Documents\\GitHub\\sim-fin-abm\\functions\\helpers.py:29: RankWarning: Polyfit may be poorly conditioned\n",
      "  poly = polyfit(log(lags), log(tau), 1)\n",
      "C:\\Users\\p267237\\Documents\\GitHub\\sim-fin-abm\\functions\\helpers.py:29: RankWarning: Polyfit may be poorly conditioned\n",
      "  poly = polyfit(log(lags), log(tau), 1)\n",
      "C:\\Users\\p267237\\Documents\\GitHub\\sim-fin-abm\\functions\\helpers.py:29: RankWarning: Polyfit may be poorly conditioned\n",
      "  poly = polyfit(log(lags), log(tau), 1)\n",
      "C:\\Users\\p267237\\Documents\\GitHub\\sim-fin-abm\\functions\\helpers.py:29: RankWarning: Polyfit may be poorly conditioned\n",
      "  poly = polyfit(log(lags), log(tau), 1)\n",
      "C:\\Users\\p267237\\Documents\\GitHub\\sim-fin-abm\\functions\\helpers.py:29: RankWarning: Polyfit may be poorly conditioned\n",
      "  poly = polyfit(log(lags), log(tau), 1)\n",
      "C:\\Users\\p267237\\Documents\\GitHub\\sim-fin-abm\\functions\\helpers.py:29: RankWarning: Polyfit may be poorly conditioned\n",
      "  poly = polyfit(log(lags), log(tau), 1)\n",
      "C:\\Users\\p267237\\Documents\\GitHub\\sim-fin-abm\\functions\\helpers.py:29: RankWarning: Polyfit may be poorly conditioned\n",
      "  poly = polyfit(log(lags), log(tau), 1)\n",
      "C:\\Users\\p267237\\Documents\\GitHub\\sim-fin-abm\\functions\\helpers.py:29: RankWarning: Polyfit may be poorly conditioned\n",
      "  poly = polyfit(log(lags), log(tau), 1)\n",
      "C:\\Users\\p267237\\Documents\\GitHub\\sim-fin-abm\\functions\\helpers.py:29: RankWarning: Polyfit may be poorly conditioned\n",
      "  poly = polyfit(log(lags), log(tau), 1)\n",
      "C:\\Users\\p267237\\Documents\\GitHub\\sim-fin-abm\\functions\\helpers.py:29: RankWarning: Polyfit may be poorly conditioned\n",
      "  poly = polyfit(log(lags), log(tau), 1)\n",
      "C:\\Users\\p267237\\Documents\\GitHub\\sim-fin-abm\\functions\\helpers.py:29: RankWarning: Polyfit may be poorly conditioned\n",
      "  poly = polyfit(log(lags), log(tau), 1)\n",
      "C:\\Users\\p267237\\Documents\\GitHub\\sim-fin-abm\\functions\\helpers.py:29: RankWarning: Polyfit may be poorly conditioned\n",
      "  poly = polyfit(log(lags), log(tau), 1)\n",
      "C:\\Users\\p267237\\Documents\\GitHub\\sim-fin-abm\\functions\\helpers.py:29: RankWarning: Polyfit may be poorly conditioned\n",
      "  poly = polyfit(log(lags), log(tau), 1)\n",
      "C:\\Users\\p267237\\Documents\\GitHub\\sim-fin-abm\\functions\\helpers.py:29: RankWarning: Polyfit may be poorly conditioned\n",
      "  poly = polyfit(log(lags), log(tau), 1)\n",
      "C:\\Users\\p267237\\Documents\\GitHub\\sim-fin-abm\\functions\\helpers.py:29: RankWarning: Polyfit may be poorly conditioned\n",
      "  poly = polyfit(log(lags), log(tau), 1)\n",
      "C:\\Users\\p267237\\Documents\\GitHub\\sim-fin-abm\\functions\\helpers.py:29: RankWarning: Polyfit may be poorly conditioned\n",
      "  poly = polyfit(log(lags), log(tau), 1)\n",
      "C:\\Users\\p267237\\Documents\\GitHub\\sim-fin-abm\\functions\\helpers.py:29: RankWarning: Polyfit may be poorly conditioned\n",
      "  poly = polyfit(log(lags), log(tau), 1)\n",
      "C:\\Users\\p267237\\Documents\\GitHub\\sim-fin-abm\\functions\\helpers.py:29: RankWarning: Polyfit may be poorly conditioned\n",
      "  poly = polyfit(log(lags), log(tau), 1)\n",
      "C:\\Users\\p267237\\Documents\\GitHub\\sim-fin-abm\\functions\\helpers.py:29: RankWarning: Polyfit may be poorly conditioned\n",
      "  poly = polyfit(log(lags), log(tau), 1)\n",
      "C:\\Users\\p267237\\Documents\\GitHub\\sim-fin-abm\\functions\\helpers.py:29: RankWarning: Polyfit may be poorly conditioned\n",
      "  poly = polyfit(log(lags), log(tau), 1)\n",
      "C:\\Users\\p267237\\Documents\\GitHub\\sim-fin-abm\\functions\\helpers.py:29: RankWarning: Polyfit may be poorly conditioned\n",
      "  poly = polyfit(log(lags), log(tau), 1)\n",
      "C:\\Users\\p267237\\Documents\\GitHub\\sim-fin-abm\\functions\\helpers.py:29: RankWarning: Polyfit may be poorly conditioned\n",
      "  poly = polyfit(log(lags), log(tau), 1)\n"
     ]
    }
   ],
   "source": [
    "# TODO check what is going wrong here 1 problem only fundamentalist and mean reversion traders\n",
    "morris_output = simulate_params_sobol(NRUNS=1, parameter_set=all_morris_parameters, fixed_parameters=fixed_parameters)"
   ]
  },
  {
   "cell_type": "code",
   "execution_count": 198,
   "metadata": {
    "collapsed": true
   },
   "outputs": [],
   "source": [
    "no_autoc = np.array(morris_output['autocorrelation'])\n",
    "f_tails = np.array(morris_output['kurtosis'])\n",
    "clustered_vol = np.array(morris_output['autocorrelation_abs'])\n",
    "l_memory = np.array(morris_output['hurst'])\n",
    "deviation_from_fundamentals = np.array(morris_output['av_dev_from_fund'])"
   ]
  },
  {
   "cell_type": "code",
   "execution_count": 203,
   "metadata": {
    "collapsed": false
   },
   "outputs": [
    {
     "data": {
      "text/plain": [
       "array([ nan,  nan,  nan,  nan,  nan,  nan,  nan,  nan,  nan,  nan,  nan,\n",
       "        nan,  nan,  nan,  nan,  nan,  nan,  nan,  nan,  nan,  nan,  nan,\n",
       "        nan,  nan,  nan,  nan,  nan,  nan,  nan,  nan,  nan,  nan,  nan,\n",
       "        nan,  nan,  nan,  nan,  nan,  nan,  nan,  nan,  nan,  nan,  nan,\n",
       "        nan,  nan,  nan,  nan,  nan,  nan,  nan,  nan,  nan,  nan,  nan,\n",
       "        nan,  nan,  nan,  nan,  nan,  nan,  nan,  nan,  nan,  nan,  nan,\n",
       "        nan,  nan,  nan,  nan])"
      ]
     },
     "execution_count": 203,
     "metadata": {},
     "output_type": "execute_result"
    }
   ],
   "source": [
    "# why? \n",
    "deviation_from_fundamentals"
   ]
  },
  {
   "cell_type": "code",
   "execution_count": 204,
   "metadata": {
    "collapsed": false
   },
   "outputs": [],
   "source": [
    "Si = morris.analyze(problem=problem_morris, X=morris_params, Y=no_autoc)"
   ]
  },
  {
   "cell_type": "code",
   "execution_count": 205,
   "metadata": {
    "collapsed": false
   },
   "outputs": [
    {
     "data": {
      "text/plain": [
       "{'mu': array([ 0.00102015,  0.00287158, -0.00420542,  0.01203887, -0.00046382,\n",
       "         0.00230554, -0.00367319,  0.0136945 , -0.00433995, -0.00235986,\n",
       "         0.00112206,  0.00797267, -0.0008701 ]),\n",
       " 'mu_star': array([ 0.01613309,  0.01356093,  0.00902299,  0.01518188,  0.0061786 ,\n",
       "         0.00230554,  0.01307661,  0.0136945 ,  0.02662258,  0.00716483,\n",
       "         0.01952111,  0.02326171,  0.01509241]),\n",
       " 'mu_star_conf': [0.012377207380800708,\n",
       "  0.0055557647711494563,\n",
       "  0.0070767583028435808,\n",
       "  0.01091134025067573,\n",
       "  0.0049552363356866356,\n",
       "  0.0021533565473578408,\n",
       "  0.0097722714505459399,\n",
       "  0.010459883090614875,\n",
       "  0.022312838897396142,\n",
       "  0.0040401499693529363,\n",
       "  0.011139139231068058,\n",
       "  0.010675488249308319,\n",
       "  0.003765614350278083],\n",
       " 'names': ['n_traders',\n",
       "  'trader_sample_size',\n",
       "  'std_fundamental',\n",
       "  'std_noise',\n",
       "  'std_vol',\n",
       "  'max_order_expiration_ticks',\n",
       "  'w_fundamentalists',\n",
       "  'w_momentum',\n",
       "  'w_random',\n",
       "  'w_mean_reversion',\n",
       "  'spread_max',\n",
       "  'horizon_min',\n",
       "  'horizon_max'],\n",
       " 'sigma': array([ 0.02389203,  0.01628752,  0.01272045,  0.01679204,  0.00935937,\n",
       "         0.00278028,  0.01874687,  0.01329231,  0.04159194,  0.00923645,\n",
       "         0.02593565,  0.0281121 ,  0.01752439])}"
      ]
     },
     "execution_count": 205,
     "metadata": {},
     "output_type": "execute_result"
    }
   ],
   "source": [
    "Si"
   ]
  },
  {
   "cell_type": "markdown",
   "metadata": {},
   "source": [
    "# Perform sobal sensitivity analysis:\n",
    "\n",
    "Sensitivity analysis (SA) is used to explore the influence of varying inputs on the outputs of a simulation model (Ginot et al. 2006). To account for interaction effects the different components, I perform a global sensitivity analysis on the four components of trader expactions. These variables are varied over the full range of their possible values. \n",
    "\n",
    "For the investigation of non-linear and non-monotonic relationships between the inputs and outputs one should apply variance\n",
    "decomposition methods (Marino et al. 2008). The Sobol' method delivers a quantitative measure of the main and higher-order effects. It is very similar to effect calculation in DoE theory (Saltelli et al. 1999) and can be considered the adaptation of classical DoE to computer simulations. The idea is that the total variance is composed of the variance of the main and the interaction effects. Therefore, multiple integrals for the partial effect terms of different orders are extracted by decomposition and evaluated using Monte-Carlo methods instead of using factor levels, as is performed in classical DoE. For further details see, for example, the original work of Sobol' (1990) or that of Chan et al. (2000).\n",
    "\n",
    "So the sobal method gives as output "
   ]
  },
  {
   "cell_type": "code",
   "execution_count": 152,
   "metadata": {
    "collapsed": true
   },
   "outputs": [],
   "source": [
    "param_values = saltelli.sample(problem, N=10)\n",
    "#param_values = param_values.tolist()"
   ]
  },
  {
   "cell_type": "code",
   "execution_count": 6,
   "metadata": {
    "collapsed": true
   },
   "outputs": [],
   "source": [
    "all_parameters = []\n",
    "for parameters in param_values:\n",
    "    pars = {}\n",
    "    for key, value in zip(problem['names'], parameters):\n",
    "        pars[key] = value\n",
    "    all_parameters.append(pars)"
   ]
  },
  {
   "cell_type": "code",
   "execution_count": 7,
   "metadata": {
    "collapsed": false
   },
   "outputs": [],
   "source": [
    "fixed_parameters = {'fundamental_value': 100,\n",
    "                    'horizon_max': 22,\n",
    "                    'horizon_min': 2,\n",
    "                    'max_order_expiration_ticks': 24,\n",
    "                    'n_traders': 1981,\n",
    "                    'spread_max': 0.1034423464335639,\n",
    "                    'std_fundamental': 0.10754244839080045,\n",
    "                    'std_noise': 0.20680836615919262,\n",
    "                    'std_vol': 11,\n",
    "                    'ticks': 1000,\n",
    "                    'trader_sample_size': 21,\n",
    "                    'w_buy_hold': 0.0}"
   ]
  },
  {
   "cell_type": "code",
   "execution_count": 8,
   "metadata": {
    "collapsed": false
   },
   "outputs": [],
   "source": [
    "model_output = simulate_params_sobol(NRUNS=1, parameter_set=all_parameters, fixed_parameters=fixed_parameters)"
   ]
  },
  {
   "cell_type": "code",
   "execution_count": 18,
   "metadata": {
    "collapsed": true
   },
   "outputs": [],
   "source": [
    "# extract stylized facts.\n",
    "no_autoc = np.array(model_output['autocorrelation'])\n",
    "f_tails = np.array(model_output['kurtosis'])\n",
    "clustered_vol = np.array(model_output['autocorrelation_abs'])\n",
    "l_memory = np.array(model_output['hurst'])\n",
    "deviation_from_fundamentals = np.array(model_output['av_dev_from_fund'])"
   ]
  },
  {
   "cell_type": "code",
   "execution_count": 21,
   "metadata": {
    "collapsed": false
   },
   "outputs": [
    {
     "name": "stdout",
     "output_type": "stream",
     "text": [
      "Parameter S1 S1_conf ST ST_conf\n",
      "w_fundamentalists 0.083515 0.720033 0.778780 0.819721\n",
      "w_momentum 0.069578 0.453996 0.460401 0.504988\n",
      "w_random 0.123506 1.017468 1.791930 2.045630\n",
      "w_mean_reversion 0.824789 0.524974 0.737274 0.397832\n",
      "\n",
      "Parameter_1 Parameter_2 S2 S2_conf\n",
      "w_fundamentalists w_momentum -0.390971 0.504811\n",
      "w_fundamentalists w_random -0.627239 1.208180\n",
      "w_fundamentalists w_mean_reversion -0.692602 1.256062\n",
      "w_momentum w_random 0.129068 1.632642\n",
      "w_momentum w_mean_reversion -1.107217 0.384863\n",
      "w_random w_mean_reversion 0.225582 1.824936\n"
     ]
    }
   ],
   "source": [
    "Si = sobol.analyze(problem, clustered_vol, print_to_console=True)\n",
    "# Returns a dictionary with keys 'S1', 'S1_conf' (first order sensitivity), \n",
    "# 'ST', and 'ST_conf', (total sensitivity) where\n",
    "# each entry is a list of size D (the number of parameters) containing the\n",
    "# indices in the same order as the parameter file.  If calc_second_order is\n",
    "# True, the dictionary also contains keys 'S2' and 'S2_conf' (second order sensitivity)."
   ]
  },
  {
   "cell_type": "markdown",
   "metadata": {},
   "source": [
    "## Perform eFast sensitivity analyisis"
   ]
  },
  {
   "cell_type": "code",
   "execution_count": 25,
   "metadata": {
    "collapsed": false
   },
   "outputs": [],
   "source": [
    "param_values = fast_sampler.sample(problem, 1000)\n",
    "all_parameters = []\n",
    "for parameters in param_values:\n",
    "    pars = {}\n",
    "    for key, value in zip(problem['names'], parameters):\n",
    "        pars[key] = value\n",
    "    all_parameters.append(pars)\n",
    "    \n",
    "fixed_parameters = {'fundamental_value': 100,\n",
    "                    'horizon_max': 22,\n",
    "                    'horizon_min': 2,\n",
    "                    'max_order_expiration_ticks': 24,\n",
    "                    'n_traders': 1981,\n",
    "                    'spread_max': 0.1034423464335639,\n",
    "                    'std_fundamental': 0.10754244839080045,\n",
    "                    'std_noise': 0.20680836615919262,\n",
    "                    'std_vol': 11,\n",
    "                    'ticks': 1000,\n",
    "                    'trader_sample_size': 21,\n",
    "                    'w_buy_hold': 0.0}"
   ]
  },
  {
   "cell_type": "code",
   "execution_count": 26,
   "metadata": {
    "collapsed": true
   },
   "outputs": [],
   "source": [
    "model_output = simulate_params_sobol(NRUNS=1, parameter_set=all_parameters, fixed_parameters=fixed_parameters)\n",
    "no_autoc = np.array(model_output['autocorrelation'])\n",
    "f_tails = np.array(model_output['kurtosis'])\n",
    "clustered_vol = np.array(model_output['autocorrelation_abs'])\n",
    "l_memory = np.array(model_output['hurst'])\n",
    "deviation_from_fundamentals = np.array(model_output['av_dev_from_fund'])"
   ]
  },
  {
   "cell_type": "code",
   "execution_count": 30,
   "metadata": {
    "collapsed": false
   },
   "outputs": [],
   "source": [
    "impact_on_no_a = fast.analyze(problem, no_autoc, print_to_console=False)\n",
    "impact_on_f_t = fast.analyze(problem, f_tails, print_to_console=False)\n",
    "impact_on_cv = fast.analyze(problem, clustered_vol, print_to_console=False)\n",
    "impact_on_lm = fast.analyze(problem, l_memory, print_to_console=False)\n",
    "impact_on_df = fast.analyze(problem, deviation_from_fundamentals, print_to_console=False)"
   ]
  },
  {
   "cell_type": "code",
   "execution_count": 31,
   "metadata": {
    "collapsed": false
   },
   "outputs": [
    {
     "data": {
      "text/plain": [
       "{'S1': [0.014090913161238618,\n",
       "  0.010656658503082745,\n",
       "  0.36440941636742391,\n",
       "  0.0059739487573555071],\n",
       " 'ST': [0.49501725737231772,\n",
       "  0.35563721275428273,\n",
       "  0.89806122068226535,\n",
       "  0.51985458297549114]}"
      ]
     },
     "execution_count": 31,
     "metadata": {},
     "output_type": "execute_result"
    }
   ],
   "source": [
    "impact_on_no_a"
   ]
  },
  {
   "cell_type": "code",
   "execution_count": 90,
   "metadata": {
    "collapsed": false
   },
   "outputs": [
    {
     "data": {
      "image/png": "[encoded data removed]",
      "text/plain": [
       "<matplotlib.figure.Figure at 0xd35c710>"
      ]
     },
     "metadata": {},
     "output_type": "display_data"
    }
   ],
   "source": [
    "# plot 5 histograms \n",
    "#fig, ((ax1, ax2, ax3),(ax4, ax5, ax6)) = plt.subplots(2, 3, figsize=(12,5))\n",
    "fig, axes = plt.subplots(nrows=2, ncols=3, figsize=(12, 6))\n",
    "\n",
    "N = 4\n",
    "ind = np.arange(N)  # the x locations for the groups\n",
    "width = 0.40       # the width of the bars\n",
    "\n",
    "ax1 = axes[0,0] \n",
    "ax2 = axes[0,1]\n",
    "ax3 = axes[0,2]\n",
    "ax4 = axes[1,0]\n",
    "ax5 = axes[1,1]\n",
    "\n",
    "ax1.set_title('No autocorrelation')\n",
    "rects1 = ax1.bar(ind, impact_on_no_a['S1'], width, color='k')\n",
    "rects2 = ax1.bar(ind + width, impact_on_no_a['ST'], width, color='w', hatch='\\\\')\n",
    "#ax1.legend((rects1[0], rects2[0]), ('S1', 'ST'))\n",
    "ax1.set_ylabel('impact')\n",
    "\n",
    "ax2.set_title('Fat tails')\n",
    "rects3 = ax2.bar(ind, impact_on_f_t['S1'], width, color='k')\n",
    "rects4 = ax2.bar(ind + width, impact_on_f_t['ST'], width, color='w', hatch='\\\\')\n",
    "\n",
    "ax3.set_title('Clustered volatility')\n",
    "rects5 = ax3.bar(ind, impact_on_cv['S1'], width, color='k')\n",
    "rects6 = ax3.bar(ind + width, impact_on_cv['ST'], width, color='w', hatch='\\\\')\n",
    "\n",
    "ax4.set_title('Long memory')\n",
    "rects7 = ax4.bar(ind, impact_on_lm['S1'], width, color='k')\n",
    "rects8 = ax4.bar(ind + width, impact_on_lm['ST'], width, color='w', hatch='\\\\')\n",
    "ax4.set_ylabel('impact')\n",
    "\n",
    "ax5.set_title('Fundamental deviation')\n",
    "rects9 = ax5.bar(ind, impact_on_df['S1'], width, color='k')\n",
    "rects10 = ax5.bar(ind + width, impact_on_df['ST'], width, color='w', hatch='\\\\')\n",
    "ax5.legend((rects9[0], rects10[0]), ('First-order sensitivity', 'Total sensitivity'), \n",
    "           loc='center left', bbox_to_anchor=(1.25, 0.5))\n",
    "\n",
    "axes[1, 2].remove()\n",
    "\n",
    "for ax in [ax1, ax2, ax3, ax4, ax5]:\n",
    "    ax.set_xticks(ind + width / 2)\n",
    "    ax.set_xticklabels(('F', 'MM', 'NS', 'MR'))\n",
    "    ax.set_ylim(0, 1.0)\n",
    "    \n",
    "fig.savefig('eFastExpectations.png')"
   ]
  }
 ],
 "metadata": {
  "kernelspec": {
   "display_name": "Python 3",
   "language": "python",
   "name": "python3"
  },
  "language_info": {
   "codemirror_mode": {
    "name": "ipython",
    "version": 3
   },
   "file_extension": ".py",
   "mimetype": "text/x-python",
   "name": "python",
   "nbconvert_exporter": "python",
   "pygments_lexer": "ipython3",
   "version": "3.5.2"
  }
 },
 "nbformat": 4,
 "nbformat_minor": 0
}
