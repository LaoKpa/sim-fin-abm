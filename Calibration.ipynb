{
 "cells": [
  {
   "cell_type": "code",
   "execution_count": 88,
   "metadata": {
    "collapsed": false
   },
   "outputs": [],
   "source": [
    "%matplotlib inline\n",
    "import math\n",
    "import numpy as np\n",
    "import numpy.random as nrand\n",
    "import matplotlib.pyplot as plt\n",
    "import pandas as pd\n",
    "import itertools\n",
    "import scipy.stats as stats\n",
    "import powerlaw\n",
    "from pandas_datareader import data\n",
    "from pylab import plot, show\n",
    "from math import isclose\n",
    "import itertools\n",
    "import statsmodels.tsa.stattools as ts\n",
    "import quandl\n",
    "from functions.helpers import hurst"
   ]
  },
  {
   "cell_type": "markdown",
   "metadata": {},
   "source": [
    "# Calibration\n",
    "\n",
    "In the calculation of the price to dividends ratio, I follow Adam et al. (2016). Perhaps dividends need to be seasonally adjusted?"
   ]
  },
  {
   "cell_type": "code",
   "execution_count": 80,
   "metadata": {
    "collapsed": false
   },
   "outputs": [],
   "source": [
    "start_date = '1980-01-01'\n",
    "end_date = '2017-12-31'"
   ]
  },
  {
   "cell_type": "code",
   "execution_count": 81,
   "metadata": {
    "collapsed": false
   },
   "outputs": [],
   "source": [
    "spy_real_price = quandl.get(\"MULTPL/SP500_REAL_PRICE_MONTH\", authtoken=\"8EKNms1cLLU-dBjk5Y4d\").loc[start_date:end_date]\n",
    "spy_real_price = spy_real_price.rename(columns={\"Value\": \"price\"})\n",
    "spy_dividends = quandl.get(\"MULTPL/SP500_DIV_MONTH\", authtoken=\"8EKNms1cLLU-dBjk5Y4d\").loc[start_date:end_date]\n",
    "spy_dividends = spy_dividends.rename(columns={\"Value\": \"dividends\"})"
   ]
  },
  {
   "cell_type": "code",
   "execution_count": 82,
   "metadata": {
    "collapsed": false
   },
   "outputs": [],
   "source": [
    "spy_dividends['new_index'] = range(1, len(spy_dividends)+1)\n",
    "spy_dividends= spy_dividends.set_index('new_index')\n",
    "spy_real_price['new_index'] = range(0, len(spy_dividends))\n",
    "spy_real_price= spy_real_price.set_index('new_index')"
   ]
  },
  {
   "cell_type": "code",
   "execution_count": 83,
   "metadata": {
    "collapsed": false
   },
   "outputs": [],
   "source": [
    "#cpi"
   ]
  },
  {
   "cell_type": "code",
   "execution_count": 84,
   "metadata": {
    "collapsed": false
   },
   "outputs": [],
   "source": [
    "spy_all = pd.concat([spy_dividends, spy_real_price], axis=1)\n",
    "spy_all['pd'] = spy_all['price'] / spy_all['dividends']\n",
    "spy_all['spy_dev_fund'] = (spy_all['price'] - spy_all['dividends']) / spy_all['dividends']"
   ]
  },
  {
   "cell_type": "code",
   "execution_count": 86,
   "metadata": {
    "collapsed": false
   },
   "outputs": [
    {
     "data": {
      "text/plain": [
       "<matplotlib.axes._subplots.AxesSubplot at 0xd5c96d8>"
      ]
     },
     "execution_count": 86,
     "metadata": {},
     "output_type": "execute_result"
    },
    {
     "data": {
      "image/png": "[encoded data removed]",
      "text/plain": [
       "<matplotlib.figure.Figure at 0xd5c3fd0>"
      ]
     },
     "metadata": {},
     "output_type": "display_data"
    }
   ],
   "source": [
    "spy_all['spy_dev_fund'].plot()"
   ]
  },
  {
   "cell_type": "markdown",
   "metadata": {},
   "source": [
    "## Test for mean reversion"
   ]
  },
  {
   "cell_type": "code",
   "execution_count": 89,
   "metadata": {
    "collapsed": false
   },
   "outputs": [
    {
     "data": {
      "text/plain": [
       "(-1.1874800647406767,\n",
       " 0.67895815112343672,\n",
       " 1,\n",
       " 453,\n",
       " {'1%': -3.4448681948588309,\n",
       "  '10%': -2.5701797149735146,\n",
       "  '5%': -2.867941416548597},\n",
       " 1480.8513742090613)"
      ]
     },
     "execution_count": 89,
     "metadata": {},
     "output_type": "execute_result"
    }
   ],
   "source": [
    "ts.adfuller(spy_all['spy_dev_fund'].iloc[1:-1], 1)"
   ]
  },
  {
   "cell_type": "markdown",
   "metadata": {},
   "source": [
    "## Stationarity\n",
    "Then, I do a Hurst component analysis to find that the deviation from fundamentals follows something close to a geometric brownian motion. "
   ]
  },
  {
   "cell_type": "code",
   "execution_count": 90,
   "metadata": {
    "collapsed": false
   },
   "outputs": [
    {
     "data": {
      "text/plain": [
       "0.48289791593588238"
      ]
     },
     "execution_count": 90,
     "metadata": {},
     "output_type": "execute_result"
    }
   ],
   "source": [
    "hurst(spy_all['spy_dev_fund'].iloc[1:-1])"
   ]
  },
  {
   "cell_type": "markdown",
   "metadata": {},
   "source": [
    "## Autocorrelation structure"
   ]
  },
  {
   "cell_type": "code",
   "execution_count": 69,
   "metadata": {
    "collapsed": false
   },
   "outputs": [],
   "source": [
    "ac_pd = [spy_all['pd'].autocorr(lag=lag) for lag in range(100)]"
   ]
  },
  {
   "cell_type": "code",
   "execution_count": 70,
   "metadata": {
    "collapsed": false
   },
   "outputs": [
    {
     "data": {
      "text/plain": [
       "<matplotlib.text.Text at 0xc7109b0>"
      ]
     },
     "execution_count": 70,
     "metadata": {},
     "output_type": "execute_result"
    },
    {
     "data": {
      "image/png": "[encoded data removed]",
      "text/plain": [
       "<matplotlib.figure.Figure at 0xb3fe4e0>"
      ]
     },
     "metadata": {},
     "output_type": "display_data"
    }
   ],
   "source": [
    "fig, ax1 = plt.subplots(1, 1, figsize=(10,5))\n",
    "\n",
    "ax1.plot(range(len(ac_pd)), ac_pd, 'k-', label='PD')\n",
    "\n",
    "ax1.legend(frameon=True, loc='best', framealpha=0.8)\n",
    "ax1.set_ylabel('Autocorrelation', fontsize='14')\n",
    "ax1.set_xlabel('Lag', fontsize='14')"
   ]
  },
  {
   "cell_type": "code",
   "execution_count": 72,
   "metadata": {
    "collapsed": false
   },
   "outputs": [
    {
     "data": {
      "text/plain": [
       "0.99714624961690246"
      ]
     },
     "execution_count": 72,
     "metadata": {},
     "output_type": "execute_result"
    }
   ],
   "source": [
    "ac_pd[1]"
   ]
  }
 ],
 "metadata": {
  "kernelspec": {
   "display_name": "Python 3",
   "language": "python",
   "name": "python3"
  },
  "language_info": {
   "codemirror_mode": {
    "name": "ipython",
    "version": 3
   },
   "file_extension": ".py",
   "mimetype": "text/x-python",
   "name": "python",
   "nbconvert_exporter": "python",
   "pygments_lexer": "ipython3",
   "version": "3.5.2"
  }
 },
 "nbformat": 4,
 "nbformat_minor": 0
}
