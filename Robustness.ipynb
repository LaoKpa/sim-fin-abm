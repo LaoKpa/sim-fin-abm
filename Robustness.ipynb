{
 "cells": [
  {
   "cell_type": "code",
   "execution_count": 1,
   "metadata": {},
   "outputs": [],
   "source": [
    "%matplotlib inline\n",
    "import pandas as pd\n",
    "pd.core.common.is_list_like = pd.api.types.is_list_like\n",
    "from pandas_datareader import data\n",
    "from SALib.sample import latin, saltelli, fast_sampler\n",
    "from SALib.sample.morris import sample\n",
    "from SALib.analyze import sobol, fast, morris\n",
    "from functions.stylizedfacts import *\n",
    "from functions.evolutionaryalgo import *\n",
    "from functions.sensitivity_analysis import *\n",
    "from functions.helpers import hurst, organise_data\n",
    "import matplotlib.pyplot as plt\n",
    "from matplotlib import style\n",
    "import quandl"
   ]
  },
  {
   "cell_type": "code",
   "execution_count": 2,
   "metadata": {},
   "outputs": [],
   "source": [
    "style.use('ggplot')"
   ]
  },
  {
   "cell_type": "markdown",
   "metadata": {},
   "source": [
    "# Robustness of the results"
   ]
  },
  {
   "cell_type": "code",
   "execution_count": null,
   "metadata": {},
   "outputs": [],
   "source": []
  },
  {
   "cell_type": "code",
   "execution_count": null,
   "metadata": {},
   "outputs": [],
   "source": [
    "param_values = fast_sampler.sample(problem, 1000)\n",
    "all_parameters = []\n",
    "for parameters in param_values:\n",
    "    pars = {}\n",
    "    for key, value in zip(problem['names'], parameters):\n",
    "        pars[key] = value\n",
    "    all_parameters.append(pars)\n"
   ]
  },
  {
   "cell_type": "code",
   "execution_count": null,
   "metadata": {},
   "outputs": [],
   "source": [
    "fixed_parameters = {'fundamental_value': 100,\n",
    "                    'horizon_max': 22,\n",
    "                    'horizon_min': 2,\n",
    "                    'max_order_expiration_ticks': 24,\n",
    "                    'n_traders': 1981,\n",
    "                    'spread_max': 0.1034423464335639,\n",
    "                    'std_fundamental': 0.10754244839080045,\n",
    "                    'std_noise': 0.20680836615919262,\n",
    "                    'std_vol': 11,\n",
    "                    'ticks': 1000,\n",
    "                    'trader_sample_size': 21,\n",
    "                    'w_buy_hold': 0.0}"
   ]
  },
  {
   "cell_type": "code",
   "execution_count": null,
   "metadata": {},
   "outputs": [],
   "source": [
    "# extract J-value & MCR\n",
    "model_output = simulate_params_sobol(NRUNS=1, parameter_set=all_parameters, fixed_parameters=fixed_parameters)"
   ]
  },
  {
   "cell_type": "code",
   "execution_count": null,
   "metadata": {},
   "outputs": [],
   "source": [
    "# calc impact on outputs of interest\n",
    "impact_on_no_a = fast.analyze(problem, no_autoc, print_to_console=False)\n",
    "impact_on_f_t = fast.analyze(problem, f_tails, print_to_console=False)\n",
    "impact_on_cv = fast.analyze(problem, clustered_vol, print_to_console=False)\n",
    "impact_on_lm = fast.analyze(problem, l_memory, print_to_console=False)\n",
    "impact_on_df = fast.analyze(problem, deviation_from_fundamentals, print_to_console=False)"
   ]
  },
  {
   "cell_type": "code",
   "execution_count": null,
   "metadata": {},
   "outputs": [],
   "source": [
    "# plot 5 histograms \n",
    "#fig, ((ax1, ax2, ax3),(ax4, ax5, ax6)) = plt.subplots(2, 3, figsize=(12,5))\n",
    "fig, axes = plt.subplots(nrows=2, ncols=3, figsize=(12, 6))\n",
    "\n",
    "N = 4\n",
    "ind = np.arange(N)  # the x locations for the groups\n",
    "width = 0.40       # the width of the bars\n",
    "\n",
    "ax1 = axes[0,0] \n",
    "ax2 = axes[0,1]\n",
    "ax3 = axes[0,2]\n",
    "ax4 = axes[1,0]\n",
    "ax5 = axes[1,1]\n",
    "\n",
    "ax1.set_title('No autocorrelation')\n",
    "rects1 = ax1.bar(ind, impact_on_no_a['S1'], width, color='k')\n",
    "rects2 = ax1.bar(ind + width, impact_on_no_a['ST'], width, color='w', hatch='\\\\')\n",
    "#ax1.legend((rects1[0], rects2[0]), ('S1', 'ST'))\n",
    "ax1.set_ylabel('impact')\n",
    "\n",
    "ax2.set_title('Fat tails')\n",
    "rects3 = ax2.bar(ind, impact_on_f_t['S1'], width, color='k')\n",
    "rects4 = ax2.bar(ind + width, impact_on_f_t['ST'], width, color='w', hatch='\\\\')\n",
    "\n",
    "ax3.set_title('Clustered volatility')\n",
    "rects5 = ax3.bar(ind, impact_on_cv['S1'], width, color='k')\n",
    "rects6 = ax3.bar(ind + width, impact_on_cv['ST'], width, color='w', hatch='\\\\')\n",
    "\n",
    "ax4.set_title('Long memory')\n",
    "rects7 = ax4.bar(ind, impact_on_lm['S1'], width, color='k')\n",
    "rects8 = ax4.bar(ind + width, impact_on_lm['ST'], width, color='w', hatch='\\\\')\n",
    "ax4.set_ylabel('impact')\n",
    "\n",
    "ax5.set_title('Fundamental deviation')\n",
    "rects9 = ax5.bar(ind, impact_on_df['S1'], width, color='k')\n",
    "rects10 = ax5.bar(ind + width, impact_on_df['ST'], width, color='w', hatch='\\\\')\n",
    "ax5.legend((rects9[0], rects10[0]), ('First-order sensitivity', 'Total sensitivity'), \n",
    "           loc='center left', bbox_to_anchor=(1.25, 0.5))\n",
    "\n",
    "axes[1, 2].remove()\n",
    "\n",
    "for ax in [ax1, ax2, ax3, ax4, ax5]:\n",
    "    ax.set_xticks(ind + width / 2)\n",
    "    ax.set_xticklabels(('F', 'MM', 'NS', 'MR'))\n",
    "    ax.set_ylim(0, 1.0)\n",
    "    \n",
    "fig.savefig('eFastExpectations.png')"
   ]
  }
 ],
 "metadata": {
  "kernelspec": {
   "display_name": "Python [default]",
   "language": "python",
   "name": "python2"
  },
  "language_info": {
   "codemirror_mode": {
    "name": "ipython",
    "version": 2
   },
   "file_extension": ".py",
   "mimetype": "text/x-python",
   "name": "python",
   "nbconvert_exporter": "python",
   "pygments_lexer": "ipython2",
   "version": "2.7.15"
  }
 },
 "nbformat": 4,
 "nbformat_minor": 2
}
