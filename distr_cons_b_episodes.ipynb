{
 "cells": [
  {
   "cell_type": "code",
   "execution_count": 1,
   "metadata": {},
   "outputs": [],
   "source": [
    "%matplotlib inline\n",
    "import numpy as np\n",
    "import pandas as pd\n",
    "import json\n",
    "import matplotlib.pyplot as plt\n",
    "import statsmodels.api as sm\n",
    "from statsmodels.iolib.summary2 import summary_col"
   ]
  },
  {
   "cell_type": "code",
   "execution_count": 2,
   "metadata": {},
   "outputs": [],
   "source": [
    "plt.style.use('ggplot')"
   ]
  },
  {
   "cell_type": "code",
   "execution_count": 57,
   "metadata": {},
   "outputs": [],
   "source": [
    "with open('all_many_bubbles_output.json', 'r') as f:\n",
    "    bubble_data = json.loads(f.read())"
   ]
  },
  {
   "cell_type": "markdown",
   "metadata": {},
   "source": [
    "# Analyse the distributional consequences of various bubble episodes\n",
    "\n",
    "Hypotheses:\n",
    "\n",
    "### General effects\n",
    "* a boom increases wealth inequelity because it can disproportionally benefit the rich\n",
    "* a bust might decrease wealth inequality because it reverses this effect\n",
    "* a bust-boom might decrease wealth inequality because it levels the playing field? \n",
    "\n",
    "### Which types of traders benefit:\n"
   ]
  },
  {
   "cell_type": "code",
   "execution_count": 58,
   "metadata": {},
   "outputs": [
    {
     "data": {
      "text/plain": [
       "40"
      ]
     },
     "execution_count": 58,
     "metadata": {},
     "output_type": "execute_result"
    }
   ],
   "source": [
    "runs = len(bubble_data)\n",
    "runs"
   ]
  },
  {
   "cell_type": "code",
   "execution_count": 96,
   "metadata": {},
   "outputs": [],
   "source": [
    "bubble_types = []\n",
    "bubble_prices = []\n",
    "wealth_starts = []\n",
    "wealth_ends = []\n",
    "ginis_ot = []\n",
    "palmas_ot = []\n",
    "twtws_ot = []\n",
    "for r in range(runs):\n",
    "    if bubble_data[r][1]:\n",
    "        #print(r)\n",
    "        #print(bubble_data[r][1])\n",
    "        bubble_types += bubble_data[r][0]#bubble_data[0][0] + bubble_data[1][0]\n",
    "        bubble_prices += bubble_data[r][1]\n",
    "        wealth_starts += bubble_data[r][2]\n",
    "        wealth_ends += bubble_data[r][3]\n",
    "        ginis_ot += bubble_data[r][4]\n",
    "        palmas_ot += bubble_data[r][5]\n",
    "        twtws_ot += bubble_data[r][6]"
   ]
  },
  {
   "cell_type": "code",
   "execution_count": 97,
   "metadata": {},
   "outputs": [
    {
     "data": {
      "text/plain": [
       "[u'boom-bust', u'None', u'bust-boom', u'boom', u'bust']"
      ]
     },
     "execution_count": 97,
     "metadata": {},
     "output_type": "execute_result"
    }
   ],
   "source": [
    "unique_bubble_types = list(set(bubble_types))\n",
    "unique_bubble_types"
   ]
  },
  {
   "cell_type": "markdown",
   "metadata": {},
   "source": [
    "### Calculate gini, palma, twtws differences "
   ]
  },
  {
   "cell_type": "code",
   "execution_count": 105,
   "metadata": {},
   "outputs": [],
   "source": [
    "my_indices = [idx for idx, p in enumerate(bubble_prices) if p]\n",
    "\n",
    "# clean corrupted bubble series \n",
    "bubble_types = [bubble_types[i] for i in my_indices]\n",
    "bubble_prices = [bubble_prices[i] for i in my_indices]\n",
    "wealth_starts = [wealth_starts[i] for i in my_indices]\n",
    "wealth_ends = [wealth_ends[i] for i in my_indices]\n",
    "ginis_ot = [ginis_ot[i] for i in my_indices]\n",
    "palmas_ot = [palmas_ot[i] for i in my_indices]\n",
    "twtws_ot = [twtws_ot[i] for i in my_indices]"
   ]
  },
  {
   "cell_type": "code",
   "execution_count": 106,
   "metadata": {},
   "outputs": [],
   "source": [
    "ginis_ot_dif = [g[-1] - g[0] for g in ginis_ot]\n",
    "palmas_ot_dif = [g[-1] - g[0] for g in palmas_ot]\n",
    "twtws_ot_dif = [g[-1] - g[0] for g in twtws_ot]"
   ]
  },
  {
   "cell_type": "markdown",
   "metadata": {},
   "source": [
    "### Calculate bubble magnitude and lenght"
   ]
  },
  {
   "cell_type": "code",
   "execution_count": 107,
   "metadata": {},
   "outputs": [],
   "source": [
    "bubble_lenght = [len(b) for b in bubble_prices]"
   ]
  },
  {
   "cell_type": "code",
   "execution_count": 116,
   "metadata": {},
   "outputs": [],
   "source": [
    "# if boom or bust, magnitude is price difference \n",
    "bubble_magnitude = []\n",
    "for idx, b_type in enumerate(bubble_types):\n",
    "    if b_type in ['boom', 'bust']:\n",
    "        bubble_magnitude.append(abs(bubble_prices[idx][-1] - bubble_prices[idx][0]))\n",
    "    elif b_type in ['boom-bust', 'bust-boom']:\n",
    "        bubble_magnitude.append(abs(np.mean(bubble_prices[idx]) - bubble_prices[idx][0]))\n",
    "    else:\n",
    "        #print(b_type)\n",
    "        bubble_magnitude.append(pd.Series(bubble_prices[idx]).std())"
   ]
  },
  {
   "cell_type": "code",
   "execution_count": 117,
   "metadata": {},
   "outputs": [],
   "source": [
    "bubble_df = pd.DataFrame({'bubble_type': bubble_types, 'magnitude': bubble_magnitude, 'lenght': bubble_lenght, \n",
    "              'gini_diff': ginis_ot_dif, 'palma_diff': palmas_ot_dif, 'twtw_diff': twtws_ot_dif})"
   ]
  },
  {
   "cell_type": "code",
   "execution_count": 118,
   "metadata": {},
   "outputs": [],
   "source": [
    "bubble_df['const'] = 1"
   ]
  },
  {
   "cell_type": "code",
   "execution_count": 119,
   "metadata": {},
   "outputs": [
    {
     "data": {
      "text/html": [
       "<div>\n",
       "<style scoped>\n",
       "    .dataframe tbody tr th:only-of-type {\n",
       "        vertical-align: middle;\n",
       "    }\n",
       "\n",
       "    .dataframe tbody tr th {\n",
       "        vertical-align: top;\n",
       "    }\n",
       "\n",
       "    .dataframe thead th {\n",
       "        text-align: right;\n",
       "    }\n",
       "</style>\n",
       "<table border=\"1\" class=\"dataframe\">\n",
       "  <thead>\n",
       "    <tr style=\"text-align: right;\">\n",
       "      <th></th>\n",
       "      <th>bubble_type</th>\n",
       "      <th>gini_diff</th>\n",
       "      <th>lenght</th>\n",
       "      <th>magnitude</th>\n",
       "      <th>palma_diff</th>\n",
       "      <th>twtw_diff</th>\n",
       "      <th>const</th>\n",
       "    </tr>\n",
       "  </thead>\n",
       "  <tbody>\n",
       "    <tr>\n",
       "      <th>0</th>\n",
       "      <td>None</td>\n",
       "      <td>0.004191</td>\n",
       "      <td>166</td>\n",
       "      <td>0.623920</td>\n",
       "      <td>0.041530</td>\n",
       "      <td>0.133591</td>\n",
       "      <td>1</td>\n",
       "    </tr>\n",
       "    <tr>\n",
       "      <th>1</th>\n",
       "      <td>None</td>\n",
       "      <td>0.011145</td>\n",
       "      <td>284</td>\n",
       "      <td>3.048893</td>\n",
       "      <td>0.112278</td>\n",
       "      <td>0.386382</td>\n",
       "      <td>1</td>\n",
       "    </tr>\n",
       "    <tr>\n",
       "      <th>2</th>\n",
       "      <td>None</td>\n",
       "      <td>0.001152</td>\n",
       "      <td>76</td>\n",
       "      <td>0.513302</td>\n",
       "      <td>0.011747</td>\n",
       "      <td>0.042099</td>\n",
       "      <td>1</td>\n",
       "    </tr>\n",
       "    <tr>\n",
       "      <th>3</th>\n",
       "      <td>None</td>\n",
       "      <td>0.002941</td>\n",
       "      <td>135</td>\n",
       "      <td>0.688784</td>\n",
       "      <td>0.031120</td>\n",
       "      <td>0.113438</td>\n",
       "      <td>1</td>\n",
       "    </tr>\n",
       "    <tr>\n",
       "      <th>4</th>\n",
       "      <td>boom-bust</td>\n",
       "      <td>0.004191</td>\n",
       "      <td>166</td>\n",
       "      <td>2.252713</td>\n",
       "      <td>0.041530</td>\n",
       "      <td>0.133591</td>\n",
       "      <td>1</td>\n",
       "    </tr>\n",
       "  </tbody>\n",
       "</table>\n",
       "</div>"
      ],
      "text/plain": [
       "  bubble_type  gini_diff  lenght  magnitude  palma_diff  twtw_diff  const\n",
       "0        None   0.004191     166   0.623920    0.041530   0.133591      1\n",
       "1        None   0.011145     284   3.048893    0.112278   0.386382      1\n",
       "2        None   0.001152      76   0.513302    0.011747   0.042099      1\n",
       "3        None   0.002941     135   0.688784    0.031120   0.113438      1\n",
       "4   boom-bust   0.004191     166   2.252713    0.041530   0.133591      1"
      ]
     },
     "execution_count": 119,
     "metadata": {},
     "output_type": "execute_result"
    }
   ],
   "source": [
    "bubble_df.head()"
   ]
  },
  {
   "cell_type": "code",
   "execution_count": 120,
   "metadata": {},
   "outputs": [],
   "source": [
    "bubble_groups = bubble_df.groupby('bubble_type')"
   ]
  },
  {
   "cell_type": "code",
   "execution_count": 121,
   "metadata": {},
   "outputs": [],
   "source": [
    "boom_busts = bubble_df.query('bubble_type == \"boom-bust\"')\n",
    "bust_booms = bubble_df.query('bubble_type == \"bust-boom\"')\n",
    "busts = bubble_df.query('bubble_type == \"bust\"')\n",
    "booms = bubble_df.query('bubble_type == \"boom\"')\n",
    "no_bubble = bubble_df.query('bubble_type == \"None\"')"
   ]
  },
  {
   "cell_type": "markdown",
   "metadata": {},
   "source": [
    "# Inequality analysis: \n",
    "\n",
    "Inspired by: https://lectures.quantecon.org/py/ols.html\n",
    "\n",
    "For every bubble type: \n",
    "\n",
    "Y = gini_diff, palma_diff, twtw_diff\n",
    "\n",
    "X = magnitude, lenght"
   ]
  },
  {
   "cell_type": "code",
   "execution_count": 122,
   "metadata": {
    "scrolled": true
   },
   "outputs": [
    {
     "data": {
      "text/plain": [
       "Text(0,0.5,'20-20 diff')"
      ]
     },
     "execution_count": 122,
     "metadata": {},
     "output_type": "execute_result"
    },
    {
     "data": {
      "image/png": "[encoded data removed]",
      "text/plain": [
       "<Figure size 1152x720 with 12 Axes>"
      ]
     },
     "metadata": {},
     "output_type": "display_data"
    }
   ],
   "source": [
    "fig, ((ax1, ax2, ax3, ax4), (ax5, ax6, ax7, ax8), (ax9, ax10, ax11, ax12)) = plt.subplots(3, 4, figsize=[16,10])\n",
    "\n",
    "ax1.scatter(boom_busts['magnitude'], boom_busts['gini_diff'])\n",
    "ax2.scatter(bust_booms['magnitude'], bust_booms['gini_diff'])\n",
    "ax3.scatter(busts['magnitude'], busts['gini_diff'])\n",
    "ax4.scatter(booms['magnitude'], booms['gini_diff'])\n",
    "#axn1.scatter(no_bubble['magnitude'], no_bubble['gini_diff'])\n",
    "\n",
    "ax5.scatter(boom_busts['magnitude'], boom_busts['palma_diff'])\n",
    "ax6.scatter(bust_booms['magnitude'], bust_booms['palma_diff'])\n",
    "ax7.scatter(busts['magnitude'], busts['palma_diff'])\n",
    "ax8.scatter(booms['magnitude'], booms['palma_diff'])\n",
    "#axn2.scatter(no_bubble['magnitude'], no_bubble['palma_diff'])\n",
    "\n",
    "ax9.scatter(boom_busts['magnitude'], boom_busts['twtw_diff'])\n",
    "ax10.scatter(bust_booms['magnitude'], bust_booms['twtw_diff'])\n",
    "ax11.scatter(busts['magnitude'], busts['twtw_diff'])\n",
    "ax12.scatter(booms['magnitude'], booms['twtw_diff'])\n",
    "#axn3.scatter(no_bubble['magnitude'], no_bubble['twtw_diff'])\n",
    "\n",
    "ax1.set_title('boom_busts')\n",
    "ax2.set_title('bust_booms')\n",
    "ax3.set_title('busts')\n",
    "ax4.set_title('booms')\n",
    "#axn1.set_title('no_bubble')\n",
    "\n",
    "ax1.set_ylabel('Gini', fontsize=14)\n",
    "ax5.set_ylabel('Palma diff', fontsize=14)\n",
    "ax9.set_ylabel('20-20 diff', fontsize=14)"
   ]
  },
  {
   "cell_type": "markdown",
   "metadata": {},
   "source": [
    "### Gini regression"
   ]
  },
  {
   "cell_type": "code",
   "execution_count": 123,
   "metadata": {},
   "outputs": [],
   "source": [
    "gini_reg1 = sm.OLS(endog=boom_busts['gini_diff'], exog=boom_busts[['const', 'lenght', 'magnitude']], missing='drop')\n",
    "gini_reg2 = sm.OLS(endog=bust_booms['gini_diff'], exog=bust_booms[['const', 'lenght', 'magnitude']], missing='drop')\n",
    "gini_reg3 = sm.OLS(endog=busts['gini_diff'], exog=busts[['const', 'lenght', 'magnitude']], missing='drop')\n",
    "gini_reg4 = sm.OLS(endog=booms['gini_diff'], exog=booms[['const', 'lenght', 'magnitude']], missing='drop')\n",
    "\n",
    "gini_res1 = gini_reg1.fit()\n",
    "gini_res2 = gini_reg2.fit()\n",
    "gini_res3 = gini_reg3.fit()\n",
    "gini_res4 = gini_reg4.fit()"
   ]
  },
  {
   "cell_type": "code",
   "execution_count": 124,
   "metadata": {},
   "outputs": [
    {
     "name": "stdout",
     "output_type": "stream",
     "text": [
      "                          Table 2 - OLS Regressions\n",
      "============================================================================\n",
      "                   boom-bust      bust-boom        busts          booms     \n",
      "----------------------------------------------------------------------------\n",
      "const            -0.0021*       -0.0007        0.0170         0.0039        \n",
      "                 (0.0011)       (0.0016)       (0.0235)       (0.0031)      \n",
      "lenght           0.0000***      0.0000***      -0.0000        -0.0000**     \n",
      "                 (0.0000)       (0.0000)       (0.0001)       (0.0000)      \n",
      "magnitude        0.0012***      -0.0000        -0.0002*       0.0006***     \n",
      "                 (0.0001)       (0.0001)       (0.0001)       (0.0000)      \n",
      "No. observations 96             39             10             23            \n",
      "R-squared        0.771865282464 0.318221323093 0.344601275202 0.950320455767\n",
      "============================================================================\n",
      "Standard errors in parentheses.\n",
      "* p<.1, ** p<.05, ***p<.01\n"
     ]
    }
   ],
   "source": [
    "info_dict={'R-squared' : lambda x: \"{}\".format(x.rsquared), \n",
    "           'No. observations' : lambda x: \"{}\".format(int(x.nobs))}\n",
    "\n",
    "results_table = summary_col(results=[gini_res1,gini_res2,gini_res3, gini_res4],\n",
    "                            float_format='%0.4f',\n",
    "                            stars = True,\n",
    "                            model_names=['boom-bust',\n",
    "                                         'bust-boom',\n",
    "                                         'busts', 'booms'],\n",
    "                            info_dict=info_dict,\n",
    "                            regressor_order=['const', 'lenght', 'magnitude'])\n",
    "\n",
    "results_table.add_title('Table 2 - OLS Regressions')\n",
    "\n",
    "print(results_table)"
   ]
  },
  {
   "cell_type": "markdown",
   "metadata": {},
   "source": [
    "### Palma regression"
   ]
  },
  {
   "cell_type": "code",
   "execution_count": 125,
   "metadata": {},
   "outputs": [],
   "source": [
    "palma_reg1 = sm.OLS(endog=boom_busts['palma_diff'], exog=boom_busts[['const', 'lenght', 'magnitude']], missing='drop').fit()\n",
    "palma_reg2 = sm.OLS(endog=bust_booms['palma_diff'], exog=bust_booms[['const', 'lenght', 'magnitude']], missing='drop').fit()\n",
    "palma_reg3 = sm.OLS(endog=busts['palma_diff'], exog=busts[['const', 'lenght', 'magnitude']], missing='drop').fit()\n",
    "palma_reg4 = sm.OLS(endog=booms['palma_diff'], exog=booms[['const', 'lenght', 'magnitude']], missing='drop').fit()"
   ]
  },
  {
   "cell_type": "code",
   "execution_count": 126,
   "metadata": {},
   "outputs": [
    {
     "name": "stdout",
     "output_type": "stream",
     "text": [
      "                          Table 2 - OLS Regressions\n",
      "============================================================================\n",
      "                   boom-bust      bust-boom        busts          booms     \n",
      "----------------------------------------------------------------------------\n",
      "const            -0.1735        -0.2597        1.2917         0.5442**      \n",
      "                 (0.1870)       (0.2521)       (1.0803)       (0.2466)      \n",
      "lenght           0.0022**       0.0066***      -0.0037        -0.0011*      \n",
      "                 (0.0010)       (0.0018)       (0.0064)       (0.0006)      \n",
      "magnitude        0.0657***      -0.0094        -0.0239***     0.0063**      \n",
      "                 (0.0146)       (0.0167)       (0.0051)       (0.0023)      \n",
      "No. observations 96             39             10             23            \n",
      "R-squared        0.277898131065 0.280992831089 0.765351833177 0.380716801731\n",
      "============================================================================\n",
      "Standard errors in parentheses.\n",
      "* p<.1, ** p<.05, ***p<.01\n"
     ]
    }
   ],
   "source": [
    "info_dict={'R-squared' : lambda x: \"{}\".format(x.rsquared), \n",
    "           'No. observations' : lambda x: \"{}\".format(int(x.nobs))}\n",
    "\n",
    "results_table = summary_col(results=[palma_reg1,palma_reg2,palma_reg3, palma_reg4],\n",
    "                            float_format='%0.4f',\n",
    "                            stars = True,\n",
    "                            model_names=['boom-bust',\n",
    "                                         'bust-boom',\n",
    "                                         'busts', 'booms'],\n",
    "                            info_dict=info_dict,\n",
    "                            regressor_order=['const', 'lenght', 'magnitude'])\n",
    "\n",
    "results_table.add_title('Table 2 - OLS Regressions')\n",
    "\n",
    "print(results_table)"
   ]
  },
  {
   "cell_type": "markdown",
   "metadata": {},
   "source": [
    "## 20-20 regression"
   ]
  },
  {
   "cell_type": "code",
   "execution_count": 127,
   "metadata": {},
   "outputs": [],
   "source": [
    "twtw_reg1 = sm.OLS(endog=boom_busts['twtw_diff'], exog=boom_busts[['const', 'lenght', 'magnitude']], missing='drop').fit()\n",
    "twtw_reg2 = sm.OLS(endog=bust_booms['twtw_diff'], exog=bust_booms[['const', 'lenght', 'magnitude']], missing='drop').fit()\n",
    "twtw_reg3 = sm.OLS(endog=busts['twtw_diff'], exog=busts[['const', 'lenght', 'magnitude']], missing='drop').fit()\n",
    "twtw_reg4 = sm.OLS(endog=booms['twtw_diff'], exog=booms[['const', 'lenght', 'magnitude']], missing='drop').fit()"
   ]
  },
  {
   "cell_type": "code",
   "execution_count": 128,
   "metadata": {},
   "outputs": [
    {
     "name": "stdout",
     "output_type": "stream",
     "text": [
      "                          Table 2 - OLS Regressions\n",
      "============================================================================\n",
      "                   boom-bust      bust-boom        busts          booms     \n",
      "----------------------------------------------------------------------------\n",
      "const            -0.5752        -1.3372        5.7856         1.9929**      \n",
      "                 (0.6602)       (1.2176)       (4.4761)       (0.9355)      \n",
      "lenght           0.0070*        0.0320***      -0.0256        -0.0044*      \n",
      "                 (0.0036)       (0.0086)       (0.0267)       (0.0022)      \n",
      "magnitude        0.2592***      -0.0416        -0.1008***     0.0309***     \n",
      "                 (0.0514)       (0.0804)       (0.0213)       (0.0089)      \n",
      "No. observations 96             39             10             23            \n",
      "R-squared        0.303737853713 0.285284061797 0.779346990407 0.476820125564\n",
      "============================================================================\n",
      "Standard errors in parentheses.\n",
      "* p<.1, ** p<.05, ***p<.01\n"
     ]
    }
   ],
   "source": [
    "info_dict={'R-squared' : lambda x: \"{}\".format(x.rsquared), \n",
    "           'No. observations' : lambda x: \"{}\".format(int(x.nobs))}\n",
    "\n",
    "results_table = summary_col(results=[twtw_reg1,twtw_reg2,twtw_reg3, twtw_reg4],\n",
    "                            float_format='%0.4f',\n",
    "                            stars = True,\n",
    "                            model_names=['boom-bust',\n",
    "                                         'bust-boom',\n",
    "                                         'busts', 'booms'],\n",
    "                            info_dict=info_dict,\n",
    "                            regressor_order=['const', 'lenght', 'magnitude'])\n",
    "\n",
    "results_table.add_title('Table 2 - OLS Regressions')\n",
    "\n",
    "print(results_table)"
   ]
  },
  {
   "cell_type": "markdown",
   "metadata": {},
   "source": [
    "# Analyse shock effects\n",
    "\n",
    "After the shock, measure the first bubble. Record it's type, lenght, and impact on various measures of inequality."
   ]
  },
  {
   "cell_type": "code",
   "execution_count": 3,
   "metadata": {},
   "outputs": [],
   "source": [
    "with open('shocked_bubbles_output.json', 'r') as f:\n",
    "    shock_data = json.loads(f.read())"
   ]
  },
  {
   "cell_type": "code",
   "execution_count": 6,
   "metadata": {},
   "outputs": [
    {
     "data": {
      "text/plain": [
       "12"
      ]
     },
     "execution_count": 6,
     "metadata": {},
     "output_type": "execute_result"
    }
   ],
   "source": [
    "runs = len(shock_data)\n",
    "runs"
   ]
  },
  {
   "cell_type": "code",
   "execution_count": 5,
   "metadata": {},
   "outputs": [
    {
     "ename": "IndexError",
     "evalue": "list index out of range",
     "output_type": "error",
     "traceback": [
      "\u001b[1;31m---------------------------------------------------------------------------\u001b[0m",
      "\u001b[1;31mIndexError\u001b[0m                                Traceback (most recent call last)",
      "\u001b[1;32m<ipython-input-5-8295374acc23>\u001b[0m in \u001b[0;36m<module>\u001b[1;34m()\u001b[0m\n\u001b[0;32m     14\u001b[0m \u001b[1;32mfor\u001b[0m \u001b[0mr\u001b[0m \u001b[1;32min\u001b[0m \u001b[0mrange\u001b[0m\u001b[1;33m(\u001b[0m\u001b[0mruns\u001b[0m\u001b[1;33m)\u001b[0m\u001b[1;33m:\u001b[0m\u001b[1;33m\u001b[0m\u001b[0m\n\u001b[0;32m     15\u001b[0m     \u001b[0mbubble_types\u001b[0m \u001b[1;33m+=\u001b[0m \u001b[0mshock_data\u001b[0m\u001b[1;33m[\u001b[0m\u001b[0mr\u001b[0m\u001b[1;33m]\u001b[0m\u001b[1;33m[\u001b[0m\u001b[1;36m0\u001b[0m\u001b[1;33m]\u001b[0m\u001b[1;31m#bubble_data[0][0] + bubble_data[1][0]\u001b[0m\u001b[1;33m\u001b[0m\u001b[0m\n\u001b[1;32m---> 16\u001b[1;33m     \u001b[0mbubble_prices\u001b[0m \u001b[1;33m+=\u001b[0m \u001b[0mshock_data\u001b[0m\u001b[1;33m[\u001b[0m\u001b[0mr\u001b[0m\u001b[1;33m]\u001b[0m\u001b[1;33m[\u001b[0m\u001b[1;36m1\u001b[0m\u001b[1;33m]\u001b[0m\u001b[1;33m\u001b[0m\u001b[0m\n\u001b[0m\u001b[0;32m     17\u001b[0m     \u001b[0mwealth_starts\u001b[0m \u001b[1;33m+=\u001b[0m \u001b[0mshock_data\u001b[0m\u001b[1;33m[\u001b[0m\u001b[0mr\u001b[0m\u001b[1;33m]\u001b[0m\u001b[1;33m[\u001b[0m\u001b[1;36m2\u001b[0m\u001b[1;33m]\u001b[0m\u001b[1;33m\u001b[0m\u001b[0m\n\u001b[0;32m     18\u001b[0m     \u001b[0mwealth_ends\u001b[0m \u001b[1;33m+=\u001b[0m \u001b[0mshock_data\u001b[0m\u001b[1;33m[\u001b[0m\u001b[0mr\u001b[0m\u001b[1;33m]\u001b[0m\u001b[1;33m[\u001b[0m\u001b[1;36m3\u001b[0m\u001b[1;33m]\u001b[0m\u001b[1;33m\u001b[0m\u001b[0m\n",
      "\u001b[1;31mIndexError\u001b[0m: list index out of range"
     ]
    }
   ],
   "source": [
    "bubble_types = []\n",
    "bubble_prices = []\n",
    "wealth_starts = []\n",
    "wealth_ends = []\n",
    "ginis_ot = []\n",
    "palmas_ot = []\n",
    "twtws_ot = []\n",
    "bubble_prices_ns = []\n",
    "wealth_ends_ns = []\n",
    "ginis_ot_ns = []\n",
    "palmas_ot_ns = []\n",
    "twtws_ot_ns = []\n",
    "\n",
    "for r in range(runs):\n",
    "    bubble_types += shock_data[r][0]#bubble_data[0][0] + bubble_data[1][0]\n",
    "    bubble_prices += shock_data[r][1]\n",
    "    wealth_starts += shock_data[r][2]\n",
    "    wealth_ends += shock_data[r][3]\n",
    "    ginis_ot += shock_data[r][4]\n",
    "    palmas_ot += shock_data[r][5]\n",
    "    twtws_ot += shock_data[r][6]\n",
    "    bubble_prices_ns += shock_data[r][7]\n",
    "    wealth_ends_ns += shock_data[r][8]\n",
    "    ginis_ot_ns += shock_data[r][9]\n",
    "    palmas_ot_ns += shock_data[r][10]\n",
    "    twtws_ot_ns += shock_data[r][11]"
   ]
  },
  {
   "cell_type": "code",
   "execution_count": 63,
   "metadata": {},
   "outputs": [
    {
     "data": {
      "text/plain": [
       "[u'boom',\n",
       " u'boom',\n",
       " u'boom',\n",
       " u'boom',\n",
       " u'bust-boom',\n",
       " u'boom',\n",
       " u'boom',\n",
       " u'boom',\n",
       " u'bust',\n",
       " u'bust-boom',\n",
       " u'bust',\n",
       " u'boom']"
      ]
     },
     "execution_count": 63,
     "metadata": {},
     "output_type": "execute_result"
    }
   ],
   "source": [
    "bubble_types"
   ]
  },
  {
   "cell_type": "code",
   "execution_count": 64,
   "metadata": {},
   "outputs": [
    {
     "data": {
      "text/plain": [
       "[u'bust-boom', u'boom', u'bust']"
      ]
     },
     "execution_count": 64,
     "metadata": {},
     "output_type": "execute_result"
    }
   ],
   "source": [
    "unique_bubble_types = list(set(bubble_types))\n",
    "unique_bubble_types"
   ]
  },
  {
   "cell_type": "markdown",
   "metadata": {},
   "source": [
    "## Effect of bubble on inequality vis à vis no bubble "
   ]
  },
  {
   "cell_type": "code",
   "execution_count": 65,
   "metadata": {},
   "outputs": [],
   "source": [
    "effect_on_gini = [bub[-1] - no_bub[-1] for bub, no_bub in zip(ginis_ot, ginis_ot_ns)]\n",
    "effect_on_palma = [bub[-1] - no_bub[-1] for bub, no_bub in zip(palmas_ot, palmas_ot_ns)]\n",
    "effect_on_twtws = [bub[-1] - no_bub[-1] for bub, no_bub in zip(twtws_ot, twtws_ot_ns)]"
   ]
  },
  {
   "cell_type": "code",
   "execution_count": 66,
   "metadata": {},
   "outputs": [],
   "source": [
    "boom_bust_effect_gini = np.array(effect_on_gini)[np.array(bubble_types) == 'boom-bust']\n",
    "boom_bust_effect_palma = np.array(effect_on_palma)[np.array(bubble_types) == 'boom-bust']\n",
    "boom_bust_effect_twtws = np.array(effect_on_twtws)[np.array(bubble_types) == 'boom-bust']\n",
    "\n",
    "bust_boom_effect_gini = np.array(effect_on_gini)[np.array(bubble_types) == 'bust-boom']\n",
    "bust_boom_effect_palma = np.array(effect_on_palma)[np.array(bubble_types) == 'bust-boom']\n",
    "bust_boom_effect_twtws = np.array(effect_on_twtws)[np.array(bubble_types) == 'bust-boom']"
   ]
  },
  {
   "cell_type": "code",
   "execution_count": 67,
   "metadata": {},
   "outputs": [],
   "source": [
    "bust_effect_gini = np.array(effect_on_gini)[np.array(bubble_types) == 'bust']\n",
    "bust_effect_palma = np.array(effect_on_palma)[np.array(bubble_types) == 'bust']\n",
    "bust_effect_twtws = np.array(effect_on_twtws)[np.array(bubble_types) == 'bust']\n",
    "\n",
    "boom_effect_gini = np.array(effect_on_gini)[np.array(bubble_types) == 'boom']\n",
    "boom_effect_palma = np.array(effect_on_palma)[np.array(bubble_types) == 'boom']\n",
    "boom_effect_twtws = np.array(effect_on_twtws)[np.array(bubble_types) == 'boom']"
   ]
  },
  {
   "cell_type": "code",
   "execution_count": 68,
   "metadata": {},
   "outputs": [
    {
     "data": {
      "image/png": "[encoded data removed]",
      "text/plain": [
       "<Figure size 1152x288 with 4 Axes>"
      ]
     },
     "metadata": {},
     "output_type": "display_data"
    }
   ],
   "source": [
    "fig1, (ax1, ax2, ax3, ax4) = plt.subplots(1, 4, figsize=(16,4))\n",
    "\n",
    "ax1.set_title('Gini') \n",
    "ax1.boxplot([boom_bust_effect_gini, bust_boom_effect_gini, bust_effect_gini, boom_effect_gini], showfliers=False)\n",
    "\n",
    "ax2.set_title('Palma')\n",
    "ax2.boxplot([boom_bust_effect_palma, bust_boom_effect_palma, bust_effect_palma, boom_effect_palma], showfliers=False)\n",
    "\n",
    "ax3.set_title('Twenty-twenty')\n",
    "ax3.boxplot([boom_bust_effect_twtws, bust_boom_effect_twtws, bust_effect_twtws, boom_effect_twtws], showfliers=False)\n",
    "\n",
    "\n",
    "fig1.savefig('shock_effects_bubbles.png', dpi=200, bbox_inches = 'tight', pad_inches = 0)"
   ]
  },
  {
   "cell_type": "markdown",
   "metadata": {},
   "source": [
    "### Calculate bubble magnitude and lenght"
   ]
  },
  {
   "cell_type": "code",
   "execution_count": 18,
   "metadata": {},
   "outputs": [],
   "source": [
    "bubble_lenght = [len(b) for b in bubble_prices]"
   ]
  },
  {
   "cell_type": "code",
   "execution_count": 19,
   "metadata": {},
   "outputs": [],
   "source": [
    "# if boom or bust, magnitude is price difference \n",
    "bubble_magnitude = []\n",
    "for idx, b_type in enumerate(bubble_types):\n",
    "    if b_type in ['boom', 'bust']:\n",
    "        bubble_magnitude.append(bubble_prices[idx][-1] - bubble_prices[idx][0])\n",
    "    elif b_type in ['boom-bust', 'bust-boom']:\n",
    "        bubble_magnitude.append(np.mean(bubble_prices[idx]) - bubble_prices[idx][0])\n",
    "    else:\n",
    "        #print(b_type)\n",
    "        bubble_magnitude.append(pd.Series(bubble_prices[idx]).std())"
   ]
  },
  {
   "cell_type": "code",
   "execution_count": 20,
   "metadata": {},
   "outputs": [],
   "source": [
    "bubble_df = pd.DataFrame({'bubble_type': bubble_types, 'magnitude': bubble_magnitude, 'lenght': bubble_lenght, \n",
    "              'gini_diff': ginis_ot_dif, 'palma_diff': palmas_ot_dif, 'twtw_diff': twtws_ot_dif})"
   ]
  },
  {
   "cell_type": "code",
   "execution_count": 21,
   "metadata": {},
   "outputs": [],
   "source": [
    "bubble_df['const'] = 1"
   ]
  },
  {
   "cell_type": "code",
   "execution_count": 23,
   "metadata": {},
   "outputs": [
    {
     "data": {
      "text/html": [
       "<div>\n",
       "<style scoped>\n",
       "    .dataframe tbody tr th:only-of-type {\n",
       "        vertical-align: middle;\n",
       "    }\n",
       "\n",
       "    .dataframe tbody tr th {\n",
       "        vertical-align: top;\n",
       "    }\n",
       "\n",
       "    .dataframe thead th {\n",
       "        text-align: right;\n",
       "    }\n",
       "</style>\n",
       "<table border=\"1\" class=\"dataframe\">\n",
       "  <thead>\n",
       "    <tr style=\"text-align: right;\">\n",
       "      <th></th>\n",
       "      <th>bubble_type</th>\n",
       "      <th>gini_diff</th>\n",
       "      <th>lenght</th>\n",
       "      <th>magnitude</th>\n",
       "      <th>palma_diff</th>\n",
       "      <th>twtw_diff</th>\n",
       "      <th>const</th>\n",
       "    </tr>\n",
       "  </thead>\n",
       "  <tbody>\n",
       "    <tr>\n",
       "      <th>35</th>\n",
       "      <td>None</td>\n",
       "      <td>0.000608</td>\n",
       "      <td>206</td>\n",
       "      <td>0.969779</td>\n",
       "      <td>0.003325</td>\n",
       "      <td>0.006737</td>\n",
       "      <td>1</td>\n",
       "    </tr>\n",
       "    <tr>\n",
       "      <th>36</th>\n",
       "      <td>None</td>\n",
       "      <td>0.000334</td>\n",
       "      <td>92</td>\n",
       "      <td>0.449900</td>\n",
       "      <td>0.001548</td>\n",
       "      <td>0.003716</td>\n",
       "      <td>1</td>\n",
       "    </tr>\n",
       "    <tr>\n",
       "      <th>37</th>\n",
       "      <td>bust-boom</td>\n",
       "      <td>0.000608</td>\n",
       "      <td>206</td>\n",
       "      <td>-1.497770</td>\n",
       "      <td>0.003325</td>\n",
       "      <td>0.006737</td>\n",
       "      <td>1</td>\n",
       "    </tr>\n",
       "    <tr>\n",
       "      <th>38</th>\n",
       "      <td>bust-boom</td>\n",
       "      <td>0.000334</td>\n",
       "      <td>92</td>\n",
       "      <td>-0.558405</td>\n",
       "      <td>0.001548</td>\n",
       "      <td>0.003716</td>\n",
       "      <td>1</td>\n",
       "    </tr>\n",
       "    <tr>\n",
       "      <th>39</th>\n",
       "      <td>boom</td>\n",
       "      <td>0.003469</td>\n",
       "      <td>389</td>\n",
       "      <td>26.213828</td>\n",
       "      <td>0.020622</td>\n",
       "      <td>0.076672</td>\n",
       "      <td>1</td>\n",
       "    </tr>\n",
       "  </tbody>\n",
       "</table>\n",
       "</div>"
      ],
      "text/plain": [
       "   bubble_type  gini_diff  lenght  magnitude  palma_diff  twtw_diff  const\n",
       "35        None   0.000608     206   0.969779    0.003325   0.006737      1\n",
       "36        None   0.000334      92   0.449900    0.001548   0.003716      1\n",
       "37   bust-boom   0.000608     206  -1.497770    0.003325   0.006737      1\n",
       "38   bust-boom   0.000334      92  -0.558405    0.001548   0.003716      1\n",
       "39        boom   0.003469     389  26.213828    0.020622   0.076672      1"
      ]
     },
     "execution_count": 23,
     "metadata": {},
     "output_type": "execute_result"
    }
   ],
   "source": [
    "bubble_df.tail()"
   ]
  },
  {
   "cell_type": "code",
   "execution_count": 24,
   "metadata": {},
   "outputs": [],
   "source": [
    "bubble_groups = bubble_df.groupby('bubble_type')"
   ]
  },
  {
   "cell_type": "code",
   "execution_count": 25,
   "metadata": {},
   "outputs": [],
   "source": [
    "boom_busts = bubble_df.query('bubble_type == \"boom-bust\"')\n",
    "bust_booms = bubble_df.query('bubble_type == \"bust-boom\"')\n",
    "busts = bubble_df.query('bubble_type == \"bust\"')\n",
    "booms = bubble_df.query('bubble_type == \"boom\"')\n",
    "no_bubble = bubble_df.query('bubble_type == \"None\"')"
   ]
  },
  {
   "cell_type": "markdown",
   "metadata": {},
   "source": [
    "# Inequality analysis: \n",
    "\n",
    "After the shock, measure the first bubble. Record it's type, lenght, and impact on various measures of inequality."
   ]
  },
  {
   "cell_type": "code",
   "execution_count": null,
   "metadata": {},
   "outputs": [],
   "source": []
  },
  {
   "cell_type": "code",
   "execution_count": 28,
   "metadata": {},
   "outputs": [
    {
     "data": {
      "text/plain": [
       "Text(0,0.5,'20-20 diff')"
      ]
     },
     "execution_count": 28,
     "metadata": {},
     "output_type": "execute_result"
    },
    {
     "data": {
      "image/png": "[encoded data removed]",
      "text/plain": [
       "<Figure size 1152x720 with 15 Axes>"
      ]
     },
     "metadata": {},
     "output_type": "display_data"
    }
   ],
   "source": [
    "fig, ((ax1, ax2, ax3, ax4, axn1), (ax5, ax6, ax7, ax8, axn2), (ax9, ax10, ax11, ax12, axn3)) = plt.subplots(3, 5, figsize=[16,10])\n",
    "\n",
    "ax1.scatter(boom_busts['magnitude'], boom_busts['gini_diff'])\n",
    "ax2.scatter(bust_booms['magnitude'], bust_booms['gini_diff'])\n",
    "ax3.scatter(busts['magnitude'], busts['gini_diff'])\n",
    "ax4.scatter(booms['magnitude'], booms['gini_diff'])\n",
    "axn1.scatter(no_bubble['magnitude'], no_bubble['gini_diff'])\n",
    "\n",
    "ax5.scatter(boom_busts['magnitude'], boom_busts['palma_diff'])\n",
    "ax6.scatter(bust_booms['magnitude'], bust_booms['palma_diff'])\n",
    "ax7.scatter(busts['magnitude'], busts['palma_diff'])\n",
    "ax8.scatter(booms['magnitude'], booms['palma_diff'])\n",
    "axn2.scatter(no_bubble['magnitude'], no_bubble['palma_diff'])\n",
    "\n",
    "ax9.scatter(boom_busts['magnitude'], boom_busts['twtw_diff'])\n",
    "ax10.scatter(bust_booms['magnitude'], bust_booms['twtw_diff'])\n",
    "ax11.scatter(busts['magnitude'], busts['twtw_diff'])\n",
    "ax12.scatter(booms['magnitude'], booms['twtw_diff'])\n",
    "axn3.scatter(no_bubble['magnitude'], no_bubble['twtw_diff'])\n",
    "\n",
    "ax1.set_title('boom_busts')\n",
    "ax2.set_title('bust_booms')\n",
    "ax3.set_title('busts')\n",
    "ax4.set_title('booms')\n",
    "axn1.set_title('no_bubble')\n",
    "\n",
    "ax1.set_ylabel('Gini', fontsize=14)\n",
    "ax5.set_ylabel('Palma diff', fontsize=14)\n",
    "ax9.set_ylabel('20-20 diff', fontsize=14)"
   ]
  },
  {
   "cell_type": "code",
   "execution_count": null,
   "metadata": {},
   "outputs": [],
   "source": []
  },
  {
   "cell_type": "markdown",
   "metadata": {},
   "source": [
    "# Understand why shock doesn't work"
   ]
  },
  {
   "cell_type": "code",
   "execution_count": 1,
   "metadata": {},
   "outputs": [],
   "source": [
    "import numpy as np\n",
    "import pandas as pd\n",
    "import math\n",
    "import json\n",
    "from distribution_model import *\n",
    "from init_objects import *\n",
    "from functions.helpers import organise_data\n",
    "from functions.inequality import gini"
   ]
  },
  {
   "cell_type": "code",
   "execution_count": 7,
   "metadata": {},
   "outputs": [
    {
     "name": "stdout",
     "output_type": "stream",
     "text": [
      "Simulate once\n",
      "('Apply shock in simulation ', 0)\n"
     ]
    }
   ],
   "source": [
    "seed = 0\n",
    "BURN_IN = 200\n",
    "SHOCK = 12000.0#8000.0\n",
    "SHOCK_PERIOD = 400\n",
    "\n",
    "params = {\"spread_max\": 0.004087, \"fundamental_value\": 166, \"fundamentalist_horizon_multiplier\": 0.73132061,\n",
    "          \"n_traders\": 500, \"w_fundamentalists\": 37.20189844, \"base_risk_aversion\": 11.65898537,\n",
    "          \"mutation_probability\": 0.30623129, \"init_stocks\": 50, \"trader_sample_size\": 19, \"ticks\": 1000,\n",
    "          \"std_fundamental\": 0.0530163128919286, \"std_noise\": 0.29985649, \"trades_per_tick\": 5,\n",
    "          \"average_learning_ability\": 0.57451773, \"w_momentum\": 0.01, \"horizon\": 200, \"w_random\": 1.0}\n",
    "\n",
    "# simulate model once\n",
    "obs = []\n",
    "# run model with parameters\n",
    "print('Simulate once')\n",
    "traders, orderbook = init_objects_distr(params, seed)\n",
    "traders, orderbook = pb_distr_model_shock(traders, orderbook, params, SHOCK, SHOCK_PERIOD, seed)\n",
    "obs.append(orderbook)\n",
    "\n",
    "# store simulated stylized facts\n",
    "mc_prices, mc_returns, mc_autocorr_returns, mc_autocorr_abs_returns, mc_volatility, mc_volume, mc_fundamentals = organise_data(\n",
    "    obs, burn_in_period=BURN_IN)\n",
    "\n",
    "y = pd.Series(mc_prices[0][:-1] / mc_fundamentals[0])"
   ]
  },
  {
   "cell_type": "code",
   "execution_count": 8,
   "metadata": {},
   "outputs": [
    {
     "data": {
      "text/plain": [
       "<matplotlib.axes._subplots.AxesSubplot at 0xb5b45c0>"
      ]
     },
     "execution_count": 8,
     "metadata": {},
     "output_type": "execute_result"
    },
    {
     "data": {
      "image/png": "[encoded data removed]",
      "text/plain": [
       "<Figure size 432x288 with 1 Axes>"
      ]
     },
     "metadata": {},
     "output_type": "display_data"
    }
   ],
   "source": [
    "mc_prices[0][:-1].plot()"
   ]
  },
  {
   "cell_type": "code",
   "execution_count": 4,
   "metadata": {},
   "outputs": [
    {
     "data": {
      "text/plain": [
       "<matplotlib.axes._subplots.AxesSubplot at 0x11953630>"
      ]
     },
     "execution_count": 4,
     "metadata": {},
     "output_type": "execute_result"
    },
    {
     "data": {
      "image/png": "[encoded data removed]",
      "text/plain": [
       "<Figure size 432x288 with 1 Axes>"
      ]
     },
     "metadata": {},
     "output_type": "display_data"
    }
   ],
   "source": [
    "mc_prices[0][:-1].plot()"
   ]
  },
  {
   "cell_type": "code",
   "execution_count": null,
   "metadata": {},
   "outputs": [],
   "source": []
  }
 ],
 "metadata": {
  "kernelspec": {
   "display_name": "Python [default]",
   "language": "python",
   "name": "python2"
  },
  "language_info": {
   "codemirror_mode": {
    "name": "ipython",
    "version": 2
   },
   "file_extension": ".py",
   "mimetype": "text/x-python",
   "name": "python",
   "nbconvert_exporter": "python",
   "pygments_lexer": "ipython2",
   "version": "2.7.15"
  }
 },
 "nbformat": 4,
 "nbformat_minor": 2
}
