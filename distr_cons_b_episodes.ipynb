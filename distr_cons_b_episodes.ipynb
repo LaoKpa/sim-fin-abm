{
 "cells": [
  {
   "cell_type": "code",
   "execution_count": 16,
   "metadata": {},
   "outputs": [],
   "source": [
    "%matplotlib inline\n",
    "import numpy as np\n",
    "import pandas as pd\n",
    "import json\n",
    "import matplotlib.pyplot as plt\n",
    "import statsmodels.api as sm\n",
    "from statsmodels.iolib.summary2 import summary_col"
   ]
  },
  {
   "cell_type": "code",
   "execution_count": 23,
   "metadata": {},
   "outputs": [],
   "source": [
    "plt.style.use('ggplot')"
   ]
  },
  {
   "cell_type": "code",
   "execution_count": 2,
   "metadata": {},
   "outputs": [],
   "source": [
    "with open('many_bubbles_output.json', 'r') as f:\n",
    "    bubble_data = json.loads(f.read())"
   ]
  },
  {
   "cell_type": "markdown",
   "metadata": {},
   "source": [
    "# Analyse the distributional consequences of various bubble episodes\n",
    "\n",
    "Hypotheses:\n",
    "\n",
    "### General effects\n",
    "* a boom increases wealth inequelity because it can disproportionally benefit the rich\n",
    "* a bust might decrease wealth inequality because it reverses this effect\n",
    "* a bust-boom might decrease wealth inequality because it levels the playing field? \n",
    "\n",
    "### Which types of traders benefit:\n"
   ]
  },
  {
   "cell_type": "code",
   "execution_count": 3,
   "metadata": {},
   "outputs": [
    {
     "data": {
      "text/plain": [
       "4"
      ]
     },
     "execution_count": 3,
     "metadata": {},
     "output_type": "execute_result"
    }
   ],
   "source": [
    "runs = len(bubble_data)\n",
    "runs"
   ]
  },
  {
   "cell_type": "code",
   "execution_count": 4,
   "metadata": {},
   "outputs": [],
   "source": [
    "bubble_types = []\n",
    "bubble_prices = []\n",
    "wealth_starts = []\n",
    "wealth_ends = []\n",
    "ginis_ot = []\n",
    "palmas_ot = []\n",
    "twtws_ot = []\n",
    "for r in range(runs):\n",
    "    bubble_types += bubble_data[r][0]#bubble_data[0][0] + bubble_data[1][0]\n",
    "    bubble_prices += bubble_data[r][1]\n",
    "    wealth_starts += bubble_data[r][2]\n",
    "    wealth_ends += bubble_data[r][3]\n",
    "    ginis_ot += bubble_data[r][4]\n",
    "    palmas_ot += bubble_data[r][5]\n",
    "    twtws_ot += bubble_data[r][6]"
   ]
  },
  {
   "cell_type": "code",
   "execution_count": 5,
   "metadata": {},
   "outputs": [
    {
     "data": {
      "text/plain": [
       "[u'boom-bust', u'bust-boom', u'boom', u'bust']"
      ]
     },
     "execution_count": 5,
     "metadata": {},
     "output_type": "execute_result"
    }
   ],
   "source": [
    "unique_bubble_types = list(set(bubble_types))\n",
    "unique_bubble_types"
   ]
  },
  {
   "cell_type": "markdown",
   "metadata": {},
   "source": [
    "### Calculate gini, palma, twtws differences "
   ]
  },
  {
   "cell_type": "code",
   "execution_count": 6,
   "metadata": {},
   "outputs": [],
   "source": [
    "ginis_ot_dif = [g[-1] - g[0] for g in ginis_ot]\n",
    "palmas_ot_dif = [g[-1] - g[0] for g in palmas_ot]\n",
    "twtws_ot_dif = [g[-1] - g[0] for g in twtws_ot]"
   ]
  },
  {
   "cell_type": "markdown",
   "metadata": {},
   "source": [
    "### Calculate bubble magnitude and lenght"
   ]
  },
  {
   "cell_type": "code",
   "execution_count": 7,
   "metadata": {},
   "outputs": [],
   "source": [
    "bubble_lenght = [len(b) for b in bubble_prices]"
   ]
  },
  {
   "cell_type": "code",
   "execution_count": 8,
   "metadata": {},
   "outputs": [],
   "source": [
    "# if boom or bust, magnitude is price difference \n",
    "bubble_magnitude = []\n",
    "for idx, b_type in enumerate(bubble_types):\n",
    "    if b_type in ['boom', 'bust']:\n",
    "        bubble_magnitude.append(bubble_prices[idx][-1] - bubble_prices[idx][0])\n",
    "    else:\n",
    "        bubble_magnitude.append(np.mean(bubble_prices[idx]) - bubble_prices[idx][0])"
   ]
  },
  {
   "cell_type": "code",
   "execution_count": 33,
   "metadata": {},
   "outputs": [],
   "source": [
    "bubble_df = pd.DataFrame({'bubble_type': bubble_types, 'magnitude': bubble_magnitude, 'lenght': bubble_lenght, \n",
    "              'gini_diff': ginis_ot_dif, 'palma_diff': palmas_ot_dif, 'twtw_diff': twtws_ot_dif})"
   ]
  },
  {
   "cell_type": "code",
   "execution_count": 34,
   "metadata": {},
   "outputs": [],
   "source": [
    "bubble_df['const'] = 1"
   ]
  },
  {
   "cell_type": "code",
   "execution_count": 35,
   "metadata": {},
   "outputs": [
    {
     "data": {
      "text/html": [
       "<div>\n",
       "<style scoped>\n",
       "    .dataframe tbody tr th:only-of-type {\n",
       "        vertical-align: middle;\n",
       "    }\n",
       "\n",
       "    .dataframe tbody tr th {\n",
       "        vertical-align: top;\n",
       "    }\n",
       "\n",
       "    .dataframe thead th {\n",
       "        text-align: right;\n",
       "    }\n",
       "</style>\n",
       "<table border=\"1\" class=\"dataframe\">\n",
       "  <thead>\n",
       "    <tr style=\"text-align: right;\">\n",
       "      <th></th>\n",
       "      <th>bubble_type</th>\n",
       "      <th>gini_diff</th>\n",
       "      <th>lenght</th>\n",
       "      <th>magnitude</th>\n",
       "      <th>palma_diff</th>\n",
       "      <th>twtw_diff</th>\n",
       "      <th>const</th>\n",
       "    </tr>\n",
       "  </thead>\n",
       "  <tbody>\n",
       "    <tr>\n",
       "      <th>0</th>\n",
       "      <td>bust-boom</td>\n",
       "      <td>-0.000560</td>\n",
       "      <td>85</td>\n",
       "      <td>-2.816404</td>\n",
       "      <td>-0.009952</td>\n",
       "      <td>-0.050428</td>\n",
       "      <td>1</td>\n",
       "    </tr>\n",
       "    <tr>\n",
       "      <th>1</th>\n",
       "      <td>boom-bust</td>\n",
       "      <td>0.001458</td>\n",
       "      <td>85</td>\n",
       "      <td>1.963407</td>\n",
       "      <td>0.031735</td>\n",
       "      <td>0.091419</td>\n",
       "      <td>1</td>\n",
       "    </tr>\n",
       "    <tr>\n",
       "      <th>2</th>\n",
       "      <td>bust-boom</td>\n",
       "      <td>0.001669</td>\n",
       "      <td>49</td>\n",
       "      <td>-1.560827</td>\n",
       "      <td>0.035159</td>\n",
       "      <td>0.104418</td>\n",
       "      <td>1</td>\n",
       "    </tr>\n",
       "    <tr>\n",
       "      <th>3</th>\n",
       "      <td>boom-bust</td>\n",
       "      <td>0.005586</td>\n",
       "      <td>55</td>\n",
       "      <td>5.552797</td>\n",
       "      <td>0.132366</td>\n",
       "      <td>0.464784</td>\n",
       "      <td>1</td>\n",
       "    </tr>\n",
       "    <tr>\n",
       "      <th>4</th>\n",
       "      <td>bust</td>\n",
       "      <td>0.009058</td>\n",
       "      <td>44</td>\n",
       "      <td>-11.155902</td>\n",
       "      <td>0.230501</td>\n",
       "      <td>0.715801</td>\n",
       "      <td>1</td>\n",
       "    </tr>\n",
       "  </tbody>\n",
       "</table>\n",
       "</div>"
      ],
      "text/plain": [
       "  bubble_type  gini_diff  lenght  magnitude  palma_diff  twtw_diff  const\n",
       "0   bust-boom  -0.000560      85  -2.816404   -0.009952  -0.050428      1\n",
       "1   boom-bust   0.001458      85   1.963407    0.031735   0.091419      1\n",
       "2   bust-boom   0.001669      49  -1.560827    0.035159   0.104418      1\n",
       "3   boom-bust   0.005586      55   5.552797    0.132366   0.464784      1\n",
       "4        bust   0.009058      44 -11.155902    0.230501   0.715801      1"
      ]
     },
     "execution_count": 35,
     "metadata": {},
     "output_type": "execute_result"
    }
   ],
   "source": [
    "bubble_df.head()"
   ]
  },
  {
   "cell_type": "code",
   "execution_count": 36,
   "metadata": {},
   "outputs": [],
   "source": [
    "bubble_groups = bubble_df.groupby('bubble_type')"
   ]
  },
  {
   "cell_type": "code",
   "execution_count": 37,
   "metadata": {},
   "outputs": [],
   "source": [
    "boom_busts = bubble_df.query('bubble_type == \"boom-bust\"')\n",
    "bust_booms = bubble_df.query('bubble_type == \"bust-boom\"')\n",
    "busts = bubble_df.query('bubble_type == \"bust\"')\n",
    "booms = bubble_df.query('bubble_type == \"boom\"')"
   ]
  },
  {
   "cell_type": "markdown",
   "metadata": {},
   "source": [
    "# Inequality analysis: \n",
    "\n",
    "Inspired by: https://lectures.quantecon.org/py/ols.html\n",
    "\n",
    "For every bubble type: \n",
    "\n",
    "Y = gini_diff, palma_diff, twtw_diff\n",
    "\n",
    "X = magnitude, lenght"
   ]
  },
  {
   "cell_type": "code",
   "execution_count": 38,
   "metadata": {},
   "outputs": [
    {
     "data": {
      "text/plain": [
       "Text(0,0.5,'20-20 diff')"
      ]
     },
     "execution_count": 38,
     "metadata": {},
     "output_type": "execute_result"
    },
    {
     "data": {
      "image/png": "[encoded data removed]",
      "text/plain": [
       "<Figure size 1152x720 with 12 Axes>"
      ]
     },
     "metadata": {},
     "output_type": "display_data"
    }
   ],
   "source": [
    "fig, ((ax1, ax2, ax3, ax4), (ax5, ax6, ax7, ax8), (ax9, ax10, ax11, ax12)) = plt.subplots(3, 4, figsize=[16,10])\n",
    "\n",
    "ax1.scatter(boom_busts['magnitude'], boom_busts['gini_diff'])\n",
    "ax2.scatter(bust_booms['magnitude'], bust_booms['gini_diff'])\n",
    "ax3.scatter(busts['magnitude'], busts['gini_diff'])\n",
    "ax4.scatter(booms['magnitude'], booms['gini_diff'])\n",
    "\n",
    "ax5.scatter(boom_busts['magnitude'], boom_busts['palma_diff'])\n",
    "ax6.scatter(bust_booms['magnitude'], bust_booms['palma_diff'])\n",
    "ax7.scatter(busts['magnitude'], busts['palma_diff'])\n",
    "ax8.scatter(booms['magnitude'], booms['palma_diff'])\n",
    "\n",
    "ax9.scatter(boom_busts['magnitude'], boom_busts['twtw_diff'])\n",
    "ax10.scatter(bust_booms['magnitude'], bust_booms['twtw_diff'])\n",
    "ax11.scatter(busts['magnitude'], busts['twtw_diff'])\n",
    "ax12.scatter(booms['magnitude'], booms['twtw_diff'])\n",
    "\n",
    "ax1.set_title('boom_busts')\n",
    "ax2.set_title('bust_booms')\n",
    "ax3.set_title('busts')\n",
    "ax4.set_title('booms')\n",
    "\n",
    "ax1.set_ylabel('Gini', fontsize=14)\n",
    "ax5.set_ylabel('Palma diff', fontsize=14)\n",
    "ax9.set_ylabel('20-20 diff', fontsize=14)"
   ]
  },
  {
   "cell_type": "markdown",
   "metadata": {},
   "source": [
    "### Gini regression"
   ]
  },
  {
   "cell_type": "code",
   "execution_count": 43,
   "metadata": {},
   "outputs": [],
   "source": [
    "gini_reg1 = sm.OLS(endog=boom_busts['gini_diff'], exog=boom_busts[['const', 'lenght', 'magnitude']], missing='drop')\n",
    "gini_reg2 = sm.OLS(endog=bust_booms['gini_diff'], exog=bust_booms[['const', 'lenght', 'magnitude']], missing='drop')\n",
    "gini_reg3 = sm.OLS(endog=busts['gini_diff'], exog=busts[['const', 'lenght', 'magnitude']], missing='drop')\n",
    "gini_reg4 = sm.OLS(endog=booms['gini_diff'], exog=booms[['const', 'lenght', 'magnitude']], missing='drop')\n",
    "\n",
    "gini_res1 = gini_reg1.fit()\n",
    "gini_res2 = gini_reg2.fit()\n",
    "gini_res3 = gini_reg3.fit()\n",
    "gini_res4 = gini_reg4.fit()"
   ]
  },
  {
   "cell_type": "code",
   "execution_count": 60,
   "metadata": {},
   "outputs": [
    {
     "name": "stdout",
     "output_type": "stream",
     "text": [
      "                Table 2 - OLS Regressions\n",
      "========================================================\n",
      "                   boom-bust    bust-boom  busts  booms \n",
      "--------------------------------------------------------\n",
      "const            -0.0001        0.0041    0.0001  0.0000\n",
      "                 (0.0005)       (inf)     (inf)   (inf) \n",
      "lenght           0.0000         0.0001    -0.0002 0.0000\n",
      "                 (0.0000)       (inf)     (inf)   (inf) \n",
      "magnitude        0.0011***      0.0039    -0.0017 0.0005\n",
      "                 (0.0002)       (inf)     (inf)   (inf) \n",
      "No. observations 11             3         2       2     \n",
      "R-squared        0.898849747932 1.0       1.0     1.0   \n",
      "========================================================\n",
      "Standard errors in parentheses.\n",
      "* p<.1, ** p<.05, ***p<.01\n"
     ]
    }
   ],
   "source": [
    "info_dict={'R-squared' : lambda x: \"{}\".format(x.rsquared), \n",
    "           'No. observations' : lambda x: \"{}\".format(int(x.nobs))}\n",
    "\n",
    "results_table = summary_col(results=[gini_res1,gini_res2,gini_res3, gini_res4],\n",
    "                            float_format='%0.4f',\n",
    "                            stars = True,\n",
    "                            model_names=['boom-bust',\n",
    "                                         'bust-boom',\n",
    "                                         'busts', 'booms'],\n",
    "                            info_dict=info_dict,\n",
    "                            regressor_order=['const', 'lenght', 'magnitude'])\n",
    "\n",
    "results_table.add_title('Table 2 - OLS Regressions')\n",
    "\n",
    "print(results_table)"
   ]
  },
  {
   "cell_type": "markdown",
   "metadata": {},
   "source": [
    "### Palma regression"
   ]
  },
  {
   "cell_type": "code",
   "execution_count": 61,
   "metadata": {},
   "outputs": [],
   "source": [
    "palma_reg1 = sm.OLS(endog=boom_busts['palma_diff'], exog=boom_busts[['const', 'lenght', 'magnitude']], missing='drop').fit()\n",
    "palma_reg2 = sm.OLS(endog=bust_booms['palma_diff'], exog=bust_booms[['const', 'lenght', 'magnitude']], missing='drop').fit()\n",
    "palma_reg3 = sm.OLS(endog=busts['palma_diff'], exog=busts[['const', 'lenght', 'magnitude']], missing='drop').fit()\n",
    "palma_reg4 = sm.OLS(endog=booms['palma_diff'], exog=booms[['const', 'lenght', 'magnitude']], missing='drop').fit()"
   ]
  },
  {
   "cell_type": "code",
   "execution_count": 63,
   "metadata": {},
   "outputs": [
    {
     "name": "stdout",
     "output_type": "stream",
     "text": [
      "                Table 2 - OLS Regressions\n",
      "========================================================\n",
      "                   boom-bust    bust-boom  busts  booms \n",
      "--------------------------------------------------------\n",
      "const            0.0071         0.0736    0.0040  0.0001\n",
      "                 (0.0082)       (inf)     (inf)   (inf) \n",
      "lenght           -0.0005**      0.0042    -0.0077 0.0004\n",
      "                 (0.0002)       (inf)     (inf)   (inf) \n",
      "magnitude        0.0252***      0.1549    -0.0508 0.0014\n",
      "                 (0.0035)       (inf)     (inf)   (inf) \n",
      "No. observations 11             3         2       2     \n",
      "R-squared        0.883575751244 1.0       1.0     1.0   \n",
      "========================================================\n",
      "Standard errors in parentheses.\n",
      "* p<.1, ** p<.05, ***p<.01\n"
     ]
    }
   ],
   "source": [
    "info_dict={'R-squared' : lambda x: \"{}\".format(x.rsquared), \n",
    "           'No. observations' : lambda x: \"{}\".format(int(x.nobs))}\n",
    "\n",
    "results_table = summary_col(results=[palma_reg1,palma_reg2,palma_reg3, palma_reg4],\n",
    "                            float_format='%0.4f',\n",
    "                            stars = True,\n",
    "                            model_names=['boom-bust',\n",
    "                                         'bust-boom',\n",
    "                                         'busts', 'booms'],\n",
    "                            info_dict=info_dict,\n",
    "                            regressor_order=['const', 'lenght', 'magnitude'])\n",
    "\n",
    "results_table.add_title('Table 2 - OLS Regressions')\n",
    "\n",
    "print(results_table)"
   ]
  },
  {
   "cell_type": "markdown",
   "metadata": {},
   "source": [
    "## 20-20 regression"
   ]
  },
  {
   "cell_type": "code",
   "execution_count": 62,
   "metadata": {},
   "outputs": [],
   "source": [
    "twtw_reg1 = sm.OLS(endog=boom_busts['twtw_diff'], exog=boom_busts[['const', 'lenght', 'magnitude']], missing='drop').fit()\n",
    "twtw_reg2 = sm.OLS(endog=bust_booms['twtw_diff'], exog=bust_booms[['const', 'lenght', 'magnitude']], missing='drop').fit()\n",
    "twtw_reg3 = sm.OLS(endog=busts['twtw_diff'], exog=busts[['const', 'lenght', 'magnitude']], missing='drop').fit()\n",
    "twtw_reg4 = sm.OLS(endog=booms['twtw_diff'], exog=booms[['const', 'lenght', 'magnitude']], missing='drop').fit()"
   ]
  },
  {
   "cell_type": "code",
   "execution_count": 64,
   "metadata": {},
   "outputs": [
    {
     "name": "stdout",
     "output_type": "stream",
     "text": [
      "               Table 2 - OLS Regressions\n",
      "=======================================================\n",
      "                   boom-bust   bust-boom  busts  booms \n",
      "-------------------------------------------------------\n",
      "const            0.0227        0.2181    0.0136  0.0001\n",
      "                 (0.0267)      (inf)     (inf)   (inf) \n",
      "lenght           -0.0019**     0.0186    -0.0278 0.0018\n",
      "                 (0.0006)      (inf)     (inf)   (inf) \n",
      "magnitude        0.0897***     0.6554    -0.1725 0.0009\n",
      "                 (0.0113)      (inf)     (inf)   (inf) \n",
      "No. observations 11            3         2       2     \n",
      "R-squared        0.90324842569 1.0       1.0     1.0   \n",
      "=======================================================\n",
      "Standard errors in parentheses.\n",
      "* p<.1, ** p<.05, ***p<.01\n"
     ]
    }
   ],
   "source": [
    "info_dict={'R-squared' : lambda x: \"{}\".format(x.rsquared), \n",
    "           'No. observations' : lambda x: \"{}\".format(int(x.nobs))}\n",
    "\n",
    "results_table = summary_col(results=[twtw_reg1,twtw_reg2,twtw_reg3, twtw_reg4],\n",
    "                            float_format='%0.4f',\n",
    "                            stars = True,\n",
    "                            model_names=['boom-bust',\n",
    "                                         'bust-boom',\n",
    "                                         'busts', 'booms'],\n",
    "                            info_dict=info_dict,\n",
    "                            regressor_order=['const', 'lenght', 'magnitude'])\n",
    "\n",
    "results_table.add_title('Table 2 - OLS Regressions')\n",
    "\n",
    "print(results_table)"
   ]
  },
  {
   "cell_type": "code",
   "execution_count": null,
   "metadata": {},
   "outputs": [],
   "source": []
  }
 ],
 "metadata": {
  "kernelspec": {
   "display_name": "Python 3",
   "language": "python",
   "name": "python3"
  },
  "language_info": {
   "codemirror_mode": {
    "name": "ipython",
    "version": 3
   },
   "file_extension": ".py",
   "mimetype": "text/x-python",
   "name": "python",
   "nbconvert_exporter": "python",
   "pygments_lexer": "ipython3",
   "version": "3.7.2"
  }
 },
 "nbformat": 4,
 "nbformat_minor": 2
}
