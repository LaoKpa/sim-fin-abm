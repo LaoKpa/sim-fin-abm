{
 "cells": [
  {
   "cell_type": "code",
   "execution_count": 1,
   "metadata": {
    "collapsed": false
   },
   "outputs": [
    {
     "name": "stderr",
     "output_type": "stream",
     "text": [
      "C:\\Users\\p267237\\AppData\\Local\\Continuum\\Anaconda3\\lib\\site-packages\\statsmodels\\compat\\pandas.py:56: FutureWarning: The pandas.core.datetools module is deprecated and will be removed in a future version. Please use the pandas.tseries module instead.\n",
      "  from pandas.core import datetools\n"
     ]
    }
   ],
   "source": [
    "%matplotlib inline\n",
    "import pandas as pd\n",
    "pd.core.common.is_list_like = pd.api.types.is_list_like\n",
    "from pandas_datareader import data\n",
    "from SALib.sample import latin, saltelli, fast_sampler\n",
    "from SALib.sample.morris import sample\n",
    "from SALib.analyze import sobol, fast, morris\n",
    "from functions.stylizedfacts import *\n",
    "from functions.evolutionaryalgo import *\n",
    "from functions.sensitivity_analysis import *\n",
    "from functions.helpers import *\n",
    "import simfinmodel\n",
    "import init_objects\n",
    "import matplotlib.pyplot as plt\n",
    "from matplotlib import style\n",
    "import quandl\n",
    "import json"
   ]
  },
  {
   "cell_type": "code",
   "execution_count": 2,
   "metadata": {
    "collapsed": false
   },
   "outputs": [],
   "source": [
    "style.use('ggplot')"
   ]
  },
  {
   "cell_type": "code",
   "execution_count": 3,
   "metadata": {
    "collapsed": false
   },
   "outputs": [],
   "source": [
    "empirical_moments = np.array([ -9.56201354e-03,  -9.55051841e-02,  -5.52010512e-02,\n",
    "         3.35217232e-01,   1.24673150e+01,   3.46352635e-01,\n",
    "         2.72135459e-01,   1.88193342e-01,   1.75876698e-01,\n",
    "        -3.39594806e+00])\n",
    "\n",
    "W = np.array([[  3.19813864e+05,  -1.23647688e+04,  -7.75253249e+02,\n",
    "         -9.96776357e+02,  -3.46059595e+01,  -8.45442951e+01,\n",
    "          1.30642711e+02,   8.21228832e+02,  -7.53254275e+02,\n",
    "          4.01244860e-01],\n",
    "       [ -1.23647688e+04,   3.09643983e+03,  -9.12387428e+02,\n",
    "          7.15088809e+02,   4.00622557e+00,  -2.07088870e+02,\n",
    "          2.23333826e+02,   2.47454265e+01,  -7.69804083e+01,\n",
    "         -9.32556575e-01],\n",
    "       [ -7.75253249e+02,  -9.12387428e+02,   2.45450034e+03,\n",
    "         -5.66285993e+02,   2.50019644e+00,   7.52973406e+01,\n",
    "         -6.53708966e+01,   1.49542112e+01,  -3.22682344e+01,\n",
    "         -8.15971301e-02],\n",
    "       [ -9.96776357e+02,   7.15088809e+02,  -5.66285993e+02,\n",
    "          6.03184170e+02,  -6.93622662e+00,  -3.92832732e+01,\n",
    "          5.68213213e+01,  -2.51354209e+01,  -5.92040756e-01,\n",
    "         -1.47482933e-01],\n",
    "       [ -3.46059595e+01,   4.00622557e+00,   2.50019644e+00,\n",
    "         -6.93622662e+00,   2.12483995e-01,  -1.07699983e+00,\n",
    "          7.97173695e-01,   6.64963370e-01,  -4.66126569e-01,\n",
    "          1.13807341e-03],\n",
    "       [ -8.45442951e+01,  -2.07088870e+02,   7.52973406e+01,\n",
    "         -3.92832732e+01,  -1.07699983e+00,   1.23523697e+04,\n",
    "         -1.37167420e+04,  -1.80945248e+03,   5.03115269e+03,\n",
    "         -5.47676063e-01],\n",
    "       [  1.30642711e+02,   2.23333826e+02,  -6.53708966e+01,\n",
    "          5.68213213e+01,   7.97173695e-01,  -1.37167420e+04,\n",
    "          1.68349608e+04,  -6.34482252e+01,  -5.39173033e+03,\n",
    "          4.87711333e-01],\n",
    "       [  8.21228832e+02,   2.47454265e+01,   1.49542112e+01,\n",
    "         -2.51354209e+01,   6.64963370e-01,  -1.80945248e+03,\n",
    "         -6.34482252e+01,   5.75725915e+03,  -4.01464585e+03,\n",
    "         -3.56169092e-01],\n",
    "       [ -7.53254275e+02,  -7.69804083e+01,  -3.22682344e+01,\n",
    "         -5.92040756e-01,  -4.66126569e-01,   5.03115269e+03,\n",
    "         -5.39173033e+03,  -4.01464585e+03,   5.75734730e+03,\n",
    "          5.83832248e-01],\n",
    "       [  4.01244860e-01,  -9.32556575e-01,  -8.15971301e-02,\n",
    "         -1.47482933e-01,   1.13807341e-03,  -5.47676063e-01,\n",
    "          4.87711333e-01,  -3.56169092e-01,   5.83832248e-01,\n",
    "          3.93494501e-01]])"
   ]
  },
  {
   "cell_type": "code",
   "execution_count": 4,
   "metadata": {
    "collapsed": false
   },
   "outputs": [],
   "source": [
    "confidence_intervals_moments = [[-0.014802207859241683, -0.00381338520933001],\n",
    " [-0.17714150893809588, -0.01629520926335798],\n",
    " [-0.10710049157252854, -0.009325021616514169],\n",
    " [0.1137168668465085, 0.5523703361520312],\n",
    " [2.9701436761197613, 21.711207883598597],\n",
    " [0.17229439736020258, 0.519916247879216],\n",
    " [0.08496455990583895, 0.44702201878227654],\n",
    " [0.053555935975001995, 0.3208388369069016],\n",
    " [0.05664312062039355, 0.29721186902444285],\n",
    " [-7.092498758498019, 0.3006026469341081]]#json.loads(open('bootstrapped_confidence_intervals.json').read())"
   ]
  },
  {
   "cell_type": "markdown",
   "metadata": {},
   "source": [
    "## Switching contrarian style experiment\n",
    "Traders switch from a fundamentalist to a mean reversion trading style."
   ]
  },
  {
   "cell_type": "code",
   "execution_count": 5,
   "metadata": {
    "collapsed": true
   },
   "outputs": [],
   "source": [
    "NRUNS = 15"
   ]
  },
  {
   "cell_type": "code",
   "execution_count": 6,
   "metadata": {
    "collapsed": true
   },
   "outputs": [],
   "source": [
    "total_contrarian_weight = 93.63551013606137 + 8.489180919376432"
   ]
  },
  {
   "cell_type": "code",
   "execution_count": null,
   "metadata": {
    "collapsed": true
   },
   "outputs": [],
   "source": [
    "params = {\"spread_max\": 0.004087, \"fundamental_value\": 166, \n",
    "          \"trader_sample_size\": 19, \"n_traders\": 1000, \n",
    "          \"ticks\": 2500, \"std_fundamental\": 0.0530163128919286, \n",
    "          \"std_noise\": 0.10696588473846724, 'weight_contrarians': total_contrarian_weight, \"w_momentum\": 43.055017297045524, \n",
    "          \"max_order_expiration_ticks\": 30, \"std_vol\": 7, \"w_random\": 73.28414619497076, \n",
    "          \"horizon_max\": 10, \"share_mr\": 0.0}"
   ]
  },
  {
   "cell_type": "code",
   "execution_count": null,
   "metadata": {
    "collapsed": false
   },
   "outputs": [],
   "source": [
    "# experiment change weight \n",
    "scores = {'j_score': [], 'mcr_scores': []}\n",
    "\n",
    "for weight_f in range(0, 100, 1):\n",
    "    params['share_mr'] = weight_f / 100.0\n",
    "    \n",
    "    traders = []\n",
    "    obs = []\n",
    "    for seed in range(NRUNS): \n",
    "        traders, orderbook = init_objects.init_objects_contrarians(params, seed)\n",
    "        traders, orderbook = simfinmodel.sim_fin_model(traders, orderbook, params, seed)\n",
    "        traders.append(traders)\n",
    "        obs.append(orderbook)\n",
    "        \n",
    "    mc_prices, mc_returns, mc_autocorr_returns, mc_autocorr_abs_returns, mc_volatility, mc_volume, mc_fundamentals = organise_data(obs)\n",
    "    \n",
    "    scores['j_score'].append(m_fitness(mc_returns, mc_prices, mc_fundamentals, empirical_moments, W))\n",
    "\n",
    "    mcr_scores_model = []\n",
    "    for col in mc_prices:\n",
    "        mcr_scores_model.append(get_model_moments_in_confidence(pd.DataFrame(mc_returns[col]),\n",
    "                                                                    pd.DataFrame(mc_prices[col]),\n",
    "                                                                    pd.DataFrame(mc_fundamentals[col]),\n",
    "                                                                    confidence_intervals_moments))\n",
    "\n",
    "    # calc MC scores\n",
    "    scores['mcr_scores'].append([true_scores(mcr_scores_model, i) for i in range(len(empirical_moments))])"
   ]
  },
  {
   "cell_type": "code",
   "execution_count": null,
   "metadata": {
    "collapsed": false
   },
   "outputs": [],
   "source": [
    "deviation_from_fundamentals = [x[-1] for x in scores['mcr_scores']]"
   ]
  },
  {
   "cell_type": "code",
   "execution_count": null,
   "metadata": {
    "collapsed": false
   },
   "outputs": [],
   "source": [
    "fig, ax1 = plt.subplots(1, 1, figsize=(8,6))\n",
    "\n",
    "X = [x for x in range(0, 100, 1)]\n",
    "\n",
    "\n",
    "ax1.plot(X, scores['j_score'], 'o')\n",
    "\n",
    "ax1.set_ylabel('Averge j-score', fontsize='14')\n",
    "ax1.set_xlabel('Percentage mean-reversion traders', fontsize='14')\n",
    "\n",
    "for ax in [ax1]:\n",
    "    ax.ticklabel_format(axis='y', style='sci', scilimits=(-2,2))\n",
    "\n",
    "    \n",
    "ax1.plot(np.unique(X), np.poly1d(np.polyfit(X, scores['j_score'], 1))(np.unique(X)),\n",
    "         color='black')\n",
    "\n",
    "fig.savefig('experiment_j_score_outcomes.png')"
   ]
  },
  {
   "cell_type": "code",
   "execution_count": null,
   "metadata": {
    "collapsed": false
   },
   "outputs": [],
   "source": [
    "fig, ((ax1, ax2),(ax3, ax4),(ax5, ax6), (ax7, ax8),(ax9, ax10)) = plt.subplots(5, 2, figsize=(20, 60))\n",
    "\n",
    "axes = (ax1, ax2,ax3, ax4,ax5, ax6, ax7, ax8,ax9, ax10)\n",
    "test_labels = ['Autocorrelation', 'Autocor1', 'Autocor5', 'Abs_autocor', 'Kurtosis',\n",
    "              'abs_cor10', 'abs_cor25', 'abs_cor50', 'abs_cor100', 'Cointegration']\n",
    "\n",
    "for idx, axis in enumerate(axes):\n",
    "    axis.set_title(test_labels[idx], loc='left', size='14')\n",
    "    axis.plot(range(0, 100, 1),[x[idx] for x in scores['mcr_scores']], 'o')\n",
    "    axis.set_ylabel('MCR', size='14')\n",
    "    axis.set_xlabel('Percentage mean-reversion traders', size='14')\n",
    "\n",
    "    axis.ticklabel_format(axis='y', style='sci', scilimits=(-2,2))\n",
    "\n",
    "plt.tight_layout()\n",
    "fig.savefig('experiment_mcr_outcomes.png')"
   ]
  },
  {
   "cell_type": "code",
   "execution_count": null,
   "metadata": {
    "collapsed": true
   },
   "outputs": [],
   "source": [
    "scores['const'] = [1 for x in range(0, 100, 1)] "
   ]
  },
  {
   "cell_type": "code",
   "execution_count": null,
   "metadata": {
    "collapsed": false
   },
   "outputs": [],
   "source": [
    "sc = pd.DataFrame(scores)"
   ]
  },
  {
   "cell_type": "code",
   "execution_count": null,
   "metadata": {
    "collapsed": false
   },
   "outputs": [],
   "source": [
    "model = sm.OLS([x for x in range(0, 100, 1)], sc[['const', 'j_score']])\n",
    "res = model.fit()\n",
    "residuals = res.resid"
   ]
  },
  {
   "cell_type": "code",
   "execution_count": null,
   "metadata": {
    "collapsed": true
   },
   "outputs": [],
   "source": [
    "# split df\n",
    "sc2 = pd.DataFrame(sc)"
   ]
  },
  {
   "cell_type": "code",
   "execution_count": null,
   "metadata": {
    "collapsed": true
   },
   "outputs": [],
   "source": [
    "sc2[test_labels] = pd.DataFrame(sc2.mcr_scores.values.tolist(), index= sc2.index)"
   ]
  },
  {
   "cell_type": "code",
   "execution_count": null,
   "metadata": {
    "collapsed": false
   },
   "outputs": [],
   "source": [
    "# Create lists of variables to be used in each regression\n",
    "regression_labels = ['j_score', 'Autocorrelation', 'Autocor1', 'Autocor5', 'Abs_autocor', 'Kurtosis', 'abs_cor10', 'abs_cor25', 'abs_cor50', 'abs_cor100', 'Cointegration']\n",
    "regressions = {}\n",
    "\n",
    "for rl in regression_labels:\n",
    "    regressions[rl] = sm.OLS(sc2.index, sc2[['const', rl]], missing='drop').fit()"
   ]
  },
  {
   "cell_type": "markdown",
   "metadata": {},
   "source": [
    "What do I want to know about each regression? \n",
    "\n",
    "1. coefficient\n",
    "2. Significance level of the coefficient\n",
    "3. std error\n",
    "4. R_squared"
   ]
  },
  {
   "cell_type": "code",
   "execution_count": null,
   "metadata": {
    "collapsed": false
   },
   "outputs": [],
   "source": [
    "regression_dict = {}\n",
    "for rl in regression_labels:\n",
    "    regression_dict[rl] = {'coef': regressions[rl].params[rl], 'sig': regressions[rl].pvalues[rl], 'std': regressions[rl].bse[rl], 'r_squared': regressions[rl].rsquared}"
   ]
  },
  {
   "cell_type": "code",
   "execution_count": null,
   "metadata": {
    "collapsed": false
   },
   "outputs": [],
   "source": [
    "regr_results = pd.DataFrame(regression_dict).transpose()"
   ]
  },
  {
   "cell_type": "code",
   "execution_count": null,
   "metadata": {
    "collapsed": false
   },
   "outputs": [],
   "source": [
    "regr_results"
   ]
  },
  {
   "cell_type": "code",
   "execution_count": null,
   "metadata": {
    "collapsed": true
   },
   "outputs": [],
   "source": [
    "regr_results[['coef', 'std', 'r_squared']].to_csv('exp_regr_results.csv', float_format='%.3f', sep='&')"
   ]
  },
  {
   "cell_type": "markdown",
   "metadata": {},
   "source": [
    "# Robustness of the results\n",
    "\n",
    "eFast analysis"
   ]
  },
  {
   "cell_type": "code",
   "execution_count": 7,
   "metadata": {
    "collapsed": true
   },
   "outputs": [],
   "source": [
    "problem_efast = {\n",
    "  'num_vars': 5,\n",
    "  'names': ['trader_sample_size', 'std_noise', 'share_mr',\n",
    "           'horizon_max', 'max_order_expiration_ticks'],\n",
    "  'bounds': [[1, 30], [0.05, 0.30], [0.0, 1.0], [9, 30], [5, 100]]\n",
    "}"
   ]
  },
  {
   "cell_type": "code",
   "execution_count": 8,
   "metadata": {
    "collapsed": false
   },
   "outputs": [],
   "source": [
    "fast_params = fast_sampler.sample(problem_efast, 1000)\n",
    "fast_params_list = fast_params.tolist()\n",
    "# convert nescessary parameters to ints\n",
    "for idx, parameters in enumerate(fast_params_list):\n",
    "    # ints: 0, 3, 4\n",
    "    fast_params_list[idx][0] = int(fast_params_list[idx][0])\n",
    "    fast_params_list[idx][3] = int(fast_params_list[idx][3])\n",
    "    fast_params_list[idx][4] = int(fast_params_list[idx][4])"
   ]
  },
  {
   "cell_type": "code",
   "execution_count": 9,
   "metadata": {
    "collapsed": false
   },
   "outputs": [],
   "source": [
    "all_parameters = []\n",
    "for parameters in fast_params_list:\n",
    "    pars = {}\n",
    "    for key, value in zip(problem_efast['names'], parameters):\n",
    "        pars[key] = value\n",
    "    all_parameters.append(pars)"
   ]
  },
  {
   "cell_type": "code",
   "execution_count": 10,
   "metadata": {
    "collapsed": true
   },
   "outputs": [],
   "source": [
    "fixed_parameters = {\"spread_max\": 0.004087, \"fundamental_value\": 166, \n",
    "          \"n_traders\": 1000, \n",
    "          \"ticks\": 2500, \"std_fundamental\": 0.0530163128919286, \n",
    "          'weight_contrarians': total_contrarian_weight, \"w_momentum\": 43.055017297045524, \n",
    "          \"std_vol\": 7, \"w_random\": 73.28414619497076}"
   ]
  },
  {
   "cell_type": "code",
   "execution_count": 12,
   "metadata": {
    "collapsed": true
   },
   "outputs": [],
   "source": [
    "NRUNS = 1"
   ]
  },
  {
   "cell_type": "code",
   "execution_count": 13,
   "metadata": {
    "collapsed": false
   },
   "outputs": [
    {
     "ename": "KeyboardInterrupt",
     "evalue": "",
     "output_type": "error",
     "traceback": [
      "\u001b[1;31m---------------------------------------------------------------------------\u001b[0m",
      "\u001b[1;31mKeyboardInterrupt\u001b[0m                         Traceback (most recent call last)",
      "\u001b[1;32m<ipython-input-13-5320ebc5baad>\u001b[0m in \u001b[0;36m<module>\u001b[1;34m()\u001b[0m\n\u001b[0;32m      1\u001b[0m \u001b[1;31m# extract J-value & MCR\u001b[0m\u001b[1;33m\u001b[0m\u001b[1;33m\u001b[0m\u001b[0m\n\u001b[1;32m----> 2\u001b[1;33m \u001b[0mmodel_output\u001b[0m \u001b[1;33m=\u001b[0m \u001b[0msim_robustness\u001b[0m\u001b[1;33m(\u001b[0m\u001b[1;36m1\u001b[0m\u001b[1;33m,\u001b[0m \u001b[0mall_parameters\u001b[0m\u001b[1;33m,\u001b[0m \u001b[0mfixed_parameters\u001b[0m\u001b[1;33m,\u001b[0m \u001b[0mempirical_moments\u001b[0m\u001b[1;33m,\u001b[0m \u001b[0mW\u001b[0m\u001b[1;33m,\u001b[0m \u001b[0mconfidence_intervals_moments\u001b[0m\u001b[1;33m)\u001b[0m\u001b[1;33m\u001b[0m\u001b[0m\n\u001b[0m",
      "\u001b[1;32mC:\\Users\\p267237\\Documents\\GitHub\\sim-fin-abm\\functions\\sensitivity_analysis.py\u001b[0m in \u001b[0;36msim_robustness\u001b[1;34m(NRUNS, parameter_set, fixed_parameters, empirical_moments, W, confidence_intervals_moments)\u001b[0m\n\u001b[0;32m     94\u001b[0m         \u001b[1;32mfor\u001b[0m \u001b[0mseed\u001b[0m \u001b[1;32min\u001b[0m \u001b[0mrange\u001b[0m\u001b[1;33m(\u001b[0m\u001b[0mNRUNS\u001b[0m\u001b[1;33m)\u001b[0m\u001b[1;33m:\u001b[0m\u001b[1;33m\u001b[0m\u001b[0m\n\u001b[0;32m     95\u001b[0m             \u001b[0mtraders\u001b[0m\u001b[1;33m,\u001b[0m \u001b[0morderbook\u001b[0m \u001b[1;33m=\u001b[0m \u001b[0minit_objects\u001b[0m\u001b[1;33m.\u001b[0m\u001b[0minit_objects_contrarians\u001b[0m\u001b[1;33m(\u001b[0m\u001b[0mparams\u001b[0m\u001b[1;33m,\u001b[0m \u001b[0mseed\u001b[0m\u001b[1;33m)\u001b[0m\u001b[1;33m\u001b[0m\u001b[0m\n\u001b[1;32m---> 96\u001b[1;33m             \u001b[0mtraders\u001b[0m\u001b[1;33m,\u001b[0m \u001b[0morderbook\u001b[0m \u001b[1;33m=\u001b[0m \u001b[0msimfinmodel\u001b[0m\u001b[1;33m.\u001b[0m\u001b[0msim_fin_model\u001b[0m\u001b[1;33m(\u001b[0m\u001b[0mtraders\u001b[0m\u001b[1;33m,\u001b[0m \u001b[0morderbook\u001b[0m\u001b[1;33m,\u001b[0m \u001b[0mparams\u001b[0m\u001b[1;33m,\u001b[0m \u001b[0mseed\u001b[0m\u001b[1;33m)\u001b[0m\u001b[1;33m\u001b[0m\u001b[0m\n\u001b[0m\u001b[0;32m     97\u001b[0m             \u001b[0mobs\u001b[0m\u001b[1;33m.\u001b[0m\u001b[0mappend\u001b[0m\u001b[1;33m(\u001b[0m\u001b[0morderbook\u001b[0m\u001b[1;33m)\u001b[0m\u001b[1;33m\u001b[0m\u001b[0m\n\u001b[0;32m     98\u001b[0m \u001b[1;33m\u001b[0m\u001b[0m\n",
      "\u001b[1;32mC:\\Users\\p267237\\Documents\\GitHub\\sim-fin-abm\\simfinmodel.py\u001b[0m in \u001b[0;36msim_fin_model\u001b[1;34m(traders, orderbook, parameters, seed)\u001b[0m\n\u001b[0;32m     21\u001b[0m         \u001b[0mfundamental_component\u001b[0m \u001b[1;33m=\u001b[0m \u001b[0mnp\u001b[0m\u001b[1;33m.\u001b[0m\u001b[0mlog\u001b[0m\u001b[1;33m(\u001b[0m\u001b[0mfundamental\u001b[0m\u001b[1;33m[\u001b[0m\u001b[1;33m-\u001b[0m\u001b[1;36m1\u001b[0m\u001b[1;33m]\u001b[0m \u001b[1;33m/\u001b[0m \u001b[0mmid_price\u001b[0m\u001b[1;33m)\u001b[0m\u001b[1;33m\u001b[0m\u001b[0m\n\u001b[0;32m     22\u001b[0m         chartist_component = np.cumsum(orderbook.returns[-parameters['horizon_max']:]\n\u001b[1;32m---> 23\u001b[1;33m                                        ) / np.arange(1., float(parameters['horizon_max'] + 1))\n\u001b[0m\u001b[0;32m     24\u001b[0m \u001b[1;33m\u001b[0m\u001b[0m\n\u001b[0;32m     25\u001b[0m         \u001b[1;32mfor\u001b[0m \u001b[0mtrader\u001b[0m \u001b[1;32min\u001b[0m \u001b[0mactive_traders\u001b[0m\u001b[1;33m:\u001b[0m\u001b[1;33m\u001b[0m\u001b[0m\n",
      "\u001b[1;31mKeyboardInterrupt\u001b[0m: "
     ]
    }
   ],
   "source": [
    "# extract J-value & MCR\n",
    "model_output = sim_robustness(1, all_parameters, fixed_parameters, empirical_moments, W, confidence_intervals_moments)"
   ]
  },
  {
   "cell_type": "code",
   "execution_count": null,
   "metadata": {
    "collapsed": true
   },
   "outputs": [],
   "source": [
    "# transform output, first put in df\n",
    "sc_fast = pd.DataFrame(model_output)"
   ]
  },
  {
   "cell_type": "code",
   "execution_count": null,
   "metadata": {
    "collapsed": true
   },
   "outputs": [],
   "source": [
    "# split df and add individual columns\n",
    "sc_fast2 = pd.DataFrame(sc_fast)\n",
    "sc_fast2[test_labels] = pd.DataFrame(sc_fast2.mcr_scores.values.tolist(), index= sc_fast2.index)"
   ]
  },
  {
   "cell_type": "code",
   "execution_count": null,
   "metadata": {
    "collapsed": true
   },
   "outputs": [],
   "source": [
    "# Create lists of variables to be used in each eFast analysis\n",
    "eFast_labels = ['j_score', 'Autocorrelation', 'Autocor1', 'Autocor5', 'Abs_autocor', 'Kurtosis', 'abs_cor10', 'abs_cor25', 'abs_cor50', 'abs_cor100', 'Cointegration']\n",
    "regressions = {}\n",
    "\n",
    "for efl in eFast_labels:\n",
    "    regressions[efl] = fast.analyze(problem_efast, sc_fast2[efl], print_to_console=False)"
   ]
  },
  {
   "cell_type": "code",
   "execution_count": null,
   "metadata": {
    "collapsed": true
   },
   "outputs": [],
   "source": [
    "# plot histograms \n",
    "#fig, ((ax1, ax2, ax3),(ax4, ax5, ax6)) = plt.subplots(2, 3, figsize=(12,5))\n",
    "fig, ax = plt.subplots(1, 1, figsize=(8,6))\n",
    "\n",
    "N = 4\n",
    "ind = np.arange(N)  # the x locations for the groups\n",
    "width = 0.40       # the width of the bars\n",
    "\n",
    "ax1.set_title('No autocorrelation')\n",
    "rects1 = ax1.bar(ind, impact_on_no_a['S1'], width, color='k')\n",
    "rects2 = ax1.bar(ind + width, impact_on_no_a['ST'], width, color='w', hatch='\\\\')\n",
    "#ax1.legend((rects1[0], rects2[0]), ('S1', 'ST'))\n",
    "ax1.set_ylabel('impact')\n",
    "\n",
    "ax.set_xticks(ind + width / 2)\n",
    "ax.set_xticklabels(eFast_labels)\n",
    "ax.set_ylim(0, 1.0)\n",
    "\n",
    "fig.savefig('eFast.png')"
   ]
  },
  {
   "cell_type": "code",
   "execution_count": null,
   "metadata": {
    "collapsed": true
   },
   "outputs": [],
   "source": [
    "# calc impact on outputs of interest\n",
    "# impact_on_no_a = fast.analyze(problem, no_autoc, print_to_console=False)\n",
    "# impact_on_f_t = fast.analyze(problem, f_tails, print_to_console=False)\n",
    "# impact_on_cv = fast.analyze(problem, clustered_vol, print_to_console=False)\n",
    "# impact_on_lm = fast.analyze(problem, l_memory, print_to_console=False)\n",
    "# impact_on_df = fast.analyze(problem, deviation_from_fundamentals, print_to_console=False)"
   ]
  },
  {
   "cell_type": "code",
   "execution_count": null,
   "metadata": {
    "collapsed": true
   },
   "outputs": [],
   "source": [
    "# plot 5 histograms \n",
    "#fig, ((ax1, ax2, ax3),(ax4, ax5, ax6)) = plt.subplots(2, 3, figsize=(12,5))\n",
    "# fig, axes = plt.subplots(nrows=2, ncols=3, figsize=(12, 6))\n",
    "\n",
    "# N = 4\n",
    "# ind = np.arange(N)  # the x locations for the groups\n",
    "# width = 0.40       # the width of the bars\n",
    "\n",
    "# ax1 = axes[0,0] \n",
    "# ax2 = axes[0,1]\n",
    "# ax3 = axes[0,2]\n",
    "# ax4 = axes[1,0]\n",
    "# ax5 = axes[1,1]\n",
    "\n",
    "# ax1.set_title('No autocorrelation')\n",
    "# rects1 = ax1.bar(ind, impact_on_no_a['S1'], width, color='k')\n",
    "# rects2 = ax1.bar(ind + width, impact_on_no_a['ST'], width, color='w', hatch='\\\\')\n",
    "# #ax1.legend((rects1[0], rects2[0]), ('S1', 'ST'))\n",
    "# ax1.set_ylabel('impact')\n",
    "\n",
    "# ax2.set_title('Fat tails')\n",
    "# rects3 = ax2.bar(ind, impact_on_f_t['S1'], width, color='k')\n",
    "# rects4 = ax2.bar(ind + width, impact_on_f_t['ST'], width, color='w', hatch='\\\\')\n",
    "\n",
    "# ax3.set_title('Clustered volatility')\n",
    "# rects5 = ax3.bar(ind, impact_on_cv['S1'], width, color='k')\n",
    "# rects6 = ax3.bar(ind + width, impact_on_cv['ST'], width, color='w', hatch='\\\\')\n",
    "\n",
    "# ax4.set_title('Long memory')\n",
    "# rects7 = ax4.bar(ind, impact_on_lm['S1'], width, color='k')\n",
    "# rects8 = ax4.bar(ind + width, impact_on_lm['ST'], width, color='w', hatch='\\\\')\n",
    "# ax4.set_ylabel('impact')\n",
    "\n",
    "# ax5.set_title('Fundamental deviation')\n",
    "# rects9 = ax5.bar(ind, impact_on_df['S1'], width, color='k')\n",
    "# rects10 = ax5.bar(ind + width, impact_on_df['ST'], width, color='w', hatch='\\\\')\n",
    "# ax5.legend((rects9[0], rects10[0]), ('First-order sensitivity', 'Total sensitivity'), \n",
    "#            loc='center left', bbox_to_anchor=(1.25, 0.5))\n",
    "\n",
    "# axes[1, 2].remove()\n",
    "\n",
    "# for ax in [ax1, ax2, ax3, ax4, ax5]:\n",
    "#     ax.set_xticks(ind + width / 2)\n",
    "#     ax.set_xticklabels(('F', 'MM', 'NS', 'MR'))\n",
    "#     ax.set_ylim(0, 1.0)\n",
    "    \n",
    "# fig.savefig('eFastExpectations.png')"
   ]
  }
 ],
 "metadata": {
  "kernelspec": {
   "display_name": "Python 3",
   "language": "python",
   "name": "python3"
  },
  "language_info": {
   "codemirror_mode": {
    "name": "ipython",
    "version": 3
   },
   "file_extension": ".py",
   "mimetype": "text/x-python",
   "name": "python",
   "nbconvert_exporter": "python",
   "pygments_lexer": "ipython3",
   "version": "3.5.2"
  }
 },
 "nbformat": 4,
 "nbformat_minor": 2
}
