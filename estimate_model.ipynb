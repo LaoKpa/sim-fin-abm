{
 "cells": [
  {
   "cell_type": "code",
   "execution_count": 1,
   "metadata": {},
   "outputs": [
    {
     "name": "stderr",
     "output_type": "stream",
     "text": [
      "C:\\Users\\p267237\\AppData\\Local\\Continuum\\Anaconda3\\lib\\site-packages\\statsmodels\\compat\\pandas.py:56: FutureWarning: The pandas.core.datetools module is deprecated and will be removed in a future version. Please use the pandas.tseries module instead.\n",
      "  from pandas.core import datetools\n"
     ]
    }
   ],
   "source": [
    "%matplotlib inline\n",
    "\n",
    "import pandas as pd\n",
    "pd.core.common.is_list_like = pd.api.types.is_list_like\n",
    "from matplotlib import style\n",
    "from pandas_datareader import data\n",
    "import random\n",
    "from SALib.sample import latin\n",
    "from functions.stylizedfacts import *\n",
    "import scipy.stats as stats\n",
    "from functions.evolutionaryalgo import *\n",
    "from pandas_datareader import data\n",
    "from functions.helpers import hurst, organise_data, div_by_hundred, discounted_value_cash_flow, find_horizon, calculate_npv\n",
    "import matplotlib.pyplot as plt\n",
    "import statsmodels.api as sm\n",
    "import statsmodels.tsa.stattools as ts\n",
    "import seaborn as sns\n",
    "import json"
   ]
  },
  {
   "cell_type": "code",
   "execution_count": 2,
   "metadata": {
    "collapsed": true
   },
   "outputs": [],
   "source": [
    "style.use('ggplot')"
   ]
  },
  {
   "cell_type": "code",
   "execution_count": 3,
   "metadata": {},
   "outputs": [
    {
     "data": {
      "text/plain": [
       "['seaborn-bright',\n",
       " 'seaborn-white',\n",
       " 'seaborn-whitegrid',\n",
       " 'seaborn-notebook',\n",
       " 'seaborn-deep',\n",
       " 'seaborn-paper',\n",
       " 'seaborn-dark',\n",
       " 'fivethirtyeight',\n",
       " 'dark_background',\n",
       " 'seaborn-darkgrid',\n",
       " 'seaborn-dark-palette',\n",
       " 'bmh',\n",
       " 'seaborn-ticks',\n",
       " 'ggplot',\n",
       " 'seaborn-pastel',\n",
       " 'seaborn-muted',\n",
       " 'classic',\n",
       " 'seaborn-poster',\n",
       " 'seaborn-colorblind',\n",
       " 'seaborn-talk',\n",
       " 'grayscale']"
      ]
     },
     "execution_count": 3,
     "metadata": {},
     "output_type": "execute_result"
    }
   ],
   "source": [
    "style.available"
   ]
  },
  {
   "cell_type": "markdown",
   "metadata": {},
   "source": [
    "# Estimate model\n",
    "Following the procedure presented by [Franke & Westerhoff (2012)](https://www.sciencedirect.com/science/article/pii/S0165188912000802).\n",
    "\n",
    "## 1 Get data\n",
    "\n",
    "### a On returns "
   ]
  },
  {
   "cell_type": "code",
   "execution_count": 4,
   "metadata": {
    "collapsed": true
   },
   "outputs": [],
   "source": [
    "start_date = '2008-01-01' #1933\n",
    "end_date = '2018-08-16'\n",
    "\n",
    "spy_nom_price = data.DataReader(\"SP500\", \n",
    "                       start=start_date, \n",
    "                       end=end_date, \n",
    "                       data_source='fred')[\"SP500\"].dropna()\n",
    "spy_nom_returns = spy_nom_price.pct_change()[1:]"
   ]
  },
  {
   "cell_type": "markdown",
   "metadata": {},
   "source": [
    "### b On fundamentals"
   ]
  },
  {
   "cell_type": "code",
   "execution_count": 5,
   "metadata": {
    "collapsed": true
   },
   "outputs": [],
   "source": [
    "shiller_data = pd.read_excel('http://www.econ.yale.edu/~shiller/data/ie_data.xls', header=7)[:-3]"
   ]
  },
  {
   "cell_type": "code",
   "execution_count": 11,
   "metadata": {
    "collapsed": true
   },
   "outputs": [],
   "source": [
    "schul_data = pd.read_excel('http://www.macrohistory.net/JST/JSTmoneyR3.xlsx', sheetname='Data')[['year', 'country', 'stir']]\n",
    "schul_data = schul_data.loc[(schul_data.country == 'USA')]\n",
    "schul_data = schul_data.iloc[1:]\n",
    "schul_data = schul_data.set_index('year')"
   ]
  },
  {
   "cell_type": "markdown",
   "metadata": {},
   "source": [
    "Extend Schularick annual data to monthly data. "
   ]
  },
  {
   "cell_type": "code",
   "execution_count": 12,
   "metadata": {
    "collapsed": true
   },
   "outputs": [],
   "source": [
    "schul_data['stir']\n",
    "\n",
    "short_term_int = []\n",
    "counter = -1\n",
    "for idx in range(len(shiller_data)):\n",
    "    if idx % 12 == 0:\n",
    "        counter += 1\n",
    "    try:\n",
    "        short_term_int.append(schul_data['stir'].iloc[counter])\n",
    "    except:\n",
    "        pass"
   ]
  },
  {
   "cell_type": "code",
   "execution_count": 13,
   "metadata": {
    "collapsed": true
   },
   "outputs": [],
   "source": [
    "discount_rates = np.array(short_term_int) + 5.2 # Discount rate = short-term interest rate + discount rate as estimated by\n",
    "discount_rates = pd.Series(discount_rates).apply(div_by_hundred)"
   ]
  },
  {
   "cell_type": "code",
   "execution_count": 14,
   "metadata": {
    "collapsed": true
   },
   "outputs": [],
   "source": [
    "long_int = shiller_data['Rate GS10'].apply(div_by_hundred)\n",
    "current_index = 0\n",
    "final_index = len(shiller_data['Dividend'])\n",
    "discounted_cash_flows = shiller_data['Dividend'] / ((1 + long_int)**range(current_index, final_index))"
   ]
  },
  {
   "cell_type": "markdown",
   "metadata": {},
   "source": [
    "Calculate the fundamental value"
   ]
  },
  {
   "cell_type": "code",
   "execution_count": 15,
   "metadata": {
    "collapsed": true
   },
   "outputs": [],
   "source": [
    "fundamental_values = []\n",
    "for idx, cf in enumerate(shiller_data['Dividend'][:-18]):\n",
    "    next_period_divs = shiller_data['Dividend'][idx+1:]\n",
    "    next_period_ints = discount_rates[idx+1]\n",
    "    npv = calculate_npv(next_period_divs, next_period_ints)\n",
    "    if not np.isnan(npv):\n",
    "        fundamental_values.append(npv)\n",
    "    else:\n",
    "        break"
   ]
  },
  {
   "cell_type": "code",
   "execution_count": 16,
   "metadata": {
    "collapsed": true
   },
   "outputs": [],
   "source": [
    "real_prices = shiller_data['Price'][:len(fundamental_values)]"
   ]
  },
  {
   "cell_type": "markdown",
   "metadata": {},
   "source": [
    "Calculate co-integration of market price with fundamentals."
   ]
  },
  {
   "cell_type": "code",
   "execution_count": 17,
   "metadata": {
    "collapsed": true
   },
   "outputs": [],
   "source": [
    "def cointegr(fundament, price):\n",
    "    \"\"\"\n",
    "    Calculate cointegration with fundamentals\n",
    "    Return ADF test statistic, ADF critical values \n",
    "    \"\"\"\n",
    "    model = sm.OLS(fundament, price)\n",
    "    res = model.fit()\n",
    "    residuals = res.resid\n",
    "    cadf = ts.adfuller(residuals)\n",
    "    return cadf[0], cadf[4]"
   ]
  },
  {
   "cell_type": "code",
   "execution_count": 18,
   "metadata": {},
   "outputs": [
    {
     "data": {
      "text/plain": [
       "(-3.3959480557819557,\n",
       " {'1%': -3.4343955209592241,\n",
       "  '10%': -2.5677212878453477,\n",
       "  '5%': -2.8633268625511046})"
      ]
     },
     "execution_count": 18,
     "metadata": {},
     "output_type": "execute_result"
    }
   ],
   "source": [
    "cointegr(fundamental_values, real_prices)"
   ]
  },
  {
   "cell_type": "code",
   "execution_count": 19,
   "metadata": {
    "collapsed": true
   },
   "outputs": [],
   "source": [
    "model = sm.OLS(fundamental_values, shiller_data['Price'][:len(fundamental_values)])\n",
    "res = model.fit()\n",
    "residuals = res.resid"
   ]
  },
  {
   "cell_type": "code",
   "execution_count": 20,
   "metadata": {},
   "outputs": [
    {
     "name": "stdout",
     "output_type": "stream",
     "text": [
      "ADF test statistic  -3.39594805578\n",
      "ADF critical values {'10%': -2.5677212878453477, '5%': -2.8633268625511046, '1%': -3.4343955209592241}\n"
     ]
    }
   ],
   "source": [
    "cadf = ts.adfuller(residuals) # can be rejected at 5%\n",
    "print('ADF test statistic ', cadf[0])\n",
    "print('ADF critical values', cadf[4])"
   ]
  },
  {
   "cell_type": "code",
   "execution_count": 21,
   "metadata": {},
   "outputs": [
    {
     "data": {
      "text/plain": [
       "-3.2114422942213974"
      ]
     },
     "execution_count": 21,
     "metadata": {},
     "output_type": "execute_result"
    }
   ],
   "source": [
    "ts.adfuller(residuals[:800])[0]"
   ]
  },
  {
   "cell_type": "code",
   "execution_count": 22,
   "metadata": {},
   "outputs": [
    {
     "data": {
      "image/png": "[encoded data removed]",
      "text/plain": [
       "<matplotlib.figure.Figure at 0xb42e7b8>"
      ]
     },
     "metadata": {},
     "output_type": "display_data"
    }
   ],
   "source": [
    "fig, ax1 = plt.subplots(1, 1, figsize=(10,5))\n",
    "\n",
    "time=0\n",
    "\n",
    "ax1.plot(shiller_data['Date'][time:len(fundamental_values)], fundamental_values[time:], label='fundamental')\n",
    "ax1.plot(shiller_data['Date'][time:len(fundamental_values)], shiller_data['Price'][time:len(fundamental_values)], label='market')\n",
    "\n",
    "ax1.set_ylabel('Value', fontsize='14')\n",
    "ax1.set_xlabel('Year', fontsize='14')\n",
    "\n",
    "ax1.legend(fontsize='14', loc='best')\n",
    "fig.savefig('shiller_campbell_sp500.png')"
   ]
  },
  {
   "cell_type": "markdown",
   "metadata": {},
   "source": [
    "## 2 Bootstrap data in three blocks"
   ]
  },
  {
   "cell_type": "code",
   "execution_count": 119,
   "metadata": {},
   "outputs": [
    {
     "data": {
      "text/plain": [
       "4.0128"
      ]
     },
     "execution_count": 119,
     "metadata": {},
     "output_type": "execute_result"
    }
   ],
   "source": [
    "len(spy_nom_returns) / 625.0"
   ]
  },
  {
   "cell_type": "code",
   "execution_count": 120,
   "metadata": {
    "collapsed": true
   },
   "outputs": [],
   "source": [
    "small_block_size = 250 # 250\n",
    "large_block_size = 625 # 750\n",
    "shiller_block_size = 205"
   ]
  },
  {
   "cell_type": "markdown",
   "metadata": {},
   "source": [
    "**Small data blocks returns**\n",
    "For short term moments, I produce a bootstrapped series of 250 day (= 1 year) data blocks. This means that there are 25 unique blocks. "
   ]
  },
  {
   "cell_type": "code",
   "execution_count": 121,
   "metadata": {
    "collapsed": true
   },
   "outputs": [],
   "source": [
    "small_data_blocks = []\n",
    "for x in range(0, len(spy_nom_returns), small_block_size):\n",
    "    small_data_blocks.append(list(spy_nom_returns[x:x+small_block_size]))\n",
    "    \n",
    "# draw 5000 random series\n",
    "bootstrapped_small_series = []\n",
    "for i in range(5000):\n",
    "    sim_data = [random.choice(small_data_blocks) for _ in small_data_blocks]\n",
    "    sim_data2 = [j for i in sim_data for j in i]\n",
    "    bootstrapped_small_series.append(sim_data2)"
   ]
  },
  {
   "cell_type": "markdown",
   "metadata": {},
   "source": [
    "**Large data blocks returns**\n",
    "\n",
    "For the longer moments, I produce a bootstrapped series of data blocks of 750 days. To accomodate this, I cut the data set with 250 observations, to 6000 observations. "
   ]
  },
  {
   "cell_type": "code",
   "execution_count": 122,
   "metadata": {
    "collapsed": true
   },
   "outputs": [],
   "source": [
    "large_data_blocks = []\n",
    "for x in range(0, len(spy_nom_returns), large_block_size): # used to be len(spy_nom_returns[:-250])\n",
    "    large_data_blocks.append(list(spy_nom_returns[x:x+large_block_size]))\n",
    "    \n",
    "# draw 5000 random series\n",
    "bootstrapped_long_series = []\n",
    "for i in range(5000):\n",
    "    sim_data = [random.choice(large_data_blocks) for _ in large_data_blocks]\n",
    "    sim_data2 = [j for i in sim_data for j in i]\n",
    "    bootstrapped_long_series.append(sim_data2)"
   ]
  },
  {
   "cell_type": "markdown",
   "metadata": {},
   "source": [
    "**Fundamentals data blocks**\n",
    "\n",
    "For the deviation from fundamentals, I bootstrap the returns of both the fundamental value and the associated returns for market prices. I divided these into blocks. Then, I bootstrap these blocks of returns into new time series and apply them to the starting values of the fundamental value and real prices. This results in 5000 hypothetical time series of fundamentals and real prices. "
   ]
  },
  {
   "cell_type": "code",
   "execution_count": 123,
   "metadata": {
    "collapsed": true
   },
   "outputs": [],
   "source": [
    "# calculate returns for both\n",
    "fundamental_returns = pd.Series(fundamental_values).pct_change()[1:]\n",
    "real_prices_returns = pd.Series(real_prices).pct_change()[1:]"
   ]
  },
  {
   "cell_type": "code",
   "execution_count": 124,
   "metadata": {
    "collapsed": true
   },
   "outputs": [],
   "source": [
    "def hypothetical_series(starting_value, returns):\n",
    "    \"\"\"\n",
    "    input: starting_value: float starting value\n",
    "    input: returns: list \n",
    "    \"\"\"\n",
    "    returns = list(returns)\n",
    "    simulated_series = [starting_value]\n",
    "    for idx in range(len(returns)):\n",
    "        simulated_series.append(simulated_series[-1] * (1 + returns[idx]))\n",
    "    return simulated_series"
   ]
  },
  {
   "cell_type": "code",
   "execution_count": 125,
   "metadata": {
    "collapsed": true
   },
   "outputs": [],
   "source": [
    "# divide both fundamental returns and price returns into blocks\n",
    "shiller_data_blocks = []\n",
    "for x in range(0, len(fundamental_returns[:-3]), shiller_block_size):\n",
    "    shiller_data_blocks.append((list(fundamental_returns[x:x+shiller_block_size]), list(real_prices_returns[x:x+shiller_block_size])))"
   ]
  },
  {
   "cell_type": "code",
   "execution_count": 126,
   "metadata": {
    "collapsed": true
   },
   "outputs": [],
   "source": [
    "# draw 5000 random series \n",
    "bootstrapped_shiller_series = []\n",
    "for i in range(5000):\n",
    "    #print(i)\n",
    "    # first sample the data\n",
    "    sim_data = [random.choice(shiller_data_blocks) for _ in shiller_data_blocks] # choose a random set of blocks\n",
    "    sim_data_fundamental_returns = [pair[0] for pair in sim_data]\n",
    "    sim_data_price_returns = [pair[1] for pair in sim_data]\n",
    "    \n",
    "    # merge the list of lists\n",
    "    sim_data_fundamental_returns1 = [item for sublist in sim_data_fundamental_returns for item in sublist]\n",
    "    sim_data_price_returns1 = [item for sublist in sim_data_price_returns for item in sublist]\n",
    "    \n",
    "    # calculate the new time_series\n",
    "    sim_data_fundamentals = hypothetical_series(fundamental_values[0], sim_data_fundamental_returns1)\n",
    "    sim_data_prices = hypothetical_series(real_prices[0], sim_data_price_returns1)\n",
    "    \n",
    "    bootstrapped_shiller_series.append((sim_data_fundamentals, sim_data_prices))"
   ]
  },
  {
   "cell_type": "markdown",
   "metadata": {},
   "source": [
    "## 3 Choose moments\n",
    "\n",
    "For returns, I use the following moments **short-term moments**: \n",
    "\n",
    "1. mean first-order autocorrelation of the raw returns (no predictability),\n",
    "2. autocorrelations at lags t ¼ 1\n",
    "3. autocorrelations at lags t ¼ 5\n",
    "4. mean first-order autocorrelation of the of the absolute returns (volatility clustering),\n",
    "5. Kurtosis (fat tails), "
   ]
  },
  {
   "cell_type": "code",
   "execution_count": 127,
   "metadata": {
    "collapsed": true
   },
   "outputs": [],
   "source": [
    "first_order_autocors = []\n",
    "mean_abs_autocor = []\n",
    "autocors1 = []\n",
    "autocors5 = []\n",
    "kurtoses = []\n",
    "for rets in bootstrapped_small_series:\n",
    "    first_order_autocors.append(autocorrelation_returns(rets, 25))\n",
    "    mean_abs_autocor.append(autocorrelation_abs_returns(rets, 25))\n",
    "    rets = pd.Series(rets)\n",
    "    autocors1.append(rets.autocorr(lag=1))\n",
    "    autocors5.append(rets.autocorr(lag=5))\n",
    "    kurtoses.append(kurtosis(rets))"
   ]
  },
  {
   "cell_type": "markdown",
   "metadata": {},
   "source": [
    "For long-term moments, I use the autocorrelation of returns for the with lags (10, 25, 50, 100)."
   ]
  },
  {
   "cell_type": "code",
   "execution_count": 128,
   "metadata": {
    "collapsed": true
   },
   "outputs": [],
   "source": [
    "spy_abs_auto10 = []\n",
    "spy_abs_auto25 = []\n",
    "spy_abs_auto50 = []\n",
    "spy_abs_auto100 = []\n",
    "\n",
    "for rets in bootstrapped_long_series:\n",
    "    rets = pd.Series(rets)\n",
    "    spy_abs_auto10.append(rets.abs().autocorr(lag=10))\n",
    "    spy_abs_auto25.append(rets.abs().autocorr(lag=25))\n",
    "    spy_abs_auto50.append(rets.abs().autocorr(lag=50))\n",
    "    spy_abs_auto100.append(rets.abs().autocorr(lag=100))"
   ]
  },
  {
   "cell_type": "markdown",
   "metadata": {},
   "source": [
    "For deviations from fundamentals, I use the AFD t-score to test for mean-reversion in the relationship between fundamentals and the price."
   ]
  },
  {
   "cell_type": "code",
   "execution_count": 129,
   "metadata": {
    "collapsed": true
   },
   "outputs": [],
   "source": [
    "cointegrations = []\n",
    "\n",
    "for sers in bootstrapped_shiller_series:\n",
    "    cointegrations.append(cointegr(sers[0], sers[1])[0])"
   ]
  },
  {
   "cell_type": "markdown",
   "metadata": {},
   "source": [
    "## 4 Plot moments"
   ]
  },
  {
   "cell_type": "code",
   "execution_count": 130,
   "metadata": {
    "collapsed": true
   },
   "outputs": [],
   "source": [
    "# Get the t-critical value*\n",
    "def confidence_interval(sample, emp_value):\n",
    "    \"\"\"Calculate confidence_interval in sample\"\"\"\n",
    "    z_critical = stats.norm.ppf(q = 0.99)\n",
    "    stdev = pd.Series(sample).std()\n",
    "    margin_of_error = z_critical * stdev\n",
    "    confidence_interval = (emp_value - margin_of_error, emp_value + margin_of_error)  \n",
    "    return confidence_interval"
   ]
  },
  {
   "cell_type": "code",
   "execution_count": 131,
   "metadata": {},
   "outputs": [
    {
     "data": {
      "image/png": "[encoded data removed]",
      "text/plain": [
       "<Figure size 960x1440 with 10 Axes>"
      ]
     },
     "metadata": {},
     "output_type": "display_data"
    }
   ],
   "source": [
    "fig, ((ax1, ax2), (ax3, ax4) , (ax5, ax6) , (ax7, ax8), (ax9, ax10)) = plt.subplots(5, 2, figsize=(12,18))\n",
    "\n",
    "# 1 mean autocor\n",
    "sns.distplot(first_order_autocors, hist=False, kde=True, \n",
    "             bins=int(180/5), color = 'black', \n",
    "             hist_kws={'edgecolor':'black'},\n",
    "             kde_kws={'linewidth': 2}, ax=ax1)\n",
    "\n",
    "for xc in confidence_interval(first_order_autocors, autocorrelation_returns(spy_nom_returns, 25)):\n",
    "    ax1.axvline(x=xc, color='k', linestyle ='dashed', alpha=0.5)\n",
    "    \n",
    "ax1.axvline(x=np.mean(first_order_autocors), color='k', alpha=0.5)\n",
    "ax1.axvline(x=autocorrelation_returns(spy_nom_returns, 25))\n",
    "\n",
    "ax1.set_ylabel('obs')\n",
    "ax1.set_title('Average autocorrelation')\n",
    "\n",
    "# 2 autocorr lag 1 \n",
    "sns.distplot(autocors1, hist=False, kde=True, \n",
    "             bins=int(180/5), color = 'black', \n",
    "             hist_kws={'edgecolor':'black'},\n",
    "             kde_kws={'linewidth': 2}, ax=ax2)\n",
    "ax2.set_title('Autocorrelation lag=1')\n",
    "\n",
    "for xc in confidence_interval(autocors1, spy_nom_returns.autocorr(lag=1)):\n",
    "    ax2.axvline(x=xc, color='k', linestyle ='dashed', alpha=0.5)\n",
    "    \n",
    "ax2.axvline(x=np.mean(autocors1), color='k', alpha=0.5)\n",
    "ax2.axvline(x=spy_nom_returns.autocorr(lag=1))\n",
    "\n",
    "# 3 autocorr lag 1 \n",
    "sns.distplot(autocors5, hist=False, kde=True, \n",
    "             bins=int(180/5), color = 'black', \n",
    "             hist_kws={'edgecolor':'black'},\n",
    "             kde_kws={'linewidth': 2}, ax=ax3)\n",
    "ax3.set_title('Autocorrelation lag=5')\n",
    "\n",
    "for xc in confidence_interval(autocors5, spy_nom_returns.autocorr(lag=5)):\n",
    "    ax3.axvline(x=xc, color='k', linestyle ='dashed', alpha=0.5)\n",
    "    \n",
    "ax3.axvline(x=np.mean(autocors5), color='k', alpha=0.5)\n",
    "ax3.axvline(x=spy_nom_returns.autocorr(lag=5))\n",
    "\n",
    "# 4 mean abs autocor\n",
    "sns.distplot(mean_abs_autocor, hist=False, kde=True, \n",
    "             bins=int(180/5), color = 'black', \n",
    "             hist_kws={'edgecolor':'black'},\n",
    "             kde_kws={'linewidth': 2}, ax=ax4)\n",
    "\n",
    "for xc in confidence_interval(mean_abs_autocor, autocorrelation_abs_returns(spy_nom_returns, 25)):\n",
    "    ax4.axvline(x=xc, color='k', linestyle ='dashed', alpha=0.5)\n",
    "    \n",
    "ax4.axvline(x=np.mean(mean_abs_autocor), color='k', alpha=0.5)\n",
    "ax4.axvline(x=autocorrelation_abs_returns(spy_nom_returns, 25))\n",
    "\n",
    "ax4.set_title('Average Autocorrelation abs')\n",
    "\n",
    "# 5 kurtosis\n",
    "sns.distplot(kurtoses, hist=False, kde=True, \n",
    "             bins=int(180/5), color = 'black', \n",
    "             hist_kws={'edgecolor':'black'},\n",
    "             kde_kws={'linewidth': 2}, ax=ax5)\n",
    "\n",
    "for xc in confidence_interval(kurtoses, kurtosis(spy_nom_returns)):\n",
    "    ax5.axvline(x=xc, color='k', linestyle ='dashed', alpha=0.5)\n",
    "    \n",
    "ax5.axvline(x=np.mean(kurtoses), color='k', alpha=0.5)\n",
    "ax5.axvline(x=kurtosis(spy_nom_returns))\n",
    "\n",
    "ax5.set_title('Kurtosis')\n",
    "\n",
    "# 6 AC abs long 10\n",
    "sns.distplot(spy_abs_auto10, hist=False, kde=True, \n",
    "             bins=int(180/5), color = 'black', \n",
    "             hist_kws={'edgecolor':'black'},\n",
    "             kde_kws={'linewidth': 2}, ax=ax6)\n",
    "\n",
    "for xc in confidence_interval(spy_abs_auto10, spy_nom_returns.abs().autocorr(lag=10)):\n",
    "    ax6.axvline(x=xc, color='k', linestyle ='dashed', alpha=0.5)\n",
    "    \n",
    "ax6.axvline(x=np.mean(spy_abs_auto10), color='k', alpha=0.5)\n",
    "ax6.axvline(x=spy_nom_returns.abs().autocorr(lag=10))\n",
    "\n",
    "ax6.set_title('spy_abs_auto10')\n",
    "\n",
    "# 7 AC abs long 25\n",
    "sns.distplot(spy_abs_auto25, hist=False, kde=True, color = 'black', \n",
    "             hist_kws={'edgecolor':'black'},\n",
    "             kde_kws={'linewidth': 2}, ax=ax7)\n",
    "\n",
    "for xc in confidence_interval(spy_abs_auto25, spy_nom_returns.abs().autocorr(lag=25)):\n",
    "    ax7.axvline(x=xc, color='k', linestyle ='dashed', alpha=0.5)\n",
    "    \n",
    "ax7.axvline(x=np.mean(spy_abs_auto25), color='k', alpha=0.5)\n",
    "ax7.axvline(x=spy_nom_returns.abs().autocorr(lag=25))\n",
    "\n",
    "ax7.set_title('spy_abs_auto25')\n",
    "\n",
    "# 8 AC abs long 50\n",
    "sns.distplot(spy_abs_auto50, hist=False, kde=True, \n",
    "             bins=int(180/5), color = 'black', \n",
    "             hist_kws={'edgecolor':'black'},\n",
    "             kde_kws={'linewidth': 2}, ax=ax8)\n",
    "\n",
    "for xc in confidence_interval(spy_abs_auto50, spy_nom_returns.abs().autocorr(lag=50)):\n",
    "    ax8.axvline(x=xc, color='k', linestyle ='dashed', alpha=0.5)\n",
    "    \n",
    "ax8.axvline(x=np.mean(spy_abs_auto50), color='k', alpha=0.5)\n",
    "ax8.axvline(x=spy_nom_returns.abs().autocorr(lag=50))\n",
    "\n",
    "ax8.set_title('spy_abs_auto50')\n",
    "\n",
    "# 9 AC abs long 100\n",
    "sns.distplot(spy_abs_auto100, hist=False, kde=True, color = 'black', \n",
    "             hist_kws={'edgecolor':'black'},\n",
    "             kde_kws={'linewidth': 2}, ax=ax9)\n",
    "\n",
    "for xc in confidence_interval(spy_abs_auto100, spy_nom_returns.abs().autocorr(lag=100)):\n",
    "    ax9.axvline(x=xc, color='k', linestyle ='dashed', alpha=0.5)\n",
    "    \n",
    "ax9.axvline(x=np.mean(spy_abs_auto100), color='k', alpha=0.5)\n",
    "ax9.axvline(x=spy_nom_returns.abs().autocorr(lag=100))\n",
    "\n",
    "ax9.set_title('spy_abs_auto100')\n",
    "\n",
    "# 10 Deviation from fundamentals\n",
    "sns.distplot(cointegrations, hist=False, kde=True, color = 'black', \n",
    "             hist_kws={'edgecolor':'black'},\n",
    "             kde_kws={'linewidth': 2}, ax=ax10)\n",
    "\n",
    "for xc in confidence_interval(cointegrations, cointegr(fundamental_values, real_prices)[0]):\n",
    "    ax10.axvline(x=xc, color='k', linestyle ='dashed', alpha=0.5)\n",
    "    \n",
    "ax10.axvline(x=np.mean(cointegrations), color='k', alpha=0.5)\n",
    "ax10.axvline(x=cointegr(fundamental_values, real_prices)[0])\n",
    "\n",
    "ax10.set_title('Cointegration prices & fundamentals')\n",
    "\n",
    "fig.savefig('moments.png')"
   ]
  },
  {
   "cell_type": "markdown",
   "metadata": {},
   "source": [
    "## 5 Estimate weighting matrix:\n",
    "\n",
    "Here, I follow [Franke & Westerhoff 2016](https://link.springer.com/article/10.1007/s11403-014-0140-6#Sec8) in that I use the inverse of the bootstrap estimate of the moment covariance matrix as my weights."
   ]
  },
  {
   "cell_type": "code",
   "execution_count": 132,
   "metadata": {
    "collapsed": true
   },
   "outputs": [],
   "source": [
    "emp_moments = np.array([\n",
    "        autocorrelation_returns(spy_nom_returns, 25),\n",
    "        spy_nom_returns.autocorr(lag=1),\n",
    "        spy_nom_returns.autocorr(lag=5),\n",
    "        autocorrelation_abs_returns(spy_nom_returns, 25),\n",
    "        kurtosis(spy_nom_returns),\n",
    "        spy_nom_returns.abs().autocorr(lag=10),\n",
    "        spy_nom_returns.abs().autocorr(lag=25),\n",
    "        spy_nom_returns.abs().autocorr(lag=50),\n",
    "        spy_nom_returns.abs().autocorr(lag=100),\n",
    "        cointegr(fundamental_values, real_prices)[0]\n",
    "    ])"
   ]
  },
  {
   "cell_type": "code",
   "execution_count": 133,
   "metadata": {},
   "outputs": [
    {
     "data": {
      "text/plain": [
       "array([ -9.30779653e-03,  -9.67183591e-02,  -5.82127566e-02,\n",
       "         3.33043601e-01,   1.23406758e+01,   3.46105323e-01,\n",
       "         2.65993289e-01,   1.87197386e-01,   1.76927495e-01,\n",
       "        -3.39594806e+00])"
      ]
     },
     "execution_count": 133,
     "metadata": {},
     "output_type": "execute_result"
    }
   ],
   "source": [
    "emp_moments"
   ]
  },
  {
   "cell_type": "code",
   "execution_count": 161,
   "metadata": {
    "collapsed": true
   },
   "outputs": [],
   "source": [
    "spy_abs_auto50 = list(pd.Series(spy_abs_auto50).fillna(0))\n",
    "spy_abs_auto100 = list(pd.Series(spy_abs_auto100).fillna(0))"
   ]
  },
  {
   "cell_type": "code",
   "execution_count": 162,
   "metadata": {
    "collapsed": true
   },
   "outputs": [],
   "source": [
    "all_bootstrapped_moments = [first_order_autocors,\n",
    "                            autocors1,\n",
    "                            autocors5,\n",
    "                            mean_abs_autocor,\n",
    "                            kurtoses,\n",
    "                            spy_abs_auto10,\n",
    "                            spy_abs_auto25,\n",
    "                            spy_abs_auto50,\n",
    "                            spy_abs_auto100,\n",
    "                            cointegrations\n",
    "                           ]"
   ]
  },
  {
   "cell_type": "code",
   "execution_count": 163,
   "metadata": {
    "collapsed": true
   },
   "outputs": [],
   "source": [
    "# export conrfidence intervals of bootstrapped data\n",
    "with open('all_bootstrapped_moments.json', 'w') as fp:\n",
    "    json.dump(all_bootstrapped_moments, fp)"
   ]
  },
  {
   "cell_type": "code",
   "execution_count": 164,
   "metadata": {
    "collapsed": true
   },
   "outputs": [],
   "source": [
    "av_moments = [np.mean(x) for x in all_bootstrapped_moments]"
   ]
  },
  {
   "cell_type": "code",
   "execution_count": 165,
   "metadata": {
    "collapsed": true
   },
   "outputs": [],
   "source": [
    "def get_specific_bootstraps_moments(full_series, bootstrap_number):\n",
    "    \"\"\"Get a vector with the moments of a specific bootstrap\"\"\"\n",
    "    return np.array([full_series[i][bootstrap_number] for i in range(len(full_series))])"
   ]
  },
  {
   "cell_type": "code",
   "execution_count": 166,
   "metadata": {
    "collapsed": true
   },
   "outputs": [],
   "source": [
    "moments_b = [get_specific_bootstraps_moments(all_bootstrapped_moments, n) for n in range(len(bootstrapped_long_series))]"
   ]
  },
  {
   "cell_type": "markdown",
   "metadata": {},
   "source": [
    "Then, I estimate the moment covariance matrix of the bootstrapped data as: \n",
    "\n",
    "$\\hat{W} = \\frac{1}{B} \\sum{(m^b - \\hat{m})(m^b - \\hat{m})'}$"
   ]
  },
  {
   "cell_type": "code",
   "execution_count": 167,
   "metadata": {
    "collapsed": true
   },
   "outputs": [],
   "source": [
    "W_hat = 1.0 / len(bootstrapped_long_series) * sum([np.dot(np.array([(mb - av_moments)]).transpose(), np.array([(mb - av_moments)])) for mb in moments_b])"
   ]
  },
  {
   "cell_type": "markdown",
   "metadata": {},
   "source": [
    "And take the inverse so that \n",
    "\n",
    "$W = \\hat{W}^{-1}$"
   ]
  },
  {
   "cell_type": "code",
   "execution_count": 168,
   "metadata": {
    "collapsed": true
   },
   "outputs": [],
   "source": [
    "W = np.linalg.inv(W_hat)"
   ]
  },
  {
   "cell_type": "code",
   "execution_count": 169,
   "metadata": {},
   "outputs": [
    {
     "data": {
      "text/plain": [
       "array([[  2.56620727e+05,   1.19291564e+04,  -5.62679180e+03,\n",
       "          6.54975239e+03,  -3.91198702e+01,  -2.66832323e+02,\n",
       "         -7.34011427e+01,   1.19887987e+03,  -9.72133289e+02,\n",
       "         -1.26176761e+00],\n",
       "       [  1.19291564e+04,   3.18748783e+03,  -2.02082808e+03,\n",
       "          8.92371759e+02,   5.04256318e+00,  -2.22572583e+01,\n",
       "         -2.23540578e+01,   1.26016648e+02,  -1.04919132e+02,\n",
       "         -3.27170161e-01],\n",
       "       [ -5.62679180e+03,  -2.02082808e+03,   4.14247418e+03,\n",
       "         -9.75387005e+02,   1.63364168e+00,   1.75657398e+02,\n",
       "         -1.27049520e+02,  -1.54358185e+02,   1.27033661e+02,\n",
       "          7.77295212e-01],\n",
       "       [  6.54975239e+03,   8.92371759e+02,  -9.75387005e+02,\n",
       "          7.01106322e+02,  -6.68191933e+00,  -4.89145175e+01,\n",
       "          2.42089101e+01,   8.44110668e+01,  -6.30400736e+01,\n",
       "         -5.46213383e-01],\n",
       "       [ -3.91198702e+01,   5.04256318e+00,   1.63364168e+00,\n",
       "         -6.68191933e+00,   2.17467347e-01,   6.14418120e-01,\n",
       "         -5.17791244e-01,  -5.99843596e-01,   3.22040991e-01,\n",
       "          9.44261640e-03],\n",
       "       [ -2.66832323e+02,  -2.22572583e+01,   1.75657398e+02,\n",
       "         -4.89145175e+01,   6.14418120e-01,   5.35391681e+03,\n",
       "         -4.46935802e+03,  -2.12109831e+03,   1.64439328e+03,\n",
       "         -1.50757586e+00],\n",
       "       [ -7.34011427e+01,  -2.23540578e+01,  -1.27049520e+02,\n",
       "          2.42089101e+01,  -5.17791244e-01,  -4.46935802e+03,\n",
       "          5.26752917e+03,  -8.65464725e+02,  -5.46809805e+02,\n",
       "          1.66343448e+00],\n",
       "       [  1.19887987e+03,   1.26016648e+02,  -1.54358185e+02,\n",
       "          8.44110668e+01,  -5.99843596e-01,  -2.12109831e+03,\n",
       "         -8.65464725e+02,   7.54227262e+03,  -4.31512109e+03,\n",
       "          1.84712026e-01],\n",
       "       [ -9.72133289e+02,  -1.04919132e+02,   1.27033661e+02,\n",
       "         -6.30400736e+01,   3.22040991e-01,   1.64439328e+03,\n",
       "         -5.46809805e+02,  -4.31512109e+03,   3.63966728e+03,\n",
       "         -5.22592985e-01],\n",
       "       [ -1.26176761e+00,  -3.27170161e-01,   7.77295212e-01,\n",
       "         -5.46213383e-01,   9.44261640e-03,  -1.50757586e+00,\n",
       "          1.66343448e+00,   1.84712026e-01,  -5.22592985e-01,\n",
       "          3.97343932e-01]])"
      ]
     },
     "execution_count": 169,
     "metadata": {},
     "output_type": "execute_result"
    }
   ],
   "source": [
    "W"
   ]
  },
  {
   "cell_type": "markdown",
   "metadata": {},
   "source": [
    "The confidence intervals are: "
   ]
  },
  {
   "cell_type": "code",
   "execution_count": 171,
   "metadata": {
    "collapsed": true
   },
   "outputs": [],
   "source": [
    "confidence_intervals = [confidence_interval(m, emp) for m, emp in zip(all_bootstrapped_moments, emp_moments)]"
   ]
  },
  {
   "cell_type": "code",
   "execution_count": 172,
   "metadata": {
    "collapsed": true
   },
   "outputs": [],
   "source": [
    "# export conrfidence intervals of bootstrapped data\n",
    "with open('bootstrapped_confidence_intervals.json', 'w') as fp:\n",
    "    json.dump(confidence_intervals, fp)"
   ]
  },
  {
   "cell_type": "markdown",
   "metadata": {},
   "source": [
    "Then, I apply the cost function to the bootstrapped series to get a distribution of J-values"
   ]
  },
  {
   "cell_type": "code",
   "execution_count": 173,
   "metadata": {
    "collapsed": true
   },
   "outputs": [],
   "source": [
    "j_values = []\n",
    "for b in moments_b:\n",
    "    j_values.append(quadratic_loss_function(b, emp_moments, W))"
   ]
  },
  {
   "cell_type": "code",
   "execution_count": 174,
   "metadata": {
    "collapsed": true
   },
   "outputs": [],
   "source": [
    "# export J-values of bootstrapped data\n",
    "with open('bootstrapped_j_values.json', 'w') as fp:\n",
    "    json.dump(j_values, fp)"
   ]
  },
  {
   "cell_type": "markdown",
   "metadata": {},
   "source": [
    "## 6 Estimate model\n",
    "\n",
    "To estimate the model parameters, I employ the traditional approach for the method of simulated moments by minimizing the quadtratic loss function: \n",
    "\n",
    "$J = J(m) = (m^{sim} - m^{emp})' W (m^{sim} - m^{emp}) $\n",
    "\n",
    "The first term is the transpose of the difference between simulated and actual moments. The seond term is the weighting matrix. The third term is the difference between simulated and empirical moments. \n",
    "\n",
    "\n",
    "To reduce the sample variability in the stochastic simulations, I choose a time horizon (following [Franke & Westerhoff (2012)](https://www.sciencedirect.com/science/article/pii/S0165188912000802)) of 10 times the empirical time series. In this case the longest time series. "
   ]
  },
  {
   "cell_type": "code",
   "execution_count": 213,
   "metadata": {},
   "outputs": [
    {
     "data": {
      "text/plain": [
       "2500"
      ]
     },
     "execution_count": 213,
     "metadata": {},
     "output_type": "execute_result"
    }
   ],
   "source": [
    "len(spy_nom_returns)"
   ]
  },
  {
   "cell_type": "code",
   "execution_count": 214,
   "metadata": {},
   "outputs": [
    {
     "data": {
      "text/plain": [
       "25000"
      ]
     },
     "execution_count": 214,
     "metadata": {},
     "output_type": "execute_result"
    }
   ],
   "source": [
    "simulation_time = max(len(spy_nom_returns), len(fundamental_values)) * 10\n",
    "simulation_time"
   ]
  },
  {
   "cell_type": "markdown",
   "metadata": {},
   "source": [
    "### 6.1 Set parameter bounds\n",
    "\n",
    "Table 1 shows the parameter bounds, uncertain parameters are **bold**. \n",
    "\n",
    "| Parameter | Values (start, stop, step) |\n",
    "| -------------| ------------|\n",
    "| ticks       | 1000   |\n",
    "| n_traders       | 1000      |\n",
    "| n_traders       | 1000      |\n",
    "| max_order_expiration_ticks       | 30      |\n",
    "| fundamental_value       | 166    |\n",
    "| std_fundamental       | 0.053    |\n",
    "| spread_max       | 0.0004      |\n",
    "| **trader_sample_size **      | 1, 100, 10      |\n",
    "| **std_noise**       | 0.01, 0.35, 0.01      |\n",
    "| **std_vol**       | 1, 50, 1      |\n",
    "| **w_fundamentalists**       | 0.0, 100.0., 1.0      |\n",
    "| **w_momentum**       | 0.0, 100.0, 1.0      |\n",
    "| **w_random**       | 0.0, 100.0, 1.0      |\n",
    "| **w_mean_reversion**       | 0.0, 100.0, 1.0       |\n",
    "| **horizon_max**       | 9, 30, 1      |\n",
    "*Table 1 Parameter bounds*"
   ]
  },
  {
   "cell_type": "code",
   "execution_count": 215,
   "metadata": {
    "collapsed": true
   },
   "outputs": [],
   "source": [
    "problem = {\n",
    "  'num_vars': 8,\n",
    "  'names': ['trader_sample_size', 'std_noise', \n",
    "            'std_vol', 'w_fundamentalists', 'w_momentum',\n",
    "           'w_random', 'w_mean_reversion',\n",
    "           'horizon_max'],\n",
    "  'bounds': [[1, 30], [0.05, 0.30], \n",
    "             [1, 20], [0.0, 100.0], [0.0, 100.0], \n",
    "             [1.0, 100.0], [0.0, 100.0],\n",
    "             [9, 30]]\n",
    "}"
   ]
  },
  {
   "cell_type": "markdown",
   "metadata": {},
   "source": [
    "### 6.2 Sample parameter space\n",
    "For the initial population of parameters, I use a Latin Hypercube procedure to sample the parameter space."
   ]
  },
  {
   "cell_type": "code",
   "execution_count": 216,
   "metadata": {
    "collapsed": true
   },
   "outputs": [],
   "source": [
    "population_size = 100"
   ]
  },
  {
   "cell_type": "code",
   "execution_count": 217,
   "metadata": {
    "collapsed": true
   },
   "outputs": [],
   "source": [
    "latin_hyper_cube = latin.sample(problem=problem, N=population_size)\n",
    "latin_hyper_cube = latin_hyper_cube.tolist()"
   ]
  },
  {
   "cell_type": "markdown",
   "metadata": {},
   "source": [
    "Transform some of the parameters to integers:"
   ]
  },
  {
   "cell_type": "code",
   "execution_count": 218,
   "metadata": {
    "collapsed": true
   },
   "outputs": [],
   "source": [
    "for idx, parameters in enumerate(latin_hyper_cube):\n",
    "    # ints: 0, 2, 7\n",
    "    latin_hyper_cube[idx][0] = int(latin_hyper_cube[idx][0])\n",
    "    latin_hyper_cube[idx][2] = int(latin_hyper_cube[idx][2])\n",
    "    latin_hyper_cube[idx][7] = int(latin_hyper_cube[idx][7])"
   ]
  },
  {
   "cell_type": "markdown",
   "metadata": {},
   "source": [
    "### 6.3 Creat initial population for evolutionary algorithm"
   ]
  },
  {
   "cell_type": "code",
   "execution_count": 219,
   "metadata": {
    "collapsed": true
   },
   "outputs": [],
   "source": [
    "population = []\n",
    "for parameters in latin_hyper_cube:\n",
    "    pars = {}\n",
    "    for key, value in zip(problem['names'], parameters):\n",
    "        pars[key] = value\n",
    "    population.append(Individual(pars, [], np.inf))\n",
    "all_populations = [population]\n",
    "av_pop_fitness = []"
   ]
  },
  {
   "cell_type": "markdown",
   "metadata": {},
   "source": [
    "### 6.4 Determine fixed parameters"
   ]
  },
  {
   "cell_type": "code",
   "execution_count": 220,
   "metadata": {
    "collapsed": true
   },
   "outputs": [],
   "source": [
    "start_fundamental_value = int(np.mean(fundamental_values))\n",
    "std_fundamental_value = np.std(pd.Series(fundamental_values).pct_change())\n",
    "burn_in_period = 100 \n",
    "ticks = simulation_time"
   ]
  },
  {
   "cell_type": "code",
   "execution_count": 221,
   "metadata": {},
   "outputs": [
    {
     "name": "stdout",
     "output_type": "stream",
     "text": [
      "('start_fundamental_value: ', 166)\n",
      "('std_fundamental_value: ', 0.0530163128919286)\n"
     ]
    }
   ],
   "source": [
    "print('start_fundamental_value: ', start_fundamental_value)\n",
    "print('std_fundamental_value: ', std_fundamental_value)"
   ]
  },
  {
   "cell_type": "code",
   "execution_count": 60,
   "metadata": {
    "collapsed": true
   },
   "outputs": [],
   "source": [
    "fixed_parameters = {\"ticks\": 1000, \"fundamental_value\": start_fundamental_value,\n",
    "                    'n_traders': 1000, 'std_fundamental': std_fundamental_value, 'spread_max': 0.004087, \n",
    "                    'max_order_expiration_ticks': 30}\n",
    "iterations = 10\n",
    "NRUNS = 2"
   ]
  },
  {
   "cell_type": "markdown",
   "metadata": {},
   "source": [
    "### 6.5 Optimization via evolutionary algorithm"
   ]
  },
  {
   "cell_type": "code",
   "execution_count": 50,
   "metadata": {},
   "outputs": [
    {
     "data": {
      "text/plain": [
       "62500"
      ]
     },
     "execution_count": 50,
     "metadata": {},
     "output_type": "execute_result"
    }
   ],
   "source": [
    "ticks"
   ]
  },
  {
   "cell_type": "code",
   "execution_count": 74,
   "metadata": {},
   "outputs": [
    {
     "name": "stdout",
     "output_type": "stream",
     "text": [
      "generation:  0 fitness:  inf\n",
      "generation:  1 fitness:  inf\n",
      "generation:  2 fitness:  inf\n",
      "generation:  3 fitness:  inf\n",
      "generation:  4 fitness:  inf\n",
      "generation:  5 fitness:  inf\n",
      "generation:  6 fitness:  inf\n",
      "generation:  7 fitness:  inf\n",
      "generation:  8 fitness:  inf\n",
      "generation:  9 fitness:  inf\n"
     ]
    },
    {
     "name": "stderr",
     "output_type": "stream",
     "text": [
      "C:\\Users\\p267237\\Documents\\GitHub\\sim-fin-abm\\simfinmodel.py:22: RuntimeWarning: invalid value encountered in log\n",
      "  fundamental_component = np.log(fundamental[-1] / mid_price)\n"
     ]
    }
   ],
   "source": [
    "for generation in range(iterations):\n",
    "    # simulate every population\n",
    "    simulated_population, fitness = simulate_population_msm(all_populations[generation], NRUNS, \n",
    "                                                            fixed_parameters, emp_moments, W)\n",
    "    # record population fitness\n",
    "    av_pop_fitness.append(fitness)\n",
    "    print('generation: ', generation, 'fitness: ', fitness)\n",
    "    # add a new, evolved population to the list of populations\n",
    "    all_populations.append(evolve_population(simulated_population, fittest_to_retain=0.3, random_to_retain=0.2, \n",
    "                                             parents_to_mutate=0.3, parameters_to_mutate=0.1, problem=problem))"
   ]
  },
  {
   "cell_type": "markdown",
   "metadata": {},
   "source": [
    "## 7 Extract estimated parameters"
   ]
  },
  {
   "cell_type": "code",
   "execution_count": 77,
   "metadata": {},
   "outputs": [
    {
     "data": {
      "text/plain": [
       "{'fundamental_value': 166,\n",
       " 'horizon_max': 26,\n",
       " 'horizon_min': 4,\n",
       " 'max_order_expiration_ticks': 30,\n",
       " 'n_traders': 1000,\n",
       " 'spread_max': 0.085,\n",
       " 'std_fundamental': 75.095292914798279,\n",
       " 'std_noise': 0.22288355857120595,\n",
       " 'std_vol': 15,\n",
       " 'ticks': 1000,\n",
       " 'trader_sample_size': 13,\n",
       " 'w_buy_hold': 0.0,\n",
       " 'w_fundamentalists': 0.3462431169548886,\n",
       " 'w_mean_reversion': 51.91903909974683,\n",
       " 'w_momentum': 93.36914240676776,\n",
       " 'w_random': 40.29170063409717}"
      ]
     },
     "execution_count": 77,
     "metadata": {},
     "output_type": "execute_result"
    }
   ],
   "source": [
    "parameters = all_populations[-1][0].parameters.copy()\n",
    "params = fixed_parameters.copy()\n",
    "params.update(parameters)\n",
    "params"
   ]
  },
  {
   "cell_type": "code",
   "execution_count": 81,
   "metadata": {
    "collapsed": true
   },
   "outputs": [],
   "source": [
    "with open('estimated_parameters.json', 'w') as fp:\n",
    "    json.dump(params, fp, sort_keys=True, indent=4)"
   ]
  },
  {
   "cell_type": "markdown",
   "metadata": {},
   "source": [
    "## Best stylized facts compared to actual stylized facts"
   ]
  },
  {
   "cell_type": "code",
   "execution_count": 79,
   "metadata": {},
   "outputs": [
    {
     "name": "stdout",
     "output_type": "stream",
     "text": [
      "simulation:\n",
      "[ -1.78448880e-02  -1.30219561e-01   1.62535933e-02   8.47394797e-02\n",
      "   9.88039218e+00   7.33208104e-02   7.19942715e-02   3.15658113e-02\n",
      "   8.12587763e-03  -2.08421970e+00]\n",
      "s&p500:\n",
      "[ -8.31204465e-03  -6.37216343e-02  -4.00930616e-02   2.60637329e-01\n",
      "   1.12024156e+01   2.86882774e-01   2.12984694e-01   1.68871832e-01\n",
      "   1.33350570e-01  -3.39594806e+00]\n"
     ]
    }
   ],
   "source": [
    "print('simulation:')\n",
    "print(all_populations[-1][0].stylized_facts)\n",
    "print('s&p500:')\n",
    "print(emp_moments)"
   ]
  },
  {
   "cell_type": "markdown",
   "metadata": {},
   "source": [
    "## 8 Estimate non-mean reversion model for comparison"
   ]
  },
  {
   "cell_type": "code",
   "execution_count": 82,
   "metadata": {
    "collapsed": true
   },
   "outputs": [],
   "source": [
    "problem_no_mean_reversion = {\n",
    "  'num_vars': 7,\n",
    "  'names': ['trader_sample_size', 'std_noise',\n",
    "            'std_vol', 'w_fundamentalists', 'w_momentum',\n",
    "           'w_random', 'horizon_max'],\n",
    "  'bounds': [[1, 30], [0.05, 0.30],\n",
    "             [1, 20], [0.0, 100.0], [0.0, 100.0],\n",
    "             [1.0, 100.0], [9, 30]]\n",
    "}"
   ]
  },
  {
   "cell_type": "code",
   "execution_count": 84,
   "metadata": {
    "collapsed": true
   },
   "outputs": [],
   "source": [
    "hyper_cube_no_mean_reversion = latin.sample(problem=problem_no_mean_reversion, N=population_size)\n",
    "hyper_cube_no_mean_reversion = hyper_cube_no_mean_reversion.tolist()"
   ]
  },
  {
   "cell_type": "code",
   "execution_count": 85,
   "metadata": {
    "collapsed": true
   },
   "outputs": [],
   "source": [
    "for idx, parameters in enumerate(hyper_cube_no_mean_reversion):\n",
    "    # ints: 0, 2, 6, 7\n",
    "    hyper_cube_no_mean_reversion[idx][0] = int(hyper_cube_no_mean_reversion[idx][0])\n",
    "    hyper_cube_no_mean_reversion[idx][2] = int(hyper_cube_no_mean_reversion[idx][2])\n",
    "    hyper_cube_no_mean_reversion[idx][6] = int(hyper_cube_no_mean_reversion[idx][6])"
   ]
  },
  {
   "cell_type": "code",
   "execution_count": 86,
   "metadata": {
    "collapsed": true
   },
   "outputs": [],
   "source": [
    "# create initial population model no-mean reversion\n",
    "population_no_mean_reversion = []\n",
    "for parameters in hyper_cube_no_mean_reversion:\n",
    "    pars = {}\n",
    "    for key, value in zip(problem_no_mean_reversion['names'], parameters):\n",
    "        pars[key] = value\n",
    "    population_no_mean_reversion.append(Individual(pars, [], np.inf))\n",
    "all_populations_no_mean_reversion = [population_no_mean_reversion]\n",
    "av_pop_fitness_no_mean_reversion = []"
   ]
  },
  {
   "cell_type": "code",
   "execution_count": 87,
   "metadata": {
    "collapsed": true
   },
   "outputs": [],
   "source": [
    "fixed_parameters_no_mean_reversion = {\"ticks\": 1000, \"fundamental_value\": start_fundamental_value, \n",
    "                                      'n_traders': 1000, 'std_fundamental': std_fundamental_value, 'spread_max': 0.004087, \n",
    "                                      \"w_mean_reversion\": 0.0, 'max_order_expiration_ticks': 30}"
   ]
  },
  {
   "cell_type": "code",
   "execution_count": 89,
   "metadata": {},
   "outputs": [
    {
     "name": "stdout",
     "output_type": "stream",
     "text": [
      "generation:  0 fitness:  inf\n",
      "generation:  1 fitness:  inf\n",
      "generation:  2 fitness:  inf\n",
      "generation:  3 fitness:  3288.19644757\n",
      "generation:  4 fitness:  2187.09706437\n",
      "generation:  5 fitness:  1941.00598128\n",
      "generation:  6 fitness:  1197.3806789\n",
      "generation:  7 fitness:  953.800820234\n",
      "generation:  8 fitness:  885.032999865\n",
      "generation:  9 fitness:  609.320650424\n"
     ]
    },
    {
     "name": "stderr",
     "output_type": "stream",
     "text": [
      "C:\\Users\\p267237\\Documents\\GitHub\\sim-fin-abm\\simfinmodel.py:22: RuntimeWarning: invalid value encountered in log\n",
      "  fundamental_component = np.log(fundamental[-1] / mid_price)\n"
     ]
    }
   ],
   "source": [
    "for generation in range(iterations):\n",
    "    # simulate every population\n",
    "    simulated_population, fitness = simulate_population_msm(all_populations_no_mean_reversion[generation], NRUNS, \n",
    "                                                            fixed_parameters_no_mean_reversion, emp_moments, W)\n",
    "    # record population fitness\n",
    "    av_pop_fitness_no_mean_reversion.append(fitness)\n",
    "    print('generation: ', generation, 'fitness: ', fitness)\n",
    "    # add a new, evolved population to the list of populations\n",
    "    all_populations_no_mean_reversion.append(evolve_population(simulated_population, fittest_to_retain=0.3, random_to_retain=0.2, \n",
    "                                             parents_to_mutate=0.3, parameters_to_mutate=0.1, problem=problem_no_mean_reversion))"
   ]
  },
  {
   "cell_type": "markdown",
   "metadata": {},
   "source": [
    "## Extract parameters"
   ]
  },
  {
   "cell_type": "code",
   "execution_count": 90,
   "metadata": {},
   "outputs": [
    {
     "data": {
      "text/plain": [
       "{'fundamental_value': 166,\n",
       " 'horizon_max': 12,\n",
       " 'horizon_min': 7,\n",
       " 'max_order_expiration_ticks': 30,\n",
       " 'n_traders': 1000,\n",
       " 'spread_max': 0.085,\n",
       " 'std_fundamental': 75.095292914798279,\n",
       " 'std_noise': 0.214139333234597,\n",
       " 'std_vol': 3,\n",
       " 'ticks': 1000,\n",
       " 'trader_sample_size': 1,\n",
       " 'w_buy_hold': 0.0,\n",
       " 'w_fundamentalists': 5.812203143339776,\n",
       " 'w_momentum': 17.70098749983911,\n",
       " 'w_random': 99.00060709801778}"
      ]
     },
     "execution_count": 90,
     "metadata": {},
     "output_type": "execute_result"
    }
   ],
   "source": [
    "parameters = all_populations_no_mean_reversion[-1][0].parameters.copy()\n",
    "params_nm = fixed_parameters.copy()\n",
    "params_nm.update(parameters)\n",
    "params_nm"
   ]
  },
  {
   "cell_type": "code",
   "execution_count": 91,
   "metadata": {
    "collapsed": true
   },
   "outputs": [],
   "source": [
    "with open('estimated_parameters_nm.json', 'w') as fp:\n",
    "    json.dump(params_nm, fp, sort_keys=True, indent=4)"
   ]
  },
  {
   "cell_type": "markdown",
   "metadata": {},
   "source": [
    "## Best stylized facts compared to actual stylized facts"
   ]
  },
  {
   "cell_type": "code",
   "execution_count": 94,
   "metadata": {},
   "outputs": [
    {
     "name": "stdout",
     "output_type": "stream",
     "text": [
      "simulation:\n",
      "[ -2.68603798e-03  -5.33667315e-02  -1.99640462e-02   4.37271006e-02\n",
      "   6.26281888e+00   4.90722735e-02  -2.07969777e-02   2.00071475e-02\n",
      "   1.16937432e-03  -3.12115526e+00]\n",
      "s&p500:\n",
      "[ -8.31204465e-03  -6.37216343e-02  -4.00930616e-02   2.60637329e-01\n",
      "   1.12024156e+01   2.86882774e-01   2.12984694e-01   1.68871832e-01\n",
      "   1.33350570e-01  -3.39594806e+00]\n"
     ]
    }
   ],
   "source": [
    "print('simulation:')\n",
    "print(all_populations_no_mean_reversion[-1][0].stylized_facts)\n",
    "print('s&p500:')\n",
    "print(emp_moments)"
   ]
  }
 ],
 "metadata": {
  "anaconda-cloud": {},
  "kernelspec": {
   "display_name": "Python 3",
   "language": "python",
   "name": "python3"
  },
  "language_info": {
   "codemirror_mode": {
    "name": "ipython",
    "version": 3
   },
   "file_extension": ".py",
   "mimetype": "text/x-python",
   "name": "python",
   "nbconvert_exporter": "python",
   "pygments_lexer": "ipython3",
   "version": "3.5.2"
  }
 },
 "nbformat": 4,
 "nbformat_minor": 1
}
