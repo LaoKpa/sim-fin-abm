{
 "cells": [
  {
   "cell_type": "code",
   "execution_count": 1,
   "metadata": {},
   "outputs": [],
   "source": [
    "%matplotlib inline\n",
    "\n",
    "import pandas as pd\n",
    "pd.core.common.is_list_like = pd.api.types.is_list_like\n",
    "from matplotlib import style\n",
    "from pandas_datareader import data\n",
    "import random\n",
    "from SALib.sample import latin\n",
    "from functions.stylizedfacts import *\n",
    "import scipy.stats as stats\n",
    "from functions.evolutionaryalgo import *\n",
    "from pandas_datareader import data\n",
    "from functions.helpers import hurst, organise_data, div_by_hundred, discounted_value_cash_flow, find_horizon, calculate_npv\n",
    "import matplotlib.pyplot as plt\n",
    "import statsmodels.api as sm\n",
    "import statsmodels.tsa.stattools as ts\n",
    "import seaborn as sns\n",
    "import numpy as np\n",
    "from functions.sensitivity_analysis import *\n",
    "import json\n",
    "from SALib.sample import latin, saltelli, fast_sampler\n",
    "from SALib.sample.morris import sample\n",
    "from SALib.analyze import sobol, fast, morris"
   ]
  },
  {
   "cell_type": "code",
   "execution_count": 2,
   "metadata": {},
   "outputs": [],
   "source": [
    "style.use('seaborn-ticks')"
   ]
  },
  {
   "cell_type": "markdown",
   "metadata": {},
   "source": [
    "# Fundamentals decoupled in an agent-based model: exploring trend-following and mean-reversion chartism\n",
    "\n",
    "By **Joeri Schasfoort**\n",
    "\n",
    "This is the notebook which belongs to the paper of the same name. That paper contributes to the debate about market efficiency by presenting a behavioural agent-based model which suggests that market prices might be decoupled from fundamentals for longer periods than previously thought. This decoupling is explained by an increased prevalence of technical or chartist trading. In the chartist and fundamentalist model framework, the model distinguishes between trend-following and a mean-reversion chartist trading. Replacing fundamentalist trading with the latter causes stock-market prices to become decoupled from their fundamental value. Because, just like fundamentalist trading, mean-reversion trading prevents excessive long-term price predictability as a consequence of trend-following, an increase of meanreversion trading at the expense of fundamentalist trading does not diminish the models ability to reproduce the stylized facts of stock market returns: no autocorrelation, volatility clustering, long memory, and fat tails.\n",
    "\n",
    "The notebook allows for the replication of the main results and graphs of the paper. The results the notebook generals will differ slightly from those in the paper as those where computed using a larger amount of simulations on a cluster computer. \n",
    "\n",
    "The notebook is similar but not identical in structure to the paper. First, it present the model logic in Python code. Then, it shows how to download the data and calculate the stylized facts. After that, Morris methods are used to determine the sensitivity to input parameters. The notebook then shows how to estimate the model, simulate its estimated baseline dynamics, compare its performance to a model version without mean-reversion, and perform experiments switching between fundamentalist and mean-reversion trading. \n",
    "\n",
    "## The model"
   ]
  },
  {
   "cell_type": "code",
   "execution_count": 3,
   "metadata": {},
   "outputs": [],
   "source": [
    "def sim_fin_model(traders, orderbook, parameters, seed=1):\n",
    "    \"\"\"\n",
    "    The main model function\n",
    "    :param traders: list of Agent objects\n",
    "    :param orderbook: object Order book\n",
    "    :param parameters: dictionary of parameters\n",
    "    :param seed: integer seed to initialise the random number generators\n",
    "    :return: list of simulated Agent objects, object simulated Order book\n",
    "    \"\"\"\n",
    "    random.seed(seed)\n",
    "    np.random.seed(seed)\n",
    "    fundamental = [parameters[\"fundamental_value\"]]\n",
    "\n",
    "    for tick in range(parameters['horizon_max'] + 1, parameters[\"ticks\"]):\n",
    "        # evolve the fundamental value via random walk process\n",
    "        fundamental.append(fundamental[-1] + parameters[\"std_fundamental\"] * np.random.randn())\n",
    "\n",
    "        # select random sample of active traders\n",
    "        active_traders = random.sample(traders, int((parameters['trader_sample_size'])))\n",
    "\n",
    "        # update common expectation components\n",
    "        mid_price = orderbook.tick_close_price[-1]\n",
    "        fundamental_component = np.log(fundamental[-1] / mid_price)\n",
    "        chartist_component = np.cumsum(orderbook.returns[-parameters['horizon_max']:]\n",
    "                                       ) / np.arange(1., float(parameters['horizon_max'] + 1))\n",
    "\n",
    "        for trader in active_traders:\n",
    "            # update trader specific expectations\n",
    "            noise_component = parameters['std_noise'] * np.random.randn()\n",
    "\n",
    "            fcast_return = trader.var.forecast_adjust * (\n",
    "                trader.var.weight_fundamentalist * fundamental_component +\n",
    "                trader.var.weight_chartist * chartist_component[trader.par.horizon] +\n",
    "                trader.var.weight_random * noise_component -\n",
    "                trader.var.weight_mean_reversion * chartist_component[trader.par.horizon])\n",
    "\n",
    "            fcast_price = mid_price * np.exp(fcast_return)\n",
    "\n",
    "            # submit orders\n",
    "            if fcast_price > mid_price:\n",
    "                bid_price = fcast_price * (1. - trader.par.spread)\n",
    "                orderbook.add_bid(bid_price, abs(int(np.random.normal(scale=parameters['std_vol']))), trader)\n",
    "            elif fcast_price < mid_price:\n",
    "                ask_price = fcast_price * (1 + trader.par.spread)\n",
    "                orderbook.add_ask(ask_price, abs(int(np.random.normal(scale=parameters['std_vol']))), trader)\n",
    "\n",
    "        # match orders in the order-book\n",
    "        while True:\n",
    "            matched_orders = orderbook.match_orders()\n",
    "            if matched_orders is None:\n",
    "                break\n",
    "\n",
    "        # clear and update order-book history\n",
    "        orderbook.cleanse_book()\n",
    "        orderbook.fundamental = fundamental\n",
    "\n",
    "    return traders, orderbook"
   ]
  },
  {
   "cell_type": "markdown",
   "metadata": {},
   "source": [
    "## The data\n",
    "\n",
    "I collect data from three sources. First, I collect daily data on nominal prices from the S&P500 starting on the 1st of August 2008 and ending on the 16th August 2018 (2509 observations) from the Federal Reserve of St. Louis database. Second, I collect historical data on monthly S&P 500 prices and dividends from Robert Shiller’s database2 (Shiller, 2000). Third, I extract historical data on annual shortterm interest rates from the macro history database3 (Jordà et al., 2017). Table 1 presents the descriptive statistics of this data."
   ]
  },
  {
   "cell_type": "code",
   "execution_count": 4,
   "metadata": {},
   "outputs": [
    {
     "name": "stderr",
     "output_type": "stream",
     "text": [
      "C:\\Users\\joerischasfoort\\Anaconda3\\lib\\site-packages\\pandas\\io\\excel.py:329: FutureWarning: The `sheetname` keyword is deprecated, use `sheet_name` instead\n",
      "  **kwds)\n"
     ]
    }
   ],
   "source": [
    "start_date = '2008-01-01'\n",
    "end_date = '2018-08-16'\n",
    "\n",
    "spy_nom_price = data.DataReader(\"SP500\", \n",
    "                       start=start_date, \n",
    "                       end=end_date, \n",
    "                       data_source='fred')[\"SP500\"].dropna()\n",
    "spy_nom_returns = spy_nom_price.pct_change()[1:]\n",
    "\n",
    "shiller_data = pd.read_excel('http://www.econ.yale.edu/~shiller/data/ie_data.xls', header=7)[:-3]\n",
    "schul_data = pd.read_excel('http://www.macrohistory.net/JST/JSTmoneyR3.xlsx', sheetname='Data')[['year', 'country', 'stir']]\n",
    "schul_data = schul_data.loc[(schul_data.country == 'USA')]\n",
    "schul_data = schul_data.iloc[1:]\n",
    "schul_data = schul_data.set_index('year')"
   ]
  },
  {
   "cell_type": "markdown",
   "metadata": {},
   "source": [
    "**Table 1:** Descriptive statistics data, price and dividend data was rounded off at one decimal point and T-bill rates at at four decimal points."
   ]
  },
  {
   "cell_type": "code",
   "execution_count": 5,
   "metadata": {},
   "outputs": [
    {
     "data": {
      "text/html": [
       "<div>\n",
       "<style scoped>\n",
       "    .dataframe tbody tr th:only-of-type {\n",
       "        vertical-align: middle;\n",
       "    }\n",
       "\n",
       "    .dataframe tbody tr th {\n",
       "        vertical-align: top;\n",
       "    }\n",
       "\n",
       "    .dataframe thead th {\n",
       "        text-align: right;\n",
       "    }\n",
       "</style>\n",
       "<table border=\"1\" class=\"dataframe\">\n",
       "  <thead>\n",
       "    <tr style=\"text-align: right;\">\n",
       "      <th></th>\n",
       "      <th>returns</th>\n",
       "      <th>spy_real</th>\n",
       "      <th>Dividend</th>\n",
       "      <th>T-bill</th>\n",
       "    </tr>\n",
       "  </thead>\n",
       "  <tbody>\n",
       "    <tr>\n",
       "      <th>count</th>\n",
       "      <td>2480.00</td>\n",
       "      <td>1771.00</td>\n",
       "      <td>1770.00</td>\n",
       "      <td>146.00</td>\n",
       "    </tr>\n",
       "    <tr>\n",
       "      <th>mean</th>\n",
       "      <td>0.00</td>\n",
       "      <td>516.59</td>\n",
       "      <td>15.35</td>\n",
       "      <td>4.09</td>\n",
       "    </tr>\n",
       "    <tr>\n",
       "      <th>std</th>\n",
       "      <td>0.01</td>\n",
       "      <td>556.28</td>\n",
       "      <td>8.67</td>\n",
       "      <td>2.93</td>\n",
       "    </tr>\n",
       "    <tr>\n",
       "      <th>min</th>\n",
       "      <td>-0.09</td>\n",
       "      <td>68.22</td>\n",
       "      <td>5.03</td>\n",
       "      <td>0.09</td>\n",
       "    </tr>\n",
       "    <tr>\n",
       "      <th>25%</th>\n",
       "      <td>0.00</td>\n",
       "      <td>171.56</td>\n",
       "      <td>8.61</td>\n",
       "      <td>1.89</td>\n",
       "    </tr>\n",
       "    <tr>\n",
       "      <th>50%</th>\n",
       "      <td>0.00</td>\n",
       "      <td>255.37</td>\n",
       "      <td>12.83</td>\n",
       "      <td>3.51</td>\n",
       "    </tr>\n",
       "    <tr>\n",
       "      <th>75%</th>\n",
       "      <td>0.01</td>\n",
       "      <td>619.11</td>\n",
       "      <td>19.51</td>\n",
       "      <td>5.42</td>\n",
       "    </tr>\n",
       "    <tr>\n",
       "      <th>max</th>\n",
       "      <td>0.12</td>\n",
       "      <td>2836.53</td>\n",
       "      <td>51.00</td>\n",
       "      <td>16.39</td>\n",
       "    </tr>\n",
       "  </tbody>\n",
       "</table>\n",
       "</div>"
      ],
      "text/plain": [
       "       returns  spy_real  Dividend  T-bill\n",
       "count  2480.00   1771.00   1770.00  146.00\n",
       "mean      0.00    516.59     15.35    4.09\n",
       "std       0.01    556.28      8.67    2.93\n",
       "min      -0.09     68.22      5.03    0.09\n",
       "25%       0.00    171.56      8.61    1.89\n",
       "50%       0.00    255.37     12.83    3.51\n",
       "75%       0.01    619.11     19.51    5.42\n",
       "max       0.12   2836.53     51.00   16.39"
      ]
     },
     "execution_count": 5,
     "metadata": {},
     "output_type": "execute_result"
    }
   ],
   "source": [
    "table1_descriptives = pd.DataFrame()\n",
    "table1_descriptives['returns'] = spy_nom_returns.describe()\n",
    "table1_descriptives['spy_real'] = shiller_data['Price'].describe()\n",
    "table1_descriptives['Dividend'] = shiller_data['Dividend'].describe()\n",
    "table1_descriptives['T-bill'] = schul_data['stir'].describe()\n",
    "table1_descriptives = table1_descriptives.round(decimals=2)\n",
    "table1_descriptives.to_csv('table1.csv', sep='&')\n",
    "table1_descriptives"
   ]
  },
  {
   "cell_type": "markdown",
   "metadata": {},
   "source": [
    "### The fundamental value\n",
    "\n",
    "To be able to calculate the fundamental value, I extend the annual historical interest data to monthly data. "
   ]
  },
  {
   "cell_type": "code",
   "execution_count": 6,
   "metadata": {},
   "outputs": [],
   "source": [
    "schul_data['stir']\n",
    "\n",
    "short_term_int = []\n",
    "counter = -1\n",
    "for idx in range(len(shiller_data)):\n",
    "    if idx % 12 == 0:\n",
    "        counter += 1\n",
    "    try:\n",
    "        short_term_int.append(schul_data['stir'].iloc[counter])\n",
    "    except:\n",
    "        pass"
   ]
  },
  {
   "cell_type": "markdown",
   "metadata": {},
   "source": [
    "So that, I can calculate the discount rate $i_t + r$ for the NPV model. Where $i_t$ is the short-term interest rate time $t$ while $r$ represents the equity price premium which is assumed to be constant at 5.2 which is the level of the equity risk premium estimated by [Avdis & Wachter (2017)](https://doi.org/10.1016/j.jfineco.2017.06.003)."
   ]
  },
  {
   "cell_type": "code",
   "execution_count": 7,
   "metadata": {},
   "outputs": [],
   "source": [
    "discount_rates = np.array(short_term_int) + 5.2\n",
    "discount_rates = pd.Series(discount_rates).apply(div_by_hundred)"
   ]
  },
  {
   "cell_type": "markdown",
   "metadata": {},
   "source": [
    "This allows me to calculate the fundamental value. I combine the Shiller and macro history datasets to calculate the fundamental value using the fixed equity premium net present value model. It states that the fundamental value is the sum of discounted future dividend rates\n",
    "\n",
    "\\begin{equation}\n",
    "F_{t} = \\sum_{t=1}^{\\kappa} \\frac{D_t}{(1 + i_t + r)^{t+1}},\n",
    "\\end{equation}\n",
    "\n",
    "where $D_t$ is the dividend. I set the horizon over which to discount future dividends $\\kappa$ to the point at which $\\frac{D_t}{(1 + i_t + e)^t} < 0.01$. Using this equation, I calculate the ex-post fundamental value of the S\\&P 500 in which I assume the annual interest rate holds for all months in that particular year."
   ]
  },
  {
   "cell_type": "code",
   "execution_count": 8,
   "metadata": {},
   "outputs": [],
   "source": [
    "fundamental_values = []\n",
    "for idx, cf in enumerate(shiller_data['Dividend'][:-18]):\n",
    "    next_period_divs = shiller_data['Dividend'][idx+1:]\n",
    "    next_period_ints = discount_rates[idx+1]\n",
    "    npv = calculate_npv(next_period_divs, next_period_ints)\n",
    "    if not np.isnan(npv):\n",
    "        fundamental_values.append(npv)\n",
    "    else:\n",
    "        break"
   ]
  },
  {
   "cell_type": "code",
   "execution_count": 9,
   "metadata": {},
   "outputs": [],
   "source": [
    "# real_prices = shiller_data['Price'][:len(fundamental_values)]"
   ]
  },
  {
   "cell_type": "markdown",
   "metadata": {},
   "source": [
    "This leads to the following plot found in the introduction of the paper: "
   ]
  },
  {
   "cell_type": "code",
   "execution_count": 10,
   "metadata": {},
   "outputs": [
    {
     "data": {
      "image/png": "[encoded data removed]",
      "text/plain": [
       "<Figure size 720x360 with 1 Axes>"
      ]
     },
     "metadata": {},
     "output_type": "display_data"
    }
   ],
   "source": [
    "fig, ax1 = plt.subplots(1, 1, figsize=(10,5))\n",
    "\n",
    "time=0\n",
    "\n",
    "ax1.plot(shiller_data['Date'][time:len(fundamental_values)], fundamental_values[time:], label='fundamental')\n",
    "ax1.plot(shiller_data['Date'][time:len(fundamental_values)], shiller_data['Price'][time:len(fundamental_values)], label='market')\n",
    "\n",
    "ax1.set_ylabel('Value', fontsize='14')\n",
    "ax1.set_xlabel('Year', fontsize='14')\n",
    "\n",
    "ax1.legend(fontsize='14', loc='best')\n",
    "fig.savefig('shiller_campbell_sp500.png')"
   ]
  },
  {
   "cell_type": "markdown",
   "metadata": {},
   "source": [
    "### Bootstrapped data \n",
    "To calculate the confidence intervals for the moments later, I perform a block bootstrap on the data. To do so reliably, I make a distinction between moments which are recorded over different time lengths and perform three separate bootstrap procedures. For this procedure, I follow the approach set out by [Franke and Westerhoff (2012)](https://doi.org/10.1016/j.jedc.2011.10.004). That means that I first divide the original data into blocks of size $b$:"
   ]
  },
  {
   "cell_type": "code",
   "execution_count": 11,
   "metadata": {},
   "outputs": [],
   "source": [
    "small_block_size = 250\n",
    "large_block_size = 625\n",
    "shiller_block_size = 205"
   ]
  },
  {
   "cell_type": "code",
   "execution_count": 12,
   "metadata": {},
   "outputs": [],
   "source": [
    "small_data_blocks = []\n",
    "for x in range(0, len(spy_nom_returns), small_block_size):\n",
    "    small_data_blocks.append(list(spy_nom_returns[x:x+small_block_size]))\n",
    "    \n",
    "bootstrapped_small_series = []\n",
    "for i in range(5000):\n",
    "    sim_data = [random.choice(small_data_blocks) for _ in small_data_blocks]\n",
    "    sim_data2 = [j for i in sim_data for j in i]\n",
    "    bootstrapped_small_series.append(sim_data2)\n",
    "    \n",
    "large_data_blocks = []\n",
    "for x in range(0, len(spy_nom_returns), large_block_size): # used to be len(spy_nom_returns[:-250])\n",
    "    large_data_blocks.append(list(spy_nom_returns[x:x+large_block_size]))\n",
    "    \n",
    "bootstrapped_long_series = []\n",
    "for i in range(5000):\n",
    "    sim_data = [random.choice(large_data_blocks) for _ in large_data_blocks]\n",
    "    sim_data2 = [j for i in sim_data for j in i]\n",
    "    bootstrapped_long_series.append(sim_data2)"
   ]
  },
  {
   "cell_type": "markdown",
   "metadata": {},
   "source": [
    "For the deviation from fundamentals, I first bootstrap the returns of both the fundamental value and the associated returns for market prices. I divided these into blocks. Then, I bootstrap these blocks of returns into new time series and apply them to the starting values of the fundamental value and real prices. This results in 5000 hypothetical time series of fundamentals and real prices. "
   ]
  },
  {
   "cell_type": "code",
   "execution_count": 13,
   "metadata": {},
   "outputs": [],
   "source": [
    "fundamental_returns = pd.Series(fundamental_values).pct_change()[1:]\n",
    "real_prices = shiller_data['Price'][:len(fundamental_values)]\n",
    "real_prices_returns = pd.Series(real_prices).pct_change()[1:]"
   ]
  },
  {
   "cell_type": "markdown",
   "metadata": {},
   "source": [
    "Divide both fundamental returns and price returns into blocks."
   ]
  },
  {
   "cell_type": "code",
   "execution_count": 14,
   "metadata": {},
   "outputs": [],
   "source": [
    "shiller_data_blocks = []\n",
    "for x in range(0, len(fundamental_returns[:-3]), shiller_block_size):\n",
    "    shiller_data_blocks.append((list(fundamental_returns[x:x+shiller_block_size]), list(real_prices_returns[x:x+shiller_block_size])))"
   ]
  },
  {
   "cell_type": "markdown",
   "metadata": {},
   "source": [
    "Calculate 5000 hypothetical price and fundamentals series. "
   ]
  },
  {
   "cell_type": "code",
   "execution_count": 15,
   "metadata": {},
   "outputs": [],
   "source": [
    "def hypothetical_series(starting_value, returns):\n",
    "    \"\"\"\n",
    "    Calculate a bootstrapped hypothetical time series based on the returns and starting value\n",
    "    input: starting_value: float starting value\n",
    "    input: returns: list \n",
    "    \"\"\"\n",
    "    returns = list(returns)\n",
    "    simulated_series = [starting_value]\n",
    "    for idx in range(len(returns)):\n",
    "        simulated_series.append(simulated_series[-1] * (1 + returns[idx]))\n",
    "    return simulated_series"
   ]
  },
  {
   "cell_type": "code",
   "execution_count": 16,
   "metadata": {},
   "outputs": [],
   "source": [
    "bootstrapped_shiller_series = []\n",
    "for i in range(5000):\n",
    "    # first sample the data\n",
    "    sim_data = [random.choice(shiller_data_blocks) for _ in shiller_data_blocks] # choose a random set of blocks\n",
    "    sim_data_fundamental_returns = [pair[0] for pair in sim_data]\n",
    "    sim_data_price_returns = [pair[1] for pair in sim_data]\n",
    "    \n",
    "    # merge the list of lists\n",
    "    sim_data_fundamental_returns1 = [item for sublist in sim_data_fundamental_returns for item in sublist]\n",
    "    sim_data_price_returns1 = [item for sublist in sim_data_price_returns for item in sublist]\n",
    "    \n",
    "    # calculate the new time_series\n",
    "    sim_data_fundamentals = hypothetical_series(fundamental_values[0], sim_data_fundamental_returns1)\n",
    "    sim_data_prices = hypothetical_series(real_prices[0], sim_data_price_returns1)\n",
    "    \n",
    "    bootstrapped_shiller_series.append((sim_data_fundamentals, sim_data_prices))"
   ]
  },
  {
   "cell_type": "markdown",
   "metadata": {},
   "source": [
    "## Moments"
   ]
  },
  {
   "cell_type": "markdown",
   "metadata": {},
   "source": [
    "Then, I calculate the moments and confidence intervals based on the bootstrapped data. \n",
    "\n",
    "For returns, I use the following moments short-term moments: \n",
    "\n",
    "1. mean first-order autocorrelation of the raw returns (no predictability),\n",
    "2. autocorrelations at lags t ¼ 1\n",
    "3. autocorrelations at lags t ¼ 5\n",
    "4. mean first-order autocorrelation of the of the absolute returns (volatility clustering),\n",
    "5. Kurtosis (fat tails), "
   ]
  },
  {
   "cell_type": "code",
   "execution_count": 17,
   "metadata": {},
   "outputs": [],
   "source": [
    "first_order_autocors = []\n",
    "mean_abs_autocor = []\n",
    "autocors1 = []\n",
    "autocors5 = []\n",
    "kurtoses = []\n",
    "for rets in bootstrapped_small_series:\n",
    "    first_order_autocors.append(autocorrelation_returns(rets, 25))\n",
    "    mean_abs_autocor.append(autocorrelation_abs_returns(rets, 25))\n",
    "    rets = pd.Series(rets)\n",
    "    autocors1.append(rets.autocorr(lag=1))\n",
    "    autocors5.append(rets.autocorr(lag=5))\n",
    "    kurtoses.append(kurtosis(rets))"
   ]
  },
  {
   "cell_type": "markdown",
   "metadata": {},
   "source": [
    "For long-term moments, I use the autocorrelation of returns for the with lags (10, 25, 50, 100)."
   ]
  },
  {
   "cell_type": "code",
   "execution_count": 18,
   "metadata": {},
   "outputs": [],
   "source": [
    "spy_abs_auto10 = []\n",
    "spy_abs_auto25 = []\n",
    "spy_abs_auto50 = []\n",
    "spy_abs_auto100 = []\n",
    "\n",
    "for rets in bootstrapped_long_series:\n",
    "    rets = pd.Series(rets)\n",
    "    spy_abs_auto10.append(rets.abs().autocorr(lag=10))\n",
    "    spy_abs_auto25.append(rets.abs().autocorr(lag=25))\n",
    "    spy_abs_auto50.append(rets.abs().autocorr(lag=50))\n",
    "    spy_abs_auto100.append(rets.abs().autocorr(lag=100))"
   ]
  },
  {
   "cell_type": "markdown",
   "metadata": {},
   "source": [
    "For deviations from fundamentals, I use the AFD t-score to test for mean-reversion in the relationship between fundamentals and the price."
   ]
  },
  {
   "cell_type": "code",
   "execution_count": 19,
   "metadata": {},
   "outputs": [],
   "source": [
    "cointegrations = []\n",
    "\n",
    "for sers in bootstrapped_shiller_series:\n",
    "    cointegrations.append(cointegr(sers[0], sers[1])[0])"
   ]
  },
  {
   "cell_type": "markdown",
   "metadata": {},
   "source": [
    "The overview of moments is therefore: "
   ]
  },
  {
   "cell_type": "code",
   "execution_count": 20,
   "metadata": {},
   "outputs": [],
   "source": [
    "moment_names = ['Average autocorrelation', 'Autocorrelation lag1', 'Autocorrelation lag5', 'Average autocorrelation abs',\n",
    "               'Kurtosis', 'Autocorrelation abs lag 10', 'Autocorrelation abs lag 25', 'Autocorrelation abs lag 50',\n",
    "               'Autocorrelation abs lag 100', 'Co-integration']"
   ]
  },
  {
   "cell_type": "markdown",
   "metadata": {
    "collapsed": true
   },
   "source": [
    "Calculate the empirical moments"
   ]
  },
  {
   "cell_type": "code",
   "execution_count": 21,
   "metadata": {},
   "outputs": [],
   "source": [
    "emp_moments = np.array([\n",
    "        autocorrelation_returns(spy_nom_returns, 25),\n",
    "        spy_nom_returns.autocorr(lag=1),\n",
    "        spy_nom_returns.autocorr(lag=5),\n",
    "        autocorrelation_abs_returns(spy_nom_returns, 25),\n",
    "        kurtosis(spy_nom_returns),\n",
    "        spy_nom_returns.abs().autocorr(lag=10),\n",
    "        spy_nom_returns.abs().autocorr(lag=25),\n",
    "        spy_nom_returns.abs().autocorr(lag=50),\n",
    "        spy_nom_returns.abs().autocorr(lag=100),\n",
    "        cointegr(fundamental_values, real_prices)[0]\n",
    "    ])"
   ]
  },
  {
   "cell_type": "markdown",
   "metadata": {},
   "source": [
    "And the confidence intervals using the bootstrapped moments"
   ]
  },
  {
   "cell_type": "code",
   "execution_count": 22,
   "metadata": {},
   "outputs": [],
   "source": [
    "def confidence_interval(sample, emp_value):\n",
    "    \"\"\"Calculate confidence_interval in sample\"\"\"\n",
    "    z_critical = stats.norm.ppf(q = 0.99)\n",
    "    stdev = pd.Series(sample).std()\n",
    "    margin_of_error = z_critical * stdev\n",
    "    confidence_interval = (emp_value - margin_of_error, emp_value + margin_of_error)  \n",
    "    return confidence_interval"
   ]
  },
  {
   "cell_type": "code",
   "execution_count": 23,
   "metadata": {},
   "outputs": [],
   "source": [
    "all_bootstrapped_moments = [first_order_autocors,\n",
    "                            autocors1,\n",
    "                            autocors5,\n",
    "                            mean_abs_autocor,\n",
    "                            kurtoses,\n",
    "                            spy_abs_auto10,\n",
    "                            spy_abs_auto25,\n",
    "                            spy_abs_auto50,\n",
    "                            spy_abs_auto100,\n",
    "                            cointegrations\n",
    "                           ]"
   ]
  },
  {
   "cell_type": "code",
   "execution_count": 24,
   "metadata": {},
   "outputs": [],
   "source": [
    "confidence_intervals = [confidence_interval(m, emp) for m, emp in zip(all_bootstrapped_moments, emp_moments)]"
   ]
  },
  {
   "cell_type": "markdown",
   "metadata": {},
   "source": [
    "**Table 2:** Moments"
   ]
  },
  {
   "cell_type": "code",
   "execution_count": 25,
   "metadata": {},
   "outputs": [
    {
     "data": {
      "text/html": [
       "<div>\n",
       "<style scoped>\n",
       "    .dataframe tbody tr th:only-of-type {\n",
       "        vertical-align: middle;\n",
       "    }\n",
       "\n",
       "    .dataframe tbody tr th {\n",
       "        vertical-align: top;\n",
       "    }\n",
       "\n",
       "    .dataframe thead th {\n",
       "        text-align: right;\n",
       "    }\n",
       "</style>\n",
       "<table border=\"1\" class=\"dataframe\">\n",
       "  <thead>\n",
       "    <tr style=\"text-align: right;\">\n",
       "      <th></th>\n",
       "      <th>Empirical value</th>\n",
       "      <th>CI low</th>\n",
       "      <th>CI high</th>\n",
       "    </tr>\n",
       "  </thead>\n",
       "  <tbody>\n",
       "    <tr>\n",
       "      <th>Average autocorrelation</th>\n",
       "      <td>-0.014</td>\n",
       "      <td>-0.021</td>\n",
       "      <td>-0.007</td>\n",
       "    </tr>\n",
       "    <tr>\n",
       "      <th>Autocorrelation lag1</th>\n",
       "      <td>-0.099</td>\n",
       "      <td>-0.165</td>\n",
       "      <td>-0.033</td>\n",
       "    </tr>\n",
       "    <tr>\n",
       "      <th>Autocorrelation lag5</th>\n",
       "      <td>-0.067</td>\n",
       "      <td>-0.129</td>\n",
       "      <td>-0.005</td>\n",
       "    </tr>\n",
       "    <tr>\n",
       "      <th>Average autocorrelation abs</th>\n",
       "      <td>0.312</td>\n",
       "      <td>0.141</td>\n",
       "      <td>0.484</td>\n",
       "    </tr>\n",
       "    <tr>\n",
       "      <th>Kurtosis</th>\n",
       "      <td>12.724</td>\n",
       "      <td>2.823</td>\n",
       "      <td>22.624</td>\n",
       "    </tr>\n",
       "    <tr>\n",
       "      <th>Autocorrelation abs lag 10</th>\n",
       "      <td>0.310</td>\n",
       "      <td>0.204</td>\n",
       "      <td>0.416</td>\n",
       "    </tr>\n",
       "    <tr>\n",
       "      <th>Autocorrelation abs lag 25</th>\n",
       "      <td>0.235</td>\n",
       "      <td>0.112</td>\n",
       "      <td>0.358</td>\n",
       "    </tr>\n",
       "    <tr>\n",
       "      <th>Autocorrelation abs lag 50</th>\n",
       "      <td>0.157</td>\n",
       "      <td>0.059</td>\n",
       "      <td>0.256</td>\n",
       "    </tr>\n",
       "    <tr>\n",
       "      <th>Autocorrelation abs lag 100</th>\n",
       "      <td>0.129</td>\n",
       "      <td>0.032</td>\n",
       "      <td>0.226</td>\n",
       "    </tr>\n",
       "    <tr>\n",
       "      <th>Co-integration</th>\n",
       "      <td>-3.396</td>\n",
       "      <td>-7.115</td>\n",
       "      <td>0.323</td>\n",
       "    </tr>\n",
       "  </tbody>\n",
       "</table>\n",
       "</div>"
      ],
      "text/plain": [
       "                             Empirical value  CI low  CI high\n",
       "Average autocorrelation               -0.014  -0.021   -0.007\n",
       "Autocorrelation lag1                  -0.099  -0.165   -0.033\n",
       "Autocorrelation lag5                  -0.067  -0.129   -0.005\n",
       "Average autocorrelation abs            0.312   0.141    0.484\n",
       "Kurtosis                              12.724   2.823   22.624\n",
       "Autocorrelation abs lag 10             0.310   0.204    0.416\n",
       "Autocorrelation abs lag 25             0.235   0.112    0.358\n",
       "Autocorrelation abs lag 50             0.157   0.059    0.256\n",
       "Autocorrelation abs lag 100            0.129   0.032    0.226\n",
       "Co-integration                        -3.396  -7.115    0.323"
      ]
     },
     "execution_count": 25,
     "metadata": {},
     "output_type": "execute_result"
    }
   ],
   "source": [
    "table2_moments = pd.DataFrame()\n",
    "table2_moments['Empirical value'] = emp_moments\n",
    "table2_moments['CI low'] = [ci[0] for ci in  confidence_intervals]\n",
    "table2_moments['CI high'] = [ci[1] for ci in  confidence_intervals]\n",
    "table2_moments.index = moment_names\n",
    "table2_moments = table2_moments.round(decimals=3)\n",
    "table2_moments.to_csv('table2.csv', sep='&')\n",
    "table2_moments"
   ]
  },
  {
   "cell_type": "markdown",
   "metadata": {},
   "source": [
    "# Monte Carlo Simulations"
   ]
  },
  {
   "cell_type": "markdown",
   "metadata": {},
   "source": [
    "## Morris Methods sensitivity analysis\n",
    "\n",
    "The following table shows the parameter bounds, uncertain parameters are **bold**. \n",
    "\n",
    "| Parameter | Values (start, stop, step) |\n",
    "| -------------| ------------|\n",
    "| ticks       | 1000   |\n",
    "| fundamental_value       | 166    |\n",
    "| std_fundamental       | 0.053    |\n",
    "| spread_max       | 0.0004      |\n",
    "| **trader_sample_size**      | 1, 100, 10      |\n",
    "| **std_noise**       | 0.01, 0.35, 0.01      |\n",
    "| **std_vol**       | 1, 50, 1      |\n",
    "| **w_fundamentalists**       | 0.0, 100.0., 1.0      |\n",
    "| **w_momentum**       | 0.0, 100.0, 1.0      |\n",
    "| **w_random**       | 0.0, 100.0, 1.0      |\n",
    "| **w_mean_reversion**       | 0.0, 100.0, 1.0       |\n",
    "| **horizon_max**       | 9, 30, 1      |\n",
    "| **n_traders**       | 50, 1550     |\n",
    "| **max_order_expiration_ticks**       | 5, 100     |\n",
    "*Table 1 Parameter bounds*\n",
    "\n",
    "First, I define the fixed parameters"
   ]
  },
  {
   "cell_type": "code",
   "execution_count": 57,
   "metadata": {},
   "outputs": [],
   "source": [
    "fixed_parameters = {\"ticks\": max(len(spy_nom_returns), len(fundamental_values)), \n",
    "                    \"fundamental_value\": int(np.mean(fundamental_values)),\n",
    "                    'std_fundamental': np.std(pd.Series(fundamental_values).pct_change()), \n",
    "                    'spread_max': 0.004087}"
   ]
  },
  {
   "cell_type": "markdown",
   "metadata": {},
   "source": [
    "I then formulate this as a dictionary which can be used with the SALib package:"
   ]
  },
  {
   "cell_type": "code",
   "execution_count": 50,
   "metadata": {},
   "outputs": [],
   "source": [
    "problem_morris = {\n",
    "  'num_vars': 10,\n",
    "  'names': ['trader_sample_size', 'std_noise', \n",
    "            'std_vol', 'w_fundamentalists', 'w_momentum',\n",
    "           'w_random', 'w_mean_reversion',\n",
    "           'horizon_max', 'n_traders', 'max_order_expiration_ticks'],\n",
    "  'bounds': [[1, 30], [0.05, 0.30], \n",
    "             [1, 20], [0.0, 100.0], [0.0, 100.0], \n",
    "             [1.0, 100.0], [0.0, 100.0],\n",
    "             [9, 30], [50, 1550], [5, 100]]\n",
    "}"
   ]
  },
  {
   "cell_type": "code",
   "execution_count": 53,
   "metadata": {},
   "outputs": [],
   "source": [
    "morris_params = sample(problem_morris, N=250, num_levels=4, grid_jump=2)\n",
    "morris_parameter_list = morris_params.tolist()"
   ]
  },
  {
   "cell_type": "markdown",
   "metadata": {},
   "source": [
    "Because the sampling method works with floats, I convert some parameters back to integers. "
   ]
  },
  {
   "cell_type": "code",
   "execution_count": 54,
   "metadata": {},
   "outputs": [],
   "source": [
    "for idx, parameters in enumerate(morris_parameter_list):\n",
    "    morris_parameter_list[idx][0] = int(morris_parameter_list[idx][0])\n",
    "    morris_parameter_list[idx][2] = int(morris_parameter_list[idx][2])\n",
    "    morris_parameter_list[idx][7] = int(morris_parameter_list[idx][7])\n",
    "    morris_parameter_list[idx][8] = int(morris_parameter_list[idx][8])\n",
    "    morris_parameter_list[idx][9] = int(morris_parameter_list[idx][9])"
   ]
  },
  {
   "cell_type": "code",
   "execution_count": 67,
   "metadata": {},
   "outputs": [],
   "source": [
    "all_morris_parameters = []\n",
    "for parameters in morris_parameter_list:\n",
    "    pars = {}\n",
    "    for key, value in zip(problem_morris['names'], parameters):\n",
    "        pars[key] = value\n",
    "    all_morris_parameters.append(pars)"
   ]
  },
  {
   "cell_type": "markdown",
   "metadata": {},
   "source": [
    "To limit the computational burden, I determine the number of runs to be 3. "
   ]
  },
  {
   "cell_type": "code",
   "execution_count": 62,
   "metadata": {},
   "outputs": [],
   "source": [
    "NRUNS = 3"
   ]
  },
  {
   "cell_type": "markdown",
   "metadata": {},
   "source": [
    "That makes the total amount of simulations that will be performed:"
   ]
  },
  {
   "cell_type": "code",
   "execution_count": 63,
   "metadata": {},
   "outputs": [
    {
     "name": "stdout",
     "output_type": "stream",
     "text": [
      "8250\n"
     ]
    }
   ],
   "source": [
    "print(len(morris_parameter_list) * NRUNS)"
   ]
  },
  {
   "cell_type": "markdown",
   "metadata": {},
   "source": [
    "I simulate the model and store its output: "
   ]
  },
  {
   "cell_type": "code",
   "execution_count": 68,
   "metadata": {},
   "outputs": [],
   "source": [
    "morris_output = simulate_params_sobol(NRUNS=NRUNS, parameter_set=all_morris_parameters, fixed_parameters=fixed_parameters)"
   ]
  },
  {
   "cell_type": "code",
   "execution_count": 69,
   "metadata": {},
   "outputs": [],
   "source": [
    "first_order_autocors = np.array(morris_output[0])\n",
    "autocors1 = np.array(morris_output[1])\n",
    "autocors5 = np.array(morris_output[2])\n",
    "mean_abs_autocor = np.array(morris_output[3])\n",
    "kurtosis = np.array(morris_output[4])\n",
    "spy_abs_auto10 = np.array(morris_output[5])\n",
    "spy_abs_auto25 = np.array(morris_output[6])\n",
    "spy_abs_auto50 = np.array(morris_output[7])\n",
    "spy_abs_auto100 = np.array(morris_output[8])\n",
    "cointegrations = np.array(morris_output[9])"
   ]
  },
  {
   "cell_type": "code",
   "execution_count": 70,
   "metadata": {},
   "outputs": [],
   "source": [
    "spy_abs_auto100 = np.nan_to_num(spy_abs_auto100)    "
   ]
  },
  {
   "cell_type": "code",
   "execution_count": 71,
   "metadata": {},
   "outputs": [],
   "source": [
    "morris_auto_cors = morris.analyze(problem=problem_morris, X=morris_params, Y=first_order_autocors)\n",
    "morris_autocors1 = morris.analyze(problem=problem_morris, X=morris_params, Y=autocors1)\n",
    "morris_autocors5 = morris.analyze(problem=problem_morris, X=morris_params, Y=autocors5)\n",
    "morris_mean_abs_autocor = morris.analyze(problem=problem_morris, X=morris_params, Y=mean_abs_autocor)\n",
    "morris_kurtosis = morris.analyze(problem=problem_morris, X=morris_params, Y=kurtosis)\n",
    "morris_spy_abs_auto10 = morris.analyze(problem=problem_morris, X=morris_params, Y=spy_abs_auto10)\n",
    "morris_spy_abs_auto25 = morris.analyze(problem=problem_morris, X=morris_params, Y=spy_abs_auto25)\n",
    "morris_spy_abs_auto50 = morris.analyze(problem=problem_morris, X=morris_params, Y=spy_abs_auto50)\n",
    "morris_spy_abs_auto100 = morris.analyze(problem=problem_morris, X=morris_params, Y=spy_abs_auto100)\n",
    "morris_cointegrations = morris.analyze(problem=problem_morris, X=morris_params, Y=cointegrations)"
   ]
  },
  {
   "cell_type": "code",
   "execution_count": 29,
   "metadata": {},
   "outputs": [
    {
     "ename": "NameError",
     "evalue": "name 'morris_auto_cors' is not defined",
     "output_type": "error",
     "traceback": [
      "\u001b[1;31m---------------------------------------------------------------------------\u001b[0m",
      "\u001b[1;31mNameError\u001b[0m                                 Traceback (most recent call last)",
      "\u001b[1;32m<ipython-input-29-a7f3dd5b9507>\u001b[0m in \u001b[0;36m<module>\u001b[1;34m()\u001b[0m\n\u001b[1;32m----> 1\u001b[1;33m morris_tests = [morris_auto_cors, morris_autocors1, morris_autocors5, morris_mean_abs_autocor, \n\u001b[0m\u001b[0;32m      2\u001b[0m                 \u001b[0mmorris_kurtosis\u001b[0m\u001b[1;33m,\u001b[0m \u001b[0mmorris_spy_abs_auto10\u001b[0m\u001b[1;33m,\u001b[0m \u001b[0mmorris_spy_abs_auto25\u001b[0m\u001b[1;33m,\u001b[0m\u001b[1;33m\u001b[0m\u001b[0m\n\u001b[0;32m      3\u001b[0m                 morris_spy_abs_auto50, morris_spy_abs_auto100, morris_cointegrations]\n",
      "\u001b[1;31mNameError\u001b[0m: name 'morris_auto_cors' is not defined"
     ]
    }
   ],
   "source": [
    "morris_tests = [morris_auto_cors, morris_autocors1, morris_autocors5, morris_mean_abs_autocor, \n",
    "                morris_kurtosis, morris_spy_abs_auto10, morris_spy_abs_auto25, \n",
    "                morris_spy_abs_auto50, morris_spy_abs_auto100, morris_cointegrations]"
   ]
  },
  {
   "cell_type": "code",
   "execution_count": 30,
   "metadata": {},
   "outputs": [],
   "source": [
    "test_labels = ['Autocorrelation', 'Autocor1', 'Autocor5', 'Abs_autocor', 'Kurtosis',\n",
    "              'abs_cor10', 'abs_cor25', 'abs_cor50', 'abs_cor100', 'Cointegration']"
   ]
  },
  {
   "cell_type": "code",
   "execution_count": 28,
   "metadata": {},
   "outputs": [
    {
     "ename": "NameError",
     "evalue": "name 'morris_tests' is not defined",
     "output_type": "error",
     "traceback": [
      "\u001b[1;31m---------------------------------------------------------------------------\u001b[0m",
      "\u001b[1;31mNameError\u001b[0m                                 Traceback (most recent call last)",
      "\u001b[1;32m<ipython-input-28-dbae9bb48f4f>\u001b[0m in \u001b[0;36m<module>\u001b[1;34m()\u001b[0m\n\u001b[0;32m      1\u001b[0m \u001b[0mmorris_categories\u001b[0m \u001b[1;33m=\u001b[0m \u001b[1;33m[\u001b[0m\u001b[1;34m'mu_star'\u001b[0m\u001b[1;33m,\u001b[0m \u001b[1;34m'mu'\u001b[0m\u001b[1;33m,\u001b[0m \u001b[1;34m'sigma'\u001b[0m\u001b[1;33m]\u001b[0m\u001b[1;33m\u001b[0m\u001b[0m\n\u001b[1;32m----> 2\u001b[1;33m \u001b[0mparameter_lables\u001b[0m \u001b[1;33m=\u001b[0m \u001b[1;33m[\u001b[0m\u001b[1;34m'P{}'\u001b[0m\u001b[1;33m.\u001b[0m\u001b[0mformat\u001b[0m\u001b[1;33m(\u001b[0m\u001b[0mn\u001b[0m\u001b[1;33m)\u001b[0m \u001b[1;32mfor\u001b[0m \u001b[0mn\u001b[0m \u001b[1;32min\u001b[0m \u001b[0mrange\u001b[0m\u001b[1;33m(\u001b[0m\u001b[0mlen\u001b[0m\u001b[1;33m(\u001b[0m\u001b[0mmorris_tests\u001b[0m\u001b[1;33m[\u001b[0m\u001b[1;36m0\u001b[0m\u001b[1;33m]\u001b[0m\u001b[1;33m[\u001b[0m\u001b[0mmorris_categories\u001b[0m\u001b[1;33m[\u001b[0m\u001b[1;36m0\u001b[0m\u001b[1;33m]\u001b[0m\u001b[1;33m]\u001b[0m\u001b[1;33m)\u001b[0m\u001b[1;33m)\u001b[0m\u001b[1;33m]\u001b[0m\u001b[1;33m\u001b[0m\u001b[0m\n\u001b[0m",
      "\u001b[1;31mNameError\u001b[0m: name 'morris_tests' is not defined"
     ]
    }
   ],
   "source": [
    "morris_categories = ['mu_star', 'mu', 'sigma']\n",
    "parameter_lables = ['P{}'.format(n) for n in range(len(morris_tests[0][morris_categories[0]]))]"
   ]
  },
  {
   "cell_type": "code",
   "execution_count": 76,
   "metadata": {},
   "outputs": [],
   "source": [
    "# create matrix with \n",
    "matrix = []\n",
    "# fill rows\n",
    "for stylized_fact in morris_tests:\n",
    "    row = []\n",
    "    for parameter in range(len(parameter_lables)):\n",
    "    # append first mu_star, then mu, then sigma\n",
    "        for category in morris_categories:\n",
    "            # add element\n",
    "            row.append(round(stylized_fact[category][parameter], 3))\n",
    "#             for element in stylized_fact[category]:\n",
    "#                 row.append(round(element, 3)) \n",
    "    matrix.append(row)"
   ]
  },
  {
   "cell_type": "code",
   "execution_count": 79,
   "metadata": {},
   "outputs": [],
   "source": [
    "# create multi-level df \n",
    "header = pd.MultiIndex.from_product([parameter_lables, morris_categories], names=['parameter','categories'])\n",
    "#header = pd.MultiIndex.from_product([['location1','location2'], ['S1','S2','S3']], names=['loc','S'])\n",
    "\n",
    "df = pd.DataFrame(matrix,\n",
    "                  index=test_labels,\n",
    "                  columns=header)"
   ]
  },
  {
   "cell_type": "code",
   "execution_count": 80,
   "metadata": {},
   "outputs": [],
   "source": [
    "df = df.stack()"
   ]
  },
  {
   "cell_type": "code",
   "execution_count": 81,
   "metadata": {},
   "outputs": [],
   "source": [
    "def to_rank(row):\n",
    "    \"\"\"transform row to ranks\"\"\"\n",
    "    seq = sorted(row, reverse=True)\n",
    "    new_row = [seq.index(v) + 1 for v in row]\n",
    "    return new_row"
   ]
  },
  {
   "cell_type": "code",
   "execution_count": 82,
   "metadata": {},
   "outputs": [],
   "source": [
    "for i in range(len(df)):\n",
    "    df.iloc[i] = to_rank(df.iloc[i])"
   ]
  },
  {
   "cell_type": "code",
   "execution_count": 83,
   "metadata": {},
   "outputs": [],
   "source": [
    "df.to_csv('morris_ranks.csv', float_format='%.f',sep='&')"
   ]
  },
  {
   "cell_type": "code",
   "execution_count": 86,
   "metadata": {},
   "outputs": [
    {
     "data": {
      "text/html": [
       "<div>\n",
       "<style scoped>\n",
       "    .dataframe tbody tr th:only-of-type {\n",
       "        vertical-align: middle;\n",
       "    }\n",
       "\n",
       "    .dataframe tbody tr th {\n",
       "        vertical-align: top;\n",
       "    }\n",
       "\n",
       "    .dataframe thead th {\n",
       "        text-align: right;\n",
       "    }\n",
       "</style>\n",
       "<table border=\"1\" class=\"dataframe\">\n",
       "  <thead>\n",
       "    <tr style=\"text-align: right;\">\n",
       "      <th></th>\n",
       "      <th>parameter</th>\n",
       "      <th>P0</th>\n",
       "      <th>P1</th>\n",
       "      <th>P2</th>\n",
       "      <th>P3</th>\n",
       "      <th>P4</th>\n",
       "      <th>P5</th>\n",
       "      <th>P6</th>\n",
       "      <th>P7</th>\n",
       "      <th>P8</th>\n",
       "      <th>P9</th>\n",
       "    </tr>\n",
       "    <tr>\n",
       "      <th></th>\n",
       "      <th>categories</th>\n",
       "      <th></th>\n",
       "      <th></th>\n",
       "      <th></th>\n",
       "      <th></th>\n",
       "      <th></th>\n",
       "      <th></th>\n",
       "      <th></th>\n",
       "      <th></th>\n",
       "      <th></th>\n",
       "      <th></th>\n",
       "    </tr>\n",
       "  </thead>\n",
       "  <tbody>\n",
       "    <tr>\n",
       "      <th rowspan=\"3\" valign=\"top\">Autocorrelation</th>\n",
       "      <th>mu</th>\n",
       "      <td>1.0</td>\n",
       "      <td>8.0</td>\n",
       "      <td>4.0</td>\n",
       "      <td>9.0</td>\n",
       "      <td>2.0</td>\n",
       "      <td>10.0</td>\n",
       "      <td>7.0</td>\n",
       "      <td>6.0</td>\n",
       "      <td>5.0</td>\n",
       "      <td>3.0</td>\n",
       "    </tr>\n",
       "    <tr>\n",
       "      <th>mu_star</th>\n",
       "      <td>3.0</td>\n",
       "      <td>5.0</td>\n",
       "      <td>9.0</td>\n",
       "      <td>2.0</td>\n",
       "      <td>6.0</td>\n",
       "      <td>1.0</td>\n",
       "      <td>4.0</td>\n",
       "      <td>8.0</td>\n",
       "      <td>10.0</td>\n",
       "      <td>7.0</td>\n",
       "    </tr>\n",
       "    <tr>\n",
       "      <th>sigma</th>\n",
       "      <td>4.0</td>\n",
       "      <td>5.0</td>\n",
       "      <td>9.0</td>\n",
       "      <td>2.0</td>\n",
       "      <td>6.0</td>\n",
       "      <td>1.0</td>\n",
       "      <td>3.0</td>\n",
       "      <td>8.0</td>\n",
       "      <td>10.0</td>\n",
       "      <td>7.0</td>\n",
       "    </tr>\n",
       "    <tr>\n",
       "      <th rowspan=\"3\" valign=\"top\">Autocor1</th>\n",
       "      <th>mu</th>\n",
       "      <td>7.0</td>\n",
       "      <td>6.0</td>\n",
       "      <td>3.0</td>\n",
       "      <td>10.0</td>\n",
       "      <td>1.0</td>\n",
       "      <td>8.0</td>\n",
       "      <td>2.0</td>\n",
       "      <td>3.0</td>\n",
       "      <td>5.0</td>\n",
       "      <td>9.0</td>\n",
       "    </tr>\n",
       "    <tr>\n",
       "      <th>mu_star</th>\n",
       "      <td>3.0</td>\n",
       "      <td>4.0</td>\n",
       "      <td>8.0</td>\n",
       "      <td>1.0</td>\n",
       "      <td>6.0</td>\n",
       "      <td>2.0</td>\n",
       "      <td>6.0</td>\n",
       "      <td>9.0</td>\n",
       "      <td>10.0</td>\n",
       "      <td>5.0</td>\n",
       "    </tr>\n",
       "    <tr>\n",
       "      <th>sigma</th>\n",
       "      <td>4.0</td>\n",
       "      <td>3.0</td>\n",
       "      <td>8.0</td>\n",
       "      <td>2.0</td>\n",
       "      <td>5.0</td>\n",
       "      <td>1.0</td>\n",
       "      <td>5.0</td>\n",
       "      <td>9.0</td>\n",
       "      <td>10.0</td>\n",
       "      <td>7.0</td>\n",
       "    </tr>\n",
       "    <tr>\n",
       "      <th rowspan=\"3\" valign=\"top\">Autocor5</th>\n",
       "      <th>mu</th>\n",
       "      <td>1.0</td>\n",
       "      <td>8.0</td>\n",
       "      <td>4.0</td>\n",
       "      <td>9.0</td>\n",
       "      <td>3.0</td>\n",
       "      <td>10.0</td>\n",
       "      <td>7.0</td>\n",
       "      <td>5.0</td>\n",
       "      <td>6.0</td>\n",
       "      <td>2.0</td>\n",
       "    </tr>\n",
       "    <tr>\n",
       "      <th>mu_star</th>\n",
       "      <td>3.0</td>\n",
       "      <td>4.0</td>\n",
       "      <td>10.0</td>\n",
       "      <td>2.0</td>\n",
       "      <td>7.0</td>\n",
       "      <td>1.0</td>\n",
       "      <td>5.0</td>\n",
       "      <td>8.0</td>\n",
       "      <td>9.0</td>\n",
       "      <td>6.0</td>\n",
       "    </tr>\n",
       "    <tr>\n",
       "      <th>sigma</th>\n",
       "      <td>3.0</td>\n",
       "      <td>4.0</td>\n",
       "      <td>9.0</td>\n",
       "      <td>2.0</td>\n",
       "      <td>7.0</td>\n",
       "      <td>1.0</td>\n",
       "      <td>5.0</td>\n",
       "      <td>8.0</td>\n",
       "      <td>10.0</td>\n",
       "      <td>6.0</td>\n",
       "    </tr>\n",
       "    <tr>\n",
       "      <th rowspan=\"3\" valign=\"top\">Abs_autocor</th>\n",
       "      <th>mu</th>\n",
       "      <td>2.0</td>\n",
       "      <td>9.0</td>\n",
       "      <td>7.0</td>\n",
       "      <td>3.0</td>\n",
       "      <td>4.0</td>\n",
       "      <td>10.0</td>\n",
       "      <td>5.0</td>\n",
       "      <td>8.0</td>\n",
       "      <td>6.0</td>\n",
       "      <td>1.0</td>\n",
       "    </tr>\n",
       "    <tr>\n",
       "      <th>mu_star</th>\n",
       "      <td>4.0</td>\n",
       "      <td>3.0</td>\n",
       "      <td>10.0</td>\n",
       "      <td>5.0</td>\n",
       "      <td>6.0</td>\n",
       "      <td>1.0</td>\n",
       "      <td>6.0</td>\n",
       "      <td>8.0</td>\n",
       "      <td>9.0</td>\n",
       "      <td>1.0</td>\n",
       "    </tr>\n",
       "    <tr>\n",
       "      <th>sigma</th>\n",
       "      <td>4.0</td>\n",
       "      <td>3.0</td>\n",
       "      <td>10.0</td>\n",
       "      <td>5.0</td>\n",
       "      <td>6.0</td>\n",
       "      <td>1.0</td>\n",
       "      <td>7.0</td>\n",
       "      <td>8.0</td>\n",
       "      <td>9.0</td>\n",
       "      <td>2.0</td>\n",
       "    </tr>\n",
       "    <tr>\n",
       "      <th rowspan=\"3\" valign=\"top\">Kurtosis</th>\n",
       "      <th>mu</th>\n",
       "      <td>9.0</td>\n",
       "      <td>8.0</td>\n",
       "      <td>7.0</td>\n",
       "      <td>3.0</td>\n",
       "      <td>6.0</td>\n",
       "      <td>10.0</td>\n",
       "      <td>2.0</td>\n",
       "      <td>5.0</td>\n",
       "      <td>4.0</td>\n",
       "      <td>1.0</td>\n",
       "    </tr>\n",
       "    <tr>\n",
       "      <th>mu_star</th>\n",
       "      <td>2.0</td>\n",
       "      <td>4.0</td>\n",
       "      <td>7.0</td>\n",
       "      <td>6.0</td>\n",
       "      <td>3.0</td>\n",
       "      <td>1.0</td>\n",
       "      <td>8.0</td>\n",
       "      <td>9.0</td>\n",
       "      <td>10.0</td>\n",
       "      <td>5.0</td>\n",
       "    </tr>\n",
       "    <tr>\n",
       "      <th>sigma</th>\n",
       "      <td>3.0</td>\n",
       "      <td>4.0</td>\n",
       "      <td>5.0</td>\n",
       "      <td>7.0</td>\n",
       "      <td>2.0</td>\n",
       "      <td>1.0</td>\n",
       "      <td>9.0</td>\n",
       "      <td>8.0</td>\n",
       "      <td>10.0</td>\n",
       "      <td>6.0</td>\n",
       "    </tr>\n",
       "    <tr>\n",
       "      <th rowspan=\"3\" valign=\"top\">abs_cor10</th>\n",
       "      <th>mu</th>\n",
       "      <td>2.0</td>\n",
       "      <td>9.0</td>\n",
       "      <td>6.0</td>\n",
       "      <td>3.0</td>\n",
       "      <td>4.0</td>\n",
       "      <td>10.0</td>\n",
       "      <td>5.0</td>\n",
       "      <td>8.0</td>\n",
       "      <td>7.0</td>\n",
       "      <td>1.0</td>\n",
       "    </tr>\n",
       "    <tr>\n",
       "      <th>mu_star</th>\n",
       "      <td>4.0</td>\n",
       "      <td>3.0</td>\n",
       "      <td>10.0</td>\n",
       "      <td>5.0</td>\n",
       "      <td>7.0</td>\n",
       "      <td>1.0</td>\n",
       "      <td>7.0</td>\n",
       "      <td>6.0</td>\n",
       "      <td>9.0</td>\n",
       "      <td>2.0</td>\n",
       "    </tr>\n",
       "    <tr>\n",
       "      <th>sigma</th>\n",
       "      <td>4.0</td>\n",
       "      <td>2.0</td>\n",
       "      <td>10.0</td>\n",
       "      <td>5.0</td>\n",
       "      <td>7.0</td>\n",
       "      <td>1.0</td>\n",
       "      <td>7.0</td>\n",
       "      <td>6.0</td>\n",
       "      <td>9.0</td>\n",
       "      <td>2.0</td>\n",
       "    </tr>\n",
       "    <tr>\n",
       "      <th rowspan=\"3\" valign=\"top\">abs_cor25</th>\n",
       "      <th>mu</th>\n",
       "      <td>2.0</td>\n",
       "      <td>9.0</td>\n",
       "      <td>4.0</td>\n",
       "      <td>4.0</td>\n",
       "      <td>2.0</td>\n",
       "      <td>10.0</td>\n",
       "      <td>7.0</td>\n",
       "      <td>4.0</td>\n",
       "      <td>8.0</td>\n",
       "      <td>1.0</td>\n",
       "    </tr>\n",
       "    <tr>\n",
       "      <th>mu_star</th>\n",
       "      <td>3.0</td>\n",
       "      <td>4.0</td>\n",
       "      <td>10.0</td>\n",
       "      <td>4.0</td>\n",
       "      <td>7.0</td>\n",
       "      <td>1.0</td>\n",
       "      <td>9.0</td>\n",
       "      <td>6.0</td>\n",
       "      <td>7.0</td>\n",
       "      <td>2.0</td>\n",
       "    </tr>\n",
       "    <tr>\n",
       "      <th>sigma</th>\n",
       "      <td>3.0</td>\n",
       "      <td>2.0</td>\n",
       "      <td>10.0</td>\n",
       "      <td>3.0</td>\n",
       "      <td>7.0</td>\n",
       "      <td>1.0</td>\n",
       "      <td>9.0</td>\n",
       "      <td>6.0</td>\n",
       "      <td>7.0</td>\n",
       "      <td>5.0</td>\n",
       "    </tr>\n",
       "    <tr>\n",
       "      <th rowspan=\"3\" valign=\"top\">abs_cor50</th>\n",
       "      <th>mu</th>\n",
       "      <td>2.0</td>\n",
       "      <td>9.0</td>\n",
       "      <td>6.0</td>\n",
       "      <td>10.0</td>\n",
       "      <td>4.0</td>\n",
       "      <td>6.0</td>\n",
       "      <td>3.0</td>\n",
       "      <td>6.0</td>\n",
       "      <td>5.0</td>\n",
       "      <td>1.0</td>\n",
       "    </tr>\n",
       "    <tr>\n",
       "      <th>mu_star</th>\n",
       "      <td>1.0</td>\n",
       "      <td>7.0</td>\n",
       "      <td>10.0</td>\n",
       "      <td>5.0</td>\n",
       "      <td>8.0</td>\n",
       "      <td>1.0</td>\n",
       "      <td>5.0</td>\n",
       "      <td>4.0</td>\n",
       "      <td>3.0</td>\n",
       "      <td>8.0</td>\n",
       "    </tr>\n",
       "    <tr>\n",
       "      <th>sigma</th>\n",
       "      <td>2.0</td>\n",
       "      <td>5.0</td>\n",
       "      <td>10.0</td>\n",
       "      <td>7.0</td>\n",
       "      <td>8.0</td>\n",
       "      <td>1.0</td>\n",
       "      <td>5.0</td>\n",
       "      <td>4.0</td>\n",
       "      <td>3.0</td>\n",
       "      <td>9.0</td>\n",
       "    </tr>\n",
       "    <tr>\n",
       "      <th rowspan=\"3\" valign=\"top\">abs_cor100</th>\n",
       "      <th>mu</th>\n",
       "      <td>1.0</td>\n",
       "      <td>6.0</td>\n",
       "      <td>2.0</td>\n",
       "      <td>7.0</td>\n",
       "      <td>7.0</td>\n",
       "      <td>2.0</td>\n",
       "      <td>9.0</td>\n",
       "      <td>10.0</td>\n",
       "      <td>2.0</td>\n",
       "      <td>5.0</td>\n",
       "    </tr>\n",
       "    <tr>\n",
       "      <th>mu_star</th>\n",
       "      <td>1.0</td>\n",
       "      <td>8.0</td>\n",
       "      <td>10.0</td>\n",
       "      <td>5.0</td>\n",
       "      <td>9.0</td>\n",
       "      <td>2.0</td>\n",
       "      <td>5.0</td>\n",
       "      <td>4.0</td>\n",
       "      <td>2.0</td>\n",
       "      <td>5.0</td>\n",
       "    </tr>\n",
       "    <tr>\n",
       "      <th>sigma</th>\n",
       "      <td>1.0</td>\n",
       "      <td>8.0</td>\n",
       "      <td>10.0</td>\n",
       "      <td>5.0</td>\n",
       "      <td>9.0</td>\n",
       "      <td>1.0</td>\n",
       "      <td>5.0</td>\n",
       "      <td>4.0</td>\n",
       "      <td>3.0</td>\n",
       "      <td>5.0</td>\n",
       "    </tr>\n",
       "    <tr>\n",
       "      <th rowspan=\"3\" valign=\"top\">Cointegration</th>\n",
       "      <th>mu</th>\n",
       "      <td>8.0</td>\n",
       "      <td>7.0</td>\n",
       "      <td>4.0</td>\n",
       "      <td>10.0</td>\n",
       "      <td>1.0</td>\n",
       "      <td>9.0</td>\n",
       "      <td>3.0</td>\n",
       "      <td>6.0</td>\n",
       "      <td>5.0</td>\n",
       "      <td>2.0</td>\n",
       "    </tr>\n",
       "    <tr>\n",
       "      <th>mu_star</th>\n",
       "      <td>2.0</td>\n",
       "      <td>5.0</td>\n",
       "      <td>10.0</td>\n",
       "      <td>1.0</td>\n",
       "      <td>7.0</td>\n",
       "      <td>3.0</td>\n",
       "      <td>6.0</td>\n",
       "      <td>9.0</td>\n",
       "      <td>8.0</td>\n",
       "      <td>4.0</td>\n",
       "    </tr>\n",
       "    <tr>\n",
       "      <th>sigma</th>\n",
       "      <td>2.0</td>\n",
       "      <td>5.0</td>\n",
       "      <td>10.0</td>\n",
       "      <td>1.0</td>\n",
       "      <td>6.0</td>\n",
       "      <td>3.0</td>\n",
       "      <td>7.0</td>\n",
       "      <td>8.0</td>\n",
       "      <td>9.0</td>\n",
       "      <td>4.0</td>\n",
       "    </tr>\n",
       "  </tbody>\n",
       "</table>\n",
       "</div>"
      ],
      "text/plain": [
       "parameter                    P0   P1    P2    P3   P4    P5   P6    P7    P8  \\\n",
       "                categories                                                     \n",
       "Autocorrelation mu          1.0  8.0   4.0   9.0  2.0  10.0  7.0   6.0   5.0   \n",
       "                mu_star     3.0  5.0   9.0   2.0  6.0   1.0  4.0   8.0  10.0   \n",
       "                sigma       4.0  5.0   9.0   2.0  6.0   1.0  3.0   8.0  10.0   \n",
       "Autocor1        mu          7.0  6.0   3.0  10.0  1.0   8.0  2.0   3.0   5.0   \n",
       "                mu_star     3.0  4.0   8.0   1.0  6.0   2.0  6.0   9.0  10.0   \n",
       "                sigma       4.0  3.0   8.0   2.0  5.0   1.0  5.0   9.0  10.0   \n",
       "Autocor5        mu          1.0  8.0   4.0   9.0  3.0  10.0  7.0   5.0   6.0   \n",
       "                mu_star     3.0  4.0  10.0   2.0  7.0   1.0  5.0   8.0   9.0   \n",
       "                sigma       3.0  4.0   9.0   2.0  7.0   1.0  5.0   8.0  10.0   \n",
       "Abs_autocor     mu          2.0  9.0   7.0   3.0  4.0  10.0  5.0   8.0   6.0   \n",
       "                mu_star     4.0  3.0  10.0   5.0  6.0   1.0  6.0   8.0   9.0   \n",
       "                sigma       4.0  3.0  10.0   5.0  6.0   1.0  7.0   8.0   9.0   \n",
       "Kurtosis        mu          9.0  8.0   7.0   3.0  6.0  10.0  2.0   5.0   4.0   \n",
       "                mu_star     2.0  4.0   7.0   6.0  3.0   1.0  8.0   9.0  10.0   \n",
       "                sigma       3.0  4.0   5.0   7.0  2.0   1.0  9.0   8.0  10.0   \n",
       "abs_cor10       mu          2.0  9.0   6.0   3.0  4.0  10.0  5.0   8.0   7.0   \n",
       "                mu_star     4.0  3.0  10.0   5.0  7.0   1.0  7.0   6.0   9.0   \n",
       "                sigma       4.0  2.0  10.0   5.0  7.0   1.0  7.0   6.0   9.0   \n",
       "abs_cor25       mu          2.0  9.0   4.0   4.0  2.0  10.0  7.0   4.0   8.0   \n",
       "                mu_star     3.0  4.0  10.0   4.0  7.0   1.0  9.0   6.0   7.0   \n",
       "                sigma       3.0  2.0  10.0   3.0  7.0   1.0  9.0   6.0   7.0   \n",
       "abs_cor50       mu          2.0  9.0   6.0  10.0  4.0   6.0  3.0   6.0   5.0   \n",
       "                mu_star     1.0  7.0  10.0   5.0  8.0   1.0  5.0   4.0   3.0   \n",
       "                sigma       2.0  5.0  10.0   7.0  8.0   1.0  5.0   4.0   3.0   \n",
       "abs_cor100      mu          1.0  6.0   2.0   7.0  7.0   2.0  9.0  10.0   2.0   \n",
       "                mu_star     1.0  8.0  10.0   5.0  9.0   2.0  5.0   4.0   2.0   \n",
       "                sigma       1.0  8.0  10.0   5.0  9.0   1.0  5.0   4.0   3.0   \n",
       "Cointegration   mu          8.0  7.0   4.0  10.0  1.0   9.0  3.0   6.0   5.0   \n",
       "                mu_star     2.0  5.0  10.0   1.0  7.0   3.0  6.0   9.0   8.0   \n",
       "                sigma       2.0  5.0  10.0   1.0  6.0   3.0  7.0   8.0   9.0   \n",
       "\n",
       "parameter                    P9  \n",
       "                categories       \n",
       "Autocorrelation mu          3.0  \n",
       "                mu_star     7.0  \n",
       "                sigma       7.0  \n",
       "Autocor1        mu          9.0  \n",
       "                mu_star     5.0  \n",
       "                sigma       7.0  \n",
       "Autocor5        mu          2.0  \n",
       "                mu_star     6.0  \n",
       "                sigma       6.0  \n",
       "Abs_autocor     mu          1.0  \n",
       "                mu_star     1.0  \n",
       "                sigma       2.0  \n",
       "Kurtosis        mu          1.0  \n",
       "                mu_star     5.0  \n",
       "                sigma       6.0  \n",
       "abs_cor10       mu          1.0  \n",
       "                mu_star     2.0  \n",
       "                sigma       2.0  \n",
       "abs_cor25       mu          1.0  \n",
       "                mu_star     2.0  \n",
       "                sigma       5.0  \n",
       "abs_cor50       mu          1.0  \n",
       "                mu_star     8.0  \n",
       "                sigma       9.0  \n",
       "abs_cor100      mu          5.0  \n",
       "                mu_star     5.0  \n",
       "                sigma       5.0  \n",
       "Cointegration   mu          2.0  \n",
       "                mu_star     4.0  \n",
       "                sigma       4.0  "
      ]
     },
     "execution_count": 86,
     "metadata": {},
     "output_type": "execute_result"
    }
   ],
   "source": [
    "df"
   ]
  },
  {
   "cell_type": "code",
   "execution_count": 41,
   "metadata": {},
   "outputs": [],
   "source": [
    "csv = pd.read_csv('morris_ranks.csv', sep='&')\n",
    "\n",
    "parameter_lables = ['P{}'.format(n) for n in range(10)]\n",
    "\n",
    "# create multi-level df \n",
    "header = pd.MultiIndex.from_product([parameter_lables, morris_categories], names=['parameter','categories'])\n",
    "\n",
    "df = pd.DataFrame(0,\n",
    "                  index=test_labels,\n",
    "                  columns=header)\n",
    "\n",
    "df = df.stack()"
   ]
  },
  {
   "cell_type": "code",
   "execution_count": 50,
   "metadata": {},
   "outputs": [
    {
     "data": {
      "text/html": [
       "<div>\n",
       "<style scoped>\n",
       "    .dataframe tbody tr th:only-of-type {\n",
       "        vertical-align: middle;\n",
       "    }\n",
       "\n",
       "    .dataframe tbody tr th {\n",
       "        vertical-align: top;\n",
       "    }\n",
       "\n",
       "    .dataframe thead th {\n",
       "        text-align: right;\n",
       "    }\n",
       "</style>\n",
       "<table border=\"1\" class=\"dataframe\">\n",
       "  <thead>\n",
       "    <tr style=\"text-align: right;\">\n",
       "      <th></th>\n",
       "      <th>parameter</th>\n",
       "      <th>P0</th>\n",
       "      <th>P1</th>\n",
       "      <th>P2</th>\n",
       "      <th>P3</th>\n",
       "      <th>P4</th>\n",
       "      <th>P5</th>\n",
       "      <th>P6</th>\n",
       "      <th>P7</th>\n",
       "      <th>P8</th>\n",
       "      <th>P9</th>\n",
       "    </tr>\n",
       "    <tr>\n",
       "      <th></th>\n",
       "      <th>categories</th>\n",
       "      <th></th>\n",
       "      <th></th>\n",
       "      <th></th>\n",
       "      <th></th>\n",
       "      <th></th>\n",
       "      <th></th>\n",
       "      <th></th>\n",
       "      <th></th>\n",
       "      <th></th>\n",
       "      <th></th>\n",
       "    </tr>\n",
       "  </thead>\n",
       "  <tbody>\n",
       "    <tr>\n",
       "      <th rowspan=\"3\" valign=\"top\">Autocorrelation</th>\n",
       "      <th>mu</th>\n",
       "      <td>1</td>\n",
       "      <td>8</td>\n",
       "      <td>4</td>\n",
       "      <td>9</td>\n",
       "      <td>2</td>\n",
       "      <td>10</td>\n",
       "      <td>7</td>\n",
       "      <td>6</td>\n",
       "      <td>5</td>\n",
       "      <td>3</td>\n",
       "    </tr>\n",
       "    <tr>\n",
       "      <th>mu_star</th>\n",
       "      <td>3</td>\n",
       "      <td>5</td>\n",
       "      <td>9</td>\n",
       "      <td>2</td>\n",
       "      <td>6</td>\n",
       "      <td>1</td>\n",
       "      <td>4</td>\n",
       "      <td>8</td>\n",
       "      <td>10</td>\n",
       "      <td>7</td>\n",
       "    </tr>\n",
       "    <tr>\n",
       "      <th>sigma</th>\n",
       "      <td>4</td>\n",
       "      <td>5</td>\n",
       "      <td>9</td>\n",
       "      <td>2</td>\n",
       "      <td>6</td>\n",
       "      <td>1</td>\n",
       "      <td>3</td>\n",
       "      <td>8</td>\n",
       "      <td>10</td>\n",
       "      <td>7</td>\n",
       "    </tr>\n",
       "    <tr>\n",
       "      <th rowspan=\"3\" valign=\"top\">Autocor1</th>\n",
       "      <th>mu</th>\n",
       "      <td>7</td>\n",
       "      <td>6</td>\n",
       "      <td>3</td>\n",
       "      <td>10</td>\n",
       "      <td>1</td>\n",
       "      <td>8</td>\n",
       "      <td>2</td>\n",
       "      <td>3</td>\n",
       "      <td>5</td>\n",
       "      <td>9</td>\n",
       "    </tr>\n",
       "    <tr>\n",
       "      <th>mu_star</th>\n",
       "      <td>3</td>\n",
       "      <td>4</td>\n",
       "      <td>8</td>\n",
       "      <td>1</td>\n",
       "      <td>6</td>\n",
       "      <td>2</td>\n",
       "      <td>6</td>\n",
       "      <td>9</td>\n",
       "      <td>10</td>\n",
       "      <td>5</td>\n",
       "    </tr>\n",
       "    <tr>\n",
       "      <th>sigma</th>\n",
       "      <td>4</td>\n",
       "      <td>3</td>\n",
       "      <td>8</td>\n",
       "      <td>2</td>\n",
       "      <td>5</td>\n",
       "      <td>1</td>\n",
       "      <td>5</td>\n",
       "      <td>9</td>\n",
       "      <td>10</td>\n",
       "      <td>7</td>\n",
       "    </tr>\n",
       "    <tr>\n",
       "      <th rowspan=\"3\" valign=\"top\">Autocor5</th>\n",
       "      <th>mu</th>\n",
       "      <td>1</td>\n",
       "      <td>8</td>\n",
       "      <td>4</td>\n",
       "      <td>9</td>\n",
       "      <td>3</td>\n",
       "      <td>10</td>\n",
       "      <td>7</td>\n",
       "      <td>5</td>\n",
       "      <td>6</td>\n",
       "      <td>2</td>\n",
       "    </tr>\n",
       "    <tr>\n",
       "      <th>mu_star</th>\n",
       "      <td>3</td>\n",
       "      <td>4</td>\n",
       "      <td>10</td>\n",
       "      <td>2</td>\n",
       "      <td>7</td>\n",
       "      <td>1</td>\n",
       "      <td>5</td>\n",
       "      <td>8</td>\n",
       "      <td>9</td>\n",
       "      <td>6</td>\n",
       "    </tr>\n",
       "    <tr>\n",
       "      <th>sigma</th>\n",
       "      <td>3</td>\n",
       "      <td>4</td>\n",
       "      <td>9</td>\n",
       "      <td>2</td>\n",
       "      <td>7</td>\n",
       "      <td>1</td>\n",
       "      <td>5</td>\n",
       "      <td>8</td>\n",
       "      <td>10</td>\n",
       "      <td>6</td>\n",
       "    </tr>\n",
       "    <tr>\n",
       "      <th rowspan=\"3\" valign=\"top\">Abs_autocor</th>\n",
       "      <th>mu</th>\n",
       "      <td>2</td>\n",
       "      <td>9</td>\n",
       "      <td>7</td>\n",
       "      <td>3</td>\n",
       "      <td>4</td>\n",
       "      <td>10</td>\n",
       "      <td>5</td>\n",
       "      <td>8</td>\n",
       "      <td>6</td>\n",
       "      <td>1</td>\n",
       "    </tr>\n",
       "    <tr>\n",
       "      <th>mu_star</th>\n",
       "      <td>4</td>\n",
       "      <td>3</td>\n",
       "      <td>10</td>\n",
       "      <td>5</td>\n",
       "      <td>6</td>\n",
       "      <td>1</td>\n",
       "      <td>6</td>\n",
       "      <td>8</td>\n",
       "      <td>9</td>\n",
       "      <td>1</td>\n",
       "    </tr>\n",
       "    <tr>\n",
       "      <th>sigma</th>\n",
       "      <td>4</td>\n",
       "      <td>3</td>\n",
       "      <td>10</td>\n",
       "      <td>5</td>\n",
       "      <td>6</td>\n",
       "      <td>1</td>\n",
       "      <td>7</td>\n",
       "      <td>8</td>\n",
       "      <td>9</td>\n",
       "      <td>2</td>\n",
       "    </tr>\n",
       "    <tr>\n",
       "      <th rowspan=\"3\" valign=\"top\">Kurtosis</th>\n",
       "      <th>mu</th>\n",
       "      <td>9</td>\n",
       "      <td>8</td>\n",
       "      <td>7</td>\n",
       "      <td>3</td>\n",
       "      <td>6</td>\n",
       "      <td>10</td>\n",
       "      <td>2</td>\n",
       "      <td>5</td>\n",
       "      <td>4</td>\n",
       "      <td>1</td>\n",
       "    </tr>\n",
       "    <tr>\n",
       "      <th>mu_star</th>\n",
       "      <td>2</td>\n",
       "      <td>4</td>\n",
       "      <td>7</td>\n",
       "      <td>6</td>\n",
       "      <td>3</td>\n",
       "      <td>1</td>\n",
       "      <td>8</td>\n",
       "      <td>9</td>\n",
       "      <td>10</td>\n",
       "      <td>5</td>\n",
       "    </tr>\n",
       "    <tr>\n",
       "      <th>sigma</th>\n",
       "      <td>3</td>\n",
       "      <td>4</td>\n",
       "      <td>5</td>\n",
       "      <td>7</td>\n",
       "      <td>2</td>\n",
       "      <td>1</td>\n",
       "      <td>9</td>\n",
       "      <td>8</td>\n",
       "      <td>10</td>\n",
       "      <td>6</td>\n",
       "    </tr>\n",
       "    <tr>\n",
       "      <th rowspan=\"3\" valign=\"top\">abs_cor10</th>\n",
       "      <th>mu</th>\n",
       "      <td>2</td>\n",
       "      <td>9</td>\n",
       "      <td>6</td>\n",
       "      <td>3</td>\n",
       "      <td>4</td>\n",
       "      <td>10</td>\n",
       "      <td>5</td>\n",
       "      <td>8</td>\n",
       "      <td>7</td>\n",
       "      <td>1</td>\n",
       "    </tr>\n",
       "    <tr>\n",
       "      <th>mu_star</th>\n",
       "      <td>4</td>\n",
       "      <td>3</td>\n",
       "      <td>10</td>\n",
       "      <td>5</td>\n",
       "      <td>7</td>\n",
       "      <td>1</td>\n",
       "      <td>7</td>\n",
       "      <td>6</td>\n",
       "      <td>9</td>\n",
       "      <td>2</td>\n",
       "    </tr>\n",
       "    <tr>\n",
       "      <th>sigma</th>\n",
       "      <td>4</td>\n",
       "      <td>2</td>\n",
       "      <td>10</td>\n",
       "      <td>5</td>\n",
       "      <td>7</td>\n",
       "      <td>1</td>\n",
       "      <td>7</td>\n",
       "      <td>6</td>\n",
       "      <td>9</td>\n",
       "      <td>2</td>\n",
       "    </tr>\n",
       "    <tr>\n",
       "      <th rowspan=\"3\" valign=\"top\">abs_cor25</th>\n",
       "      <th>mu</th>\n",
       "      <td>2</td>\n",
       "      <td>9</td>\n",
       "      <td>4</td>\n",
       "      <td>4</td>\n",
       "      <td>2</td>\n",
       "      <td>10</td>\n",
       "      <td>7</td>\n",
       "      <td>4</td>\n",
       "      <td>8</td>\n",
       "      <td>1</td>\n",
       "    </tr>\n",
       "    <tr>\n",
       "      <th>mu_star</th>\n",
       "      <td>3</td>\n",
       "      <td>4</td>\n",
       "      <td>10</td>\n",
       "      <td>4</td>\n",
       "      <td>7</td>\n",
       "      <td>1</td>\n",
       "      <td>9</td>\n",
       "      <td>6</td>\n",
       "      <td>7</td>\n",
       "      <td>2</td>\n",
       "    </tr>\n",
       "    <tr>\n",
       "      <th>sigma</th>\n",
       "      <td>3</td>\n",
       "      <td>2</td>\n",
       "      <td>10</td>\n",
       "      <td>3</td>\n",
       "      <td>7</td>\n",
       "      <td>1</td>\n",
       "      <td>9</td>\n",
       "      <td>6</td>\n",
       "      <td>7</td>\n",
       "      <td>5</td>\n",
       "    </tr>\n",
       "    <tr>\n",
       "      <th rowspan=\"3\" valign=\"top\">abs_cor50</th>\n",
       "      <th>mu</th>\n",
       "      <td>2</td>\n",
       "      <td>9</td>\n",
       "      <td>6</td>\n",
       "      <td>10</td>\n",
       "      <td>4</td>\n",
       "      <td>6</td>\n",
       "      <td>3</td>\n",
       "      <td>6</td>\n",
       "      <td>5</td>\n",
       "      <td>1</td>\n",
       "    </tr>\n",
       "    <tr>\n",
       "      <th>mu_star</th>\n",
       "      <td>1</td>\n",
       "      <td>7</td>\n",
       "      <td>10</td>\n",
       "      <td>5</td>\n",
       "      <td>8</td>\n",
       "      <td>1</td>\n",
       "      <td>5</td>\n",
       "      <td>4</td>\n",
       "      <td>3</td>\n",
       "      <td>8</td>\n",
       "    </tr>\n",
       "    <tr>\n",
       "      <th>sigma</th>\n",
       "      <td>2</td>\n",
       "      <td>5</td>\n",
       "      <td>10</td>\n",
       "      <td>7</td>\n",
       "      <td>8</td>\n",
       "      <td>1</td>\n",
       "      <td>5</td>\n",
       "      <td>4</td>\n",
       "      <td>3</td>\n",
       "      <td>9</td>\n",
       "    </tr>\n",
       "    <tr>\n",
       "      <th rowspan=\"3\" valign=\"top\">abs_cor100</th>\n",
       "      <th>mu</th>\n",
       "      <td>1</td>\n",
       "      <td>6</td>\n",
       "      <td>2</td>\n",
       "      <td>7</td>\n",
       "      <td>7</td>\n",
       "      <td>2</td>\n",
       "      <td>9</td>\n",
       "      <td>10</td>\n",
       "      <td>2</td>\n",
       "      <td>5</td>\n",
       "    </tr>\n",
       "    <tr>\n",
       "      <th>mu_star</th>\n",
       "      <td>1</td>\n",
       "      <td>8</td>\n",
       "      <td>10</td>\n",
       "      <td>5</td>\n",
       "      <td>9</td>\n",
       "      <td>2</td>\n",
       "      <td>5</td>\n",
       "      <td>4</td>\n",
       "      <td>2</td>\n",
       "      <td>5</td>\n",
       "    </tr>\n",
       "    <tr>\n",
       "      <th>sigma</th>\n",
       "      <td>1</td>\n",
       "      <td>8</td>\n",
       "      <td>10</td>\n",
       "      <td>5</td>\n",
       "      <td>9</td>\n",
       "      <td>1</td>\n",
       "      <td>5</td>\n",
       "      <td>4</td>\n",
       "      <td>3</td>\n",
       "      <td>5</td>\n",
       "    </tr>\n",
       "    <tr>\n",
       "      <th rowspan=\"3\" valign=\"top\">Cointegration</th>\n",
       "      <th>mu</th>\n",
       "      <td>8</td>\n",
       "      <td>7</td>\n",
       "      <td>4</td>\n",
       "      <td>10</td>\n",
       "      <td>1</td>\n",
       "      <td>9</td>\n",
       "      <td>3</td>\n",
       "      <td>6</td>\n",
       "      <td>5</td>\n",
       "      <td>2</td>\n",
       "    </tr>\n",
       "    <tr>\n",
       "      <th>mu_star</th>\n",
       "      <td>2</td>\n",
       "      <td>5</td>\n",
       "      <td>10</td>\n",
       "      <td>1</td>\n",
       "      <td>7</td>\n",
       "      <td>3</td>\n",
       "      <td>6</td>\n",
       "      <td>9</td>\n",
       "      <td>8</td>\n",
       "      <td>4</td>\n",
       "    </tr>\n",
       "    <tr>\n",
       "      <th>sigma</th>\n",
       "      <td>2</td>\n",
       "      <td>5</td>\n",
       "      <td>10</td>\n",
       "      <td>1</td>\n",
       "      <td>6</td>\n",
       "      <td>3</td>\n",
       "      <td>7</td>\n",
       "      <td>8</td>\n",
       "      <td>9</td>\n",
       "      <td>4</td>\n",
       "    </tr>\n",
       "  </tbody>\n",
       "</table>\n",
       "</div>"
      ],
      "text/plain": [
       "parameter                   P0  P1  P2  P3  P4  P5  P6  P7  P8  P9\n",
       "                categories                                        \n",
       "Autocorrelation mu           1   8   4   9   2  10   7   6   5   3\n",
       "                mu_star      3   5   9   2   6   1   4   8  10   7\n",
       "                sigma        4   5   9   2   6   1   3   8  10   7\n",
       "Autocor1        mu           7   6   3  10   1   8   2   3   5   9\n",
       "                mu_star      3   4   8   1   6   2   6   9  10   5\n",
       "                sigma        4   3   8   2   5   1   5   9  10   7\n",
       "Autocor5        mu           1   8   4   9   3  10   7   5   6   2\n",
       "                mu_star      3   4  10   2   7   1   5   8   9   6\n",
       "                sigma        3   4   9   2   7   1   5   8  10   6\n",
       "Abs_autocor     mu           2   9   7   3   4  10   5   8   6   1\n",
       "                mu_star      4   3  10   5   6   1   6   8   9   1\n",
       "                sigma        4   3  10   5   6   1   7   8   9   2\n",
       "Kurtosis        mu           9   8   7   3   6  10   2   5   4   1\n",
       "                mu_star      2   4   7   6   3   1   8   9  10   5\n",
       "                sigma        3   4   5   7   2   1   9   8  10   6\n",
       "abs_cor10       mu           2   9   6   3   4  10   5   8   7   1\n",
       "                mu_star      4   3  10   5   7   1   7   6   9   2\n",
       "                sigma        4   2  10   5   7   1   7   6   9   2\n",
       "abs_cor25       mu           2   9   4   4   2  10   7   4   8   1\n",
       "                mu_star      3   4  10   4   7   1   9   6   7   2\n",
       "                sigma        3   2  10   3   7   1   9   6   7   5\n",
       "abs_cor50       mu           2   9   6  10   4   6   3   6   5   1\n",
       "                mu_star      1   7  10   5   8   1   5   4   3   8\n",
       "                sigma        2   5  10   7   8   1   5   4   3   9\n",
       "abs_cor100      mu           1   6   2   7   7   2   9  10   2   5\n",
       "                mu_star      1   8  10   5   9   2   5   4   2   5\n",
       "                sigma        1   8  10   5   9   1   5   4   3   5\n",
       "Cointegration   mu           8   7   4  10   1   9   3   6   5   2\n",
       "                mu_star      2   5  10   1   7   3   6   9   8   4\n",
       "                sigma        2   5  10   1   6   3   7   8   9   4"
      ]
     },
     "execution_count": 50,
     "metadata": {},
     "output_type": "execute_result"
    }
   ],
   "source": [
    "df[parameter_lables] = csv[parameter_lables].values\n",
    "df"
   ]
  },
  {
   "cell_type": "code",
   "execution_count": 54,
   "metadata": {},
   "outputs": [],
   "source": [
    "parameter_names = ['trader sample size', 'sdt noise', 'std volume', 'weight fundamentalists', 'weight momentum',\n",
    "                  'weight random', 'weight mean-reversion', 'maximum horizon', 'number of traders', 'maximum order expiration ticks']"
   ]
  },
  {
   "cell_type": "code",
   "execution_count": 58,
   "metadata": {},
   "outputs": [],
   "source": [
    "df.columns = parameter_names"
   ]
  },
  {
   "cell_type": "markdown",
   "metadata": {},
   "source": [
    "To find the most influential parameters overall, I sum the ranks for $\\mu^*$ for each parameter over all the moments. This yields the following ranking of overall importance with more important parameters appearing at the top: \n"
   ]
  },
  {
   "cell_type": "code",
   "execution_count": 59,
   "metadata": {},
   "outputs": [
    {
     "data": {
      "text/plain": [
       "weight random                     14\n",
       "trader sample size                26\n",
       "weight fundamentalists            36\n",
       "maximum order expiration ticks    45\n",
       "sdt noise                         47\n",
       "weight mean-reversion             61\n",
       "weight momentum                   66\n",
       "maximum horizon                   71\n",
       "number of traders                 77\n",
       "std volume                        94\n",
       "dtype: int64"
      ]
     },
     "execution_count": 59,
     "metadata": {},
     "output_type": "execute_result"
    }
   ],
   "source": [
    "df.xs('mu_star', level='categories').sum().sort_values()"
   ]
  },
  {
   "cell_type": "markdown",
   "metadata": {},
   "source": [
    "Besides total importance, the Morris Method also provides information about the importance of parameter uncertainty for individual moments. Below, I explore the most important parameters. \n",
    "\n",
    "\n",
    "Influence on autocorrelation components"
   ]
  },
  {
   "cell_type": "code",
   "execution_count": 60,
   "metadata": {},
   "outputs": [
    {
     "data": {
      "text/plain": [
       "weight random                      4\n",
       "weight fundamentalists             5\n",
       "trader sample size                 9\n",
       "sdt noise                         13\n",
       "weight mean-reversion             15\n",
       "maximum order expiration ticks    18\n",
       "weight momentum                   19\n",
       "maximum horizon                   25\n",
       "std volume                        27\n",
       "number of traders                 29\n",
       "dtype: int64"
      ]
     },
     "execution_count": 60,
     "metadata": {},
     "output_type": "execute_result"
    }
   ],
   "source": [
    "df.xs('mu_star', level='categories').loc[['Autocorrelation','Autocor1', 'Autocor5']].sum().sort_values()"
   ]
  },
  {
   "cell_type": "markdown",
   "metadata": {},
   "source": [
    "Influence on volatility clustering components: \n"
   ]
  },
  {
   "cell_type": "code",
   "execution_count": 61,
   "metadata": {},
   "outputs": [
    {
     "data": {
      "text/plain": [
       "weight random                      1\n",
       "maximum order expiration ticks     1\n",
       "sdt noise                          3\n",
       "trader sample size                 4\n",
       "weight fundamentalists             5\n",
       "weight momentum                    6\n",
       "weight mean-reversion              6\n",
       "maximum horizon                    8\n",
       "number of traders                  9\n",
       "std volume                        10\n",
       "dtype: int64"
      ]
     },
     "execution_count": 61,
     "metadata": {},
     "output_type": "execute_result"
    }
   ],
   "source": [
    "df.xs('mu_star', level='categories').loc[['Abs_autocor']].sum().sort_values()"
   ]
  },
  {
   "cell_type": "markdown",
   "metadata": {},
   "source": [
    "Influence on heavy tails components:"
   ]
  },
  {
   "cell_type": "code",
   "execution_count": 62,
   "metadata": {},
   "outputs": [
    {
     "data": {
      "text/plain": [
       "weight random                      1\n",
       "trader sample size                 2\n",
       "weight momentum                    3\n",
       "sdt noise                          4\n",
       "maximum order expiration ticks     5\n",
       "weight fundamentalists             6\n",
       "std volume                         7\n",
       "weight mean-reversion              8\n",
       "maximum horizon                    9\n",
       "number of traders                 10\n",
       "dtype: int64"
      ]
     },
     "execution_count": 62,
     "metadata": {},
     "output_type": "execute_result"
    }
   ],
   "source": [
    "df.xs('mu_star', level='categories').loc[['Kurtosis']].sum().sort_values()"
   ]
  },
  {
   "cell_type": "markdown",
   "metadata": {},
   "source": [
    "Influence on long memory components:"
   ]
  },
  {
   "cell_type": "code",
   "execution_count": 63,
   "metadata": {},
   "outputs": [
    {
     "data": {
      "text/plain": [
       "weight random                      5\n",
       "trader sample size                 9\n",
       "maximum order expiration ticks    17\n",
       "weight fundamentalists            19\n",
       "maximum horizon                   20\n",
       "number of traders                 21\n",
       "sdt noise                         22\n",
       "weight mean-reversion             26\n",
       "weight momentum                   31\n",
       "std volume                        40\n",
       "dtype: int64"
      ]
     },
     "execution_count": 63,
     "metadata": {},
     "output_type": "execute_result"
    }
   ],
   "source": [
    "df.xs('mu_star', level='categories').loc[['abs_cor10','abs_cor25', 'abs_cor50', 'abs_cor100']].sum().sort_values()"
   ]
  },
  {
   "cell_type": "markdown",
   "metadata": {},
   "source": [
    "Given that number of traders and the standard deviation of volume are the least important parameters in total and don't appear to be particularly influential for specific moments, I fix them. "
   ]
  },
  {
   "cell_type": "code",
   "execution_count": 64,
   "metadata": {},
   "outputs": [],
   "source": [
    "fixed_std_volume = 7\n",
    "fixed_number_of_traders = 1000"
   ]
  },
  {
   "cell_type": "markdown",
   "metadata": {},
   "source": [
    "## Estimation\n",
    "\n",
    "Following the procedure presented by [Franke & Westerhoff (2012)](https://www.sciencedirect.com/science/article/pii/S0165188912000802).\n",
    "\n",
    "First, I calculate the average of the bootstrapped moments. "
   ]
  },
  {
   "cell_type": "code",
   "execution_count": 105,
   "metadata": {},
   "outputs": [],
   "source": [
    "av_moments = [np.mean(x) for x in all_bootstrapped_moments]"
   ]
  },
  {
   "cell_type": "markdown",
   "metadata": {},
   "source": [
    "Then, I collect all the bootstrapped moments in a single list:"
   ]
  },
  {
   "cell_type": "code",
   "execution_count": 106,
   "metadata": {},
   "outputs": [],
   "source": [
    "def get_specific_bootstraps_moments(full_series, bootstrap_number):\n",
    "    \"\"\"Get a vector with the moments of a specific bootstrap\"\"\"\n",
    "    return np.array([full_series[i][bootstrap_number] for i in range(len(full_series))])\n",
    "\n",
    "moments_b = [get_specific_bootstraps_moments(all_bootstrapped_moments, n) for n in range(len(bootstrapped_long_series))]"
   ]
  },
  {
   "cell_type": "markdown",
   "metadata": {},
   "source": [
    "Then, I estimate the moment covariance matrix of the bootstrapped data following\n",
    "\n",
    "$\\hat{W} = \\frac{1}{B} \\sum{(m^b - \\hat{m})(m^b - \\hat{m})'}$"
   ]
  },
  {
   "cell_type": "code",
   "execution_count": 109,
   "metadata": {},
   "outputs": [],
   "source": [
    "W_hat = 1.0 / len(bootstrapped_long_series) * sum([np.dot(np.array([(mb - av_moments)]).transpose(), np.array([(mb - av_moments)])) for mb in moments_b])"
   ]
  },
  {
   "cell_type": "markdown",
   "metadata": {},
   "source": [
    "The purpose of the weighting matrix is that moments with low variance and those which correlate with each other get a lower weight. Therefore, following [Franke and Westerhoff (2016)](https://link.springer.com/article/10.1007/s11403-014-0140-6), I set the weighting matrix equal to the inverse of the variance-covariance matrix of the bootstrapped moments."
   ]
  },
  {
   "cell_type": "code",
   "execution_count": 110,
   "metadata": {},
   "outputs": [],
   "source": [
    "W = np.linalg.inv(W_hat)"
   ]
  },
  {
   "cell_type": "markdown",
   "metadata": {},
   "source": [
    "To estimate the model parameters, I employ the traditional approach for the method of simulated moments by minimizing the quadtratic loss function: \n",
    "\n",
    "$J = J(m) = (m^{sim} - m^{emp})' W (m^{sim} - m^{emp}) $\n",
    "\n",
    "The first term is the transpose of the difference between simulated and actual moments. The seond term is the weighting matrix. The third term is the difference between simulated and empirical moments. \n",
    "\n",
    "First, I calculate the J-values for the bootstrapped moments"
   ]
  },
  {
   "cell_type": "code",
   "execution_count": 111,
   "metadata": {},
   "outputs": [],
   "source": [
    "j_values = []\n",
    "for b in moments_b:\n",
    "    j_values.append(quadratic_loss_function(b, emp_moments, W))"
   ]
  },
  {
   "cell_type": "markdown",
   "metadata": {},
   "source": [
    "To reduce the sample variability in the stochastic simulations, I choose a time horizon (following [Franke & Westerhoff (2012)](https://www.sciencedirect.com/science/article/pii/S0165188912000802)) of 10 times the empirical time series. In this case the longest time series. "
   ]
  },
  {
   "cell_type": "code",
   "execution_count": 112,
   "metadata": {},
   "outputs": [
    {
     "data": {
      "text/plain": [
       "24800"
      ]
     },
     "execution_count": 112,
     "metadata": {},
     "output_type": "execute_result"
    }
   ],
   "source": [
    "simulation_time_est = max(len(spy_nom_returns), len(fundamental_values)) * 10\n",
    "simulation_time_est"
   ]
  },
  {
   "cell_type": "markdown",
   "metadata": {},
   "source": [
    "The following table shows the parameter bounds for the estimation procedure, estimated parameters are **bold**. \n",
    "\n",
    "| Parameter | Values (start, stop, step) |\n",
    "| -------------| ------------|\n",
    "| ticks       | 1000   |\n",
    "| n_traders       | 1000      |\n",
    "| fundamental_value       | 166    |\n",
    "| std_fundamental       | 0.053    |\n",
    "| spread_max       | 0.0004      |\n",
    "| std_vol       | 7     |\n",
    "| **trader_sample_size**      | 1, 100, 10      |\n",
    "| **std_noise**       | 0.01, 0.35, 0.01      |\n",
    "| **max_order_expiration_ticks**       | 30      |\n",
    "| **w_fundamentalists**       | 0.0, 100.0., 1.0      |\n",
    "| **w_momentum**       | 0.0, 100.0, 1.0      |\n",
    "| **w_random**       | 0.0, 100.0, 1.0      |\n",
    "| **w_mean_reversion**       | 0.0, 100.0, 1.0       |\n",
    "| **horizon_max**       | 9, 30, 1      |\n",
    "*Table 1 Parameter bounds*"
   ]
  },
  {
   "cell_type": "code",
   "execution_count": 113,
   "metadata": {},
   "outputs": [],
   "source": [
    "problem = {\n",
    "  'num_vars': 8,\n",
    "  'names': ['trader_sample_size', 'std_noise', \n",
    "            'max_order_expiration_ticks', 'w_fundamentalists', 'w_momentum',\n",
    "           'w_random', 'w_mean_reversion',\n",
    "           'horizon_max'],\n",
    "  'bounds': [[1, 30], [0.05, 0.30], \n",
    "             [5, 100], [0.0, 100.0], [0.0, 100.0], \n",
    "             [1.0, 100.0], [0.0, 100.0],\n",
    "             [9, 30]]\n",
    "}"
   ]
  },
  {
   "cell_type": "markdown",
   "metadata": {},
   "source": [
    "### Sample parameter space\n",
    "For the initial population of parameters, I use a Latin Hypercube procedure to sample the parameter space."
   ]
  },
  {
   "cell_type": "code",
   "execution_count": 114,
   "metadata": {},
   "outputs": [],
   "source": [
    "population_size = 150"
   ]
  },
  {
   "cell_type": "code",
   "execution_count": 115,
   "metadata": {},
   "outputs": [],
   "source": [
    "latin_hyper_cube = latin.sample(problem=problem, N=population_size)\n",
    "latin_hyper_cube = latin_hyper_cube.tolist()"
   ]
  },
  {
   "cell_type": "markdown",
   "metadata": {},
   "source": [
    "I transform the nescessary parameters to integers: "
   ]
  },
  {
   "cell_type": "code",
   "execution_count": 116,
   "metadata": {},
   "outputs": [],
   "source": [
    "for idx, parameters in enumerate(latin_hyper_cube):\n",
    "    # ints: 0, 2, 7\n",
    "    latin_hyper_cube[idx][0] = int(latin_hyper_cube[idx][0])\n",
    "    latin_hyper_cube[idx][2] = int(latin_hyper_cube[idx][2])\n",
    "    latin_hyper_cube[idx][7] = int(latin_hyper_cube[idx][7])"
   ]
  },
  {
   "cell_type": "markdown",
   "metadata": {},
   "source": [
    "### Creat initial population for evolutionary algorithm"
   ]
  },
  {
   "cell_type": "code",
   "execution_count": 117,
   "metadata": {},
   "outputs": [],
   "source": [
    "population = []\n",
    "for parameters in latin_hyper_cube:\n",
    "    pars = {}\n",
    "    for key, value in zip(problem['names'], parameters):\n",
    "        pars[key] = value\n",
    "    population.append(Individual(pars, [], np.inf))\n",
    "all_populations = [population]\n",
    "av_pop_fitness = []"
   ]
  },
  {
   "cell_type": "code",
   "execution_count": 118,
   "metadata": {},
   "outputs": [],
   "source": [
    "fixed_parameters = {\"ticks\": simulation_time_est, \"fundamental_value\": int(np.mean(fundamental_values)),\n",
    "                    'n_traders': fixed_number_of_traders, 'std_fundamental': np.std(pd.Series(fundamental_values).pct_change()), \n",
    "                    'spread_max': 0.004087, \n",
    "                    'std_vol': fixed_std_volume}\n",
    "iterations = 50\n",
    "NRUNS = 3"
   ]
  },
  {
   "cell_type": "markdown",
   "metadata": {},
   "source": [
    "## Optimization via evolutionary algorithm"
   ]
  },
  {
   "cell_type": "code",
   "execution_count": 119,
   "metadata": {},
   "outputs": [],
   "source": [
    "def is_stable(lst):\n",
    "    \"\"\"Determine if a series is relatively stable\"\"\"\n",
    "    changes = pd.Series(lst).pct_change()\n",
    "    if len(changes) > 4:\n",
    "        if np.mean(changes[-3:]) < 0.001:\n",
    "            return True\n",
    "        else:\n",
    "            return False\n",
    "    else:\n",
    "        return False"
   ]
  },
  {
   "cell_type": "code",
   "execution_count": null,
   "metadata": {},
   "outputs": [
    {
     "name": "stdout",
     "output_type": "stream",
     "text": [
      "('generation: ', 0, 'fitness: ', 1754.1641018544944)\n",
      "('generation: ', 1, 'fitness: ', 1088.6328569446016)\n",
      "('generation: ', 2, 'fitness: ', 953.59622859892977)\n",
      "('generation: ', 3, 'fitness: ', 901.10992370203928)\n"
     ]
    }
   ],
   "source": [
    "for generation in range(iterations):\n",
    "    # simulate every population\n",
    "    simulated_population, fitness = simulate_population_msm(all_populations[generation], NRUNS, \n",
    "                                                            fixed_parameters, emp_moments, W)\n",
    "    # record population fitness\n",
    "    av_pop_fitness.append(fitness)\n",
    "    print('generation: ', generation, 'fitness: ', fitness)\n",
    "    # if the last generation fitness is almost the same for 3 periods, stop the simulation\n",
    "    if is_stable(av_pop_fitness):\n",
    "        break\n",
    "    \n",
    "    # add a new, evolved population to the list of populations\n",
    "    all_populations.append(evolve_population(simulated_population, fittest_to_retain=0.3, random_to_retain=0.2, \n",
    "                                             parents_to_mutate=0.3, parameters_to_mutate=0.1, problem=problem))"
   ]
  },
  {
   "cell_type": "markdown",
   "metadata": {},
   "source": [
    "From these simulations, I extract the estimated parameters:"
   ]
  },
  {
   "cell_type": "code",
   "execution_count": null,
   "metadata": {},
   "outputs": [],
   "source": [
    "parameters = all_populations[-1][0].parameters.copy()\n",
    "params = fixed_parameters.copy()\n",
    "params.update(parameters)\n",
    "params"
   ]
  },
  {
   "cell_type": "markdown",
   "metadata": {},
   "source": [
    "And save the parameters in a json file. "
   ]
  },
  {
   "cell_type": "code",
   "execution_count": null,
   "metadata": {},
   "outputs": [],
   "source": [
    "with open('estimated_parameters.json', 'w') as fp:\n",
    "    json.dump(params, fp, sort_keys=True, indent=4)"
   ]
  }
 ],
 "metadata": {
  "kernelspec": {
   "display_name": "Python 3",
   "language": "python",
   "name": "python3"
  },
  "language_info": {
   "codemirror_mode": {
    "name": "ipython",
    "version": 3
   },
   "file_extension": ".py",
   "mimetype": "text/x-python",
   "name": "python",
   "nbconvert_exporter": "python",
   "pygments_lexer": "ipython3",
   "version": "3.6.8"
  }
 },
 "nbformat": 4,
 "nbformat_minor": 1
}
