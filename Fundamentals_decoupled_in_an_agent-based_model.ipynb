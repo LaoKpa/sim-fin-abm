{
 "cells": [
  {
   "cell_type": "code",
   "execution_count": 3,
   "metadata": {
    "collapsed": false
   },
   "outputs": [
    {
     "name": "stderr",
     "output_type": "stream",
     "text": [
      "C:\\Users\\p267237\\AppData\\Local\\Continuum\\Anaconda3\\lib\\site-packages\\statsmodels\\compat\\pandas.py:56: FutureWarning: The pandas.core.datetools module is deprecated and will be removed in a future version. Please use the pandas.tseries module instead.\n",
      "  from pandas.core import datetools\n"
     ]
    }
   ],
   "source": [
    "%matplotlib inline\n",
    "\n",
    "import pandas as pd\n",
    "pd.core.common.is_list_like = pd.api.types.is_list_like\n",
    "from matplotlib import style\n",
    "from pandas_datareader import data\n",
    "import random\n",
    "from SALib.sample import latin\n",
    "from functions.stylizedfacts import *\n",
    "import scipy.stats as stats\n",
    "from functions.evolutionaryalgo import *\n",
    "from pandas_datareader import data\n",
    "from functions.helpers import hurst, organise_data, div_by_hundred, discounted_value_cash_flow, find_horizon, calculate_npv\n",
    "import matplotlib.pyplot as plt\n",
    "import statsmodels.api as sm\n",
    "import statsmodels.tsa.stattools as ts\n",
    "import seaborn as sns\n",
    "import numpy as np\n",
    "import json"
   ]
  },
  {
   "cell_type": "code",
   "execution_count": 4,
   "metadata": {
    "collapsed": true
   },
   "outputs": [],
   "source": [
    "style.use('ggplot')"
   ]
  },
  {
   "cell_type": "markdown",
   "metadata": {},
   "source": [
    "# Fundamentals decoupled in an agent-based model: exploring trend-following and mean-reversion chartism\n",
    "\n",
    "By **Joeri Schasfoort**\n",
    "\n",
    "This is the notebook which belongs to the paper of the same name. That paper contributes to the debate about market efficiency by presenting a behavioural agent-based model which suggests that market prices might be decoupled from fundamentals for longer periods than previously thought. This decoupling is explained by an increased prevalence of technical or chartist trading. In the chartist and fundamentalist model framework, the model distinguishes between trend-following and a mean-reversion chartist trading. Replacing fundamentalist trading with the latter causes stock-market prices to become decoupled from their fundamental value. Because, just like fundamentalist trading, mean-reversion trading prevents excessive long-term price predictability as a consequence of trend-following, an increase of meanreversion trading at the expense of fundamentalist trading does not diminish the models ability to reproduce the stylized facts of stock market returns: no autocorrelation, volatility clustering, long memory, and fat tails.\n",
    "\n",
    "The notebook allows for the replication of the main results and graphs of the paper. The results the notebook generals will differ slightly from those in the paper as those where computed using a larger amount of simulations on a cluster computer. \n",
    "\n",
    "The notebook is similar but not identical in structure to the paper. First, it present the model logic in Python code. Then, it shows how to download the data and calculate the stylized facts. After that, Morris methods are used to determine the sensitivity to input parameters. The notebook then shows how to estimate the model, simulate its estimated baseline dynamics, compare its performance to a model version without mean-reversion, and perform experiments switching between fundamentalist and mean-reversion trading. \n",
    "\n",
    "## The model"
   ]
  },
  {
   "cell_type": "code",
   "execution_count": 2,
   "metadata": {
    "collapsed": true
   },
   "outputs": [],
   "source": [
    "def sim_fin_model(traders, orderbook, parameters, seed=1):\n",
    "    \"\"\"\n",
    "    The main model function\n",
    "    :param traders: list of Agent objects\n",
    "    :param orderbook: object Order book\n",
    "    :param parameters: dictionary of parameters\n",
    "    :param seed: integer seed to initialise the random number generators\n",
    "    :return: list of simulated Agent objects, object simulated Order book\n",
    "    \"\"\"\n",
    "    random.seed(seed)\n",
    "    np.random.seed(seed)\n",
    "    fundamental = [parameters[\"fundamental_value\"]]\n",
    "\n",
    "    for tick in range(parameters['horizon_max'] + 1, parameters[\"ticks\"]):\n",
    "        # evolve the fundamental value via random walk process\n",
    "        fundamental.append(fundamental[-1] + parameters[\"std_fundamental\"] * np.random.randn())\n",
    "\n",
    "        # select random sample of active traders\n",
    "        active_traders = random.sample(traders, int((parameters['trader_sample_size'])))\n",
    "\n",
    "        # update common expectation components\n",
    "        mid_price = orderbook.tick_close_price[-1]\n",
    "        fundamental_component = np.log(fundamental[-1] / mid_price)\n",
    "        chartist_component = np.cumsum(orderbook.returns[-parameters['horizon_max']:]\n",
    "                                       ) / np.arange(1., float(parameters['horizon_max'] + 1))\n",
    "\n",
    "        for trader in active_traders:\n",
    "            # update trader specific expectations\n",
    "            noise_component = parameters['std_noise'] * np.random.randn()\n",
    "\n",
    "            fcast_return = trader.var.forecast_adjust * (\n",
    "                trader.var.weight_fundamentalist * fundamental_component +\n",
    "                trader.var.weight_chartist * chartist_component[trader.par.horizon] +\n",
    "                trader.var.weight_random * noise_component -\n",
    "                trader.var.weight_mean_reversion * chartist_component[trader.par.horizon])\n",
    "\n",
    "            fcast_price = mid_price * np.exp(fcast_return)\n",
    "\n",
    "            # submit orders\n",
    "            if fcast_price > mid_price:\n",
    "                bid_price = fcast_price * (1. - trader.par.spread)\n",
    "                orderbook.add_bid(bid_price, abs(int(np.random.normal(scale=parameters['std_vol']))), trader)\n",
    "            elif fcast_price < mid_price:\n",
    "                ask_price = fcast_price * (1 + trader.par.spread)\n",
    "                orderbook.add_ask(ask_price, abs(int(np.random.normal(scale=parameters['std_vol']))), trader)\n",
    "\n",
    "        # match orders in the order-book\n",
    "        while True:\n",
    "            matched_orders = orderbook.match_orders()\n",
    "            if matched_orders is None:\n",
    "                break\n",
    "\n",
    "        # clear and update order-book history\n",
    "        orderbook.cleanse_book()\n",
    "        orderbook.fundamental = fundamental\n",
    "\n",
    "    return traders, orderbook"
   ]
  },
  {
   "cell_type": "markdown",
   "metadata": {},
   "source": [
    "## The data\n",
    "\n",
    "I collect data from three sources. First, I collect daily data on nominal prices from the S&P500 starting on the 1st of August 2008 and ending on the 16th August 2018 (2509 observations) from the Federal Reserve of St. Louis database. Second, I collect historical data on monthly S&P 500 prices and dividends from Robert Shiller’s database2 (Shiller, 2000). Third, I extract historical data on annual shortterm interest rates from the macro history database3 (Jordà et al., 2017). Table 1 presents the descriptive statistics of this data."
   ]
  },
  {
   "cell_type": "code",
   "execution_count": 5,
   "metadata": {
    "collapsed": true
   },
   "outputs": [],
   "source": [
    "start_date = '2008-01-01'\n",
    "end_date = '2018-08-16'\n",
    "\n",
    "spy_nom_price = data.DataReader(\"SP500\", \n",
    "                       start=start_date, \n",
    "                       end=end_date, \n",
    "                       data_source='fred')[\"SP500\"].dropna()\n",
    "spy_nom_returns = spy_nom_price.pct_change()[1:]\n",
    "\n",
    "shiller_data = pd.read_excel('http://www.econ.yale.edu/~shiller/data/ie_data.xls', header=7)[:-3]\n",
    "schul_data = pd.read_excel('http://www.macrohistory.net/JST/JSTmoneyR3.xlsx', sheetname='Data')[['year', 'country', 'stir']]\n",
    "schul_data = schul_data.loc[(schul_data.country == 'USA')]\n",
    "schul_data = schul_data.iloc[1:]\n",
    "schul_data = schul_data.set_index('year')"
   ]
  },
  {
   "cell_type": "code",
   "execution_count": 36,
   "metadata": {
    "collapsed": false
   },
   "outputs": [
    {
     "data": {
      "text/html": [
       "<div>\n",
       "<style>\n",
       "    .dataframe thead tr:only-child th {\n",
       "        text-align: right;\n",
       "    }\n",
       "\n",
       "    .dataframe thead th {\n",
       "        text-align: left;\n",
       "    }\n",
       "\n",
       "    .dataframe tbody tr th {\n",
       "        vertical-align: top;\n",
       "    }\n",
       "</style>\n",
       "<table border=\"1\" class=\"dataframe\">\n",
       "  <thead>\n",
       "    <tr style=\"text-align: right;\">\n",
       "      <th></th>\n",
       "      <th>spy_nom</th>\n",
       "      <th>spy_real</th>\n",
       "      <th>Dividend</th>\n",
       "      <th>T-bill</th>\n",
       "    </tr>\n",
       "  </thead>\n",
       "  <tbody>\n",
       "    <tr>\n",
       "      <th>count</th>\n",
       "      <td>2488.000000</td>\n",
       "      <td>1771.000000</td>\n",
       "      <td>1770.000000</td>\n",
       "      <td>146.000000</td>\n",
       "    </tr>\n",
       "    <tr>\n",
       "      <th>mean</th>\n",
       "      <td>1706.335619</td>\n",
       "      <td>516.589640</td>\n",
       "      <td>15.352034</td>\n",
       "      <td>4.088973</td>\n",
       "    </tr>\n",
       "    <tr>\n",
       "      <th>std</th>\n",
       "      <td>548.628324</td>\n",
       "      <td>556.283435</td>\n",
       "      <td>8.665989</td>\n",
       "      <td>2.927739</td>\n",
       "    </tr>\n",
       "    <tr>\n",
       "      <th>min</th>\n",
       "      <td>676.530000</td>\n",
       "      <td>68.218432</td>\n",
       "      <td>5.026852</td>\n",
       "      <td>0.090000</td>\n",
       "    </tr>\n",
       "    <tr>\n",
       "      <th>25%</th>\n",
       "      <td>1228.857500</td>\n",
       "      <td>171.559513</td>\n",
       "      <td>8.606258</td>\n",
       "      <td>1.890000</td>\n",
       "    </tr>\n",
       "    <tr>\n",
       "      <th>50%</th>\n",
       "      <td>1691.535000</td>\n",
       "      <td>255.369288</td>\n",
       "      <td>12.834290</td>\n",
       "      <td>3.510000</td>\n",
       "    </tr>\n",
       "    <tr>\n",
       "      <th>75%</th>\n",
       "      <td>2097.562500</td>\n",
       "      <td>619.107125</td>\n",
       "      <td>19.509188</td>\n",
       "      <td>5.417500</td>\n",
       "    </tr>\n",
       "    <tr>\n",
       "      <th>max</th>\n",
       "      <td>2872.870000</td>\n",
       "      <td>2836.528900</td>\n",
       "      <td>50.996020</td>\n",
       "      <td>16.390000</td>\n",
       "    </tr>\n",
       "  </tbody>\n",
       "</table>\n",
       "</div>"
      ],
      "text/plain": [
       "           spy_nom     spy_real     Dividend      T-bill\n",
       "count  2488.000000  1771.000000  1770.000000  146.000000\n",
       "mean   1706.335619   516.589640    15.352034    4.088973\n",
       "std     548.628324   556.283435     8.665989    2.927739\n",
       "min     676.530000    68.218432     5.026852    0.090000\n",
       "25%    1228.857500   171.559513     8.606258    1.890000\n",
       "50%    1691.535000   255.369288    12.834290    3.510000\n",
       "75%    2097.562500   619.107125    19.509188    5.417500\n",
       "max    2872.870000  2836.528900    50.996020   16.390000"
      ]
     },
     "execution_count": 36,
     "metadata": {},
     "output_type": "execute_result"
    }
   ],
   "source": [
    "all_data = pd.DataFrame()\n",
    "all_data['spy_nom'] = spy_nom_price.describe()\n",
    "all_data['spy_real'] = shiller_data['Price'].describe()\n",
    "all_data['Dividend'] = shiller_data['Dividend'].describe()\n",
    "all_data['T-bill'] = schul_data['stir'].describe()\n",
    "all_data"
   ]
  },
  {
   "cell_type": "markdown",
   "metadata": {},
   "source": [
    "### The fundamental value\n",
    "\n",
    "To be able to calculate the fundamental value, I extend the Schularick annual data to monthly data. "
   ]
  },
  {
   "cell_type": "code",
   "execution_count": 6,
   "metadata": {
    "collapsed": true
   },
   "outputs": [],
   "source": [
    "schul_data['stir']\n",
    "\n",
    "short_term_int = []\n",
    "counter = -1\n",
    "for idx in range(len(shiller_data)):\n",
    "    if idx % 12 == 0:\n",
    "        counter += 1\n",
    "    try:\n",
    "        short_term_int.append(schul_data['stir'].iloc[counter])\n",
    "    except:\n",
    "        pass"
   ]
  },
  {
   "cell_type": "markdown",
   "metadata": {},
   "source": [
    "So that, I can calculate the discount rate $i_t + r$ for the NPV model. Where $i_t$ is the short-term interest rate time $t$ while $r$ represents the equity price premium which is assumed to be constant at 5.2 which is the level of the equity risk premium estimated by [Avdis & Wachter (2017)](https://doi.org/10.1016/j.jfineco.2017.06.003)."
   ]
  },
  {
   "cell_type": "code",
   "execution_count": 7,
   "metadata": {
    "collapsed": true
   },
   "outputs": [],
   "source": [
    "discount_rates = np.array(short_term_int) + 5.2\n",
    "discount_rates = pd.Series(discount_rates).apply(div_by_hundred)"
   ]
  },
  {
   "cell_type": "markdown",
   "metadata": {},
   "source": [
    "And the discounted cash flows:"
   ]
  },
  {
   "cell_type": "code",
   "execution_count": 8,
   "metadata": {
    "collapsed": true
   },
   "outputs": [],
   "source": [
    "# long_int = shiller_data['Rate GS10'].apply(div_by_hundred) # is this nescessary? \n",
    "# current_index = 0\n",
    "# final_index = len(shiller_data['Dividend'])\n",
    "# discounted_cash_flows = shiller_data['Dividend'] / ((1 + long_int)**range(current_index, final_index))"
   ]
  },
  {
   "cell_type": "markdown",
   "metadata": {},
   "source": [
    "This allows me to calculate the fundamental value. I combine the Shiller and macro history datasets to calculate the fundamental value using the fixed equity premium net present value model. It states that the fundamental value is the sum of discounted future dividend rates\n",
    "\n",
    "\\begin{equation}\n",
    "F_{t} = \\sum_{t=1}^{\\kappa} \\frac{D_t}{(1 + i_t + r)^{t+1}},\n",
    "\\end{equation}\n",
    "\n",
    "where $D_t$ is the dividend. I set the horizon over which to discount future dividends $\\kappa$ to the point at which $\\frac{D_t}{(1 + i_t + e)^t} < 0.01$. Using this equation, I calculate the ex-post fundamental value of the S\\&P 500 in which I assume the annual interest rate holds for all months in that particular year."
   ]
  },
  {
   "cell_type": "code",
   "execution_count": 9,
   "metadata": {
    "collapsed": true
   },
   "outputs": [],
   "source": [
    "fundamental_values = []\n",
    "for idx, cf in enumerate(shiller_data['Dividend'][:-18]):\n",
    "    next_period_divs = shiller_data['Dividend'][idx+1:]\n",
    "    next_period_ints = discount_rates[idx+1]\n",
    "    npv = calculate_npv(next_period_divs, next_period_ints)\n",
    "    if not np.isnan(npv):\n",
    "        fundamental_values.append(npv)\n",
    "    else:\n",
    "        break"
   ]
  },
  {
   "cell_type": "code",
   "execution_count": 10,
   "metadata": {
    "collapsed": true
   },
   "outputs": [],
   "source": [
    "real_prices = shiller_data['Price'][:len(fundamental_values)]"
   ]
  },
  {
   "cell_type": "markdown",
   "metadata": {},
   "source": [
    "This leads to the following plot found in the introduction of the paper: "
   ]
  },
  {
   "cell_type": "code",
   "execution_count": 11,
   "metadata": {
    "collapsed": false
   },
   "outputs": [
    {
     "data": {
      "image/png": "[encoded data removed]",
      "text/plain": [
       "<matplotlib.figure.Figure at 0xb47f390>"
      ]
     },
     "metadata": {},
     "output_type": "display_data"
    }
   ],
   "source": [
    "fig, ax1 = plt.subplots(1, 1, figsize=(10,5))\n",
    "\n",
    "time=0\n",
    "\n",
    "ax1.plot(shiller_data['Date'][time:len(fundamental_values)], fundamental_values[time:], label='fundamental')\n",
    "ax1.plot(shiller_data['Date'][time:len(fundamental_values)], shiller_data['Price'][time:len(fundamental_values)], label='market')\n",
    "\n",
    "ax1.set_ylabel('Value', fontsize='14')\n",
    "ax1.set_xlabel('Year', fontsize='14')\n",
    "\n",
    "ax1.legend(fontsize='14', loc='best')\n",
    "fig.savefig('shiller_campbell_sp500.png')"
   ]
  },
  {
   "cell_type": "markdown",
   "metadata": {},
   "source": [
    "### Bootstrapped data & moments\n",
    "\n",
    "I calculate several moments which are associated with the stylized facts of financial markets and which captures the sustained deviation from the fundamental value.\n",
    " \n",
    "To measure the (un)predictability of returns, I calculate the average autocorrelation over 25 lags and over the first and fifth lag. The average autocorrelation of absolute returns over 25 lags represents volatility clustering. Representing excess volatility, or fat tails in the returns, I measure excess kurtosis. To take into account long memory, I measure the autocorrelation of absolute returns at lag 10, 25, 50 and 100. Finally, as a measure of sustained deviations from fundamentals, I measure the co-integration of the price and the fundamental value using the augmented Engel-Granger test.\n",
    "\n",
    "To facilitate the estimation of model parameters, I perform a block bootstrap on the data from which I extract the confidence intervals of the moments. To do so reliably, I make a distinction between moments which are recorded over different time lengths and perform three separate bootstrap procedures. \n",
    "\n",
    "For the block bootstrap procedure, I follow the approach set out by [Franke and Westerhoff (2012)](https://doi.org/10.1016/j.jedc.2011.10.004). That means that I divide the original data into blocks of size $b$. Then, randomly sampling from these blocks without replacement, I create 5000 unique new time series. To increase the diversity of simulated data, ideally, the block sizes are small. However, to capture some of the longer term moments, I use longer block sizes. \n",
    "\n",
    "For returns, I calculate the moments related to the predictability, volatility clustering and fat tails using block size $b = 250$. Then, for the moments related to long memory, I perform the same procedure with block size $b = 625$. Finally, I create time series of the returns of the historical price and fundamental value for the co-integration moment with block size $b = 205$."
   ]
  },
  {
   "cell_type": "code",
   "execution_count": 12,
   "metadata": {
    "collapsed": true
   },
   "outputs": [],
   "source": [
    "small_block_size = 250\n",
    "large_block_size = 625\n",
    "shiller_block_size = 205"
   ]
  },
  {
   "cell_type": "code",
   "execution_count": 13,
   "metadata": {
    "collapsed": true
   },
   "outputs": [],
   "source": [
    "small_data_blocks = []\n",
    "for x in range(0, len(spy_nom_returns), small_block_size):\n",
    "    small_data_blocks.append(list(spy_nom_returns[x:x+small_block_size]))\n",
    "    \n",
    "# draw 5000 random series\n",
    "bootstrapped_small_series = []\n",
    "for i in range(5000):\n",
    "    sim_data = [random.choice(small_data_blocks) for _ in small_data_blocks]\n",
    "    sim_data2 = [j for i in sim_data for j in i]\n",
    "    bootstrapped_small_series.append(sim_data2)\n",
    "    \n",
    "large_data_blocks = []\n",
    "for x in range(0, len(spy_nom_returns), large_block_size): # used to be len(spy_nom_returns[:-250])\n",
    "    large_data_blocks.append(list(spy_nom_returns[x:x+large_block_size]))\n",
    "    \n",
    "# draw 5000 random series\n",
    "bootstrapped_long_series = []\n",
    "for i in range(5000):\n",
    "    sim_data = [random.choice(large_data_blocks) for _ in large_data_blocks]\n",
    "    sim_data2 = [j for i in sim_data for j in i]\n",
    "    bootstrapped_long_series.append(sim_data2)"
   ]
  },
  {
   "cell_type": "markdown",
   "metadata": {},
   "source": [
    "For the deviation from fundamentals, I first bootstrap the returns of both the fundamental value and the associated returns for market prices. I divided these into blocks. Then, I bootstrap these blocks of returns into new time series and apply them to the starting values of the fundamental value and real prices. This results in 5000 hypothetical time series of fundamentals and real prices. "
   ]
  },
  {
   "cell_type": "code",
   "execution_count": 14,
   "metadata": {
    "collapsed": true
   },
   "outputs": [],
   "source": [
    "fundamental_returns = pd.Series(fundamental_values).pct_change()[1:]\n",
    "real_prices_returns = pd.Series(real_prices).pct_change()[1:]"
   ]
  },
  {
   "cell_type": "code",
   "execution_count": 15,
   "metadata": {
    "collapsed": true
   },
   "outputs": [],
   "source": [
    "# divide both fundamental returns and price returns into blocks\n",
    "shiller_data_blocks = []\n",
    "for x in range(0, len(fundamental_returns[:-3]), shiller_block_size):\n",
    "    shiller_data_blocks.append((list(fundamental_returns[x:x+shiller_block_size]), list(real_prices_returns[x:x+shiller_block_size])))"
   ]
  },
  {
   "cell_type": "code",
   "execution_count": 17,
   "metadata": {
    "collapsed": false
   },
   "outputs": [],
   "source": [
    "def hypothetical_series(starting_value, returns):\n",
    "    \"\"\"\n",
    "    input: starting_value: float starting value\n",
    "    input: returns: list \n",
    "    \"\"\"\n",
    "    returns = list(returns)\n",
    "    simulated_series = [starting_value]\n",
    "    for idx in range(len(returns)):\n",
    "        simulated_series.append(simulated_series[-1] * (1 + returns[idx]))\n",
    "    return simulated_series"
   ]
  },
  {
   "cell_type": "code",
   "execution_count": 18,
   "metadata": {
    "collapsed": true
   },
   "outputs": [],
   "source": [
    "# draw 5000 random series \n",
    "bootstrapped_shiller_series = []\n",
    "for i in range(5000):\n",
    "    #print(i)\n",
    "    # first sample the data\n",
    "    sim_data = [random.choice(shiller_data_blocks) for _ in shiller_data_blocks] # choose a random set of blocks\n",
    "    sim_data_fundamental_returns = [pair[0] for pair in sim_data]\n",
    "    sim_data_price_returns = [pair[1] for pair in sim_data]\n",
    "    \n",
    "    # merge the list of lists\n",
    "    sim_data_fundamental_returns1 = [item for sublist in sim_data_fundamental_returns for item in sublist]\n",
    "    sim_data_price_returns1 = [item for sublist in sim_data_price_returns for item in sublist]\n",
    "    \n",
    "    # calculate the new time_series\n",
    "    sim_data_fundamentals = hypothetical_series(fundamental_values[0], sim_data_fundamental_returns1)\n",
    "    sim_data_prices = hypothetical_series(real_prices[0], sim_data_price_returns1)\n",
    "    \n",
    "    bootstrapped_shiller_series.append((sim_data_fundamentals, sim_data_prices))"
   ]
  },
  {
   "cell_type": "markdown",
   "metadata": {},
   "source": [
    "For returns, I use the following moments short-term moments: \n",
    "\n",
    "1. mean first-order autocorrelation of the raw returns (no predictability),\n",
    "2. autocorrelations at lags t ¼ 1\n",
    "3. autocorrelations at lags t ¼ 5\n",
    "4. mean first-order autocorrelation of the of the absolute returns (volatility clustering),\n",
    "5. Kurtosis (fat tails), "
   ]
  },
  {
   "cell_type": "code",
   "execution_count": 19,
   "metadata": {
    "collapsed": true
   },
   "outputs": [],
   "source": [
    "first_order_autocors = []\n",
    "mean_abs_autocor = []\n",
    "autocors1 = []\n",
    "autocors5 = []\n",
    "kurtoses = []\n",
    "for rets in bootstrapped_small_series:\n",
    "    first_order_autocors.append(autocorrelation_returns(rets, 25))\n",
    "    mean_abs_autocor.append(autocorrelation_abs_returns(rets, 25))\n",
    "    rets = pd.Series(rets)\n",
    "    autocors1.append(rets.autocorr(lag=1))\n",
    "    autocors5.append(rets.autocorr(lag=5))\n",
    "    kurtoses.append(kurtosis(rets))"
   ]
  },
  {
   "cell_type": "markdown",
   "metadata": {},
   "source": [
    "For long-term moments, I use the autocorrelation of returns for the with lags (10, 25, 50, 100)."
   ]
  },
  {
   "cell_type": "code",
   "execution_count": 20,
   "metadata": {
    "collapsed": true
   },
   "outputs": [],
   "source": [
    "spy_abs_auto10 = []\n",
    "spy_abs_auto25 = []\n",
    "spy_abs_auto50 = []\n",
    "spy_abs_auto100 = []\n",
    "\n",
    "for rets in bootstrapped_long_series:\n",
    "    rets = pd.Series(rets)\n",
    "    spy_abs_auto10.append(rets.abs().autocorr(lag=10))\n",
    "    spy_abs_auto25.append(rets.abs().autocorr(lag=25))\n",
    "    spy_abs_auto50.append(rets.abs().autocorr(lag=50))\n",
    "    spy_abs_auto100.append(rets.abs().autocorr(lag=100))"
   ]
  },
  {
   "cell_type": "markdown",
   "metadata": {},
   "source": [
    "For deviations from fundamentals, I use the AFD t-score to test for mean-reversion in the relationship between fundamentals and the price."
   ]
  },
  {
   "cell_type": "code",
   "execution_count": 22,
   "metadata": {
    "collapsed": true
   },
   "outputs": [],
   "source": [
    "cointegrations = []\n",
    "\n",
    "for sers in bootstrapped_shiller_series:\n",
    "    cointegrations.append(cointegr(sers[0], sers[1])[0])"
   ]
  },
  {
   "cell_type": "code",
   "execution_count": null,
   "metadata": {
    "collapsed": true
   },
   "outputs": [],
   "source": []
  }
 ],
 "metadata": {
  "kernelspec": {
   "display_name": "Python 3",
   "language": "python",
   "name": "python3"
  },
  "language_info": {
   "codemirror_mode": {
    "name": "ipython",
    "version": 3
   },
   "file_extension": ".py",
   "mimetype": "text/x-python",
   "name": "python",
   "nbconvert_exporter": "python",
   "pygments_lexer": "ipython3",
   "version": "3.5.2"
  }
 },
 "nbformat": 4,
 "nbformat_minor": 0
}
