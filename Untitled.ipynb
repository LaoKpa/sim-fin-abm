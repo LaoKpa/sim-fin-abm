{
 "cells": [
  {
   "cell_type": "code",
   "execution_count": 1,
   "metadata": {
    "collapsed": true
   },
   "outputs": [],
   "source": [
    "%matplotlib inline\n",
    "from pandas_datareader import data\n",
    "import pandas as pd\n",
    "from SALib.sample import latin, saltelli, fast_sampler\n",
    "from SALib.sample.morris import sample\n",
    "from SALib.analyze import sobol, fast, morris\n",
    "from functions.stylizedfacts import *\n",
    "from functions.evolutionaryalgo import *\n",
    "from functions.sensitivity_analysis import *\n",
    "from functions.helpers import hurst, organise_data\n",
    "import matplotlib.pyplot as plt\n",
    "import quandl"
   ]
  },
  {
   "cell_type": "code",
   "execution_count": 2,
   "metadata": {
    "collapsed": true
   },
   "outputs": [],
   "source": [
    "problem_morris = {\n",
    "    'num_vars': 13,\n",
    "    'names': ['n_traders', 'trader_sample_size', 'std_fundamental', 'std_noise', \n",
    "              'std_vol', 'max_order_expiration_ticks', 'w_fundamentalists', 'w_momentum',\n",
    "              'w_random', 'w_mean_reversion', 'spread_max',\n",
    "              'horizon_min', 'horizon_max'],\n",
    "    'bounds': [[1000, 2000], [1, 30], [0.01, 0.12], [0.05, 0.30], \n",
    "               [1, 15], [10, 100], [1.0, 100.0], [0.0, 100.0], \n",
    "               [1.0, 100.0], [0.0, 100.0], [0.01, 0.15], # change mean reversion to 100.0\n",
    "               [1, 8], [9, 30]]\n",
    "}"
   ]
  },
  {
   "cell_type": "code",
   "execution_count": 17,
   "metadata": {
    "collapsed": true
   },
   "outputs": [],
   "source": [
    "morris_params = sample(problem_morris, N=5000, num_levels=4, grid_jump=2)"
   ]
  },
  {
   "cell_type": "code",
   "execution_count": 18,
   "metadata": {
    "collapsed": false
   },
   "outputs": [
    {
     "data": {
      "text/plain": [
       "210000"
      ]
     },
     "execution_count": 18,
     "metadata": {},
     "output_type": "execute_result"
    }
   ],
   "source": [
    "len(morris_params) * 3"
   ]
  },
  {
   "cell_type": "code",
   "execution_count": null,
   "metadata": {
    "collapsed": true
   },
   "outputs": [],
   "source": []
  }
 ],
 "metadata": {
  "kernelspec": {
   "display_name": "Python [Root]",
   "language": "python",
   "name": "Python [Root]"
  },
  "language_info": {
   "codemirror_mode": {
    "name": "ipython",
    "version": 3
   },
   "file_extension": ".py",
   "mimetype": "text/x-python",
   "name": "python",
   "nbconvert_exporter": "python",
   "pygments_lexer": "ipython3",
   "version": "3.5.2"
  }
 },
 "nbformat": 4,
 "nbformat_minor": 0
}
