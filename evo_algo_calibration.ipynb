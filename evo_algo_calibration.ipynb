{
 "cells": [
  {
   "cell_type": "code",
   "execution_count": 1,
   "metadata": {
    "collapsed": false
   },
   "outputs": [],
   "source": [
    "%matplotlib inline\n",
    "from pandas_datareader import data\n",
    "import pandas as pd\n",
    "from SALib.sample import latin\n",
    "from functions.stylizedfacts import *\n",
    "from functions.evolutionaryalgo import *\n",
    "from functions.helpers import hurst, organise_data\n",
    "import matplotlib.pyplot as plt\n",
    "import quandl"
   ]
  },
  {
   "cell_type": "markdown",
   "metadata": {},
   "source": [
    "# Evolutionary algorithm to calibrate model\n",
    "\n",
    "## 1 get data from S&P500"
   ]
  },
  {
   "cell_type": "code",
   "execution_count": 2,
   "metadata": {
    "collapsed": false
   },
   "outputs": [],
   "source": [
    "start_date = '1960-01-01'\n",
    "end_date = '2016-8-31'\n",
    "window = 320\n",
    "\n",
    "spy_real_price = quandl.get(\"MULTPL/SP500_REAL_PRICE_MONTH\", authtoken=\"8EKNms1cLLU-dBjk5Y4d\").loc[start_date:end_date]\n",
    "spy_real_price = spy_real_price.rename(columns={\"Value\": \"price\"})\n",
    "\n",
    "spy_returns = spy_real_price.pct_change()[1:]\n",
    "\n",
    "spy_dividends = quandl.get(\"MULTPL/SP500_DIV_MONTH\", authtoken=\"8EKNms1cLLU-dBjk5Y4d\").loc[start_date:end_date]\n",
    "spy_dividends = spy_dividends.rename(columns={\"Value\": \"dividends\"})\n",
    "spy_dividends.index = spy_dividends.index + pd.offsets.MonthBegin(1)\n",
    "spy_all = spy_dividends.join(spy_real_price)\n",
    "\n",
    "spy_t_bill = quandl.get(\"FRED/INTGSTUSM193N\", authtoken=\"8EKNms1cLLU-dBjk5Y4d\").loc[start_date:end_date]\n",
    "spy_t_bill = spy_t_bill.rename(columns={\"Value\": \"dividends\"})\n",
    "\n",
    "spy_all['t_bill_int'] = spy_t_bill / 100\n",
    "\n",
    "spy_all['div_growth'] = spy_all['dividends'].pct_change()\n",
    "spy_all['av_div_growth'] = spy_all['div_growth'].rolling(window=window,center=False).mean()\n",
    "spy_all['yield'] = spy_all['dividends'].iloc[1:] / spy_all['price'].iloc[:-1]\n",
    "spy_all['ml_discount'] = [0.052 for x in range(len(spy_all))]\n",
    "spy_all['fixed_yield'] = spy_all['t_bill_int'] + spy_all['ml_discount']\n",
    "\n",
    "spy_all = spy_all.iloc[-window:-1]\n",
    "\n",
    "spy_all['fundamental'] = ((1 + spy_all['av_div_growth']) / (spy_all['fixed_yield'] - spy_all['av_div_growth'])) * spy_all['dividends']\n",
    "spy_all['dev_fundamental'] = spy_all['price'] - spy_all['fundamental']"
   ]
  },
  {
   "cell_type": "markdown",
   "metadata": {},
   "source": [
    "## 2 Extract stylized facts"
   ]
  },
  {
   "cell_type": "code",
   "execution_count": 3,
   "metadata": {
    "collapsed": false
   },
   "outputs": [],
   "source": [
    "spy_autocorrelation = autocorrelation_returns(spy_returns['price'], 25)\n",
    "spy_kurtosis = kurtosis(spy_returns['price'])\n",
    "spy_autocorrelation_abs = autocorrelation_abs_returns(spy_returns['price'], 25)\n",
    "spy_hurst = hurst(spy_all['price'])\n",
    "\n",
    "spy_dev_fund_hurst = hurst(spy_all['dev_fundamental'].iloc[:-1])\n",
    "stylized_facts_spy = [spy_autocorrelation, spy_kurtosis, spy_autocorrelation_abs, spy_hurst, spy_dev_fund_hurst]\n",
    "\n",
    "stylized_facts_spy = pd.DataFrame(stylized_facts_spy, columns=['S&P500'], \n",
    "             index=['autocorrelation', 'kurtosis', 'autocorrelation_abs', 'hurst', 'hurst_dev_from_fund']).to_dict()['S&P500']"
   ]
  },
  {
   "cell_type": "code",
   "execution_count": 4,
   "metadata": {
    "collapsed": false
   },
   "outputs": [
    {
     "data": {
      "text/plain": [
       "{'autocorrelation': 0.00030320061625216735,\n",
       " 'autocorrelation_abs': 0.049914003700974562,\n",
       " 'hurst': 0.41423988932290962,\n",
       " 'hurst_dev_from_fund': 0.40316509821294022,\n",
       " 'kurtosis': 3.0676490833426238}"
      ]
     },
     "execution_count": 4,
     "metadata": {},
     "output_type": "execute_result"
    }
   ],
   "source": [
    "stylized_facts_spy"
   ]
  },
  {
   "cell_type": "markdown",
   "metadata": {},
   "source": [
    "## 3 Define parameter space bounds \n",
    "\n",
    "Table 1 shows the parameter bounds, free parameters are **bold**. \n",
    "\n",
    "| Parameter | Values (start, stop, step) |\n",
    "| -------------| ------------|\n",
    "| **n_traders**       | 100, 5000, 25      |\n",
    "| ticks       | 2500, 2500, 0   |\n",
    "| **trader_sample_size**       | 1, 100, 10      |\n",
    "| fundamental_value       | 100, 100, 0      |\n",
    "| **std_fundamental**       | 0.01, 0.2 , 0.01     |\n",
    "| **std_noise**       | 0.01, 0.35, 0.01      |\n",
    "| **std_vol**       | 1, 50, 1      |\n",
    "| **max_order_expiration_ticks**       | 5, 200, 5       |\n",
    "| **w_fundamentalists**       | 0.0, 100.0., 1.0      |\n",
    "| **w_momentum**       | 0.0, 100.0, 1.0      |\n",
    "| **w_random**       | 0.0, 100.0, 1.0      |\n",
    "| **w_mean_reversion**       | 0.0, 100.0, 1.0       |\n",
    "| w_buy_hold       | 0.0, 0.0, 0.0      |\n",
    "| **spread_max**       | 0.01, 0.15, 0.01       |\n",
    "| **horizon_min**       | 1, 8, 1      |\n",
    "| **horizon_max**       | 9, 30, 1      |\n",
    "*Table 1 Parameter bounds*"
   ]
  },
  {
   "cell_type": "code",
   "execution_count": 5,
   "metadata": {
    "collapsed": true
   },
   "outputs": [],
   "source": [
    "# parameter_space = {'n_traders':[100, 5000], 'trader_sample_size':[1, 100], 'std_fundamental':[0.01, 0.2], \n",
    "#                    'std_noise':[0.01, 0.35], 'std_vol':[1, 50], \n",
    "#                    'max_order_expiration_ticks':[5, 200], 'w_fundamentalists':[0.0, 100.0], 'w_momentum':[0.0, 100.0],\n",
    "#                    'w_random':[0.0, 100.0], 'w_mean_reversion':[0.0, 100.0], \n",
    "#                    'spread_max':[0.01, 0.15], 'horizon_min':[1, 8], \n",
    "#                    'horizon_max':[9, 30]}"
   ]
  },
  {
   "cell_type": "code",
   "execution_count": 45,
   "metadata": {
    "collapsed": true
   },
   "outputs": [],
   "source": [
    "problem = {\n",
    "  'num_vars': 13,\n",
    "  'names': ['n_traders', 'trader_sample_size', 'std_fundamental', 'std_noise', \n",
    "            'std_vol', 'max_order_expiration_ticks', 'w_fundamentalists', 'w_momentum',\n",
    "           'w_random', 'w_mean_reversion', 'spread_max',\n",
    "           'horizon_min', 'horizon_max'],\n",
    "  'bounds': [[1000, 2000], [1, 30], [0.01, 0.12], [0.05, 0.30], \n",
    "             [1, 15], [10, 100], [0.0, 100.0], [0.0, 100.0], \n",
    "             [0.0, 100.0], [0.0, 100.0], [0.01, 0.15],\n",
    "             [1, 8], [9, 30]]\n",
    "}"
   ]
  },
  {
   "cell_type": "markdown",
   "metadata": {},
   "source": [
    "## 4 Sample the parameter space using a latin hypercube"
   ]
  },
  {
   "cell_type": "code",
   "execution_count": 46,
   "metadata": {
    "collapsed": true
   },
   "outputs": [],
   "source": [
    "population_size = 10"
   ]
  },
  {
   "cell_type": "code",
   "execution_count": 47,
   "metadata": {
    "collapsed": false
   },
   "outputs": [],
   "source": [
    "latin_hyper_cube = latin.sample(problem=problem, N=population_size)\n",
    "latin_hyper_cube = latin_hyper_cube.tolist()"
   ]
  },
  {
   "cell_type": "code",
   "execution_count": 49,
   "metadata": {
    "collapsed": true
   },
   "outputs": [],
   "source": [
    "# transform some of the parameters to integer\n",
    "for idx, parameters in enumerate(latin_hyper_cube):\n",
    "    # ints: 0, 1, 4, 5, 11, 12\n",
    "    latin_hyper_cube[idx][0] = int(latin_hyper_cube[idx][0])\n",
    "    latin_hyper_cube[idx][1] = int(latin_hyper_cube[idx][1])\n",
    "    latin_hyper_cube[idx][4] = int(latin_hyper_cube[idx][4])\n",
    "    latin_hyper_cube[idx][5] = int(latin_hyper_cube[idx][5])\n",
    "    latin_hyper_cube[idx][11] = int(latin_hyper_cube[idx][11])\n",
    "    latin_hyper_cube[idx][12] = int(latin_hyper_cube[idx][12])"
   ]
  },
  {
   "cell_type": "markdown",
   "metadata": {},
   "source": [
    "## 5 Run evolutionary algorithm"
   ]
  },
  {
   "cell_type": "code",
   "execution_count": 50,
   "metadata": {
    "collapsed": false
   },
   "outputs": [],
   "source": [
    "# create initial population\n",
    "population = []\n",
    "for parameters in latin_hyper_cube:\n",
    "    pars = {}\n",
    "    for key, value in zip(problem['names'], parameters):\n",
    "        pars[key] = value\n",
    "    population.append(Individual(pars, [], np.inf))\n",
    "all_populations = [population]\n",
    "av_pop_fitness = []"
   ]
  },
  {
   "cell_type": "code",
   "execution_count": 51,
   "metadata": {
    "collapsed": true
   },
   "outputs": [],
   "source": [
    "fixed_parameters = {\"ticks\": 500, \"fundamental_value\": 100, \"w_buy_hold\": 0.0}\n",
    "iterations = 15\n",
    "NRUNS = 1"
   ]
  },
  {
   "cell_type": "code",
   "execution_count": 52,
   "metadata": {
    "collapsed": false
   },
   "outputs": [
    {
     "name": "stdout",
     "output_type": "stream",
     "text": [
      "generation:  0 fitness:  4136.82637517\n",
      "generation:  1 fitness:  2837.85323642\n",
      "generation:  2 fitness:  2501.29921719\n",
      "generation:  3 fitness:  4899.19831685\n",
      "generation:  4 fitness:  1963.69512267\n",
      "generation:  5 fitness:  134.925480011\n",
      "generation:  6 fitness:  443.457200997\n",
      "generation:  7 fitness:  268.055217074\n",
      "generation:  8 fitness:  7.37347600707\n",
      "generation:  9 fitness:  7.37347600707\n",
      "generation:  10 fitness:  7.37347600707\n",
      "generation:  11 fitness:  7.37347600707\n",
      "generation:  12 fitness:  7.37347600707\n",
      "generation:  13 fitness:  7.37347600707\n",
      "generation:  14 fitness:  7.37347600707\n",
      "generation:  15 fitness:  7.37347600707\n",
      "generation:  16 fitness:  7.37347600707\n",
      "generation:  17 fitness:  7.37347600707\n",
      "generation:  18 fitness:  7.37347600707\n",
      "generation:  19 fitness:  7.37347600707\n"
     ]
    }
   ],
   "source": [
    "for generation in range(iterations):\n",
    "    # simulate every population\n",
    "    simulated_population, fitness = simulate_population(all_populations[generation], NRUNS, fixed_parameters, stylized_facts_spy)\n",
    "    # record population fitness\n",
    "    av_pop_fitness.append(fitness)\n",
    "    print('generation: ', generation, 'fitness: ', fitness)\n",
    "    # add a new, evolved population to the list of populations\n",
    "    all_populations.append(evolve_population(simulated_population, fittest_to_retain=0.3, random_to_retain=0.2, \n",
    "                                             parents_to_mutate=0.3, parameters_to_mutate=0.1, problem=problem))"
   ]
  },
  {
   "cell_type": "code",
   "execution_count": 53,
   "metadata": {
    "collapsed": false
   },
   "outputs": [
    {
     "data": {
      "text/plain": [
       "<matplotlib.text.Text at 0x90d76d8>"
      ]
     },
     "execution_count": 53,
     "metadata": {},
     "output_type": "execute_result"
    },
    {
     "data": {
      "image/png": "[encoded data removed]",
      "text/plain": [
       "<matplotlib.figure.Figure at 0xb937fd0>"
      ]
     },
     "metadata": {},
     "output_type": "display_data"
    }
   ],
   "source": [
    "fig, ax1 = plt.subplots(1, 1, figsize=(10,5))\n",
    "\n",
    "ax1.plot(range(len(av_pop_fitness)), av_pop_fitness)\n",
    "ax1.set_ylabel('Fitness', fontsize='12')\n",
    "ax1.set_xlabel('Generation', fontsize='12')"
   ]
  },
  {
   "cell_type": "markdown",
   "metadata": {},
   "source": [
    "## Extract parameter values:\n",
    "\n",
    "### Best parameters"
   ]
  },
  {
   "cell_type": "code",
   "execution_count": 54,
   "metadata": {
    "collapsed": false
   },
   "outputs": [
    {
     "data": {
      "text/plain": [
       "{'horizon_max': 15,\n",
       " 'horizon_min': 6,\n",
       " 'max_order_expiration_ticks': 92,\n",
       " 'n_traders': 1413,\n",
       " 'spread_max': 0.040136915087013045,\n",
       " 'std_fundamental': 0.10872321803799265,\n",
       " 'std_noise': 0.20508407891045205,\n",
       " 'std_vol': 1,\n",
       " 'trader_sample_size': 26,\n",
       " 'w_fundamentalists': 76.66646857709344,\n",
       " 'w_mean_reversion': 65.01917050983388,\n",
       " 'w_momentum': 47.53421946123167,\n",
       " 'w_random': 1.4948772502086316}"
      ]
     },
     "execution_count": 54,
     "metadata": {},
     "output_type": "execute_result"
    }
   ],
   "source": [
    "all_populations[-1][0].parameters"
   ]
  },
  {
   "cell_type": "markdown",
   "metadata": {},
   "source": [
    "### Best stylized facts compared to actual stylized facts"
   ]
  },
  {
   "cell_type": "code",
   "execution_count": 55,
   "metadata": {
    "collapsed": false
   },
   "outputs": [
    {
     "name": "stdout",
     "output_type": "stream",
     "text": [
      "simulation:\n",
      "{'autocorrelation': 0.00058222186504637596, 'autocorrelation_abs': 0.022017699983722574, 'hurst_dev_from_fund': 0.27540621743254767, 'kurtosis': 8.1143137822193889, 'hurst': 0.42403790366880117}\n",
      "s&p500:\n",
      "{'autocorrelation': 0.00030320061625216735, 'autocorrelation_abs': 0.049914003700974562, 'hurst_dev_from_fund': 0.40316509821294022, 'kurtosis': 3.0676490833426238, 'hurst': 0.41423988932290962}\n"
     ]
    }
   ],
   "source": [
    "print('simulation:')\n",
    "print(all_populations[-1][0].stylized_facts)\n",
    "print('s&p500:')\n",
    "print(stylized_facts_spy)"
   ]
  }
 ],
 "metadata": {
  "kernelspec": {
   "display_name": "Python 3",
   "language": "python",
   "name": "python3"
  },
  "language_info": {
   "codemirror_mode": {
    "name": "ipython",
    "version": 3
   },
   "file_extension": ".py",
   "mimetype": "text/x-python",
   "name": "python",
   "nbconvert_exporter": "python",
   "pygments_lexer": "ipython3",
   "version": "3.5.2"
  }
 },
 "nbformat": 4,
 "nbformat_minor": 0
}
