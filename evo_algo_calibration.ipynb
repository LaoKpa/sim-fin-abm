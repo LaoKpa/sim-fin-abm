{
 "cells": [
  {
   "cell_type": "code",
   "execution_count": 22,
   "metadata": {
    "collapsed": false
   },
   "outputs": [],
   "source": [
    "%matplotlib inline\n",
    "from pandas_datareader import data\n",
    "import pandas as pd\n",
    "from SALib.sample import latin\n",
    "from functions.stylizedfacts import *\n",
    "from functions.evolutionaryalgo import *\n",
    "from functions.helpers import hurst, organise_data\n",
    "import matplotlib.pyplot as plt\n",
    "import quandl\n",
    "import statsmodels.api as sm\n",
    "import statsmodels.tsa.stattools as ts"
   ]
  },
  {
   "cell_type": "markdown",
   "metadata": {},
   "source": [
    "# Evolutionary algorithm to calibrate model\n",
    "\n",
    "## 1 Calculate fundamental value using shiller data"
   ]
  },
  {
   "cell_type": "code",
   "execution_count": 3,
   "metadata": {
    "collapsed": true
   },
   "outputs": [],
   "source": [
    "shiller_data = pd.read_excel('ie_data.xls', header=7)[:-3]"
   ]
  },
  {
   "cell_type": "code",
   "execution_count": 4,
   "metadata": {
    "collapsed": false
   },
   "outputs": [],
   "source": [
    "# later plot discount rate if markets are efficient\n",
    "schul_data = pd.read_excel('JSTmoneyR3.xlsx', sheetname='Data')[['year', 'country', 'stir']]\n",
    "schul_data = schul_data.loc[(schul_data.country == 'USA')]\n",
    "schul_data = schul_data.iloc[1:]\n",
    "schul_data = schul_data.set_index('year')"
   ]
  },
  {
   "cell_type": "code",
   "execution_count": 5,
   "metadata": {
    "collapsed": true
   },
   "outputs": [],
   "source": [
    "def div_by_hundred(x):\n",
    "    return x / 100.0"
   ]
  },
  {
   "cell_type": "code",
   "execution_count": 6,
   "metadata": {
    "collapsed": false
   },
   "outputs": [],
   "source": [
    "# extend make list \n",
    "schul_data['stir']\n",
    "\n",
    "short_term_int = []\n",
    "counter = -1\n",
    "for idx in range(len(shiller_data)):\n",
    "    if idx % 12 == 0:\n",
    "        counter += 1\n",
    "    try:\n",
    "        short_term_int.append(schul_data['stir'].iloc[counter])\n",
    "    except:\n",
    "        pass\n",
    "#short_term_int"
   ]
  },
  {
   "cell_type": "code",
   "execution_count": 7,
   "metadata": {
    "collapsed": false
   },
   "outputs": [],
   "source": [
    "discount_rates = np.array(short_term_int) + 5.2\n",
    "discount_rates = pd.Series(discount_rates).apply(div_by_hundred)\n",
    "#discount_rates"
   ]
  },
  {
   "cell_type": "code",
   "execution_count": 8,
   "metadata": {
    "collapsed": false
   },
   "outputs": [],
   "source": [
    "long_int = shiller_data['Rate GS10'].apply(div_by_hundred)"
   ]
  },
  {
   "cell_type": "code",
   "execution_count": 9,
   "metadata": {
    "collapsed": true
   },
   "outputs": [],
   "source": [
    "def discounted_value_cash_flow(cash_flow, periods_ahead, disc_rate):\n",
    "    return cash_flow / (1 + disc_rate)**periods_ahead"
   ]
  },
  {
   "cell_type": "code",
   "execution_count": 10,
   "metadata": {
    "collapsed": false
   },
   "outputs": [],
   "source": [
    "current_index = 0\n",
    "final_index = len(shiller_data['Dividend'])\n",
    "discounted_cash_flows = shiller_data['Dividend'] / ((1 + long_int)**range(current_index, final_index))"
   ]
  },
  {
   "cell_type": "code",
   "execution_count": 11,
   "metadata": {
    "collapsed": false
   },
   "outputs": [
    {
     "data": {
      "text/plain": [
       "121.30106833314957"
      ]
     },
     "execution_count": 11,
     "metadata": {},
     "output_type": "execute_result"
    }
   ],
   "source": [
    "sum(discounted_cash_flows)"
   ]
  },
  {
   "cell_type": "code",
   "execution_count": 12,
   "metadata": {
    "collapsed": false
   },
   "outputs": [],
   "source": [
    "# at what period can the discounted_cash flows be cut off\n",
    "# find index at which:\n",
    "def find_horizon(dcfs):\n",
    "    for idx, cash_flow in enumerate(dcfs):\n",
    "        if cash_flow < 0.01:\n",
    "            return idx\n",
    "    return False"
   ]
  },
  {
   "cell_type": "code",
   "execution_count": 13,
   "metadata": {
    "collapsed": true
   },
   "outputs": [],
   "source": [
    "def calculate_npv(dividends, discount_rates):\n",
    "    \"\"\"Calculates the current NPV of a stream of dividends \"\"\"\n",
    "    current_index = 0\n",
    "    final_index = len(dividends)\n",
    "    discounted_cash_flows = dividends / ((1 + discount_rates)**range(current_index, final_index))\n",
    "    if find_horizon(discounted_cash_flows):\n",
    "        return sum(discounted_cash_flows[:find_horizon(discounted_cash_flows)])\n",
    "    else: \n",
    "        return np.nan"
   ]
  },
  {
   "cell_type": "code",
   "execution_count": 14,
   "metadata": {
    "collapsed": false
   },
   "outputs": [
    {
     "data": {
      "text/plain": [
       "1770"
      ]
     },
     "execution_count": 14,
     "metadata": {},
     "output_type": "execute_result"
    }
   ],
   "source": [
    "len(shiller_data['Dividend'])"
   ]
  },
  {
   "cell_type": "code",
   "execution_count": 15,
   "metadata": {
    "collapsed": false
   },
   "outputs": [
    {
     "data": {
      "text/plain": [
       "50.979017660094733"
      ]
     },
     "execution_count": 15,
     "metadata": {},
     "output_type": "execute_result"
    }
   ],
   "source": [
    "calculate_npv(shiller_data['Dividend'][:-18], discount_rates)"
   ]
  },
  {
   "cell_type": "code",
   "execution_count": 16,
   "metadata": {
    "collapsed": false
   },
   "outputs": [
    {
     "data": {
      "text/plain": [
       "191"
      ]
     },
     "execution_count": 16,
     "metadata": {},
     "output_type": "execute_result"
    }
   ],
   "source": [
    "find_horizon(discounted_cash_flows)"
   ]
  },
  {
   "cell_type": "code",
   "execution_count": 17,
   "metadata": {
    "collapsed": false
   },
   "outputs": [],
   "source": [
    "fundamental_values = []\n",
    "for idx, cf in enumerate(shiller_data['Dividend'][:-18]):\n",
    "    next_period_divs = shiller_data['Dividend'][idx+1:]\n",
    "    next_period_ints = discount_rates[idx+1]\n",
    "    npv = calculate_npv(next_period_divs, next_period_ints)\n",
    "    if not np.isnan(npv):\n",
    "        fundamental_values.append(npv)\n",
    "    else:\n",
    "        break"
   ]
  },
  {
   "cell_type": "code",
   "execution_count": 18,
   "metadata": {
    "collapsed": false
   },
   "outputs": [
    {
     "data": {
      "text/plain": [
       "<matplotlib.legend.Legend at 0x1e51cb58f60>"
      ]
     },
     "execution_count": 18,
     "metadata": {},
     "output_type": "execute_result"
    },
    {
     "data": {
      "image/png": "[encoded data removed]",
      "text/plain": [
       "<matplotlib.figure.Figure at 0x1e51cb130f0>"
      ]
     },
     "metadata": {},
     "output_type": "display_data"
    }
   ],
   "source": [
    "fig, ax1 = plt.subplots(1, 1, figsize=(10,5))\n",
    "\n",
    "ax1.plot(shiller_data['Date'][:len(fundamental_values)], fundamental_values, label='fundamental')\n",
    "ax1.plot(shiller_data['Date'][:len(fundamental_values)], shiller_data['Price'][:len(fundamental_values)], label='market')\n",
    "\n",
    "ax1.set_ylabel('Price', fontsize='12')\n",
    "ax1.set_xlabel('Year', fontsize='12')\n",
    "\n",
    "ax1.legend()"
   ]
  },
  {
   "cell_type": "markdown",
   "metadata": {
    "collapsed": true
   },
   "source": [
    "# Stylized fact of no mean reversion to fundamentals:"
   ]
  },
  {
   "cell_type": "code",
   "execution_count": 19,
   "metadata": {
    "collapsed": true
   },
   "outputs": [],
   "source": [
    "# calculate co-integration of price and fundamentals \n",
    "model = sm.OLS(fundamental_values, shiller_data['Price'][:len(fundamental_values)])\n",
    "res = model.fit()\n",
    "residuals = res.resid"
   ]
  },
  {
   "cell_type": "code",
   "execution_count": 20,
   "metadata": {
    "collapsed": false
   },
   "outputs": [
    {
     "data": {
      "text/plain": [
       "<matplotlib.axes._subplots.AxesSubplot at 0x1e51c96e518>"
      ]
     },
     "execution_count": 20,
     "metadata": {},
     "output_type": "execute_result"
    },
    {
     "data": {
      "image/png": "[encoded data removed]",
      "text/plain": [
       "<matplotlib.figure.Figure at 0x1e51c94a1d0>"
      ]
     },
     "metadata": {},
     "output_type": "display_data"
    }
   ],
   "source": [
    "residuals.plot()"
   ]
  },
  {
   "cell_type": "code",
   "execution_count": 23,
   "metadata": {
    "collapsed": false
   },
   "outputs": [
    {
     "name": "stdout",
     "output_type": "stream",
     "text": [
      "ADF test statistic  -3.39593294701\n",
      "ADF critical values {'10%': -2.5677212878453477, '5%': -2.8633268625511046, '1%': -3.4343955209592241}\n"
     ]
    }
   ],
   "source": [
    "cadf = ts.adfuller(residuals) # can be rejected at 5%\n",
    "print('ADF test statistic ', cadf[0])\n",
    "print('ADF critical values', cadf[4])"
   ]
  },
  {
   "cell_type": "markdown",
   "metadata": {},
   "source": [
    "# "
   ]
  },
  {
   "cell_type": "code",
   "execution_count": null,
   "metadata": {
    "collapsed": true
   },
   "outputs": [],
   "source": []
  },
  {
   "cell_type": "code",
   "execution_count": 2,
   "metadata": {
    "collapsed": false
   },
   "outputs": [],
   "source": [
    "start_date = '1960-01-01'\n",
    "end_date = '2016-8-31'\n",
    "window = 320\n",
    "\n",
    "spy_real_price = quandl.get(\"MULTPL/SP500_REAL_PRICE_MONTH\", authtoken=\"8EKNms1cLLU-dBjk5Y4d\").loc[start_date:end_date]\n",
    "spy_real_price = spy_real_price.rename(columns={\"Value\": \"price\"})\n",
    "\n",
    "spy_returns = spy_real_price.pct_change()[1:]\n",
    "\n",
    "spy_dividends = quandl.get(\"MULTPL/SP500_DIV_MONTH\", authtoken=\"8EKNms1cLLU-dBjk5Y4d\").loc[start_date:end_date]\n",
    "spy_dividends = spy_dividends.rename(columns={\"Value\": \"dividends\"})\n",
    "spy_dividends.index = spy_dividends.index + pd.offsets.MonthBegin(1)\n",
    "spy_all = spy_dividends.join(spy_real_price)\n",
    "\n",
    "spy_t_bill = quandl.get(\"FRED/INTGSTUSM193N\", authtoken=\"8EKNms1cLLU-dBjk5Y4d\").loc[start_date:end_date]\n",
    "spy_t_bill = spy_t_bill.rename(columns={\"Value\": \"dividends\"})\n",
    "\n",
    "spy_all['t_bill_int'] = spy_t_bill / 100\n",
    "\n",
    "spy_all['div_growth'] = spy_all['dividends'].pct_change()\n",
    "spy_all['av_div_growth'] = spy_all['div_growth'].rolling(window=window,center=False).mean()\n",
    "spy_all['yield'] = spy_all['dividends'].iloc[1:] / spy_all['price'].iloc[:-1]\n",
    "spy_all['ml_discount'] = [0.052 for x in range(len(spy_all))]\n",
    "spy_all['fixed_yield'] = spy_all['t_bill_int'] + spy_all['ml_discount']\n",
    "\n",
    "spy_all = spy_all.iloc[-window:-1]\n",
    "\n",
    "spy_all['fundamental'] = ((1 + spy_all['av_div_growth']) / (spy_all['fixed_yield'] - spy_all['av_div_growth'])) * spy_all['dividends']\n",
    "spy_all['dev_fundamental'] = (spy_all['price'] - spy_all['fundamental']) / spy_all['fundamental']"
   ]
  },
  {
   "cell_type": "markdown",
   "metadata": {},
   "source": [
    "## 2 Extract stylized facts\n",
    "\n",
    "Perhaps try to use the ADF of residuals between fundamentals and prices as a stylized fact. Also simulate longer so to show that there either is, or is no mean-reversion. "
   ]
  },
  {
   "cell_type": "code",
   "execution_count": 5,
   "metadata": {
    "collapsed": false
   },
   "outputs": [],
   "source": [
    "spy_autocorrelation = autocorrelation_returns(spy_returns['price'], 25)\n",
    "spy_kurtosis = kurtosis(spy_returns['price'])\n",
    "spy_autocorrelation_abs = autocorrelation_abs_returns(spy_returns['price'], 25)\n",
    "spy_hurst = hurst(spy_all['price'])\n",
    "\n",
    "#spy_dev_fund_hurst = hurst(spy_all['dev_fundamental'].iloc[:-1])\n",
    "av_def_fund = abs(np.mean(spy_all['dev_fundamental']))\n",
    "stylized_facts_spy = [spy_kurtosis, spy_autocorrelation_abs, spy_hurst, av_def_fund]\n",
    "\n",
    "stylized_facts_spy = pd.DataFrame(stylized_facts_spy, columns=['S&P500'], \n",
    "             index=['kurtosis', 'autocorrelation_abs', 'hurst', 'av_dev_from_fund']).to_dict()['S&P500']"
   ]
  },
  {
   "cell_type": "code",
   "execution_count": 6,
   "metadata": {
    "collapsed": false
   },
   "outputs": [
    {
     "data": {
      "text/html": [
       "<div>\n",
       "<style>\n",
       "    .dataframe thead tr:only-child th {\n",
       "        text-align: right;\n",
       "    }\n",
       "\n",
       "    .dataframe thead th {\n",
       "        text-align: left;\n",
       "    }\n",
       "\n",
       "    .dataframe tbody tr th {\n",
       "        vertical-align: top;\n",
       "    }\n",
       "</style>\n",
       "<table border=\"1\" class=\"dataframe\">\n",
       "  <thead>\n",
       "    <tr style=\"text-align: right;\">\n",
       "      <th></th>\n",
       "      <th>price</th>\n",
       "      <th>dividends</th>\n",
       "      <th>t_bill_int</th>\n",
       "    </tr>\n",
       "  </thead>\n",
       "  <tbody>\n",
       "    <tr>\n",
       "      <th>count</th>\n",
       "      <td>319.000000</td>\n",
       "      <td>319.000000</td>\n",
       "      <td>319.000000</td>\n",
       "    </tr>\n",
       "    <tr>\n",
       "      <th>mean</th>\n",
       "      <td>1097.090502</td>\n",
       "      <td>27.415517</td>\n",
       "      <td>0.028564</td>\n",
       "    </tr>\n",
       "    <tr>\n",
       "      <th>std</th>\n",
       "      <td>479.143226</td>\n",
       "      <td>6.537052</td>\n",
       "      <td>0.022908</td>\n",
       "    </tr>\n",
       "    <tr>\n",
       "      <th>min</th>\n",
       "      <td>307.120000</td>\n",
       "      <td>21.650000</td>\n",
       "      <td>0.000100</td>\n",
       "    </tr>\n",
       "    <tr>\n",
       "      <th>25%</th>\n",
       "      <td>688.170000</td>\n",
       "      <td>22.430000</td>\n",
       "      <td>0.001850</td>\n",
       "    </tr>\n",
       "    <tr>\n",
       "      <th>50%</th>\n",
       "      <td>1133.360000</td>\n",
       "      <td>24.830000</td>\n",
       "      <td>0.030500</td>\n",
       "    </tr>\n",
       "    <tr>\n",
       "      <th>75%</th>\n",
       "      <td>1378.400000</td>\n",
       "      <td>30.750000</td>\n",
       "      <td>0.049600</td>\n",
       "    </tr>\n",
       "    <tr>\n",
       "      <th>max</th>\n",
       "      <td>2170.950000</td>\n",
       "      <td>46.680000</td>\n",
       "      <td>0.078700</td>\n",
       "    </tr>\n",
       "  </tbody>\n",
       "</table>\n",
       "</div>"
      ],
      "text/plain": [
       "             price   dividends  t_bill_int\n",
       "count   319.000000  319.000000  319.000000\n",
       "mean   1097.090502   27.415517    0.028564\n",
       "std     479.143226    6.537052    0.022908\n",
       "min     307.120000   21.650000    0.000100\n",
       "25%     688.170000   22.430000    0.001850\n",
       "50%    1133.360000   24.830000    0.030500\n",
       "75%    1378.400000   30.750000    0.049600\n",
       "max    2170.950000   46.680000    0.078700"
      ]
     },
     "execution_count": 6,
     "metadata": {},
     "output_type": "execute_result"
    }
   ],
   "source": [
    "spy_all[['price', 'dividends', 't_bill_int']].describe()"
   ]
  },
  {
   "cell_type": "code",
   "execution_count": 8,
   "metadata": {
    "collapsed": false
   },
   "outputs": [
    {
     "data": {
      "text/plain": [
       "{'autocorrelation_abs': 0.049914003700974562,\n",
       " 'av_dev_from_fund': 1.9880606822750695,\n",
       " 'hurst': 0.41423988932290928,\n",
       " 'kurtosis': 3.0676490833426238}"
      ]
     },
     "execution_count": 8,
     "metadata": {},
     "output_type": "execute_result"
    }
   ],
   "source": [
    "stylized_facts_spy"
   ]
  },
  {
   "cell_type": "code",
   "execution_count": 53,
   "metadata": {
    "collapsed": false
   },
   "outputs": [
    {
     "data": {
      "text/plain": [
       "319"
      ]
     },
     "execution_count": 53,
     "metadata": {},
     "output_type": "execute_result"
    }
   ],
   "source": []
  },
  {
   "cell_type": "markdown",
   "metadata": {},
   "source": [
    "## Obtain fixed parameters from data"
   ]
  },
  {
   "cell_type": "code",
   "execution_count": 54,
   "metadata": {
    "collapsed": true
   },
   "outputs": [],
   "source": [
    "start_fundamental_value = int(spy_all['fundamental'].mean())\n",
    "std_fundamental_value = spy_all['fundamental'].std()\n",
    "burn_in_period = 100 \n",
    "ticks = len(spy_all['fundamental']) + burn_in_period"
   ]
  },
  {
   "cell_type": "markdown",
   "metadata": {},
   "source": [
    "## 3 Define parameter space bounds \n",
    "\n",
    "Table 1 shows the parameter bounds, free parameters are **bold**. \n",
    "\n",
    "| Parameter | Values (start, stop, step) |\n",
    "| -------------| ------------|\n",
    "| ticks       | 2000, 2000, 0   |\n",
    "| fundamental_value       | 100, 100, 0      |\n",
    "| **n_traders**       | 100, 5000, 25      |\n",
    "| **trader_sample_size**       | 1, 100, 10      |\n",
    "| **std_fundamental**       | 0.01, 0.2 , 0.01     |\n",
    "| **std_noise**       | 0.01, 0.35, 0.01      |\n",
    "| **std_vol**       | 1, 50, 1      |\n",
    "| **max_order_expiration_ticks**       | 5, 200, 5       |\n",
    "| **w_fundamentalists**       | 0.0, 100.0., 1.0      |\n",
    "| **w_momentum**       | 0.0, 100.0, 1.0      |\n",
    "| **w_random**       | 0.0, 100.0, 1.0      |\n",
    "| **w_mean_reversion**       | 0.0, 100.0, 1.0       |\n",
    "| **spread_max**       | 0.01, 0.15, 0.01       |\n",
    "| **horizon_min**       | 1, 8, 1      |\n",
    "| **horizon_max**       | 9, 30, 1      |\n",
    "*Table 1 Parameter bounds*"
   ]
  },
  {
   "cell_type": "code",
   "execution_count": 9,
   "metadata": {
    "collapsed": true
   },
   "outputs": [],
   "source": [
    "problem = {\n",
    "  'num_vars': 11,\n",
    "  'names': ['trader_sample_size', 'std_noise', \n",
    "            'std_vol', 'max_order_expiration_ticks', 'w_fundamentalists', 'w_momentum',\n",
    "           'w_random', 'w_mean_reversion', 'spread_max',\n",
    "           'horizon_min', 'horizon_max'],\n",
    "  'bounds': [[1, 30], [0.05, 0.30], \n",
    "             [1, 20], [10, 100], [0.0, 100.0], [0.0, 100.0], \n",
    "             [0.0, 100.0], [0.0, 100.0], [0.01, 0.15], # change mean reversion to 100.0\n",
    "             [1, 8], [9, 30]]\n",
    "}"
   ]
  },
  {
   "cell_type": "code",
   "execution_count": 26,
   "metadata": {
    "collapsed": true
   },
   "outputs": [],
   "source": [
    "problem_no_mean_reversion = {\n",
    "  'num_vars': 10,\n",
    "  'names': ['trader_sample_size', 'std_noise', \n",
    "            'std_vol', 'max_order_expiration_ticks', 'w_fundamentalists', 'w_momentum',\n",
    "           'w_random', 'spread_max',\n",
    "           'horizon_min', 'horizon_max'],\n",
    "  'bounds': [[1, 30], [0.05, 0.30], \n",
    "             [1, 20], [10, 100], [0.0, 100.0], [0.0, 100.0], \n",
    "             [0.0, 100.0], [0.01, 0.15],\n",
    "             [1, 8], [9, 30]]\n",
    "}"
   ]
  },
  {
   "cell_type": "markdown",
   "metadata": {},
   "source": [
    "## 4 Sample the parameter space using a latin hypercube"
   ]
  },
  {
   "cell_type": "code",
   "execution_count": 19,
   "metadata": {
    "collapsed": true
   },
   "outputs": [],
   "source": [
    "population_size = 500"
   ]
  },
  {
   "cell_type": "code",
   "execution_count": 20,
   "metadata": {
    "collapsed": false
   },
   "outputs": [],
   "source": [
    "latin_hyper_cube = latin.sample(problem=problem, N=population_size)\n",
    "latin_hyper_cube = latin_hyper_cube.tolist()"
   ]
  },
  {
   "cell_type": "code",
   "execution_count": 27,
   "metadata": {
    "collapsed": true
   },
   "outputs": [],
   "source": [
    "hyper_cube_no_mean_reversion = latin.sample(problem=problem_no_mean_reversion, N=population_size)\n",
    "hyper_cube_no_mean_reversion = hyper_cube_no_mean_reversion.tolist()"
   ]
  },
  {
   "cell_type": "code",
   "execution_count": 21,
   "metadata": {
    "collapsed": false
   },
   "outputs": [
    {
     "data": {
      "text/plain": [
       "500"
      ]
     },
     "execution_count": 21,
     "metadata": {},
     "output_type": "execute_result"
    }
   ],
   "source": [
    "len(latin_hyper_cube)"
   ]
  },
  {
   "cell_type": "code",
   "execution_count": 23,
   "metadata": {
    "collapsed": false
   },
   "outputs": [],
   "source": [
    "# transform some of the parameters to integer\n",
    "for idx, parameters in enumerate(latin_hyper_cube):\n",
    "    # ints: 0, 2, 3, 9, 10\n",
    "    latin_hyper_cube[idx][0] = int(latin_hyper_cube[idx][0])\n",
    "    latin_hyper_cube[idx][2] = int(latin_hyper_cube[idx][2])\n",
    "    latin_hyper_cube[idx][3] = int(latin_hyper_cube[idx][3])\n",
    "    latin_hyper_cube[idx][9] = int(latin_hyper_cube[idx][9])\n",
    "    latin_hyper_cube[idx][10] = int(latin_hyper_cube[idx][10])"
   ]
  },
  {
   "cell_type": "code",
   "execution_count": 28,
   "metadata": {
    "collapsed": true
   },
   "outputs": [],
   "source": [
    "# transform some of the parameters to integer\n",
    "for idx, parameters in enumerate(hyper_cube_no_mean_reversion):\n",
    "    # ints: 0, 2, 3, 9, 10\n",
    "    hyper_cube_no_mean_reversion[idx][0] = int(hyper_cube_no_mean_reversion[idx][0])\n",
    "    hyper_cube_no_mean_reversion[idx][2] = int(hyper_cube_no_mean_reversion[idx][2])\n",
    "    hyper_cube_no_mean_reversion[idx][3] = int(hyper_cube_no_mean_reversion[idx][3])\n",
    "    hyper_cube_no_mean_reversion[idx][8] = int(hyper_cube_no_mean_reversion[idx][8])\n",
    "    hyper_cube_no_mean_reversion[idx][9] = int(hyper_cube_no_mean_reversion[idx][9])"
   ]
  },
  {
   "cell_type": "markdown",
   "metadata": {},
   "source": [
    "## 5 Run evolutionary algorithm"
   ]
  },
  {
   "cell_type": "code",
   "execution_count": 31,
   "metadata": {
    "collapsed": false
   },
   "outputs": [],
   "source": [
    "# create initial population model\n",
    "population = []\n",
    "for parameters in latin_hyper_cube:\n",
    "    pars = {}\n",
    "    for key, value in zip(problem['names'], parameters):\n",
    "        pars[key] = value\n",
    "    population.append(Individual(pars, [], np.inf))\n",
    "all_populations = [population]\n",
    "av_pop_fitness = []"
   ]
  },
  {
   "cell_type": "code",
   "execution_count": 32,
   "metadata": {
    "collapsed": true
   },
   "outputs": [],
   "source": [
    "# create initial population model no-mean reversion\n",
    "population_no_mean_reversion = []\n",
    "for parameters in hyper_cube_no_mean_reversion:\n",
    "    pars = {}\n",
    "    for key, value in zip(problem_no_mean_reversion['names'], parameters):\n",
    "        pars[key] = value\n",
    "    population_no_mean_reversion.append(Individual(pars, [], np.inf))\n",
    "all_populations_no_mean_reversion = [population_no_mean_reversion]\n",
    "av_pop_fitness_no_mean_reversion = []"
   ]
  },
  {
   "cell_type": "code",
   "execution_count": 51,
   "metadata": {
    "collapsed": false
   },
   "outputs": [],
   "source": [
    "fixed_parameters = {\"ticks\": 1000, \"fundamental_value\": start_fundamental_value, \"w_buy_hold\": 0.0, \n",
    "                    'n_traders': 1000, 'std_fundamental': std_fundamental_value}\n",
    "fixed_parameters_no_mean_reversion = {\"ticks\": 1000, \"fundamental_value\": start_fundamental_value, \n",
    "                                      \"w_buy_hold\": 0.0, \"w_mean_reversion\": 0.0,\n",
    "                                      'n_traders': 1000, 'std_fundamental': std_fundamental_value}\n",
    "iterations = 50\n",
    "NRUNS = 16"
   ]
  },
  {
   "cell_type": "code",
   "execution_count": 21,
   "metadata": {
    "collapsed": false
   },
   "outputs": [
    {
     "name": "stdout",
     "output_type": "stream",
     "text": [
      "generation:  0 fitness:  38.0281757362\n",
      "generation:  1 fitness:  5.39541829697\n",
      "generation:  2 fitness:  2.90862383292\n",
      "generation:  3 fitness:  3.06989756835\n",
      "generation:  4 fitness:  2.1161133293\n",
      "generation:  5 fitness:  4.72723926808\n",
      "generation:  6 fitness:  2.67748232561\n",
      "generation:  7 fitness:  2.28953615834\n",
      "generation:  8 fitness:  2.19496590594\n",
      "generation:  9 fitness:  2.60115492056\n",
      "generation:  10 fitness:  2.28633189556\n",
      "generation:  11 fitness:  2.05264370721\n",
      "generation:  12 fitness:  1.97836905165\n",
      "generation:  13 fitness:  1.92253901676\n",
      "generation:  14 fitness:  1.14915113933\n",
      "generation:  15 fitness:  1.13743685676\n",
      "generation:  16 fitness:  1.42970115564\n",
      "generation:  17 fitness:  1.16514009334\n",
      "generation:  18 fitness:  1.21292505619\n",
      "generation:  19 fitness:  2.83046111955\n",
      "generation:  20 fitness:  2.1459643622\n",
      "generation:  21 fitness:  2.03816421661\n",
      "generation:  22 fitness:  2.04583812554\n",
      "generation:  23 fitness:  2.03701258273\n",
      "generation:  24 fitness:  2.04270356085\n",
      "generation:  25 fitness:  2.05376337299\n",
      "generation:  26 fitness:  2.05619570985\n",
      "generation:  27 fitness:  2.06009725424\n",
      "generation:  28 fitness:  2.06009725424\n",
      "generation:  29 fitness:  2.06009725424\n",
      "generation:  30 fitness:  2.06009725424\n",
      "generation:  31 fitness:  2.06009725424\n",
      "generation:  32 fitness:  2.06009725424\n",
      "generation:  33 fitness:  2.06009725424\n",
      "generation:  34 fitness:  2.06009725424\n",
      "generation:  35 fitness:  2.06009725424\n",
      "generation:  36 fitness:  2.06009725424\n",
      "generation:  37 fitness:  2.06009725424\n",
      "generation:  38 fitness:  2.06009725424\n",
      "generation:  39 fitness:  2.06009725424\n",
      "generation:  40 fitness:  2.06009725424\n",
      "generation:  41 fitness:  2.06009725424\n",
      "generation:  42 fitness:  2.06009725424\n",
      "generation:  43 fitness:  2.06009725424\n",
      "generation:  44 fitness:  2.06009725424\n",
      "generation:  45 fitness:  2.06009725424\n",
      "generation:  46 fitness:  2.06009725424\n",
      "generation:  47 fitness:  2.06009725424\n",
      "generation:  48 fitness:  2.06009725424\n",
      "generation:  49 fitness:  2.06009725424\n",
      "generation:  50 fitness:  2.06009725424\n",
      "generation:  51 fitness:  2.06009725424\n",
      "generation:  52 fitness:  2.06009725424\n",
      "generation:  53 fitness:  2.06009725424\n",
      "generation:  54 fitness:  2.06009725424\n",
      "generation:  55 fitness:  2.06009725424\n",
      "generation:  56 fitness:  2.06009725424\n",
      "generation:  57 fitness:  2.06009725424\n",
      "generation:  58 fitness:  2.06009725424\n",
      "generation:  59 fitness:  2.06009725424\n",
      "generation:  60 fitness:  2.06009725424\n",
      "generation:  61 fitness:  2.06009725424\n",
      "generation:  62 fitness:  2.06009725424\n",
      "generation:  63 fitness:  2.06009725424\n",
      "generation:  64 fitness:  2.06009725424\n",
      "generation:  65 fitness:  2.06009725424\n",
      "generation:  66 fitness:  2.06009725424\n",
      "generation:  67 fitness:  2.06009725424\n",
      "generation:  68 fitness:  2.06009725424\n",
      "generation:  69 fitness:  2.06009725424\n",
      "generation:  70 fitness:  2.06009725424\n",
      "generation:  71 fitness:  2.06009725424\n",
      "generation:  72 fitness:  2.06009725424\n",
      "generation:  73 fitness:  2.06009725424\n",
      "generation:  74 fitness:  2.06009725424\n",
      "generation:  75 fitness:  2.06009725424\n",
      "generation:  76 fitness:  2.06009725424\n",
      "generation:  77 fitness:  2.06009725424\n",
      "generation:  78 fitness:  2.06009725424\n",
      "generation:  79 fitness:  2.06009725424\n",
      "generation:  80 fitness:  2.06009725424\n"
     ]
    },
    {
     "ename": "KeyboardInterrupt",
     "evalue": "",
     "output_type": "error",
     "traceback": [
      "\u001b[1;31m---------------------------------------------------------------------------\u001b[0m",
      "\u001b[1;31mKeyboardInterrupt\u001b[0m                         Traceback (most recent call last)",
      "\u001b[1;32m<ipython-input-21-722616c2d454>\u001b[0m in \u001b[0;36m<module>\u001b[1;34m()\u001b[0m\n\u001b[0;32m      1\u001b[0m \u001b[1;32mfor\u001b[0m \u001b[0mgeneration\u001b[0m \u001b[1;32min\u001b[0m \u001b[0mrange\u001b[0m\u001b[1;33m(\u001b[0m\u001b[0miterations\u001b[0m\u001b[1;33m)\u001b[0m\u001b[1;33m:\u001b[0m\u001b[1;33m\u001b[0m\u001b[0m\n\u001b[0;32m      2\u001b[0m     \u001b[1;31m# simulate every population\u001b[0m\u001b[1;33m\u001b[0m\u001b[1;33m\u001b[0m\u001b[0m\n\u001b[1;32m----> 3\u001b[1;33m     \u001b[0msimulated_population\u001b[0m\u001b[1;33m,\u001b[0m \u001b[0mfitness\u001b[0m \u001b[1;33m=\u001b[0m \u001b[0msimulate_population\u001b[0m\u001b[1;33m(\u001b[0m\u001b[0mall_populations\u001b[0m\u001b[1;33m[\u001b[0m\u001b[0mgeneration\u001b[0m\u001b[1;33m]\u001b[0m\u001b[1;33m,\u001b[0m \u001b[0mNRUNS\u001b[0m\u001b[1;33m,\u001b[0m \u001b[0mfixed_parameters\u001b[0m\u001b[1;33m,\u001b[0m \u001b[0mstylized_facts_spy\u001b[0m\u001b[1;33m)\u001b[0m\u001b[1;33m\u001b[0m\u001b[0m\n\u001b[0m\u001b[0;32m      4\u001b[0m     \u001b[1;31m# record population fitness\u001b[0m\u001b[1;33m\u001b[0m\u001b[1;33m\u001b[0m\u001b[0m\n\u001b[0;32m      5\u001b[0m     \u001b[0mav_pop_fitness\u001b[0m\u001b[1;33m.\u001b[0m\u001b[0mappend\u001b[0m\u001b[1;33m(\u001b[0m\u001b[0mfitness\u001b[0m\u001b[1;33m)\u001b[0m\u001b[1;33m\u001b[0m\u001b[0m\n",
      "\u001b[1;32mC:\\Users\\p267237\\Documents\\GitHub\\sim-fin-abm\\functions\\evolutionaryalgo.py\u001b[0m in \u001b[0;36msimulate_population\u001b[1;34m(population, NRUNS, fixed_parameters, stylized_facts_real_life)\u001b[0m\n\u001b[0;32m    123\u001b[0m \u001b[1;33m\u001b[0m\u001b[0m\n\u001b[0;32m    124\u001b[0m         \u001b[1;31m# store simulated stylized facts\u001b[0m\u001b[1;33m\u001b[0m\u001b[1;33m\u001b[0m\u001b[0m\n\u001b[1;32m--> 125\u001b[1;33m         \u001b[0mmc_prices\u001b[0m\u001b[1;33m,\u001b[0m \u001b[0mmc_returns\u001b[0m\u001b[1;33m,\u001b[0m \u001b[0mmc_autocorr_returns\u001b[0m\u001b[1;33m,\u001b[0m \u001b[0mmc_autocorr_abs_returns\u001b[0m\u001b[1;33m,\u001b[0m \u001b[0mmc_volatility\u001b[0m\u001b[1;33m,\u001b[0m \u001b[0mmc_volume\u001b[0m\u001b[1;33m,\u001b[0m \u001b[0mmc_fundamentals\u001b[0m \u001b[1;33m=\u001b[0m \u001b[0morganise_data\u001b[0m\u001b[1;33m(\u001b[0m\u001b[0mobs\u001b[0m\u001b[1;33m)\u001b[0m\u001b[1;33m\u001b[0m\u001b[0m\n\u001b[0m\u001b[0;32m    126\u001b[0m         \u001b[0mmc_dev_fundamentals\u001b[0m \u001b[1;33m=\u001b[0m \u001b[1;33m(\u001b[0m\u001b[0mmc_prices\u001b[0m \u001b[1;33m-\u001b[0m \u001b[0mmc_fundamentals\u001b[0m\u001b[1;33m)\u001b[0m \u001b[1;33m/\u001b[0m \u001b[0mmc_fundamentals\u001b[0m\u001b[1;33m\u001b[0m\u001b[0m\n\u001b[0;32m    127\u001b[0m \u001b[1;33m\u001b[0m\u001b[0m\n",
      "\u001b[1;32mC:\\Users\\p267237\\Documents\\GitHub\\sim-fin-abm\\functions\\helpers.py\u001b[0m in \u001b[0;36morganise_data\u001b[1;34m(obs)\u001b[0m\n\u001b[0;32m     73\u001b[0m     \u001b[0mmc_volatility\u001b[0m \u001b[1;33m=\u001b[0m \u001b[0mpd\u001b[0m\u001b[1;33m.\u001b[0m\u001b[0mDataFrame\u001b[0m\u001b[1;33m(\u001b[0m\u001b[0mreturns_volatility\u001b[0m\u001b[1;33m)\u001b[0m\u001b[1;33m.\u001b[0m\u001b[0mtranspose\u001b[0m\u001b[1;33m(\u001b[0m\u001b[1;33m)\u001b[0m\u001b[1;33m\u001b[0m\u001b[0m\n\u001b[0;32m     74\u001b[0m     \u001b[0mmc_volume\u001b[0m \u001b[1;33m=\u001b[0m \u001b[0mpd\u001b[0m\u001b[1;33m.\u001b[0m\u001b[0mDataFrame\u001b[0m\u001b[1;33m(\u001b[0m\u001b[0mvolume\u001b[0m\u001b[1;33m)\u001b[0m\u001b[1;33m.\u001b[0m\u001b[0mtranspose\u001b[0m\u001b[1;33m(\u001b[0m\u001b[1;33m)\u001b[0m\u001b[1;33m\u001b[0m\u001b[0m\n\u001b[1;32m---> 75\u001b[1;33m     \u001b[0mmc_fundamentals\u001b[0m \u001b[1;33m=\u001b[0m \u001b[0mpd\u001b[0m\u001b[1;33m.\u001b[0m\u001b[0mDataFrame\u001b[0m\u001b[1;33m(\u001b[0m\u001b[0mfundamentals\u001b[0m\u001b[1;33m)\u001b[0m\u001b[1;33m.\u001b[0m\u001b[0mtranspose\u001b[0m\u001b[1;33m(\u001b[0m\u001b[1;33m)\u001b[0m\u001b[1;33m\u001b[0m\u001b[0m\n\u001b[0m\u001b[0;32m     76\u001b[0m \u001b[1;33m\u001b[0m\u001b[0m\n\u001b[0;32m     77\u001b[0m     \u001b[1;32mreturn\u001b[0m \u001b[0mmc_prices\u001b[0m\u001b[1;33m,\u001b[0m \u001b[0mmc_returns\u001b[0m\u001b[1;33m,\u001b[0m \u001b[0mmc_autocorr_returns\u001b[0m\u001b[1;33m,\u001b[0m \u001b[0mmc_autocorr_abs_returns\u001b[0m\u001b[1;33m,\u001b[0m \u001b[0mmc_volatility\u001b[0m\u001b[1;33m,\u001b[0m \u001b[0mmc_volume\u001b[0m\u001b[1;33m,\u001b[0m \u001b[0mmc_fundamentals\u001b[0m\u001b[1;33m\u001b[0m\u001b[0m\n",
      "\u001b[1;32mC:\\Users\\p267237\\AppData\\Local\\Continuum\\Anaconda3\\lib\\site-packages\\pandas\\core\\frame.py\u001b[0m in \u001b[0;36m__init__\u001b[1;34m(self, data, index, columns, dtype, copy)\u001b[0m\n\u001b[0;32m    312\u001b[0m                     \u001b[1;32mif\u001b[0m \u001b[0mis_named_tuple\u001b[0m\u001b[1;33m(\u001b[0m\u001b[0mdata\u001b[0m\u001b[1;33m[\u001b[0m\u001b[1;36m0\u001b[0m\u001b[1;33m]\u001b[0m\u001b[1;33m)\u001b[0m \u001b[1;32mand\u001b[0m \u001b[0mcolumns\u001b[0m \u001b[1;32mis\u001b[0m \u001b[1;32mNone\u001b[0m\u001b[1;33m:\u001b[0m\u001b[1;33m\u001b[0m\u001b[0m\n\u001b[0;32m    313\u001b[0m                         \u001b[0mcolumns\u001b[0m \u001b[1;33m=\u001b[0m \u001b[0mdata\u001b[0m\u001b[1;33m[\u001b[0m\u001b[1;36m0\u001b[0m\u001b[1;33m]\u001b[0m\u001b[1;33m.\u001b[0m\u001b[0m_fields\u001b[0m\u001b[1;33m\u001b[0m\u001b[0m\n\u001b[1;32m--> 314\u001b[1;33m                     \u001b[0marrays\u001b[0m\u001b[1;33m,\u001b[0m \u001b[0mcolumns\u001b[0m \u001b[1;33m=\u001b[0m \u001b[0m_to_arrays\u001b[0m\u001b[1;33m(\u001b[0m\u001b[0mdata\u001b[0m\u001b[1;33m,\u001b[0m \u001b[0mcolumns\u001b[0m\u001b[1;33m,\u001b[0m \u001b[0mdtype\u001b[0m\u001b[1;33m=\u001b[0m\u001b[0mdtype\u001b[0m\u001b[1;33m)\u001b[0m\u001b[1;33m\u001b[0m\u001b[0m\n\u001b[0m\u001b[0;32m    315\u001b[0m                     \u001b[0mcolumns\u001b[0m \u001b[1;33m=\u001b[0m \u001b[0m_ensure_index\u001b[0m\u001b[1;33m(\u001b[0m\u001b[0mcolumns\u001b[0m\u001b[1;33m)\u001b[0m\u001b[1;33m\u001b[0m\u001b[0m\n\u001b[0;32m    316\u001b[0m \u001b[1;33m\u001b[0m\u001b[0m\n",
      "\u001b[1;32mC:\\Users\\p267237\\AppData\\Local\\Continuum\\Anaconda3\\lib\\site-packages\\pandas\\core\\frame.py\u001b[0m in \u001b[0;36m_to_arrays\u001b[1;34m(data, columns, coerce_float, dtype)\u001b[0m\n\u001b[0;32m   5615\u001b[0m     \u001b[1;32mif\u001b[0m \u001b[0misinstance\u001b[0m\u001b[1;33m(\u001b[0m\u001b[0mdata\u001b[0m\u001b[1;33m[\u001b[0m\u001b[1;36m0\u001b[0m\u001b[1;33m]\u001b[0m\u001b[1;33m,\u001b[0m \u001b[1;33m(\u001b[0m\u001b[0mlist\u001b[0m\u001b[1;33m,\u001b[0m \u001b[0mtuple\u001b[0m\u001b[1;33m)\u001b[0m\u001b[1;33m)\u001b[0m\u001b[1;33m:\u001b[0m\u001b[1;33m\u001b[0m\u001b[0m\n\u001b[0;32m   5616\u001b[0m         return _list_to_arrays(data, columns, coerce_float=coerce_float,\n\u001b[1;32m-> 5617\u001b[1;33m                                dtype=dtype)\n\u001b[0m\u001b[0;32m   5618\u001b[0m     \u001b[1;32melif\u001b[0m \u001b[0misinstance\u001b[0m\u001b[1;33m(\u001b[0m\u001b[0mdata\u001b[0m\u001b[1;33m[\u001b[0m\u001b[1;36m0\u001b[0m\u001b[1;33m]\u001b[0m\u001b[1;33m,\u001b[0m \u001b[0mcollections\u001b[0m\u001b[1;33m.\u001b[0m\u001b[0mMapping\u001b[0m\u001b[1;33m)\u001b[0m\u001b[1;33m:\u001b[0m\u001b[1;33m\u001b[0m\u001b[0m\n\u001b[0;32m   5619\u001b[0m         return _list_of_dict_to_arrays(data, columns,\n",
      "\u001b[1;32mC:\\Users\\p267237\\AppData\\Local\\Continuum\\Anaconda3\\lib\\site-packages\\pandas\\core\\frame.py\u001b[0m in \u001b[0;36m_list_to_arrays\u001b[1;34m(data, columns, coerce_float, dtype)\u001b[0m\n\u001b[0;32m   5694\u001b[0m         \u001b[0mcontent\u001b[0m \u001b[1;33m=\u001b[0m \u001b[0mlist\u001b[0m\u001b[1;33m(\u001b[0m\u001b[0mlib\u001b[0m\u001b[1;33m.\u001b[0m\u001b[0mto_object_array\u001b[0m\u001b[1;33m(\u001b[0m\u001b[0mdata\u001b[0m\u001b[1;33m)\u001b[0m\u001b[1;33m.\u001b[0m\u001b[0mT\u001b[0m\u001b[1;33m)\u001b[0m\u001b[1;33m\u001b[0m\u001b[0m\n\u001b[0;32m   5695\u001b[0m     return _convert_object_array(content, columns, dtype=dtype,\n\u001b[1;32m-> 5696\u001b[1;33m                                  coerce_float=coerce_float)\n\u001b[0m\u001b[0;32m   5697\u001b[0m \u001b[1;33m\u001b[0m\u001b[0m\n\u001b[0;32m   5698\u001b[0m \u001b[1;33m\u001b[0m\u001b[0m\n",
      "\u001b[1;32mC:\\Users\\p267237\\AppData\\Local\\Continuum\\Anaconda3\\lib\\site-packages\\pandas\\core\\frame.py\u001b[0m in \u001b[0;36m_convert_object_array\u001b[1;34m(content, columns, coerce_float, dtype)\u001b[0m\n\u001b[0;32m   5762\u001b[0m         \u001b[1;32mreturn\u001b[0m \u001b[0marr\u001b[0m\u001b[1;33m\u001b[0m\u001b[0m\n\u001b[0;32m   5763\u001b[0m \u001b[1;33m\u001b[0m\u001b[0m\n\u001b[1;32m-> 5764\u001b[1;33m     \u001b[0marrays\u001b[0m \u001b[1;33m=\u001b[0m \u001b[1;33m[\u001b[0m\u001b[0mconvert\u001b[0m\u001b[1;33m(\u001b[0m\u001b[0marr\u001b[0m\u001b[1;33m)\u001b[0m \u001b[1;32mfor\u001b[0m \u001b[0marr\u001b[0m \u001b[1;32min\u001b[0m \u001b[0mcontent\u001b[0m\u001b[1;33m]\u001b[0m\u001b[1;33m\u001b[0m\u001b[0m\n\u001b[0m\u001b[0;32m   5765\u001b[0m \u001b[1;33m\u001b[0m\u001b[0m\n\u001b[0;32m   5766\u001b[0m     \u001b[1;32mreturn\u001b[0m \u001b[0marrays\u001b[0m\u001b[1;33m,\u001b[0m \u001b[0mcolumns\u001b[0m\u001b[1;33m\u001b[0m\u001b[0m\n",
      "\u001b[1;32mC:\\Users\\p267237\\AppData\\Local\\Continuum\\Anaconda3\\lib\\site-packages\\pandas\\core\\frame.py\u001b[0m in \u001b[0;36m<listcomp>\u001b[1;34m(.0)\u001b[0m\n\u001b[0;32m   5762\u001b[0m         \u001b[1;32mreturn\u001b[0m \u001b[0marr\u001b[0m\u001b[1;33m\u001b[0m\u001b[0m\n\u001b[0;32m   5763\u001b[0m \u001b[1;33m\u001b[0m\u001b[0m\n\u001b[1;32m-> 5764\u001b[1;33m     \u001b[0marrays\u001b[0m \u001b[1;33m=\u001b[0m \u001b[1;33m[\u001b[0m\u001b[0mconvert\u001b[0m\u001b[1;33m(\u001b[0m\u001b[0marr\u001b[0m\u001b[1;33m)\u001b[0m \u001b[1;32mfor\u001b[0m \u001b[0marr\u001b[0m \u001b[1;32min\u001b[0m \u001b[0mcontent\u001b[0m\u001b[1;33m]\u001b[0m\u001b[1;33m\u001b[0m\u001b[0m\n\u001b[0m\u001b[0;32m   5765\u001b[0m \u001b[1;33m\u001b[0m\u001b[0m\n\u001b[0;32m   5766\u001b[0m     \u001b[1;32mreturn\u001b[0m \u001b[0marrays\u001b[0m\u001b[1;33m,\u001b[0m \u001b[0mcolumns\u001b[0m\u001b[1;33m\u001b[0m\u001b[0m\n",
      "\u001b[1;32mC:\\Users\\p267237\\AppData\\Local\\Continuum\\Anaconda3\\lib\\site-packages\\pandas\\core\\frame.py\u001b[0m in \u001b[0;36mconvert\u001b[1;34m(arr)\u001b[0m\n\u001b[0;32m   5759\u001b[0m         \u001b[1;32mif\u001b[0m \u001b[0mdtype\u001b[0m \u001b[1;33m!=\u001b[0m \u001b[0mobject\u001b[0m \u001b[1;32mand\u001b[0m \u001b[0mdtype\u001b[0m \u001b[1;33m!=\u001b[0m \u001b[0mnp\u001b[0m\u001b[1;33m.\u001b[0m\u001b[0mobject\u001b[0m\u001b[1;33m:\u001b[0m\u001b[1;33m\u001b[0m\u001b[0m\n\u001b[0;32m   5760\u001b[0m             \u001b[0marr\u001b[0m \u001b[1;33m=\u001b[0m \u001b[0mlib\u001b[0m\u001b[1;33m.\u001b[0m\u001b[0mmaybe_convert_objects\u001b[0m\u001b[1;33m(\u001b[0m\u001b[0marr\u001b[0m\u001b[1;33m,\u001b[0m \u001b[0mtry_float\u001b[0m\u001b[1;33m=\u001b[0m\u001b[0mcoerce_float\u001b[0m\u001b[1;33m)\u001b[0m\u001b[1;33m\u001b[0m\u001b[0m\n\u001b[1;32m-> 5761\u001b[1;33m             \u001b[0marr\u001b[0m \u001b[1;33m=\u001b[0m \u001b[0mmaybe_cast_to_datetime\u001b[0m\u001b[1;33m(\u001b[0m\u001b[0marr\u001b[0m\u001b[1;33m,\u001b[0m \u001b[0mdtype\u001b[0m\u001b[1;33m)\u001b[0m\u001b[1;33m\u001b[0m\u001b[0m\n\u001b[0m\u001b[0;32m   5762\u001b[0m         \u001b[1;32mreturn\u001b[0m \u001b[0marr\u001b[0m\u001b[1;33m\u001b[0m\u001b[0m\n\u001b[0;32m   5763\u001b[0m \u001b[1;33m\u001b[0m\u001b[0m\n",
      "\u001b[1;31mKeyboardInterrupt\u001b[0m: "
     ]
    }
   ],
   "source": [
    "for generation in range(iterations):\n",
    "    # simulate every population\n",
    "    simulated_population, fitness = simulate_population(all_populations[generation], NRUNS, fixed_parameters, stylized_facts_spy)\n",
    "    # record population fitness\n",
    "    av_pop_fitness.append(fitness)\n",
    "    print('generation: ', generation, 'fitness: ', fitness)\n",
    "    # add a new, evolved population to the list of populations\n",
    "    all_populations.append(evolve_population(simulated_population, fittest_to_retain=0.3, random_to_retain=0.2, \n",
    "                                             parents_to_mutate=0.3, parameters_to_mutate=0.1, problem=problem))"
   ]
  },
  {
   "cell_type": "code",
   "execution_count": 25,
   "metadata": {
    "collapsed": false
   },
   "outputs": [
    {
     "data": {
      "text/plain": [
       "<matplotlib.text.Text at 0x15b225a1470>"
      ]
     },
     "execution_count": 25,
     "metadata": {},
     "output_type": "execute_result"
    },
    {
     "data": {
      "image/png": "[encoded data removed]",
      "text/plain": [
       "<matplotlib.figure.Figure at 0x15b1f4342e8>"
      ]
     },
     "metadata": {},
     "output_type": "display_data"
    }
   ],
   "source": [
    "fig, ax1 = plt.subplots(1, 1, figsize=(10,5))\n",
    "\n",
    "ax1.plot(range(len(av_pop_fitness)), av_pop_fitness)\n",
    "ax1.set_ylabel('Fitness', fontsize='12')\n",
    "ax1.set_xlabel('Generation', fontsize='12')"
   ]
  },
  {
   "cell_type": "code",
   "execution_count": 14,
   "metadata": {
    "collapsed": false
   },
   "outputs": [
    {
     "data": {
      "text/plain": [
       "<matplotlib.text.Text at 0x15b2428a4e0>"
      ]
     },
     "execution_count": 14,
     "metadata": {},
     "output_type": "execute_result"
    },
    {
     "data": {
      "image/png": "[encoded data removed]",
      "text/plain": [
       "<matplotlib.figure.Figure at 0x15b230d6828>"
      ]
     },
     "metadata": {},
     "output_type": "display_data"
    }
   ],
   "source": [
    "fig, ax1 = plt.subplots(1, 1, figsize=(10,5))\n",
    "\n",
    "ax1.plot(range(len(av_pop_fitness)), av_pop_fitness)\n",
    "ax1.set_ylabel('Fitness', fontsize='12')\n",
    "ax1.set_xlabel('Generation', fontsize='12')"
   ]
  },
  {
   "cell_type": "markdown",
   "metadata": {},
   "source": [
    "## Extract parameter values:\n",
    "\n",
    "### Best parameters"
   ]
  },
  {
   "cell_type": "code",
   "execution_count": 25,
   "metadata": {
    "collapsed": false
   },
   "outputs": [
    {
     "data": {
      "text/plain": [
       "{'fundamental_value': 100,\n",
       " 'horizon_max': 22,\n",
       " 'horizon_min': 2,\n",
       " 'max_order_expiration_ticks': 24,\n",
       " 'n_traders': 1981,\n",
       " 'spread_max': 0.1034423464335639,\n",
       " 'std_fundamental': 0.10754244839080045,\n",
       " 'std_noise': 0.20680836615919262,\n",
       " 'std_vol': 11,\n",
       " 'ticks': 1000,\n",
       " 'trader_sample_size': 21,\n",
       " 'w_buy_hold': 0.0,\n",
       " 'w_fundamentalists': 59.96213213200949,\n",
       " 'w_mean_reversion': 72.9727690079459,\n",
       " 'w_momentum': 94.61305458063075,\n",
       " 'w_random': 44.351363543793354}"
      ]
     },
     "execution_count": 25,
     "metadata": {},
     "output_type": "execute_result"
    }
   ],
   "source": [
    "parameters = all_populations[15][0].parameters.copy()\n",
    "params = fixed_parameters.copy()\n",
    "params.update(parameters)\n",
    "params"
   ]
  },
  {
   "cell_type": "markdown",
   "metadata": {},
   "source": [
    "### Best stylized facts compared to actual stylized facts"
   ]
  },
  {
   "cell_type": "code",
   "execution_count": 15,
   "metadata": {
    "collapsed": false
   },
   "outputs": [
    {
     "name": "stdout",
     "output_type": "stream",
     "text": [
      "simulation:\n",
      "{'hurst': 0.41357911669500397, 'hurst_dev_from_fund': 0.357733598208332, 'autocorrelation_abs': 0.037062487136276481, 'kurtosis': 2.7307393691887967, 'autocorrelation': inf}\n",
      "s&p500:\n",
      "{'hurst': 0.41423988932290928, 'hurst_dev_from_fund': 0.40316509821293978, 'autocorrelation_abs': 0.049914003700974562, 'kurtosis': 3.0676490833426238}\n"
     ]
    }
   ],
   "source": [
    "print('simulation:')\n",
    "print(all_populations[-1][0].stylized_facts)\n",
    "print('s&p500:')\n",
    "print(stylized_facts_spy)"
   ]
  }
 ],
 "metadata": {
  "anaconda-cloud": {},
  "kernelspec": {
   "display_name": "Python [Root]",
   "language": "python",
   "name": "Python [Root]"
  },
  "language_info": {
   "codemirror_mode": {
    "name": "ipython",
    "version": 3
   },
   "file_extension": ".py",
   "mimetype": "text/x-python",
   "name": "python",
   "nbconvert_exporter": "python",
   "pygments_lexer": "ipython3",
   "version": "3.5.2"
  }
 },
 "nbformat": 4,
 "nbformat_minor": 0
}
