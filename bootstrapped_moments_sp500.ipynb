{
 "cells": [
  {
   "cell_type": "code",
   "execution_count": 93,
   "metadata": {
    "collapsed": false
   },
   "outputs": [],
   "source": [
    "%matplotlib inline\n",
    "from pandas_datareader import data\n",
    "import pandas as pd\n",
    "import random\n",
    "from SALib.sample import latin\n",
    "from functions.stylizedfacts import *\n",
    "from functions.evolutionaryalgo import *\n",
    "from pandas_datareader import data\n",
    "from functions.helpers import hurst, organise_data, div_by_hundred, discounted_value_cash_flow, find_horizon, calculate_npv\n",
    "import matplotlib.pyplot as plt\n",
    "import quandl\n",
    "import statsmodels.api as sm\n",
    "import statsmodels.tsa.stattools as ts"
   ]
  },
  {
   "cell_type": "markdown",
   "metadata": {},
   "source": [
    "# Bootstrapped moments S&P 500\n",
    "Following the procedure presented by [Franke & Westerhoff (2012)](https://www.sciencedirect.com/science/article/pii/S0165188912000802).\n",
    "\n",
    "## 1 Get data"
   ]
  },
  {
   "cell_type": "code",
   "execution_count": 81,
   "metadata": {
    "collapsed": false
   },
   "outputs": [],
   "source": [
    "start_date = '1993-03-10'\n",
    "end_date = '2018-01-01'\n",
    "#window = 320\n",
    "\n",
    "spy_nom_price = data.DataReader(\"SPY\", \n",
    "                       start=start_date, \n",
    "                       end=end_date, \n",
    "                       data_source='yahoo')['Close']\n",
    "spy_nom_returns = spy_nom_price.pct_change()[1:]\n",
    "\n",
    "spy_real_price = quandl.get(\"MULTPL/SP500_REAL_PRICE_MONTH\", authtoken=\"8EKNms1cLLU-dBjk5Y4d\").loc[start_date:end_date]\n",
    "spy_real_price = quandl.get(\"MULTPL/SP500_REAL_PRICE_MONTH\", authtoken=\"8EKNms1cLLU-dBjk5Y4d\").loc[start_date:end_date]\n",
    "spy_real_price = spy_real_price.rename(columns={\"Value\": \"price\"})\n",
    "\n",
    "spy_returns = spy_real_price.pct_change()[1:]\n",
    "\n",
    "spy_dividends = quandl.get(\"BUNDESBANK/BBQFS_M_US_CORP_PRICE_SP500__X_0000\", authtoken=\"8EKNms1cLLU-dBjk5Y4d\").loc[start_date:end_date]\n",
    "spy_dividends = spy_dividends.rename(columns={\"Value\": \"dividends\"})\n",
    "spy_dividends.index = spy_dividends.index + pd.offsets.MonthBegin(1)\n",
    "spy_all = spy_dividends.join(spy_real_price)\n",
    "\n",
    "spy_t_bill = quandl.get(\"FRED/INTGSTUSM193N\", authtoken=\"8EKNms1cLLU-dBjk5Y4d\").loc[start_date:end_date]\n",
    "spy_t_bill = spy_t_bill.rename(columns={\"Value\": \"dividends\"})\n",
    "\n",
    "spy_all['t_bill_int'] = spy_t_bill / 100\n",
    "\n",
    "spy_all['div_growth'] = spy_all['dividends'].pct_change()\n",
    "spy_all['av_div_growth'] = spy_all['div_growth'].rolling(window=window,center=False).mean()\n",
    "spy_all['yield'] = spy_all['dividends'].iloc[1:] / spy_all['price'].iloc[:-1]\n",
    "spy_all['ml_discount'] = [0.052 for x in range(len(spy_all))]\n",
    "spy_all['fixed_yield'] = spy_all['t_bill_int'] + spy_all['ml_discount']\n",
    "\n",
    "#spy_all = spy_all.iloc[-window:-1]\n",
    "\n",
    "spy_all['fundamental'] = ((1 + spy_all['av_div_growth']) / (spy_all['fixed_yield'] - spy_all['av_div_growth'])) * spy_all['dividends']\n",
    "spy_all['dev_fundamental'] = (spy_all['price'] - spy_all['fundamental']) / spy_all['fundamental']"
   ]
  },
  {
   "cell_type": "markdown",
   "metadata": {},
   "source": [
    "## 2 Bootstrap data"
   ]
  },
  {
   "cell_type": "code",
   "execution_count": 82,
   "metadata": {
    "collapsed": false
   },
   "outputs": [
    {
     "data": {
      "text/plain": [
       "6250"
      ]
     },
     "execution_count": 82,
     "metadata": {},
     "output_type": "execute_result"
    }
   ],
   "source": [
    "# short block lenght = 250\n",
    "len(spy_nom_returns)"
   ]
  },
  {
   "cell_type": "code",
   "execution_count": 83,
   "metadata": {
    "collapsed": true
   },
   "outputs": [],
   "source": [
    "block_size = 250\n",
    "# subdivide data in blocks of block_size"
   ]
  },
  {
   "cell_type": "code",
   "execution_count": 100,
   "metadata": {
    "collapsed": false
   },
   "outputs": [],
   "source": [
    "data_blocks = []\n",
    "for x in range(0, len(spy_nom_returns), block_size):\n",
    "    data_blocks.append(list(spy_nom_returns[x:x+block_size]))"
   ]
  },
  {
   "cell_type": "code",
   "execution_count": 105,
   "metadata": {
    "collapsed": false
   },
   "outputs": [],
   "source": [
    "# draw 5000 random series\n",
    "bootstrapped_series = []\n",
    "for i in range(5000):\n",
    "    sim_data = [random.choice(data_blocks) for _ in data_blocks]\n",
    "    sim_data2 = [j for i in sim_data for j in i]\n",
    "    bootstrapped_series.append(sim_data2)"
   ]
  },
  {
   "cell_type": "code",
   "execution_count": 106,
   "metadata": {
    "collapsed": false
   },
   "outputs": [
    {
     "data": {
      "text/plain": [
       "5000"
      ]
     },
     "execution_count": 106,
     "metadata": {},
     "output_type": "execute_result"
    }
   ],
   "source": [
    "# now we can calculate the moments. Mean and standard deviations. \n",
    "\n",
    "# then we can minimize the model average deviations. "
   ]
  },
  {
   "cell_type": "markdown",
   "metadata": {},
   "source": [
    "## 3 Choose moments\n",
    "\n",
    "I use the following moments of returns: \n",
    "\n",
    "1. mean first-order autocorrelation of the raw returns (no predictability),\n",
    "2. autocorrelations at lags t ¼ 1\n",
    "3. autocorrelations at lags t ¼ 5\n",
    "4. mean first-order autocorrelation of the of the absolute returns (volatility clustering),\n",
    "5. Kurtosis (fat tails), \n",
    "\n",
    "and for long memory:\n",
    " \n",
    "6. the autocorrelation function of vt ¼ at lag t ¼ 10\n",
    "7. the autocorrelation function of vt ¼ at lag t 25,\n",
    "8. the autocorrelation function of vt ¼ at lag t50; \n",
    "9. the autocorrelation function of vt ¼ at lag t 100.\n",
    "\n",
    "Finally, for to measure the deviation from fundamentals, I use the "
   ]
  },
  {
   "cell_type": "code",
   "execution_count": 30,
   "metadata": {
    "collapsed": false
   },
   "outputs": [],
   "source": [
    "spy_autocorrelation = autocorrelation_returns(spy_returns['price'], 25)\n",
    "spy_autocorrelation1 = spy_returns['price'].autocorr(lag=1)\n",
    "spy_autocorrelation5 = spy_returns['price'].autocorr(lag=5)\n",
    "spy_kurtosis = kurtosis(spy_returns['price'])\n",
    "spy_autocorrelation_abs = autocorrelation_abs_returns(spy_returns['price'], 25)\n",
    "#spy_hurst = hurst(spy_all['price'])\n",
    "\n",
    "# long memory:\n",
    "spy_abs_auto10 = spy_returns['price'].abs().autocorr(lag=10)\n",
    "spy_abs_auto25 = spy_returns['price'].abs().autocorr(lag=25)\n",
    "spy_abs_auto50 = spy_returns['price'].abs().autocorr(lag=50)\n",
    "spy_abs_auto100 = spy_returns['price'].abs().autocorr(lag=100)\n",
    "\n",
    "#spy_dev_fund_hurst = hurst(spy_all['dev_fundamental'].iloc[:-1])\n",
    "av_def_fund = abs(np.mean(spy_all['dev_fundamental']))\n",
    "stylized_facts_spy = [spy_autocorrelation, spy_autocorrelation1, spy_autocorrelation5,\n",
    "                      spy_kurtosis, spy_autocorrelation_abs, spy_abs_auto10, \n",
    "                      spy_abs_auto25, spy_abs_auto50, spy_abs_auto100, av_def_fund]\n",
    "\n",
    "stylized_facts_spy = pd.DataFrame(stylized_facts_spy, columns=['S&P500'], \n",
    "             index=['autocorrelation', 'autocorrelation1', 'autocorrelation5',\n",
    "                    'kurtosis', 'autocorrelation_abs', 'acf_abs10', 'acf_abs25',\n",
    "                    'acf_abs50', 'acf_abs100', 'av_dev_from_fund']).to_dict()['S&P500']"
   ]
  },
  {
   "cell_type": "code",
   "execution_count": 31,
   "metadata": {
    "collapsed": false
   },
   "outputs": [
    {
     "data": {
      "text/plain": [
       "{'acf_abs10': 0.072475104895203979,\n",
       " 'acf_abs100': 0.022149454371627148,\n",
       " 'acf_abs25': -0.042522722517340086,\n",
       " 'acf_abs50': 0.01370050605199658,\n",
       " 'autocorrelation': 0.00030320061625216735,\n",
       " 'autocorrelation1': 0.24449426927505946,\n",
       " 'autocorrelation5': 0.091815678384919108,\n",
       " 'autocorrelation_abs': 0.049914003700974562,\n",
       " 'av_dev_from_fund': 1.9880606822750695,\n",
       " 'kurtosis': 3.0676490833426238}"
      ]
     },
     "execution_count": 31,
     "metadata": {},
     "output_type": "execute_result"
    }
   ],
   "source": [
    "stylized_facts_spy"
   ]
  }
 ],
 "metadata": {
  "kernelspec": {
   "display_name": "Python 3",
   "language": "python",
   "name": "python3"
  },
  "language_info": {
   "codemirror_mode": {
    "name": "ipython",
    "version": 3
   },
   "file_extension": ".py",
   "mimetype": "text/x-python",
   "name": "python",
   "nbconvert_exporter": "python",
   "pygments_lexer": "ipython3",
   "version": "3.5.2"
  }
 },
 "nbformat": 4,
 "nbformat_minor": 0
}
