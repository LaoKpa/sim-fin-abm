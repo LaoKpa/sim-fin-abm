{
 "cells": [
  {
   "cell_type": "code",
   "execution_count": 1,
   "metadata": {
    "collapsed": false
   },
   "outputs": [
    {
     "name": "stderr",
     "output_type": "stream",
     "text": [
      "C:\\Users\\joerischasfoort\\Anaconda3\\lib\\site-packages\\statsmodels\\compat\\pandas.py:56: FutureWarning: The pandas.core.datetools module is deprecated and will be removed in a future version. Please use the pandas.tseries module instead.\n",
      "  from pandas.core import datetools\n"
     ]
    }
   ],
   "source": [
    "%matplotlib inline\n",
    "from pandas_datareader import data\n",
    "import pandas as pd\n",
    "import random\n",
    "from SALib.sample import latin\n",
    "from functions.stylizedfacts import *\n",
    "import scipy.stats as stats\n",
    "from functions.evolutionaryalgo import *\n",
    "from pandas_datareader import data\n",
    "from functions.helpers import hurst, organise_data, div_by_hundred, discounted_value_cash_flow, find_horizon, calculate_npv\n",
    "import matplotlib.pyplot as plt\n",
    "import quandl\n",
    "import statsmodels.api as sm\n",
    "import statsmodels.tsa.stattools as ts\n",
    "import seaborn as sns"
   ]
  },
  {
   "cell_type": "markdown",
   "metadata": {},
   "source": [
    "# Bootstrapped moments S&P 500\n",
    "Following the procedure presented by [Franke & Westerhoff (2012)](https://www.sciencedirect.com/science/article/pii/S0165188912000802).\n",
    "\n",
    "## 1 Get data\n",
    "\n",
    "### a On returns "
   ]
  },
  {
   "cell_type": "code",
   "execution_count": 2,
   "metadata": {
    "collapsed": false
   },
   "outputs": [],
   "source": [
    "start_date = '1993-03-10'\n",
    "end_date = '2018-01-01'\n",
    "window = 320\n",
    "\n",
    "spy_nom_price = data.DataReader(\"SPY\", \n",
    "                       start=start_date, \n",
    "                       end=end_date, \n",
    "                       data_source='yahoo')['Close']\n",
    "spy_nom_returns = spy_nom_price.pct_change()[1:]\n",
    "\n",
    "spy_real_price = quandl.get(\"MULTPL/SP500_REAL_PRICE_MONTH\", authtoken=\"8EKNms1cLLU-dBjk5Y4d\").loc[start_date:end_date]\n",
    "spy_real_price = quandl.get(\"MULTPL/SP500_REAL_PRICE_MONTH\", authtoken=\"8EKNms1cLLU-dBjk5Y4d\").loc[start_date:end_date]\n",
    "spy_real_price = spy_real_price.rename(columns={\"Value\": \"price\"})\n",
    "\n",
    "spy_returns = spy_real_price.pct_change()[1:]\n",
    "\n",
    "spy_dividends = quandl.get(\"BUNDESBANK/BBQFS_M_US_CORP_PRICE_SP500__X_0000\", authtoken=\"8EKNms1cLLU-dBjk5Y4d\").loc[start_date:end_date]\n",
    "spy_dividends = spy_dividends.rename(columns={\"Value\": \"dividends\"})\n",
    "spy_dividends.index = spy_dividends.index + pd.offsets.MonthBegin(1)\n",
    "spy_all = spy_dividends.join(spy_real_price)\n",
    "\n",
    "spy_t_bill = quandl.get(\"FRED/INTGSTUSM193N\", authtoken=\"8EKNms1cLLU-dBjk5Y4d\").loc[start_date:end_date]\n",
    "spy_t_bill = spy_t_bill.rename(columns={\"Value\": \"dividends\"})\n",
    "\n",
    "spy_all['t_bill_int'] = spy_t_bill / 100\n",
    "\n",
    "spy_all['div_growth'] = spy_all['dividends'].pct_change()\n",
    "spy_all['av_div_growth'] = spy_all['div_growth'].rolling(window=window,center=False).mean()\n",
    "spy_all['yield'] = spy_all['dividends'].iloc[1:] / spy_all['price'].iloc[:-1]\n",
    "spy_all['ml_discount'] = [0.052 for x in range(len(spy_all))]\n",
    "spy_all['fixed_yield'] = spy_all['t_bill_int'] + spy_all['ml_discount']\n",
    "\n",
    "#spy_all = spy_all.iloc[-window:-1]\n",
    "\n",
    "spy_all['fundamental'] = ((1 + spy_all['av_div_growth']) / (spy_all['fixed_yield'] - spy_all['av_div_growth'])) * spy_all['dividends']\n",
    "spy_all['dev_fundamental'] = (spy_all['price'] - spy_all['fundamental']) / spy_all['fundamental']"
   ]
  },
  {
   "cell_type": "markdown",
   "metadata": {},
   "source": [
    "### b On fundamentals"
   ]
  },
  {
   "cell_type": "code",
   "execution_count": 3,
   "metadata": {
    "collapsed": false
   },
   "outputs": [],
   "source": [
    "shiller_data = pd.read_excel('http://www.econ.yale.edu/~shiller/data/ie_data.xls', header=7)[:-3]"
   ]
  },
  {
   "cell_type": "code",
   "execution_count": 4,
   "metadata": {
    "collapsed": false
   },
   "outputs": [],
   "source": [
    "schul_data = pd.read_excel('http://www.macrohistory.net/JST/JSTmoneyR3.xlsx', sheetname='Data')[['year', 'country', 'stir']]\n",
    "schul_data = schul_data.loc[(schul_data.country == 'USA')]\n",
    "schul_data = schul_data.iloc[1:]\n",
    "schul_data = schul_data.set_index('year')"
   ]
  },
  {
   "cell_type": "markdown",
   "metadata": {},
   "source": [
    "Extend Schularick annual data to monthly data. "
   ]
  },
  {
   "cell_type": "code",
   "execution_count": 5,
   "metadata": {
    "collapsed": true
   },
   "outputs": [],
   "source": [
    "schul_data['stir']\n",
    "\n",
    "short_term_int = []\n",
    "counter = -1\n",
    "for idx in range(len(shiller_data)):\n",
    "    if idx % 12 == 0:\n",
    "        counter += 1\n",
    "    try:\n",
    "        short_term_int.append(schul_data['stir'].iloc[counter])\n",
    "    except:\n",
    "        pass"
   ]
  },
  {
   "cell_type": "code",
   "execution_count": 6,
   "metadata": {
    "collapsed": true
   },
   "outputs": [],
   "source": [
    "discount_rates = np.array(short_term_int) + 5.2 # Discount rate = short-term interest rate + discount rate as estimated by\n",
    "discount_rates = pd.Series(discount_rates).apply(div_by_hundred)"
   ]
  },
  {
   "cell_type": "code",
   "execution_count": 7,
   "metadata": {
    "collapsed": true
   },
   "outputs": [],
   "source": [
    "long_int = shiller_data['Rate GS10'].apply(div_by_hundred)\n",
    "current_index = 0\n",
    "final_index = len(shiller_data['Dividend'])\n",
    "discounted_cash_flows = shiller_data['Dividend'] / ((1 + long_int)**range(current_index, final_index))"
   ]
  },
  {
   "cell_type": "markdown",
   "metadata": {},
   "source": [
    "Calculate the fundamental value"
   ]
  },
  {
   "cell_type": "code",
   "execution_count": 8,
   "metadata": {
    "collapsed": true
   },
   "outputs": [],
   "source": [
    "fundamental_values = []\n",
    "for idx, cf in enumerate(shiller_data['Dividend'][:-18]):\n",
    "    next_period_divs = shiller_data['Dividend'][idx+1:]\n",
    "    next_period_ints = discount_rates[idx+1]\n",
    "    npv = calculate_npv(next_period_divs, next_period_ints)\n",
    "    if not np.isnan(npv):\n",
    "        fundamental_values.append(npv)\n",
    "    else:\n",
    "        break"
   ]
  },
  {
   "cell_type": "code",
   "execution_count": 9,
   "metadata": {
    "collapsed": false
   },
   "outputs": [],
   "source": [
    "real_prices = shiller_data['Price'][:len(fundamental_values)]"
   ]
  },
  {
   "cell_type": "markdown",
   "metadata": {},
   "source": [
    "Calculate co-integration of market price with fundamentals."
   ]
  },
  {
   "cell_type": "code",
   "execution_count": 10,
   "metadata": {
    "collapsed": true
   },
   "outputs": [],
   "source": [
    "def cointegr(fundament, price):\n",
    "    \"\"\"\n",
    "    Calculate cointegration with fundamentals\n",
    "    Return ADF test statistic, ADF critical values \n",
    "    \"\"\"\n",
    "    model = sm.OLS(fundament, price)\n",
    "    res = model.fit()\n",
    "    residuals = res.resid\n",
    "    cadf = ts.adfuller(residuals)\n",
    "    return cadf[0], cadf[4]"
   ]
  },
  {
   "cell_type": "code",
   "execution_count": 11,
   "metadata": {
    "collapsed": false
   },
   "outputs": [
    {
     "data": {
      "text/plain": [
       "(-3.3959329470058419,\n",
       " {'1%': -3.4343955209592241,\n",
       "  '10%': -2.5677212878453477,\n",
       "  '5%': -2.8633268625511046})"
      ]
     },
     "execution_count": 11,
     "metadata": {},
     "output_type": "execute_result"
    }
   ],
   "source": [
    "cointegr(fundamental_values, real_prices)"
   ]
  },
  {
   "cell_type": "code",
   "execution_count": 12,
   "metadata": {
    "collapsed": true
   },
   "outputs": [],
   "source": [
    "model = sm.OLS(fundamental_values, shiller_data['Price'][:len(fundamental_values)])\n",
    "res = model.fit()\n",
    "residuals = res.resid"
   ]
  },
  {
   "cell_type": "code",
   "execution_count": 13,
   "metadata": {
    "collapsed": false
   },
   "outputs": [
    {
     "name": "stdout",
     "output_type": "stream",
     "text": [
      "ADF test statistic  -3.39593294701\n",
      "ADF critical values {'1%': -3.4343955209592241, '5%': -2.8633268625511046, '10%': -2.5677212878453477}\n"
     ]
    }
   ],
   "source": [
    "cadf = ts.adfuller(residuals) # can be rejected at 5%\n",
    "print('ADF test statistic ', cadf[0])\n",
    "print('ADF critical values', cadf[4])"
   ]
  },
  {
   "cell_type": "code",
   "execution_count": 14,
   "metadata": {
    "collapsed": false
   },
   "outputs": [
    {
     "data": {
      "text/plain": [
       "-3.2114596209358188"
      ]
     },
     "execution_count": 14,
     "metadata": {},
     "output_type": "execute_result"
    }
   ],
   "source": [
    "ts.adfuller(residuals[:800])[0]"
   ]
  },
  {
   "cell_type": "code",
   "execution_count": 15,
   "metadata": {
    "collapsed": false
   },
   "outputs": [
    {
     "data": {
      "text/plain": [
       "<matplotlib.legend.Legend at 0x2d9e86f6400>"
      ]
     },
     "execution_count": 15,
     "metadata": {},
     "output_type": "execute_result"
    },
    {
     "data": {
      "image/png": "[encoded data removed]",
      "text/plain": [
       "<matplotlib.figure.Figure at 0x2d9e84c3518>"
      ]
     },
     "metadata": {},
     "output_type": "display_data"
    }
   ],
   "source": [
    "fig, ax1 = plt.subplots(1, 1, figsize=(10,5))\n",
    "\n",
    "time=0\n",
    "\n",
    "ax1.plot(shiller_data['Date'][time:len(fundamental_values)], fundamental_values[time:], 'k--', label='fundamental')\n",
    "ax1.plot(shiller_data['Date'][time:len(fundamental_values)], shiller_data['Price'][time:len(fundamental_values)], 'k-', label='market')\n",
    "\n",
    "ax1.set_ylabel('Price', fontsize='12')\n",
    "ax1.set_xlabel('Year', fontsize='12')\n",
    "\n",
    "ax1.legend()"
   ]
  },
  {
   "cell_type": "markdown",
   "metadata": {},
   "source": [
    "## 2 Bootstrap data in three blocks"
   ]
  },
  {
   "cell_type": "code",
   "execution_count": 17,
   "metadata": {
    "collapsed": true
   },
   "outputs": [],
   "source": [
    "small_block_size = 250\n",
    "large_block_size = 750\n",
    "shiller_block_size = 205"
   ]
  },
  {
   "cell_type": "markdown",
   "metadata": {},
   "source": [
    "**Small data blocks returns**\n",
    "For short term moments, I produce a bootstrapped series of 250 day (= 1 year) data blocks. This means that there are 25 unique blocks. "
   ]
  },
  {
   "cell_type": "code",
   "execution_count": 18,
   "metadata": {
    "collapsed": false
   },
   "outputs": [],
   "source": [
    "small_data_blocks = []\n",
    "for x in range(0, len(spy_nom_returns), small_block_size):\n",
    "    small_data_blocks.append(list(spy_nom_returns[x:x+small_block_size]))\n",
    "    \n",
    "# draw 5000 random series\n",
    "bootstrapped_small_series = []\n",
    "for i in range(5000):\n",
    "    sim_data = [random.choice(small_data_blocks) for _ in small_data_blocks]\n",
    "    sim_data2 = [j for i in sim_data for j in i]\n",
    "    bootstrapped_small_series.append(sim_data2)"
   ]
  },
  {
   "cell_type": "markdown",
   "metadata": {
    "collapsed": false
   },
   "source": [
    "**Large data blocks returns**\n",
    "\n",
    "For the longer moments, I produce a bootstrapped series of data blocks of 750 days. To accomodate this, I cut the data set with 250 observations, to 6000 observations. "
   ]
  },
  {
   "cell_type": "code",
   "execution_count": 19,
   "metadata": {
    "collapsed": false
   },
   "outputs": [],
   "source": [
    "large_data_blocks = []\n",
    "for x in range(0, len(spy_nom_returns[:-250]), large_block_size):\n",
    "    large_data_blocks.append(list(spy_nom_returns[x:x+large_block_size]))\n",
    "    \n",
    "# draw 5000 random series\n",
    "bootstrapped_long_series = []\n",
    "for i in range(5000):\n",
    "    sim_data = [random.choice(large_data_blocks) for _ in large_data_blocks]\n",
    "    sim_data2 = [j for i in sim_data for j in i]\n",
    "    bootstrapped_long_series.append(sim_data2)"
   ]
  },
  {
   "cell_type": "markdown",
   "metadata": {},
   "source": [
    "**Fundamentals data blocks**\n",
    "\n",
    "For the deviation from fundamentals, I bootstrap the returns of both the fundamental value and the associated returns for market prices. I divided these into blocks. Then, I bootstrap these blocks of returns into new time series and apply them to the starting values of the fundamental value and real prices. This results in 5000 hypothetical time series of fundamentals and real prices. "
   ]
  },
  {
   "cell_type": "code",
   "execution_count": 20,
   "metadata": {
    "collapsed": false
   },
   "outputs": [],
   "source": [
    "# calculate returns for both\n",
    "fundamental_returns = pd.Series(fundamental_values).pct_change()[1:]\n",
    "real_prices_returns = pd.Series(real_prices).pct_change()[1:]"
   ]
  },
  {
   "cell_type": "code",
   "execution_count": 21,
   "metadata": {
    "collapsed": true
   },
   "outputs": [],
   "source": [
    "def hypothetical_series(starting_value, returns):\n",
    "    \"\"\"\n",
    "    input: starting_value: float starting value\n",
    "    input: returns: list \n",
    "    \"\"\"\n",
    "    returns = list(returns)\n",
    "    simulated_series = [starting_value]\n",
    "    for idx in range(len(returns)):\n",
    "        simulated_series.append(simulated_series[-1] * (1 + returns[idx]))\n",
    "    return simulated_series"
   ]
  },
  {
   "cell_type": "code",
   "execution_count": 22,
   "metadata": {
    "collapsed": true
   },
   "outputs": [],
   "source": [
    "# divide both fundamental returns and price returns into blocks\n",
    "shiller_data_blocks = []\n",
    "for x in range(0, len(fundamental_returns[:-3]), shiller_block_size):\n",
    "    shiller_data_blocks.append((list(fundamental_returns[x:x+shiller_block_size]), list(real_prices_returns[x:x+shiller_block_size])))"
   ]
  },
  {
   "cell_type": "code",
   "execution_count": 35,
   "metadata": {
    "collapsed": true
   },
   "outputs": [],
   "source": [
    "# draw 5000 random series \n",
    "bootstrapped_shiller_series = []\n",
    "for i in range(5000):\n",
    "    #print(i)\n",
    "    # first sample the data\n",
    "    sim_data = [random.choice(shiller_data_blocks) for _ in shiller_data_blocks] # choose a random set of blocks\n",
    "    sim_data_fundamental_returns = [pair[0] for pair in sim_data]\n",
    "    sim_data_price_returns = [pair[1] for pair in sim_data]\n",
    "    \n",
    "    # merge the list of lists\n",
    "    sim_data_fundamental_returns1 = [item for sublist in sim_data_fundamental_returns for item in sublist]\n",
    "    sim_data_price_returns1 = [item for sublist in sim_data_price_returns for item in sublist]\n",
    "    \n",
    "    # calculate the new time_series\n",
    "    sim_data_fundamentals = hypothetical_series(fundamental_values[0], sim_data_fundamental_returns1)\n",
    "    sim_data_prices = hypothetical_series(real_prices[0], sim_data_price_returns1)\n",
    "    \n",
    "    bootstrapped_shiller_series.append((sim_data_fundamentals, sim_data_prices))"
   ]
  },
  {
   "cell_type": "markdown",
   "metadata": {},
   "source": [
    "## 3 Choose moments\n",
    "\n",
    "For returns, I use the following moments **short-term moments**: \n",
    "\n",
    "1. mean first-order autocorrelation of the raw returns (no predictability),\n",
    "2. autocorrelations at lags t ¼ 1\n",
    "3. autocorrelations at lags t ¼ 5\n",
    "4. mean first-order autocorrelation of the of the absolute returns (volatility clustering),\n",
    "5. Kurtosis (fat tails), "
   ]
  },
  {
   "cell_type": "code",
   "execution_count": 27,
   "metadata": {
    "collapsed": true
   },
   "outputs": [],
   "source": [
    "first_order_autocors = []\n",
    "mean_abs_autocor = []\n",
    "autocors1 = []\n",
    "autocors5 = []\n",
    "kurtoses = []\n",
    "for rets in bootstrapped_small_series:\n",
    "    first_order_autocors.append(autocorrelation_returns(rets, 25))\n",
    "    mean_abs_autocor.append(autocorrelation_abs_returns(rets, 25))\n",
    "    rets = pd.Series(rets)\n",
    "    autocors1.append(rets.autocorr(lag=1))\n",
    "    autocors5.append(rets.autocorr(lag=5))\n",
    "    kurtoses.append(kurtosis(rets))"
   ]
  },
  {
   "cell_type": "markdown",
   "metadata": {},
   "source": [
    "For long-term moments, I use the autocorrelation of returns for the with lags (10, 25, 50, 100)."
   ]
  },
  {
   "cell_type": "code",
   "execution_count": 28,
   "metadata": {
    "collapsed": true
   },
   "outputs": [],
   "source": [
    "spy_abs_auto10 = []\n",
    "spy_abs_auto25 = []\n",
    "spy_abs_auto50 = []\n",
    "spy_abs_auto100 = []\n",
    "\n",
    "for rets in bootstrapped_long_series:\n",
    "    rets = pd.Series(rets)\n",
    "    spy_abs_auto10.append(rets.abs().autocorr(lag=10))\n",
    "    spy_abs_auto25.append(rets.abs().autocorr(lag=25))\n",
    "    spy_abs_auto50.append(rets.abs().autocorr(lag=50))\n",
    "    spy_abs_auto100.append(rets.abs().autocorr(lag=100))"
   ]
  },
  {
   "cell_type": "markdown",
   "metadata": {},
   "source": [
    "For deviations from fundamentals, I use the AFD t-score to test for mean-reversion in the relationship between fundamentals and the price."
   ]
  },
  {
   "cell_type": "code",
   "execution_count": 37,
   "metadata": {
    "collapsed": true
   },
   "outputs": [],
   "source": [
    "cointegrations = []\n",
    "\n",
    "for sers in bootstrapped_shiller_series:\n",
    "    cointegrations.append(cointegr(sers[0], sers[1])[0])"
   ]
  },
  {
   "cell_type": "markdown",
   "metadata": {},
   "source": [
    "## Plot data"
   ]
  },
  {
   "cell_type": "code",
   "execution_count": 38,
   "metadata": {
    "collapsed": false
   },
   "outputs": [],
   "source": [
    "# Get the t-critical value*\n",
    "def confidence_interval(sample):\n",
    "    \"\"\"Calculate confidence_interval in sample\"\"\"\n",
    "    z_critical = stats.norm.ppf(q = 0.99)\n",
    "    mean = np.mean(sample)\n",
    "    stdev = np.std(sample)\n",
    "    margin_of_error = z_critical * stdev\n",
    "    confidence_interval = (mean - margin_of_error, mean + margin_of_error)  \n",
    "    return confidence_interval"
   ]
  },
  {
   "cell_type": "code",
   "execution_count": 50,
   "metadata": {
    "collapsed": false
   },
   "outputs": [
    {
     "data": {
      "image/png": "[encoded data removed]",
      "text/plain": [
       "<matplotlib.figure.Figure at 0x2d9aa128978>"
      ]
     },
     "metadata": {},
     "output_type": "display_data"
    }
   ],
   "source": [
    "fig, ((ax1, ax2), (ax3, ax4) , (ax5, ax6) , (ax7, ax8), (ax9, ax10)) = plt.subplots(5, 2, figsize=(12,18))\n",
    "\n",
    "# 1 mean autocor\n",
    "sns.distplot(first_order_autocors, hist=False, kde=True, \n",
    "             bins=int(180/5), color = 'black', \n",
    "             hist_kws={'edgecolor':'black'},\n",
    "             kde_kws={'linewidth': 2}, ax=ax1)\n",
    "\n",
    "for xc in confidence_interval(first_order_autocors):\n",
    "    ax1.axvline(x=xc, color='k', linestyle ='dashed', alpha=0.5)\n",
    "    \n",
    "ax1.axvline(x=np.mean(first_order_autocors), color='k', alpha=0.5)\n",
    "ax1.axvline(x=autocorrelation_returns(spy_nom_returns, 25))\n",
    "\n",
    "ax1.set_ylabel('obs')\n",
    "ax1.set_title('Average autocorrelation')\n",
    "\n",
    "# 2 autocorr lag 1 \n",
    "sns.distplot(autocors1, hist=False, kde=True, \n",
    "             bins=int(180/5), color = 'black', \n",
    "             hist_kws={'edgecolor':'black'},\n",
    "             kde_kws={'linewidth': 2}, ax=ax2)\n",
    "ax2.set_title('Autocorrelation lag=1')\n",
    "\n",
    "for xc in confidence_interval(autocors1):\n",
    "    ax2.axvline(x=xc, color='k', linestyle ='dashed', alpha=0.5)\n",
    "    \n",
    "ax2.axvline(x=np.mean(autocors1), color='k', alpha=0.5)\n",
    "ax2.axvline(x=spy_nom_returns.autocorr(lag=1))\n",
    "\n",
    "# 3 autocorr lag 1 \n",
    "sns.distplot(autocors5, hist=False, kde=True, \n",
    "             bins=int(180/5), color = 'black', \n",
    "             hist_kws={'edgecolor':'black'},\n",
    "             kde_kws={'linewidth': 2}, ax=ax3)\n",
    "ax3.set_title('Autocorrelation lag=5')\n",
    "\n",
    "for xc in confidence_interval(autocors5):\n",
    "    ax3.axvline(x=xc, color='k', linestyle ='dashed', alpha=0.5)\n",
    "    \n",
    "ax3.axvline(x=np.mean(autocors5), color='k', alpha=0.5)\n",
    "ax3.axvline(x=spy_nom_returns.autocorr(lag=5))\n",
    "\n",
    "# 4 mean abs autocor\n",
    "sns.distplot(mean_abs_autocor, hist=False, kde=True, \n",
    "             bins=int(180/5), color = 'black', \n",
    "             hist_kws={'edgecolor':'black'},\n",
    "             kde_kws={'linewidth': 2}, ax=ax4)\n",
    "\n",
    "for xc in confidence_interval(mean_abs_autocor):\n",
    "    ax4.axvline(x=xc, color='k', linestyle ='dashed', alpha=0.5)\n",
    "    \n",
    "ax4.axvline(x=np.mean(mean_abs_autocor), color='k', alpha=0.5)\n",
    "ax4.axvline(x=autocorrelation_abs_returns(spy_nom_returns, 25))\n",
    "\n",
    "ax4.set_title('Average Autocorrelation abs')\n",
    "\n",
    "# 5 kurtosis\n",
    "sns.distplot(kurtoses, hist=False, kde=True, \n",
    "             bins=int(180/5), color = 'black', \n",
    "             hist_kws={'edgecolor':'black'},\n",
    "             kde_kws={'linewidth': 2}, ax=ax5)\n",
    "\n",
    "for xc in confidence_interval(kurtoses):\n",
    "    ax5.axvline(x=xc, color='k', linestyle ='dashed', alpha=0.5)\n",
    "    \n",
    "ax5.axvline(x=np.mean(kurtoses), color='k', alpha=0.5)\n",
    "ax5.axvline(x=kurtosis(spy_nom_returns))\n",
    "\n",
    "ax5.set_title('Kurtosis')\n",
    "\n",
    "# 6 AC abs long 10\n",
    "sns.distplot(spy_abs_auto10, hist=False, kde=True, \n",
    "             bins=int(180/5), color = 'black', \n",
    "             hist_kws={'edgecolor':'black'},\n",
    "             kde_kws={'linewidth': 2}, ax=ax6)\n",
    "\n",
    "for xc in confidence_interval(spy_abs_auto10):\n",
    "    ax6.axvline(x=xc, color='k', linestyle ='dashed', alpha=0.5)\n",
    "    \n",
    "ax6.axvline(x=np.mean(spy_abs_auto10), color='k', alpha=0.5)\n",
    "ax6.axvline(x=spy_nom_returns.abs().autocorr(lag=10))\n",
    "\n",
    "ax6.set_title('spy_abs_auto10')\n",
    "\n",
    "# 7 AC abs long 25\n",
    "sns.distplot(spy_abs_auto25, hist=False, kde=True, color = 'black', \n",
    "             hist_kws={'edgecolor':'black'},\n",
    "             kde_kws={'linewidth': 2}, ax=ax7)\n",
    "\n",
    "for xc in confidence_interval(spy_abs_auto25):\n",
    "    ax7.axvline(x=xc, color='k', linestyle ='dashed', alpha=0.5)\n",
    "    \n",
    "ax7.axvline(x=np.mean(spy_abs_auto25), color='k', alpha=0.5)\n",
    "ax7.axvline(x=spy_nom_returns.abs().autocorr(lag=25))\n",
    "\n",
    "ax7.set_title('spy_abs_auto25')\n",
    "\n",
    "# 8 AC abs long 50\n",
    "sns.distplot(spy_abs_auto50, hist=False, kde=True, \n",
    "             bins=int(180/5), color = 'black', \n",
    "             hist_kws={'edgecolor':'black'},\n",
    "             kde_kws={'linewidth': 2}, ax=ax8)\n",
    "\n",
    "for xc in confidence_interval(spy_abs_auto50):\n",
    "    ax8.axvline(x=xc, color='k', linestyle ='dashed', alpha=0.5)\n",
    "    \n",
    "ax8.axvline(x=np.mean(spy_abs_auto50), color='k', alpha=0.5)\n",
    "ax8.axvline(x=spy_nom_returns.abs().autocorr(lag=50))\n",
    "\n",
    "ax8.set_title('spy_abs_auto50')\n",
    "\n",
    "# 9 AC abs long 100\n",
    "sns.distplot(spy_abs_auto100, hist=False, kde=True, color = 'black', \n",
    "             hist_kws={'edgecolor':'black'},\n",
    "             kde_kws={'linewidth': 2}, ax=ax9)\n",
    "\n",
    "for xc in confidence_interval(spy_abs_auto100):\n",
    "    ax9.axvline(x=xc, color='k', linestyle ='dashed', alpha=0.5)\n",
    "    \n",
    "ax9.axvline(x=np.mean(spy_abs_auto100), color='k', alpha=0.5)\n",
    "ax9.axvline(x=spy_nom_returns.abs().autocorr(lag=100))\n",
    "\n",
    "ax9.set_title('spy_abs_auto100')\n",
    "\n",
    "# 10 Deviation from fundamentals\n",
    "sns.distplot(cointegrations, hist=False, kde=True, color = 'black', \n",
    "             hist_kws={'edgecolor':'black'},\n",
    "             kde_kws={'linewidth': 2}, ax=ax10)\n",
    "\n",
    "for xc in confidence_interval(cointegrations):\n",
    "    ax10.axvline(x=xc, color='k', linestyle ='dashed', alpha=0.5)\n",
    "    \n",
    "ax10.axvline(x=np.mean(cointegrations), color='k', alpha=0.5)\n",
    "ax10.axvline(x=cointegr(fundamental_values, real_prices)[0])\n",
    "\n",
    "ax10.set_title('Cointegration prices & fundamentals')\n",
    "\n",
    "fig.savefig('moments.png')"
   ]
  },
  {
   "cell_type": "markdown",
   "metadata": {},
   "source": [
    "### Covariance matrix between moments:\n",
    "\n",
    "1. Make an estimate of the long-run covariance matrix Ω̂ of the empirical moments\n",
    "2. $Ω_{sT}$ is a kernel-weighted average of these matrices, truncated at a suitable lag p. Using the Bartlett kernel with its linearly declining weights gives us the popular Newey–West estimator,\n",
    "3. The weighting matrix is then the inverse of this matrix"
   ]
  },
  {
   "cell_type": "code",
   "execution_count": 57,
   "metadata": {
    "collapsed": false
   },
   "outputs": [],
   "source": [
    "# contruct matrix with: row = variables, column = observations\n",
    "simulated_moments = np.array([first_order_autocors, autocors1, autocors5, mean_abs_autocor, kurtoses,\n",
    "                              spy_abs_auto10, spy_abs_auto25, spy_abs_auto50, spy_abs_auto100, cointegrations])"
   ]
  },
  {
   "cell_type": "code",
   "execution_count": 73,
   "metadata": {
    "collapsed": false
   },
   "outputs": [
    {
     "data": {
      "text/html": [
       "<div>\n",
       "<style>\n",
       "    .dataframe thead tr:only-child th {\n",
       "        text-align: right;\n",
       "    }\n",
       "\n",
       "    .dataframe thead th {\n",
       "        text-align: left;\n",
       "    }\n",
       "\n",
       "    .dataframe tbody tr th {\n",
       "        vertical-align: top;\n",
       "    }\n",
       "</style>\n",
       "<table border=\"1\" class=\"dataframe\">\n",
       "  <thead>\n",
       "    <tr style=\"text-align: right;\">\n",
       "      <th></th>\n",
       "      <th>0</th>\n",
       "      <th>1</th>\n",
       "      <th>2</th>\n",
       "      <th>3</th>\n",
       "      <th>4</th>\n",
       "      <th>5</th>\n",
       "      <th>6</th>\n",
       "      <th>7</th>\n",
       "      <th>8</th>\n",
       "      <th>9</th>\n",
       "    </tr>\n",
       "  </thead>\n",
       "  <tbody>\n",
       "    <tr>\n",
       "      <th>0</th>\n",
       "      <td>563755.251321</td>\n",
       "      <td>-11136.090287</td>\n",
       "      <td>6885.482509</td>\n",
       "      <td>-856.133120</td>\n",
       "      <td>22.686718</td>\n",
       "      <td>809.427257</td>\n",
       "      <td>-883.065523</td>\n",
       "      <td>-420.592767</td>\n",
       "      <td>631.642366</td>\n",
       "      <td>3.103906</td>\n",
       "    </tr>\n",
       "    <tr>\n",
       "      <th>1</th>\n",
       "      <td>-11136.090287</td>\n",
       "      <td>7204.584136</td>\n",
       "      <td>-1492.063561</td>\n",
       "      <td>622.037605</td>\n",
       "      <td>12.588772</td>\n",
       "      <td>-300.182453</td>\n",
       "      <td>247.523244</td>\n",
       "      <td>4.339993</td>\n",
       "      <td>16.880208</td>\n",
       "      <td>-0.286495</td>\n",
       "    </tr>\n",
       "    <tr>\n",
       "      <th>2</th>\n",
       "      <td>6885.482509</td>\n",
       "      <td>-1492.063561</td>\n",
       "      <td>5687.339256</td>\n",
       "      <td>-377.804799</td>\n",
       "      <td>1.638469</td>\n",
       "      <td>-269.474797</td>\n",
       "      <td>295.814263</td>\n",
       "      <td>-58.700093</td>\n",
       "      <td>-52.769222</td>\n",
       "      <td>-0.403347</td>\n",
       "    </tr>\n",
       "    <tr>\n",
       "      <th>3</th>\n",
       "      <td>-856.133120</td>\n",
       "      <td>622.037605</td>\n",
       "      <td>-377.804799</td>\n",
       "      <td>2245.807373</td>\n",
       "      <td>-18.519848</td>\n",
       "      <td>174.686130</td>\n",
       "      <td>-187.781651</td>\n",
       "      <td>-56.896871</td>\n",
       "      <td>84.074973</td>\n",
       "      <td>-0.134827</td>\n",
       "    </tr>\n",
       "    <tr>\n",
       "      <th>4</th>\n",
       "      <td>22.686718</td>\n",
       "      <td>12.588772</td>\n",
       "      <td>1.638469</td>\n",
       "      <td>-18.519848</td>\n",
       "      <td>0.247059</td>\n",
       "      <td>-2.662788</td>\n",
       "      <td>2.332397</td>\n",
       "      <td>0.557769</td>\n",
       "      <td>-0.384918</td>\n",
       "      <td>0.000448</td>\n",
       "    </tr>\n",
       "    <tr>\n",
       "      <th>5</th>\n",
       "      <td>809.427257</td>\n",
       "      <td>-300.182453</td>\n",
       "      <td>-269.474797</td>\n",
       "      <td>174.686130</td>\n",
       "      <td>-2.662788</td>\n",
       "      <td>18905.480600</td>\n",
       "      <td>-18364.277619</td>\n",
       "      <td>-4099.449189</td>\n",
       "      <td>6081.267281</td>\n",
       "      <td>1.026290</td>\n",
       "    </tr>\n",
       "    <tr>\n",
       "      <th>6</th>\n",
       "      <td>-883.065523</td>\n",
       "      <td>247.523244</td>\n",
       "      <td>295.814263</td>\n",
       "      <td>-187.781651</td>\n",
       "      <td>2.332397</td>\n",
       "      <td>-18364.277619</td>\n",
       "      <td>19624.437961</td>\n",
       "      <td>3466.757245</td>\n",
       "      <td>-8178.162316</td>\n",
       "      <td>-0.650213</td>\n",
       "    </tr>\n",
       "    <tr>\n",
       "      <th>7</th>\n",
       "      <td>-420.592767</td>\n",
       "      <td>4.339993</td>\n",
       "      <td>-58.700093</td>\n",
       "      <td>-56.896871</td>\n",
       "      <td>0.557769</td>\n",
       "      <td>-4099.449189</td>\n",
       "      <td>3466.757245</td>\n",
       "      <td>5673.508198</td>\n",
       "      <td>-4701.320625</td>\n",
       "      <td>0.369154</td>\n",
       "    </tr>\n",
       "    <tr>\n",
       "      <th>8</th>\n",
       "      <td>631.642366</td>\n",
       "      <td>16.880208</td>\n",
       "      <td>-52.769222</td>\n",
       "      <td>84.074973</td>\n",
       "      <td>-0.384918</td>\n",
       "      <td>6081.267281</td>\n",
       "      <td>-8178.162316</td>\n",
       "      <td>-4701.320625</td>\n",
       "      <td>9742.308303</td>\n",
       "      <td>-1.164310</td>\n",
       "    </tr>\n",
       "    <tr>\n",
       "      <th>9</th>\n",
       "      <td>3.103906</td>\n",
       "      <td>-0.286495</td>\n",
       "      <td>-0.403347</td>\n",
       "      <td>-0.134827</td>\n",
       "      <td>0.000448</td>\n",
       "      <td>1.026290</td>\n",
       "      <td>-0.650213</td>\n",
       "      <td>0.369154</td>\n",
       "      <td>-1.164310</td>\n",
       "      <td>0.403452</td>\n",
       "    </tr>\n",
       "  </tbody>\n",
       "</table>\n",
       "</div>"
      ],
      "text/plain": [
       "               0             1            2            3          4  \\\n",
       "0  563755.251321 -11136.090287  6885.482509  -856.133120  22.686718   \n",
       "1  -11136.090287   7204.584136 -1492.063561   622.037605  12.588772   \n",
       "2    6885.482509  -1492.063561  5687.339256  -377.804799   1.638469   \n",
       "3    -856.133120    622.037605  -377.804799  2245.807373 -18.519848   \n",
       "4      22.686718     12.588772     1.638469   -18.519848   0.247059   \n",
       "5     809.427257   -300.182453  -269.474797   174.686130  -2.662788   \n",
       "6    -883.065523    247.523244   295.814263  -187.781651   2.332397   \n",
       "7    -420.592767      4.339993   -58.700093   -56.896871   0.557769   \n",
       "8     631.642366     16.880208   -52.769222    84.074973  -0.384918   \n",
       "9       3.103906     -0.286495    -0.403347    -0.134827   0.000448   \n",
       "\n",
       "              5             6            7            8         9  \n",
       "0    809.427257   -883.065523  -420.592767   631.642366  3.103906  \n",
       "1   -300.182453    247.523244     4.339993    16.880208 -0.286495  \n",
       "2   -269.474797    295.814263   -58.700093   -52.769222 -0.403347  \n",
       "3    174.686130   -187.781651   -56.896871    84.074973 -0.134827  \n",
       "4     -2.662788      2.332397     0.557769    -0.384918  0.000448  \n",
       "5  18905.480600 -18364.277619 -4099.449189  6081.267281  1.026290  \n",
       "6 -18364.277619  19624.437961  3466.757245 -8178.162316 -0.650213  \n",
       "7  -4099.449189   3466.757245  5673.508198 -4701.320625  0.369154  \n",
       "8   6081.267281  -8178.162316 -4701.320625  9742.308303 -1.164310  \n",
       "9      1.026290     -0.650213     0.369154    -1.164310  0.403452  "
      ]
     },
     "execution_count": 73,
     "metadata": {},
     "output_type": "execute_result"
    }
   ],
   "source": [
    "var_cov_matrix = pd.DataFrame(simulated_moments).transpose().cov().as_matrix()\n",
    "pd.DataFrame(np.linalg.inv(var_cov_matrix))"
   ]
  },
  {
   "cell_type": "markdown",
   "metadata": {},
   "source": [
    "# Next step: calibrate to moments\n",
    "\n",
    "The traditional approach for the method of simulated moments is to calibrate the model to the empirical moments by minimizing a quadtratic loss function: \n",
    "\n",
    "$J = J(m) = (m^{sim} - m^{emp})' W (m^{sim} - m^{emp}) $\n",
    "\n",
    "The first term is the transpose of the difference between simulated and actual moments. The seond term is the weighting matrix. The third term is the difference between simulated and empirical moments. \n",
    "\n",
    "which represents the distance between the simulated and empirical moments.\n",
    "\n",
    "To reduce the sample variability in the stochastic simulations, I choose a time horizon (following [Franke & Westerhoff (2012)](https://www.sciencedirect.com/science/article/pii/S0165188912000802)) of 10 times the empirical time series. In this case the longest time series. \n",
    "\n"
   ]
  },
  {
   "cell_type": "code",
   "execution_count": 54,
   "metadata": {
    "collapsed": false
   },
   "outputs": [
    {
     "data": {
      "text/plain": [
       "62500"
      ]
     },
     "execution_count": 54,
     "metadata": {},
     "output_type": "execute_result"
    }
   ],
   "source": [
    "simulation_time = max(len(spy_nom_returns), len(fundamental_values)) * 10\n",
    "simulation_time"
   ]
  },
  {
   "cell_type": "code",
   "execution_count": null,
   "metadata": {
    "collapsed": true
   },
   "outputs": [],
   "source": []
  }
 ],
 "metadata": {
  "anaconda-cloud": {},
  "kernelspec": {
   "display_name": "Python [Root]",
   "language": "python",
   "name": "Python [Root]"
  },
  "language_info": {
   "codemirror_mode": {
    "name": "ipython",
    "version": 3
   },
   "file_extension": ".py",
   "mimetype": "text/x-python",
   "name": "python",
   "nbconvert_exporter": "python",
   "pygments_lexer": "ipython3",
   "version": "3.5.2"
  }
 },
 "nbformat": 4,
 "nbformat_minor": 0
}
