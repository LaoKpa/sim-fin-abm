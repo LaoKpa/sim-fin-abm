{
 "cells": [
  {
   "cell_type": "code",
   "execution_count": 1,
   "metadata": {},
   "outputs": [],
   "source": [
    "#%matplotlib inline\n",
    "import numpy as np\n",
    "import pandas as pd\n",
    "import matplotlib.pyplot as plt\n",
    "import statsmodels.tsa.stattools as ts\n",
    "from init_objects import *\n",
    "from functions.stylizedfacts import *\n",
    "from functions.helpers import organise_data\n",
    "from functions.evolutionaryalgo import quadratic_loss_function\n",
    "import statsmodels.api as sm\n",
    "from matplotlib import style\n",
    "import json\n",
    "from collections import OrderedDict\n",
    "import seaborn as sns\n",
    "import scipy.stats as stats\n",
    "import scipy\n",
    "import random"
   ]
  },
  {
   "cell_type": "code",
   "execution_count": 2,
   "metadata": {},
   "outputs": [],
   "source": [
    "style.use('ggplot')"
   ]
  },
  {
   "cell_type": "markdown",
   "metadata": {},
   "source": [
    "# Model dynamics"
   ]
  },
  {
   "cell_type": "code",
   "execution_count": 3,
   "metadata": {},
   "outputs": [],
   "source": [
    "params = {\"spread_max\": 0.004087, \"fundamental_value\": 166, \n",
    "          \"trader_sample_size\": 19, \"n_traders\": 1000, \n",
    "          \"ticks\": 2500, \"std_fundamental\": 0.0530163128919286, \n",
    "          \"std_noise\": 0.10696588473846724, \"w_mean_reversion\": 93.63551013606137, \n",
    "          \"w_fundamentalists\": 8.489180919376432, \"w_momentum\": 43.055017297045524, \n",
    "          \"max_order_expiration_ticks\": 30, \"std_vol\": 7, \"w_random\": 73.28414619497076, \n",
    "          \"horizon_max\": 10}"
   ]
  },
  {
   "cell_type": "markdown",
   "metadata": {},
   "source": [
    "## Change model to collect correct data\n",
    "\n",
    "1. close_price, fundamental\n",
    "2. agents: type, selected agents\n",
    "3. bid_book orders, price, size"
   ]
  },
  {
   "cell_type": "code",
   "execution_count": 4,
   "metadata": {},
   "outputs": [],
   "source": [
    "def sim_fin_model(traders, orderbook, parameters, seed=1):\n",
    "    \"\"\"\n",
    "    The main model function\n",
    "    :param traders: list of Agent objects\n",
    "    :param orderbook: object Order book\n",
    "    :param parameters: dictionary of parameters\n",
    "    :param seed: integer seed to initialise the random number generators\n",
    "    :return: list of simulated Agent objects, object simulated Order book\n",
    "    \"\"\"\n",
    "    close_price = []\n",
    "    fundamental_val = []\n",
    "    volume = []\n",
    "    \n",
    "    random.seed(seed)\n",
    "    np.random.seed(seed)\n",
    "    fundamental = [parameters[\"fundamental_value\"]]\n",
    "\n",
    "    for tick in range(parameters['horizon_max'] + 1, parameters[\"ticks\"]):\n",
    "        # evolve the fundamental value via random walk process\n",
    "        fundamental.append(fundamental[-1] + parameters[\"std_fundamental\"] * np.random.randn())\n",
    "\n",
    "        # select random sample of active traders\n",
    "        active_traders = random.sample(traders, int((parameters['trader_sample_size'])))\n",
    "\n",
    "        # update common expectation components\n",
    "        mid_price = orderbook.tick_close_price[-1]\n",
    "        fundamental_component = np.log(fundamental[-1] / mid_price)\n",
    "        chartist_component = np.cumsum(orderbook.returns[:-parameters['horizon_max']-1:-1]\n",
    "                                       ) / np.arange(1., float(parameters['horizon_max'] + 1))\n",
    "\n",
    "        for trader in active_traders:\n",
    "            # update trader specific expectations\n",
    "            noise_component = parameters['std_noise'] * np.random.randn()\n",
    "\n",
    "            fcast_return = trader.var.forecast_adjust * (\n",
    "                trader.var.weight_fundamentalist * fundamental_component +\n",
    "                trader.var.weight_chartist * chartist_component[trader.par.horizon] +\n",
    "                trader.var.weight_random * noise_component -\n",
    "                trader.var.weight_mean_reversion * chartist_component[trader.par.horizon])\n",
    "\n",
    "            fcast_price = mid_price * np.exp(fcast_return)\n",
    "\n",
    "            # submit orders\n",
    "            if fcast_price > mid_price:\n",
    "                bid_price = fcast_price * (1. - trader.par.spread)\n",
    "                orderbook.add_bid(bid_price, abs(int(np.random.normal(scale=parameters['std_vol']))), trader)\n",
    "            elif fcast_price < mid_price:\n",
    "                ask_price = fcast_price * (1 + trader.par.spread)\n",
    "                orderbook.add_ask(ask_price, abs(int(np.random.normal(scale=parameters['std_vol']))), trader)\n",
    "\n",
    "        # match orders in the order-book\n",
    "        while True:\n",
    "            matched_orders = orderbook.match_orders()\n",
    "            if matched_orders is None:\n",
    "                break\n",
    "\n",
    "        # clear and update order-book history\n",
    "        volume.append(sum(orderbook.transaction_volumes))\n",
    "        orderbook.cleanse_book()\n",
    "        fundamental_val.append(fundamental[-1])\n",
    "        orderbook.fundamental = fundamental\n",
    "        close_price.append(orderbook.tick_close_price[-1])\n",
    "        \n",
    "\n",
    "    return traders, orderbook, close_price, fundamental_val, volume\n"
   ]
  },
  {
   "cell_type": "markdown",
   "metadata": {},
   "source": [
    "## Run model"
   ]
  },
  {
   "cell_type": "code",
   "execution_count": 5,
   "metadata": {},
   "outputs": [],
   "source": [
    "NRUNS = 1\n",
    "traders = []\n",
    "obs = []\n",
    "for seed in range(NRUNS): \n",
    "    traders, orderbook = init_objects(params, seed)\n",
    "    traders, orderbook, close_price, fundamental_val, volume = sim_fin_model(traders, orderbook, params, seed)\n",
    "    traders.append(traders)\n",
    "    obs.append(orderbook)"
   ]
  },
  {
   "cell_type": "code",
   "execution_count": 6,
   "metadata": {},
   "outputs": [],
   "source": [
    "#close_price \n",
    "#fundamental_val\n",
    "#volume"
   ]
  },
  {
   "cell_type": "markdown",
   "metadata": {},
   "source": [
    "## Create graph of prices, fundamental, vol"
   ]
  },
  {
   "cell_type": "code",
   "execution_count": 7,
   "metadata": {},
   "outputs": [],
   "source": [
    "%matplotlib tk\n",
    "from matplotlib.animation import FuncAnimation\n",
    "import matplotlib.animation as animation"
   ]
  },
  {
   "cell_type": "code",
   "execution_count": 25,
   "metadata": {},
   "outputs": [
    {
     "data": {
      "text/plain": [
       "Text(0.5,0,'Ticks')"
      ]
     },
     "execution_count": 25,
     "metadata": {},
     "output_type": "execute_result"
    }
   ],
   "source": [
    "fig, (ax1, ax2) = plt.subplots(2, 1, figsize=(12,9))\n",
    "\n",
    "ax1.plot(range(len(close_price)), fundamental_val, label='fundamental value')\n",
    "ax1.plot(range(len(close_price)), close_price, label='close price')\n",
    "\n",
    "ax1.set_ylabel('End tick price', fontsize='14')\n",
    "ax1.legend(loc='best', fontsize='14')\n",
    "\n",
    "ax2.bar(range(len(volume)), volume, width=1.0)\n",
    "ax2.set_ylabel('Volume', fontsize='14')\n",
    "ax2.set_xlabel('Ticks', fontsize='14')\n",
    "\n",
    "# for ax in [ax1, ax2]:\n",
    "#     ax.ticklabel_format(axis='y', style='sci', scilimits=(-2,2))"
   ]
  },
  {
   "cell_type": "markdown",
   "metadata": {},
   "source": [
    "## Animate"
   ]
  },
  {
   "cell_type": "code",
   "execution_count": 42,
   "metadata": {},
   "outputs": [
    {
     "data": {
      "text/plain": [
       "{u'html': matplotlib.animation.HTMLWriter,\n",
       " u'pillow': matplotlib.animation.PillowWriter}"
      ]
     },
     "execution_count": 42,
     "metadata": {},
     "output_type": "execute_result"
    }
   ],
   "source": [
    "animation.writers.avail"
   ]
  },
  {
   "cell_type": "code",
   "execution_count": 97,
   "metadata": {},
   "outputs": [],
   "source": [
    "# Set up formatting for the movie files\n",
    "Writer = animation.writers['pillow']\n",
    "writer = Writer(fps=15, metadata=dict(artist='Me'), bitrate=1800)"
   ]
  },
  {
   "cell_type": "code",
   "execution_count": 113,
   "metadata": {},
   "outputs": [],
   "source": [
    "animation_time = 1000\n",
    "\n",
    "def data_gen(t=0):\n",
    "    cnt = 0\n",
    "    while t < animation_time:\n",
    "        cnt += 1\n",
    "        t += 1\n",
    "        yield t, close_price[cnt], fundamental_val[cnt]\n",
    "\n",
    "\n",
    "def init():\n",
    "    ax.set_ylim(150, 180)\n",
    "    ax.set_xlim(0, animation_time)\n",
    "    \n",
    "    del xdata[:]\n",
    "    del ydata[:]\n",
    "    del fdata[:]\n",
    "    line.set_data(xdata, ydata)\n",
    "    line2.set_data(xdata, fdata)\n",
    "    ax.legend((line, line2), ('close_price', 'fundamental'), fontsize='14')\n",
    "    return line,\n",
    "\n",
    "fig, (ax, ax2) = plt.subplots(2, 1)\n",
    "line, = ax.plot([], [], lw=2)\n",
    "line2, = ax.plot([], [], lw=2)\n",
    "ax.grid()\n",
    "xdata, ydata, fdata = [], [], []\n",
    "\n",
    "\n",
    "def run(data):\n",
    "    # update the data\n",
    "    t, y, fun = data\n",
    "    xdata.append(t)\n",
    "    ydata.append(y)\n",
    "    fdata.append(fun)\n",
    "    line.set_data(xdata, ydata)\n",
    "    line2.set_data(xdata, fdata)\n",
    "\n",
    "    return line,\n",
    "\n",
    "ani = animation.FuncAnimation(fig, run, data_gen, blit=False, interval=1,\n",
    "                              repeat=False, init_func=init, save_count=animation_time)\n",
    "\n",
    "#ani.save('price_fundamental.gif', writer=writer)\n",
    "plt.show()"
   ]
  },
  {
   "cell_type": "markdown",
   "metadata": {},
   "source": [
    "## Volume"
   ]
  },
  {
   "cell_type": "code",
   "execution_count": null,
   "metadata": {},
   "outputs": [],
   "source": [
    "animation_time = 1000\n",
    "\n",
    "def data_gen(t=0):\n",
    "    cnt = 0\n",
    "    while t < animation_time:\n",
    "        cnt += 1\n",
    "        t += 1\n",
    "        yield t, close_price[cnt], fundamental_val[cnt]\n",
    "\n",
    "\n",
    "def init():\n",
    "    ax.set_ylim(150, 180)\n",
    "    ax.set_xlim(0, animation_time)\n",
    "    \n",
    "    del xdata[:]\n",
    "    del ydata[:]\n",
    "    del fdata[:]\n",
    "    line.set_data(xdata, ydata)\n",
    "    line2.set_data(xdata, fdata)\n",
    "    ax.legend((line, line2), ('close_price', 'fundamental'), fontsize='14')\n",
    "    return line,\n",
    "\n",
    "fig, ax = plt.subplots()\n",
    "line, = ax.plot([], [], lw=2)\n",
    "line2, = ax.plot([], [], lw=2)\n",
    "ax.grid()\n",
    "xdata, ydata, fdata = [], [], []\n",
    "\n",
    "\n",
    "def run(data):\n",
    "    # update the data\n",
    "    t, y, fun = data\n",
    "    xdata.append(t)\n",
    "    ydata.append(y)\n",
    "    fdata.append(fun)\n",
    "    line.set_data(xdata, ydata)\n",
    "    line2.set_data(xdata, fdata)\n",
    "\n",
    "    return line,\n",
    "\n",
    "ani = animation.FuncAnimation(fig, run, data_gen, blit=False, interval=1,\n",
    "                              repeat=False, init_func=init, save_count=animation_time)\n",
    "\n",
    "ani.save('price_fundamental.gif', writer=writer)"
   ]
  }
 ],
 "metadata": {
  "kernelspec": {
   "display_name": "Python [default]",
   "language": "python",
   "name": "python2"
  },
  "language_info": {
   "codemirror_mode": {
    "name": "ipython",
    "version": 2
   },
   "file_extension": ".py",
   "mimetype": "text/x-python",
   "name": "python",
   "nbconvert_exporter": "python",
   "pygments_lexer": "ipython2",
   "version": "2.7.15"
  }
 },
 "nbformat": 4,
 "nbformat_minor": 2
}
