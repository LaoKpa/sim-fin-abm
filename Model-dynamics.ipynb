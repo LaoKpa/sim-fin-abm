{
 "cells": [
  {
   "cell_type": "code",
   "execution_count": 1,
   "metadata": {},
   "outputs": [],
   "source": [
    "#%matplotlib inline\n",
    "import numpy as np\n",
    "import pandas as pd\n",
    "import matplotlib.pyplot as plt\n",
    "import statsmodels.tsa.stattools as ts\n",
    "from init_objects import *\n",
    "from functions.stylizedfacts import *\n",
    "from functions.helpers import organise_data\n",
    "from functions.evolutionaryalgo import quadratic_loss_function\n",
    "import statsmodels.api as sm\n",
    "from matplotlib import style\n",
    "import json\n",
    "from collections import OrderedDict\n",
    "import seaborn as sns\n",
    "import scipy.stats as stats\n",
    "import scipy\n",
    "import random"
   ]
  },
  {
   "cell_type": "code",
   "execution_count": 2,
   "metadata": {},
   "outputs": [],
   "source": [
    "style.use('ggplot')"
   ]
  },
  {
   "cell_type": "markdown",
   "metadata": {},
   "source": [
    "# Model dynamics"
   ]
  },
  {
   "cell_type": "code",
   "execution_count": 3,
   "metadata": {},
   "outputs": [],
   "source": [
    "params = {\"spread_max\": 0.004087, \"fundamental_value\": 166, \n",
    "          \"trader_sample_size\": 19, \"n_traders\": 1000, \n",
    "          \"ticks\": 2500, \"std_fundamental\": 0.0530163128919286, \n",
    "          \"std_noise\": 0.10696588473846724, \"w_mean_reversion\": 93.63551013606137, \n",
    "          \"w_fundamentalists\": 8.489180919376432, \"w_momentum\": 43.055017297045524, \n",
    "          \"max_order_expiration_ticks\": 30, \"std_vol\": 7, \"w_random\": 73.28414619497076, \n",
    "          \"horizon_max\": 10}"
   ]
  },
  {
   "cell_type": "markdown",
   "metadata": {},
   "source": [
    "## Change model to collect correct data\n",
    "\n",
    "1. close_price, fundamental\n",
    "2. agents: type, selected agents\n",
    "3. bid_book orders, price, size"
   ]
  },
  {
   "cell_type": "code",
   "execution_count": 4,
   "metadata": {},
   "outputs": [],
   "source": [
    "def sim_fin_model(traders, orderbook, parameters, seed=1):\n",
    "    \"\"\"\n",
    "    The main model function\n",
    "    :param traders: list of Agent objects\n",
    "    :param orderbook: object Order book\n",
    "    :param parameters: dictionary of parameters\n",
    "    :param seed: integer seed to initialise the random number generators\n",
    "    :return: list of simulated Agent objects, object simulated Order book\n",
    "    \"\"\"\n",
    "    close_price = []\n",
    "    fundamental_val = []\n",
    "    volume = []\n",
    "    \n",
    "    random.seed(seed)\n",
    "    np.random.seed(seed)\n",
    "    fundamental = [parameters[\"fundamental_value\"]]\n",
    "\n",
    "    for tick in range(parameters['horizon_max'] + 1, parameters[\"ticks\"]):\n",
    "        # evolve the fundamental value via random walk process\n",
    "        fundamental.append(fundamental[-1] + parameters[\"std_fundamental\"] * np.random.randn())\n",
    "\n",
    "        # select random sample of active traders\n",
    "        active_traders = random.sample(traders, int((parameters['trader_sample_size'])))\n",
    "\n",
    "        # update common expectation components\n",
    "        mid_price = orderbook.tick_close_price[-1]\n",
    "        fundamental_component = np.log(fundamental[-1] / mid_price)\n",
    "        chartist_component = np.cumsum(orderbook.returns[:-parameters['horizon_max']-1:-1]\n",
    "                                       ) / np.arange(1., float(parameters['horizon_max'] + 1))\n",
    "\n",
    "        for trader in active_traders:\n",
    "            # update trader specific expectations\n",
    "            noise_component = parameters['std_noise'] * np.random.randn()\n",
    "\n",
    "            fcast_return = trader.var.forecast_adjust * (\n",
    "                trader.var.weight_fundamentalist * fundamental_component +\n",
    "                trader.var.weight_chartist * chartist_component[trader.par.horizon] +\n",
    "                trader.var.weight_random * noise_component -\n",
    "                trader.var.weight_mean_reversion * chartist_component[trader.par.horizon])\n",
    "\n",
    "            fcast_price = mid_price * np.exp(fcast_return)\n",
    "\n",
    "            # submit orders\n",
    "            if fcast_price > mid_price:\n",
    "                bid_price = fcast_price * (1. - trader.par.spread)\n",
    "                orderbook.add_bid(bid_price, abs(int(np.random.normal(scale=parameters['std_vol']))), trader)\n",
    "            elif fcast_price < mid_price:\n",
    "                ask_price = fcast_price * (1 + trader.par.spread)\n",
    "                orderbook.add_ask(ask_price, abs(int(np.random.normal(scale=parameters['std_vol']))), trader)\n",
    "\n",
    "        # match orders in the order-book\n",
    "        while True:\n",
    "            matched_orders = orderbook.match_orders()\n",
    "            if matched_orders is None:\n",
    "                break\n",
    "\n",
    "        # clear and update order-book history\n",
    "        volume.append(sum(orderbook.transaction_volumes))\n",
    "        orderbook.cleanse_book()\n",
    "        fundamental_val.append(fundamental[-1])\n",
    "        orderbook.fundamental = fundamental\n",
    "        close_price.append(orderbook.tick_close_price[-1])\n",
    "        \n",
    "\n",
    "    return traders, orderbook, close_price, fundamental_val, volume\n"
   ]
  },
  {
   "cell_type": "markdown",
   "metadata": {},
   "source": [
    "## Run model"
   ]
  },
  {
   "cell_type": "code",
   "execution_count": 5,
   "metadata": {},
   "outputs": [],
   "source": [
    "NRUNS = 1\n",
    "traders = []\n",
    "obs = []\n",
    "for seed in range(NRUNS): \n",
    "    traders, orderbook = init_objects(params, seed)\n",
    "    traders, orderbook, close_price, fundamental_val, volume = sim_fin_model(traders, orderbook, params, seed)\n",
    "    traders.append(traders)\n",
    "    obs.append(orderbook)"
   ]
  },
  {
   "cell_type": "code",
   "execution_count": 6,
   "metadata": {},
   "outputs": [],
   "source": [
    "#close_price \n",
    "#fundamental_val\n",
    "#volume"
   ]
  },
  {
   "cell_type": "markdown",
   "metadata": {},
   "source": [
    "## Create graph of prices, fundamental, vol"
   ]
  },
  {
   "cell_type": "code",
   "execution_count": 7,
   "metadata": {},
   "outputs": [],
   "source": [
    "%matplotlib tk\n",
    "from matplotlib.animation import FuncAnimation\n",
    "import matplotlib.animation as animation"
   ]
  },
  {
   "cell_type": "code",
   "execution_count": 8,
   "metadata": {},
   "outputs": [
    {
     "data": {
      "text/plain": [
       "Text(0.5,0,'Ticks')"
      ]
     },
     "execution_count": 8,
     "metadata": {},
     "output_type": "execute_result"
    }
   ],
   "source": [
    "fig, (ax1, ax2) = plt.subplots(2, 1, figsize=(12,9))\n",
    "\n",
    "ax1.plot(range(len(close_price)), fundamental_val, label='fundamental value')\n",
    "ax1.plot(range(len(close_price)), close_price, label='close price')\n",
    "\n",
    "ax1.set_ylabel('End tick price', fontsize='14')\n",
    "ax1.legend(loc='best', fontsize='14')\n",
    "\n",
    "ax2.bar(range(len(volume)), volume, width=1.0)\n",
    "ax2.set_ylabel('Volume', fontsize='14')\n",
    "ax2.set_xlabel('Ticks', fontsize='14')\n",
    "\n",
    "# for ax in [ax1, ax2]:\n",
    "#     ax.ticklabel_format(axis='y', style='sci', scilimits=(-2,2))"
   ]
  },
  {
   "cell_type": "markdown",
   "metadata": {},
   "source": [
    "## Animate"
   ]
  },
  {
   "cell_type": "code",
   "execution_count": 9,
   "metadata": {},
   "outputs": [
    {
     "data": {
      "text/plain": [
       "{u'html': matplotlib.animation.HTMLWriter,\n",
       " u'pillow': matplotlib.animation.PillowWriter}"
      ]
     },
     "execution_count": 9,
     "metadata": {},
     "output_type": "execute_result"
    }
   ],
   "source": [
    "animation.writers.avail"
   ]
  },
  {
   "cell_type": "code",
   "execution_count": 10,
   "metadata": {},
   "outputs": [],
   "source": [
    "# Set up formatting for the movie files\n",
    "Writer = animation.writers['pillow']\n",
    "writer = Writer(fps=15, metadata=dict(artist='Me'), bitrate=1800)"
   ]
  },
  {
   "cell_type": "code",
   "execution_count": 51,
   "metadata": {},
   "outputs": [],
   "source": [
    "animation_time = 1000\n",
    "\n",
    "def data_gen(t=0):\n",
    "    cnt = 0\n",
    "    while t < animation_time:\n",
    "        cnt += 1\n",
    "        t += 1\n",
    "        yield t, close_price[cnt], fundamental_val[cnt], volume[cnt]\n",
    "\n",
    "\n",
    "def init():\n",
    "    ax.set_ylim(150, 180)\n",
    "    ax.set_xlim(0, animation_time)\n",
    "    \n",
    "    ax2.set_ylim(0, 180)\n",
    "    ax2.set_xlim(0, animation_time)\n",
    "    \n",
    "    del xdata[:]\n",
    "    del ydata[:]\n",
    "    del fdata[:]\n",
    "    del vol_data[:]\n",
    "    line.set_data(xdata, ydata)\n",
    "    line2.set_data(xdata, fdata)\n",
    "    line3.set_data(xdata, vol_data)\n",
    "    ax.legend((line, line2), ('close_price', 'fundamental'), fontsize='12')\n",
    "    ax2.legend()\n",
    "    return line,\n",
    "\n",
    "fig, (ax, ax2) = plt.subplots(2, 1)\n",
    "line, = ax.plot([], [], lw=2)\n",
    "line2, = ax.plot([], [], lw=2)\n",
    "# add vol\n",
    "line3, = ax2.plot([], [], lw=2, color=list(plt.rcParams['axes.prop_cycle'])[4]['color'], label='volume', marker=\"|\", linestyle=\"None\")#, lw=2, marker=\".\", linestyle=\"None\")\n",
    "\n",
    "\n",
    "\n",
    "ax2.plot()\n",
    "\n",
    "ax.grid()\n",
    "xdata, ydata, fdata, vol_data = [], [], [], []\n",
    "\n",
    "\n",
    "def run(data):\n",
    "    # update the data\n",
    "    t, y, fun, vol = data\n",
    "    xdata.append(t)\n",
    "    ydata.append(y)\n",
    "    fdata.append(fun)\n",
    "    vol_data.append(vol)\n",
    "    line.set_data(xdata, ydata)\n",
    "    line2.set_data(xdata, fdata)\n",
    "    line3.set_data(xdata, vol_data)\n",
    "\n",
    "    return line,\n",
    "\n",
    "ani = animation.FuncAnimation(fig, run, data_gen, blit=False, interval=1,\n",
    "                              repeat=False, init_func=init, save_count=animation_time)\n",
    "\n",
    "ani.save('price_fundamental_vol.gif', writer=writer)\n",
    "plt.show()"
   ]
  },
  {
   "cell_type": "markdown",
   "metadata": {},
   "source": [
    "## Agents\n",
    "\n",
    "1. Show all agents as grey dots around the screen edges. \n",
    "2. Show active agents in middle\n",
    "3. Show buying agents green, show selling agents red\n",
    "\n",
    "data needed:\n",
    "np of agents,\n"
   ]
  },
  {
   "cell_type": "code",
   "execution_count": 104,
   "metadata": {},
   "outputs": [
    {
     "name": "stderr",
     "output_type": "stream",
     "text": [
      "Traceback (most recent call last):\n",
      "  File \"C:\\Users\\joerischasfoort\\Anaconda3\\lib\\site-packages\\matplotlib\\cbook\\__init__.py\", line 387, in process\n",
      "    proxy(*args, **kwargs)\n",
      "  File \"C:\\Users\\joerischasfoort\\Anaconda3\\lib\\site-packages\\matplotlib\\cbook\\__init__.py\", line 227, in __call__\n",
      "    return mtd(*args, **kwargs)\n",
      "  File \"C:\\Users\\joerischasfoort\\Anaconda3\\lib\\site-packages\\matplotlib\\animation.py\", line 1308, in _handle_resize\n",
      "    self._init_draw()\n",
      "  File \"C:\\Users\\joerischasfoort\\Anaconda3\\lib\\site-packages\\matplotlib\\animation.py\", line 1753, in _init_draw\n",
      "    self._drawn_artists = self._init_func()\n",
      "  File \"<ipython-input-104-1d10c0b39103>\", line 16, in setup_plot\n",
      "    self.scat = self.ax.scatter(x, y, c=c, s=s, animated=True)\n",
      "  File \"C:\\Users\\joerischasfoort\\Anaconda3\\lib\\site-packages\\matplotlib\\__init__.py\", line 1867, in inner\n",
      "    return func(ax, *args, **kwargs)\n",
      "  File \"C:\\Users\\joerischasfoort\\Anaconda3\\lib\\site-packages\\matplotlib\\axes\\_axes.py\", line 4334, in scatter\n",
      "    alpha=alpha\n",
      "  File \"C:\\Users\\joerischasfoort\\Anaconda3\\lib\\site-packages\\matplotlib\\collections.py\", line 929, in __init__\n",
      "    self.set_sizes(sizes)\n",
      "  File \"C:\\Users\\joerischasfoort\\Anaconda3\\lib\\site-packages\\matplotlib\\collections.py\", line 902, in set_sizes\n",
      "    scale = np.sqrt(self._sizes) * dpi / 72.0 * self._factor\n",
      "FloatingPointError: invalid value encountered in sqrt\n"
     ]
    }
   ],
   "source": [
    "class AnimatedScatter(object):\n",
    "    \"\"\"An animated scatter plot using matplotlib.animations.FuncAnimation.\"\"\"\n",
    "    def __init__(self, numpoints=50):\n",
    "        self.numpoints = numpoints\n",
    "        self.stream = self.data_stream()\n",
    "\n",
    "        # Setup the figure and axes...\n",
    "        self.fig, self.ax = plt.subplots()\n",
    "        # Then setup FuncAnimation.\n",
    "        self.ani = animation.FuncAnimation(self.fig, self.update, interval=5, \n",
    "                                           init_func=self.setup_plot, blit=True)\n",
    "\n",
    "    def setup_plot(self):\n",
    "        \"\"\"Initial drawing of the scatter plot.\"\"\"\n",
    "        x, y, s, c = next(self.stream)\n",
    "        self.scat = self.ax.scatter(x, y, c=c, s=s, animated=True)\n",
    "        self.ax.axis([-10, 10, -10, 10])\n",
    "\n",
    "        # For FuncAnimation's sake, we need to return the artist we'll be using\n",
    "        # Note that it expects a sequence of artists, thus the trailing comma.\n",
    "        return self.scat,\n",
    "\n",
    "    def data_stream(self):\n",
    "        \"\"\"Generate a random walk (brownian motion). Data is scaled to produce\n",
    "        a soft \"flickering\" effect.\"\"\"\n",
    "        data = np.random.random((4, self.numpoints))\n",
    "        xy = data[:2, :]\n",
    "        s, c = data[2:, :]\n",
    "        xy -= 0.5\n",
    "        xy *= 10\n",
    "        while True:\n",
    "            xy += 0.03 * (np.random.random((2, self.numpoints)) - 0.5)\n",
    "            s += 0.05 * (np.random.random(self.numpoints) - 0.5)\n",
    "            c += 0.02 * (np.random.random(self.numpoints) - 0.5)\n",
    "            yield data\n",
    "\n",
    "    def update(self, i):\n",
    "        \"\"\"Update the scatter plot.\"\"\"\n",
    "        data = next(self.stream)\n",
    "\n",
    "        # Set x and y data...\n",
    "        self.scat.set_offsets(data[:2, :].reshape(self.numpoints, 2))\n",
    "        # Set sizes...\n",
    "        self.scat._sizes = 300 * abs(data[2])**1.5 + 100\n",
    "        # Set colors..\n",
    "        self.scat.set_array(data[3])\n",
    "\n",
    "        # We need to return the updated artist for FuncAnimation to draw..\n",
    "        # Note that it expects a sequence of artists, thus the trailing comma.\n",
    "        return self.scat,\n",
    "\n",
    "    def show(self):\n",
    "        plt.show()\n",
    "\n",
    "if __name__ == '__main__':\n",
    "    a = AnimatedScatter()\n",
    "    a.show()"
   ]
  },
  {
   "cell_type": "code",
   "execution_count": 66,
   "metadata": {},
   "outputs": [],
   "source": [
    "# animation steps:\n",
    "# setup plotting area\n",
    "fig, ax = plt.subplots(figsize=(5, 3))\n",
    "ax.set(xlim=(-3, 3), ylim=(-1, 1))\n",
    "\n",
    "# create data to plot\n",
    "x = np.linspace(-3, 3, 91)\n",
    "t = np.linspace(1, 25, 30)\n",
    "X2, T2 = np.meshgrid(x, t)\n",
    " \n",
    "sinT2 = np.sin(2*np.pi*T2/T2.max())\n",
    "F = 0.9*sinT2*np.sinc(X2*(1 + sinT2))\n",
    "\n",
    "# setup line to plot \n",
    "line = ax.plot(x, F[0, :], color='k', lw=2)[0]\n",
    "\n",
    "# create function to update line\n",
    "def animate(i):\n",
    "    line.set_ydata(F[i, :])\n",
    "\n",
    "# create animation\n",
    "anim = FuncAnimation(fig, animate, interval=100, frames=len(t)-1, save_count=animation_time)\n",
    "\n",
    "# optional save graph. ani.save('price_fundamental_vol.gif', writer=writer)\n",
    "\n",
    "plt.draw()\n",
    "plt.show()"
   ]
  },
  {
   "cell_type": "code",
   "execution_count": 115,
   "metadata": {},
   "outputs": [],
   "source": [
    "# setup plotting area\n",
    "fig, ax = plt.subplots(figsize=(5, 3))\n",
    "ax.set(xlim=(-3, 3), ylim=(-1, 1))\n",
    "\n",
    "# create data\n",
    "x = np.linspace(-3, 3, 91)\n",
    "t = np.linspace(1, 25, 30)\n",
    "X2, T2 = np.meshgrid(x, t)\n",
    " \n",
    "sinT2 = np.sin(2*np.pi*T2/T2.max())\n",
    "F = 0.9*sinT2*np.sinc(X2*(1 + sinT2))\n",
    "\n",
    "# create scatter objects\n",
    "scat = ax.scatter(x[::3], F[0, ::3])\n",
    "\n",
    "# define animation function\n",
    "def animate(i):\n",
    "    y_i = F[i, ::3]\n",
    "    scat.set_offsets(np.c_[x[::3], y_i])\n",
    "    \n",
    "anim = FuncAnimation(fig, animate, interval=100, frames=len(t)-1, save_count=animation_time)\n",
    "\n",
    "# optional save graph. ani.save('price_fundamental_vol.gif', writer=writer)\n",
    "\n",
    "plt.draw()\n",
    "plt.show()"
   ]
  },
  {
   "cell_type": "markdown",
   "metadata": {},
   "source": [
    "# Scatter plot agents"
   ]
  },
  {
   "cell_type": "code",
   "execution_count": 112,
   "metadata": {},
   "outputs": [
    {
     "data": {
      "text/plain": [
       "array([[ -1.36130895e-02,  -1.69609663e-02,  -1.92842798e-02, ...,\n",
       "         -1.92842798e-02,  -1.69609663e-02,  -1.36130895e-02],\n",
       "       [  2.52482749e-02,   2.01056101e-02,   1.28580299e-02, ...,\n",
       "          1.28580299e-02,   2.01056101e-02,   2.52482749e-02],\n",
       "       [  1.58908956e-02,   2.65063688e-02,   3.45273017e-02, ...,\n",
       "          3.45273017e-02,   2.65063688e-02,   1.58908956e-02],\n",
       "       ..., \n",
       "       [  4.00560568e-02,   4.71254578e-02,   5.37735218e-02, ...,\n",
       "          5.37735218e-02,   4.71254578e-02,   4.00560568e-02],\n",
       "       [ -2.31201752e-02,  -2.17782898e-02,  -1.97599170e-02, ...,\n",
       "         -1.97599170e-02,  -2.17782898e-02,  -2.31201752e-02],\n",
       "       [ -9.16875209e-32,  -4.97337237e-18,  -9.95564925e-18, ...,\n",
       "         -9.95564925e-18,  -4.97337237e-18,  -9.16875209e-32]])"
      ]
     },
     "execution_count": 112,
     "metadata": {},
     "output_type": "execute_result"
    }
   ],
   "source": [
    "F"
   ]
  },
  {
   "cell_type": "code",
   "execution_count": 141,
   "metadata": {},
   "outputs": [
    {
     "data": {
      "text/plain": [
       "'#FBC15E'"
      ]
     },
     "execution_count": 141,
     "metadata": {},
     "output_type": "execute_result"
    }
   ],
   "source": [
    "list(plt.rcParams['axes.prop_cycle'])[4]['color']"
   ]
  },
  {
   "cell_type": "code",
   "execution_count": 166,
   "metadata": {},
   "outputs": [],
   "source": [
    "# setup plotting area\n",
    "fig, ax = plt.subplots(figsize=(10, 8))\n",
    "ax.set(xlim=(-3, 3), ylim=(-1, 1))\n",
    "\n",
    "offsets = np.linspace(-3, 3, 91)\n",
    "\n",
    "# todo add color\n",
    "\n",
    "# agents = list of\n",
    "\n",
    "# create scatter objects\n",
    "scat = ax.scatter([], [], color=list(plt.rcParams['axes.prop_cycle'])[3]['color'])\n",
    "\n",
    "# define animation function\n",
    "def animate(frame_number):\n",
    "    np.random.seed(0)\n",
    "    x = list(np.random.randint(-300, 100, 1000-params['trader_sample_size']) / 100.0)\n",
    "    y = np.random.randint(-100, 100, 1000) / 100.0\n",
    "    np.random.seed(None)\n",
    "    x = np.array(x + list(np.random.randint(100, 300, params['trader_sample_size']) / 100.0))\n",
    "    \n",
    "    x = x + random.gauss(0, 0.01)\n",
    "    y = y + random.gauss(0, 0.01)\n",
    "    # set position\n",
    "    scat.set_offsets(zip(x, y))\n",
    "    \n",
    "    color = np.where(x>1,'g',np.where(y>5,'k','k'))\n",
    "    # give red color to some sellers\n",
    "    color[-params['trader_sample_size']:] = np.random.choice(['g', 'r'], size=params['trader_sample_size'], replace=True)\n",
    "    #print(color)\n",
    "    # set random number of \n",
    "    \n",
    "    # set color\n",
    "    scat.set_color(color)\n",
    "    \n",
    "anim = FuncAnimation(fig, animate, interval=100, frames=animation_time, save_count=animation_time)\n",
    "\n",
    "anim.save('agents.gif', writer=writer)\n",
    "\n",
    "plt.draw()\n",
    "plt.show()"
   ]
  }
 ],
 "metadata": {
  "kernelspec": {
   "display_name": "Python 3",
   "language": "python",
   "name": "python3"
  },
  "language_info": {
   "codemirror_mode": {
    "name": "ipython",
    "version": 3
   },
   "file_extension": ".py",
   "mimetype": "text/x-python",
   "name": "python",
   "nbconvert_exporter": "python",
   "pygments_lexer": "ipython3",
   "version": "3.6.8"
  }
 },
 "nbformat": 4,
 "nbformat_minor": 2
}
