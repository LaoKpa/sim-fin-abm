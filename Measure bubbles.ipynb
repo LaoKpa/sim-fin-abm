{
 "cells": [
  {
   "cell_type": "code",
   "execution_count": 32,
   "metadata": {},
   "outputs": [],
   "source": [
    "%matplotlib inline\n",
    "\n",
    "import numpy as np\n",
    "import pandas as pd\n",
    "import math\n",
    "from statsmodels.tsa.stattools import adfuller"
   ]
  },
  {
   "cell_type": "markdown",
   "metadata": {},
   "source": [
    "## Detecting bubbles\n",
    "\n",
    "Based on: https://itamarcaspi.github.io/psymonitor/articles/illustrationSNP.html"
   ]
  },
  {
   "cell_type": "code",
   "execution_count": 7,
   "metadata": {},
   "outputs": [],
   "source": [
    "shiller_data = pd.read_excel('http://www.econ.yale.edu/~shiller/data/ie_data.xls', header=7)[:-3][['Date', 'CAPE']]"
   ]
  },
  {
   "cell_type": "code",
   "execution_count": 17,
   "metadata": {},
   "outputs": [],
   "source": [
    "price_div = shiller_data.iloc[1224:1771]"
   ]
  },
  {
   "cell_type": "code",
   "execution_count": 19,
   "metadata": {},
   "outputs": [],
   "source": [
    "price_div.index = price_div['Date']"
   ]
  },
  {
   "cell_type": "code",
   "execution_count": 22,
   "metadata": {},
   "outputs": [],
   "source": [
    "price_div = price_div['CAPE']"
   ]
  },
  {
   "cell_type": "code",
   "execution_count": 26,
   "metadata": {},
   "outputs": [
    {
     "data": {
      "text/plain": [
       "<matplotlib.axes._subplots.AxesSubplot at 0x11231b70>"
      ]
     },
     "execution_count": 26,
     "metadata": {},
     "output_type": "execute_result"
    },
    {
     "data": {
      "image/png": "[encoded data removed]",
      "text/plain": [
       "<Figure size 432x288 with 1 Axes>"
      ]
     },
     "metadata": {
      "needs_background": "light"
     },
     "output_type": "display_data"
    }
   ],
   "source": [
    "price_div.plot()"
   ]
  },
  {
   "cell_type": "markdown",
   "metadata": {},
   "source": [
    "## Set variables"
   ]
  },
  {
   "cell_type": "code",
   "execution_count": 31,
   "metadata": {},
   "outputs": [],
   "source": [
    "data = price_div\n",
    "n_observations = len(data)\n",
    "r0 = 0.01 + 1.8 / np.sqrt(n_observations)\n",
    "min_window = math.floor(r0 * n_observations)\n",
    "dim = n_observations - min_window + 1\n",
    "lags = 2\n",
    "max_lags = 6\n",
    "yr = 2\n",
    "control_sample_size = 12 * yr + min_window - 1\n",
    "nboot = 99"
   ]
  },
  {
   "cell_type": "markdown",
   "metadata": {},
   "source": [
    "## Implementing the functions etc to detect bubbles"
   ]
  },
  {
   "cell_type": "code",
   "execution_count": null,
   "metadata": {},
   "outputs": [],
   "source": [
    "def PSY(y, swindow0, IC, adflag):\n",
    "    \"\"\"\n",
    "    Estimate PSY's BSADF sequence of test statistics\n",
    "    implements the real time bubble detection procedure of Phillips, Shi and Yu (2015a,b)\n",
    "    \n",
    "    param: y: np.array of the data\n",
    "    param: swindow0: integer minimum window size \n",
    "    param: IC: An integer. 0 for fixed lag order (default), 1 for AIC and 2 for BIC (default = 0).\n",
    "    param: adflag: An integer, lag order when IC=0; maximum number of lags when IC>0 (default = 0).\n",
    "    \n",
    "    return: list BSADF test statistic.\n",
    "    \"\"\"\n",
    "    t = length(y)\n",
    "    \n",
    "    if not swindow0: \n",
    "        swindow0 <- math.floor(t * (0.01 + 1.8 / sqrt(t)))\n",
    "\n",
    "    bsadfs = matrix(data = NA, nrow = t, ncol = 1)\n",
    "\n",
    "    for r2 in range(swindow0,t):\n",
    "        rwadft <- matrix(data = -999, nrow = r2 - swindow0 + 1, ncol = 1)\n",
    "        for r1 in range(1,(r2 - swindow0 + 1)):\n",
    "            rwadft[r1] = float(adfuller(y[r1:r2], maxlag=adflag, autolag=IC)) # two tail 5% significant level TODO check if this works\n",
    "    \n",
    "\n",
    "        bsadfs[r2, 1] <- max(unlist(rwadft))\n",
    "  \n",
    "    bsadf = bsadfs[swindow0:t]\n",
    "\n",
    "    return(bsadf)\n",
    "    "
   ]
  },
  {
   "cell_type": "code",
   "execution_count": null,
   "metadata": {},
   "outputs": [],
   "source": [
    "def cvPSYwmboot(y, swindow0, IC, adflag, Tb, nboot, nCores = 2):\n",
    "    "
   ]
  }
 ],
 "metadata": {
  "kernelspec": {
   "display_name": "Python 3",
   "language": "python",
   "name": "python3"
  },
  "language_info": {
   "codemirror_mode": {
    "name": "ipython",
    "version": 3
   },
   "file_extension": ".py",
   "mimetype": "text/x-python",
   "name": "python",
   "nbconvert_exporter": "python",
   "pygments_lexer": "ipython3",
   "version": "3.7.2"
  }
 },
 "nbformat": 4,
 "nbformat_minor": 2
}
