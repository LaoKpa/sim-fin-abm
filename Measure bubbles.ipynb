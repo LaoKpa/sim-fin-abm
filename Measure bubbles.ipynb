{
 "cells": [
  {
   "cell_type": "code",
   "execution_count": 1,
   "metadata": {},
   "outputs": [],
   "source": [
    "%matplotlib inline\n",
    "\n",
    "import numpy as np\n",
    "import pandas as pd\n",
    "import math\n",
    "from statsmodels.tsa.stattools import adfuller\n",
    "from functions.find_bubbles import ADF, PSY, ADFres, cvPSYwmboot"
   ]
  },
  {
   "cell_type": "markdown",
   "metadata": {},
   "source": [
    "## Detecting bubbles\n",
    "\n",
    "Based on: https://itamarcaspi.github.io/psymonitor/articles/illustrationSNP.html"
   ]
  },
  {
   "cell_type": "code",
   "execution_count": 2,
   "metadata": {},
   "outputs": [],
   "source": [
    "snp = pd.read_csv('snp.csv', index_col='date')"
   ]
  },
  {
   "cell_type": "code",
   "execution_count": 3,
   "metadata": {},
   "outputs": [],
   "source": [
    "y = 1 / snp.value"
   ]
  },
  {
   "cell_type": "code",
   "execution_count": 4,
   "metadata": {},
   "outputs": [],
   "source": [
    "obs = len(y)\n",
    "r0 = 0.01 + 1.8/np.sqrt(obs)\n",
    "swindow0 = int(math.floor(r0*obs))\n",
    "dim = obs - swindow0 + 1\n",
    "IC = 2\n",
    "adflag = 6\n",
    "yr = 2\n",
    "Tb = 12*yr + swindow0 - 1\n",
    "nboot = 99"
   ]
  },
  {
   "cell_type": "code",
   "execution_count": 5,
   "metadata": {},
   "outputs": [
    {
     "data": {
      "text/plain": [
       "<matplotlib.axes._subplots.AxesSubplot at 0xc9c3438>"
      ]
     },
     "execution_count": 5,
     "metadata": {},
     "output_type": "execute_result"
    },
    {
     "data": {
      "image/png": "[encoded data removed]",
      "text/plain": [
       "<Figure size 432x288 with 1 Axes>"
      ]
     },
     "metadata": {},
     "output_type": "display_data"
    }
   ],
   "source": [
    "y.plot()"
   ]
  },
  {
   "cell_type": "markdown",
   "metadata": {},
   "source": [
    "Next, we run the test and simulate critical values via the bootstrap."
   ]
  },
  {
   "cell_type": "code",
   "execution_count": 6,
   "metadata": {},
   "outputs": [],
   "source": [
    "bsadfs = PSY(y, swindow0, IC, adflag)\n",
    "quantilesBsadf = cvPSYwmboot(y, swindow0, IC, adflag, Tb, nboot=199)"
   ]
  },
  {
   "cell_type": "markdown",
   "metadata": {},
   "source": [
    "The identified origination and termination dates can be calculated and viewed with the following commands:"
   ]
  },
  {
   "cell_type": "code",
   "execution_count": 65,
   "metadata": {},
   "outputs": [],
   "source": [
    "monitorDates = snp.iloc[swindow0-1:obs].index\n",
    "quantile95 = np.dot(np.array([quantilesBsadf]).T, np.ones([1, dim]))\n",
    "ind95 =(bsadfs.T[0] > quantile95[1, ])\n",
    "periods = monitorDates[ind95]"
   ]
  },
  {
   "cell_type": "markdown",
   "metadata": {},
   "source": [
    "Identify the start and end dates"
   ]
  },
  {
   "cell_type": "code",
   "execution_count": 87,
   "metadata": {},
   "outputs": [
    {
     "data": {
      "text/plain": [
       "Index([u'1986-05-30', u'1986-06-30', u'1987-07-31', u'1987-08-31',\n",
       "       u'1996-01-31', u'1996-05-31', u'1996-11-29', u'1996-12-31',\n",
       "       u'1997-01-31', u'1997-02-28', u'1997-04-30', u'1997-05-30',\n",
       "       u'1997-06-30', u'1997-07-31', u'1997-08-29', u'1997-09-30',\n",
       "       u'1997-10-31', u'1997-11-28', u'1997-12-31', u'1998-01-30',\n",
       "       u'1998-02-27', u'1998-03-31', u'1998-04-30', u'1998-05-29',\n",
       "       u'1998-06-30', u'1998-07-31', u'1998-09-30', u'1998-10-30',\n",
       "       u'1998-11-30', u'1998-12-31', u'1999-01-29', u'1999-02-26',\n",
       "       u'1999-03-31', u'1999-04-30', u'1999-05-31', u'1999-06-30',\n",
       "       u'1999-07-30', u'1999-08-31', u'1999-09-30', u'1999-10-29',\n",
       "       u'1999-11-30', u'1999-12-31', u'2000-01-31', u'2000-02-29',\n",
       "       u'2000-03-31', u'2000-04-28', u'2000-05-31', u'2000-06-30',\n",
       "       u'2000-07-31', u'2000-08-31', u'2000-09-29', u'2000-10-31',\n",
       "       u'2000-12-29', u'2001-01-31', u'2008-10-31', u'2008-11-28',\n",
       "       u'2008-12-31', u'2009-01-30', u'2009-02-27'],\n",
       "      dtype='object', name=u'date')"
      ]
     },
     "execution_count": 87,
     "metadata": {},
     "output_type": "execute_result"
    }
   ],
   "source": [
    "periods"
   ]
  },
  {
   "cell_type": "code",
   "execution_count": 86,
   "metadata": {},
   "outputs": [
    {
     "data": {
      "text/plain": [
       "Timestamp('1986-05-30 00:00:00')"
      ]
     },
     "execution_count": 86,
     "metadata": {},
     "output_type": "execute_result"
    }
   ],
   "source": [
    "pd.to_datetime(periods)[0]"
   ]
  },
  {
   "cell_type": "code",
   "execution_count": 33,
   "metadata": {},
   "outputs": [
    {
     "data": {
      "text/plain": [
       "array([[0, 0, 0, ..., 0, 0, 0],\n",
       "       [0, 0, 0, ..., 0, 0, 0],\n",
       "       [0, 0, 0, ..., 0, 0, 0],\n",
       "       ..., \n",
       "       [0, 0, 0, ..., 0, 0, 0],\n",
       "       [0, 0, 0, ..., 0, 0, 0],\n",
       "       [0, 0, 0, ..., 0, 0, 0]])"
      ]
     },
     "execution_count": 33,
     "metadata": {},
     "output_type": "execute_result"
    }
   ],
   "source": [
    "if not periods:\n",
    "    raise ValueError('No bubble or crisis periods found.')\n",
    "\n",
    "v = len(periods)\n",
    "# create empty DF\n",
    "dateStamps = pd.DataFrame()\n",
    "#  random sample from obs with replacement\n",
    "rN = np.random.choice(obs, v, replace=True)\n",
    "\n",
    "# check the date is the next in the monitorDates list\n",
    "for j in range(v):\n",
    "    if (periods[j, 1] == periods[j, 2]):\n",
    "    newEntry <- data.frame(start = OT[j, 1], end = OT[j, 1])\n",
    "    dateStamps <- rbind(dateStamps, newEntry)\n",
    "\n",
    "    } else {\n",
    "      newEntry <- data.frame(start = OT[j, 1],\n",
    "                             end = OT[j, 2])\n",
    "      dateStamps <- rbind(dateStamps, newEntry)\n",
    "\n",
    "    }\n",
    "  }\n",
    "  dateStamps\n",
    "}"
   ]
  },
  {
   "cell_type": "markdown",
   "metadata": {},
   "source": [
    "## Bootstrap time series using cvPSYwmboot"
   ]
  },
  {
   "cell_type": "code",
   "execution_count": 185,
   "metadata": {},
   "outputs": [],
   "source": [
    "qe =  np.array([0.90, 0.95, 0.99])\n",
    "\n",
    "beta, eps, lag = ADFres(y, IC, adflag)\n",
    "\n",
    "T0 = len(eps)\n",
    "t = len(y)\n",
    "dy = np.array(y.iloc[0:(t - 1)]) - np.array(y.iloc[1:t])\n",
    "g = len(beta)\n",
    "\n",
    "# create matrix filled with random ints < T0 with rows TB and cols: nboot\n",
    "rN = np.random.randint(0, T0, (Tb, nboot))\n",
    "# create weigth matrix filled a random normal float\n",
    "wn = np.random.normal(0) * np.ones([Tb, nboot])\n",
    "\n",
    "# dyb = 69 row, 99 col matrix of zeros\n",
    "dyb = np.zeros([Tb - 1, nboot])\n",
    "# fill first 6 rows with first six \n",
    "dyb[:lag + 1, ] = np.split(np.tile(dy[[l for l in range(lag + 1)]], nboot), lag + 1, axis=0)\n",
    "\n",
    "for j in range(nboot):\n",
    "    # loop over all columns\n",
    "    if lag == 0:\n",
    "        for i in range(lag, Tb - 1):\n",
    "            # loop over rows, start filling the rest of the dyb rows with random numbers\n",
    "            dyb[i, j] = wn[i - lag, j] * eps[rN[i - lag, j]]\n",
    "    elif lag > 0:\n",
    "        x = np.zeros([Tb - 1, lag])\n",
    "        for i in range(lag, Tb - 1):\n",
    "            # create a new empy array of simlar proportions to dyb\n",
    "            x = np.zeros([Tb - 1, lag])\n",
    "            for k in range(lag):\n",
    "                # every row after the first 6, fill the first six column values with  \n",
    "                # values of the dyb six rows that came before it\n",
    "                x[i, k] = dyb[i - k, j]\n",
    "\n",
    "            # matrix multiplication \n",
    "            # fill the rows below the first 6 with \n",
    "            # the i row of x * \n",
    "            dyb[i, j] = np.dot(x[i, ], beta[1:g]) + wn[i - lag, j] * eps[rN[i - lag, j]]\n",
    "\n",
    "dyb0 = np.ones([Tb, nboot]) * y[1]\n",
    "dyb0[1:, :] = dyb\n",
    "yb = np.cumsum(dyb0, axis=0)\n",
    "\n",
    "dim = Tb - swindow0 + 1\n",
    "i = 0"
   ]
  },
  {
   "cell_type": "markdown",
   "metadata": {},
   "source": [
    "## Implementing the functions etc to detect bubbles"
   ]
  },
  {
   "cell_type": "code",
   "execution_count": 186,
   "metadata": {},
   "outputs": [],
   "source": [
    "# for every .. column perform PSY, since there are 99 columns...\n",
    "# this gives a new matrix with 24 columns and 4 rows... so every row= ser \n",
    "MPSY = []\n",
    "for col in range(nboot):\n",
    "    MPSY.append(PSY(pd.Series(yb[:,col]), swindow0, IC, adflag))\n",
    "\n",
    "MPSY = np.array(MPSY)\n",
    "# then, find the max value for each point in time?\n",
    "SPSY = MPSY.max(axis=1)\n",
    "# then, find the quantile for each\n",
    "Q_SPSY = pd.Series(SPSY.T[0]).quantile(qe)"
   ]
  },
  {
   "cell_type": "code",
   "execution_count": 188,
   "metadata": {},
   "outputs": [
    {
     "data": {
      "text/plain": [
       "0.90    0.721226\n",
       "0.95    0.866619\n",
       "0.99    1.248693\n",
       "dtype: float64"
      ]
     },
     "execution_count": 188,
     "metadata": {},
     "output_type": "execute_result"
    }
   ],
   "source": [
    "Q_SPSY"
   ]
  },
  {
   "cell_type": "code",
   "execution_count": 80,
   "metadata": {},
   "outputs": [],
   "source": [
    "def PSY(y, swindow0, adflag):\n",
    "    \"\"\"\n",
    "    Estimate PSY's BSADF sequence of test statistics\n",
    "    implements the real time bubble detection procedure of Phillips, Shi and Yu (2015a,b)\n",
    "    \n",
    "    param: y: np.array of the data\n",
    "    param: swindow0: integer minimum window size \n",
    "    param: adflag: An integer, lag order when IC=0; maximum number of lags when IC>0 (default = 0).\n",
    "    \n",
    "    For every period in time calculate the max ADF statistic using a rolling window. \n",
    "    \n",
    "    return: list BSADF test statistic.\n",
    "    \"\"\"\n",
    "    t = len(y)\n",
    "    \n",
    "    if not swindow0: \n",
    "        swindow0 = int(math.floor(t * (0.01 + 1.8 / np.sqrt(t))))\n",
    "\n",
    "    bsadfs = np.zeros([t, 1]) # create empty column array at lenght of the data (zeros)\n",
    "\n",
    "    for r2 in range(swindow0, t + 1):\n",
    "    # loop over the range 47 - 647\n",
    "    # create column vector of increasing lenght and fill with - 999\n",
    "        rwadft = np.ones([r2 - swindow0 + 1, 1]) * -999\n",
    "        for r1 in range(r2 - swindow0 + 1):\n",
    "            # loop over the range 0 - 500\n",
    "            # perform ADF test on data from r1 --> r2\n",
    "            # insert in row\n",
    "            rwadft[r1] = float(adfuller(y.iloc[r1:r2], maxlag=adflag, autolag='BIC')[0]) # two tail 5% significant level\n",
    "        \n",
    "        # take max value an insert in bsadfs array\n",
    "        bsadfs[r2 - 1] = max(rwadft.T[0])\n",
    "\n",
    "    # create shortened version of array\n",
    "    bsadf = bsadfs[swindow0:t]\n",
    "    \n",
    "    return bsadf"
   ]
  },
  {
   "cell_type": "code",
   "execution_count": null,
   "metadata": {},
   "outputs": [],
   "source": []
  },
  {
   "cell_type": "code",
   "execution_count": null,
   "metadata": {},
   "outputs": [],
   "source": [
    "def cvPSYwmboot(y, swindow0, adflag, Tb, nboot, nCores = 2):  # IC = 'BIC'\n",
    "    \"\"\"\n",
    "    Computes a matrix of 90, 95 and 99 critical values which can be used to compare to the bsadf statistics.\n",
    "    \n",
    "    \n",
    "    \n",
    "    return: A matrix. BSADF bootstrap critical value sequence at the 90, 95 and 99 percent level.\n",
    "    \"\"\""
   ]
  }
 ],
 "metadata": {
  "kernelspec": {
   "display_name": "Python [default]",
   "language": "python",
   "name": "python2"
  },
  "language_info": {
   "codemirror_mode": {
    "name": "ipython",
    "version": 2
   },
   "file_extension": ".py",
   "mimetype": "text/x-python",
   "name": "python",
   "nbconvert_exporter": "python",
   "pygments_lexer": "ipython2",
   "version": "2.7.15"
  }
 },
 "nbformat": 4,
 "nbformat_minor": 2
}
