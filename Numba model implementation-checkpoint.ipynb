{
 "cells": [
  {
   "cell_type": "code",
   "execution_count": 96,
   "metadata": {},
   "outputs": [],
   "source": [
    "from numba import jit\n",
    "from init_objects import *\n",
    "#from simfinmodel import *\n",
    "from objects.trader import *\n",
    "import numpy as np"
   ]
  },
  {
   "cell_type": "code",
   "execution_count": 3,
   "metadata": {},
   "outputs": [],
   "source": [
    "params = {\"spread_max\": 0.004087, \"fundamental_value\": 166, \n",
    "          \"trader_sample_size\": 19, \"n_traders\": 1000, \n",
    "          \"ticks\": 25000, \"std_fundamental\": 0.0530163128919286, \n",
    "          \"std_noise\": 0.10696588473846724, \"w_mean_reversion\": 93.63551013606137, \n",
    "          \"w_fundamentalists\": 8.489180919376432, \"w_momentum\": 43.055017297045524, \n",
    "          \"max_order_expiration_ticks\": 30, \"std_vol\": 7, \"w_random\": 73.28414619497076, \n",
    "          \"horizon_max\": 10}"
   ]
  },
  {
   "cell_type": "code",
   "execution_count": null,
   "metadata": {},
   "outputs": [],
   "source": [
    "np.arange()"
   ]
  },
  {
   "cell_type": "markdown",
   "metadata": {},
   "source": [
    "# Numba model implementation\n",
    "\n",
    "Try to speed up the model with a numba implementation. with np.d-types.\n",
    "\n",
    "First compute how long it takes for a run now. "
   ]
  },
  {
   "cell_type": "code",
   "execution_count": 4,
   "metadata": {},
   "outputs": [],
   "source": [
    "slow_traders, slow_orderbook = init_objects(params, 1)"
   ]
  },
  {
   "cell_type": "code",
   "execution_count": 9,
   "metadata": {},
   "outputs": [
    {
     "name": "stdout",
     "output_type": "stream",
     "text": [
      "1 loop, best of 3: 7.96 s per loop\n"
     ]
    }
   ],
   "source": [
    "%timeit sim_fin_model(traders, orderbook, params, 1)"
   ]
  },
  {
   "cell_type": "code",
   "execution_count": 43,
   "metadata": {},
   "outputs": [
    {
     "name": "stdout",
     "output_type": "stream",
     "text": [
      "[1 2 3 4 5 6 7 8]\n",
      "[-0.00798716  0.05168879  0.02277554 -0.00257896 -0.016539    0.01446355\n",
      "  0.01898361  0.0647561   0.00966923 -0.02072909]\n"
     ]
    }
   ],
   "source": [
    "# i want array of all expected returns for agents:\n",
    "# i have horizons for every agent \n",
    "horizons = np.arange(8) + 1\n",
    "returns = np.random.normal(0.0, 0.03, 10)\n",
    "print(horizons)\n",
    "print(returns)"
   ]
  },
  {
   "cell_type": "code",
   "execution_count": 95,
   "metadata": {},
   "outputs": [
    {
     "data": {
      "text/plain": [
       "0"
      ]
     },
     "execution_count": 95,
     "metadata": {},
     "output_type": "execute_result"
    }
   ],
   "source": [
    "np.nonzero(np.array([1,2,0,0]))[0][0]"
   ]
  },
  {
   "cell_type": "code",
   "execution_count": 69,
   "metadata": {},
   "outputs": [],
   "source": [
    "# i want the average return for every agent \n",
    "chartist_component = np.cumsum(np.flip(returns, 0)) / np.arange(1., float(len(returns) + 1))"
   ]
  },
  {
   "cell_type": "code",
   "execution_count": 72,
   "metadata": {},
   "outputs": [
    {
     "data": {
      "text/plain": [
       "array([-0.02072909, -0.00552993,  0.01789875,  0.01816996,  0.01742868,\n",
       "        0.0117674 ,  0.00971792,  0.01135012,  0.01583219,  0.01345026])"
      ]
     },
     "execution_count": 72,
     "metadata": {},
     "output_type": "execute_result"
    }
   ],
   "source": [
    "chartist_component"
   ]
  },
  {
   "cell_type": "code",
   "execution_count": 79,
   "metadata": {},
   "outputs": [
    {
     "data": {
      "text/plain": [
       "array([-0.00552993,  0.01789875,  0.01816996,  0.01742868,  0.0117674 ,\n",
       "        0.00971792,  0.01135012,  0.01583219])"
      ]
     },
     "execution_count": 79,
     "metadata": {},
     "output_type": "execute_result"
    }
   ],
   "source": [
    "np.cumsum(np.flip(returns, 0))[horizons] / (horizons + 1)"
   ]
  },
  {
   "cell_type": "code",
   "execution_count": 78,
   "metadata": {},
   "outputs": [
    {
     "data": {
      "text/plain": [
       "array([-0.01105986,  0.05369624,  0.07267984,  0.08714339,  0.07060439,\n",
       "        0.06802543,  0.09080096,  0.14248975])"
      ]
     },
     "execution_count": 78,
     "metadata": {},
     "output_type": "execute_result"
    }
   ],
   "source": [
    "np.cumsum(np.flip(returns, 0))[horizons]"
   ]
  },
  {
   "cell_type": "code",
   "execution_count": 59,
   "metadata": {},
   "outputs": [
    {
     "data": {
      "text/plain": [
       "array([-0.02072909,  0.00966923,  0.0647561 ,  0.01898361,  0.01446355,\n",
       "       -0.016539  , -0.00257896])"
      ]
     },
     "execution_count": 59,
     "metadata": {},
     "output_type": "execute_result"
    }
   ],
   "source": [
    "returns[len(returns):len(returns) - horizons.max():-1]"
   ]
  },
  {
   "cell_type": "markdown",
   "metadata": {},
   "source": [
    "To optimize the model. I need to recode the orderbook + traders to be np.dtypes(). First try an example to see if this will work.\n",
    "\n",
    "### work with structured array\n",
    "https://www.youtube.com/watch?v=8y-o1zWSXR8"
   ]
  },
  {
   "cell_type": "code",
   "execution_count": 5,
   "metadata": {},
   "outputs": [],
   "source": [
    "# list of tuples with (name, type)\n",
    "orderbook_def = [('bids', 'i8'), ('asks', 'i8'), \n",
    "             ('order_expiration', 'i8')]"
   ]
  },
  {
   "cell_type": "code",
   "execution_count": 6,
   "metadata": {},
   "outputs": [
    {
     "data": {
      "text/plain": [
       "array([], dtype=float64)"
      ]
     },
     "execution_count": 6,
     "metadata": {},
     "output_type": "execute_result"
    }
   ],
   "source": [
    "np.array([])"
   ]
  },
  {
   "cell_type": "code",
   "execution_count": 7,
   "metadata": {},
   "outputs": [],
   "source": [
    "orderbook = np.rec.array((0, 0, 30), dtype=orderbook_def)"
   ]
  },
  {
   "cell_type": "markdown",
   "metadata": {},
   "source": [
    "Access or mute variables: "
   ]
  },
  {
   "cell_type": "code",
   "execution_count": 9,
   "metadata": {},
   "outputs": [
    {
     "name": "stdout",
     "output_type": "stream",
     "text": [
      "The slowest run took 275.11 times longer than the fastest. This could mean that an intermediate result is being cached.\n",
      "100000 loops, best of 3: 2.68 µs per loop\n"
     ]
    }
   ],
   "source": [
    "%timeit np.min(np.array([2,3]))"
   ]
  },
  {
   "cell_type": "code",
   "execution_count": 10,
   "metadata": {},
   "outputs": [
    {
     "name": "stdout",
     "output_type": "stream",
     "text": [
      "The slowest run took 6.42 times longer than the fastest. This could mean that an intermediate result is being cached.\n",
      "10000000 loops, best of 3: 193 ns per loop\n"
     ]
    }
   ],
   "source": [
    "%timeit min([2,3])"
   ]
  },
  {
   "cell_type": "code",
   "execution_count": 110,
   "metadata": {},
   "outputs": [],
   "source": [
    "# write init objects\n",
    "def init_objects_optimized(parameters, seed):\n",
    "    \"\"\"\n",
    "    Initialises the model agents and orderbook\n",
    "    :param parameters: object which holds all model parameters\n",
    "    :param seed: integer seed for the random number generator\n",
    "    :return: list of agents\n",
    "    \"\"\"\n",
    "    np.random.seed(seed)\n",
    "    \n",
    "    agent_def = [('name', 'S6'), ('weight_fundamentalist', 'f8'), \n",
    "             ('weight_chartist', 'f8'), ('weight_random', 'f8'), \n",
    "             ('weight_mean_reversion', 'f8'), ('forecast_adjust', 'f8'), ('horizon', 'i8'), \n",
    "             ('spread', 'f8'), ('exp_price', 'f8')]\n",
    "\n",
    "    init_traders = []\n",
    "    for i in range(parameters[\"n_traders\"]):\n",
    "        name = 'ag{}'.format(i)\n",
    "        weight_fundamentalist = abs(np.random.normal(0., parameters[\"w_fundamentalists\"]))\n",
    "        weight_chartist = abs(np.random.normal(0., parameters[\"w_momentum\"]))\n",
    "        weight_random = abs(np.random.normal(0., parameters[\"w_random\"]))\n",
    "        weight_mean_reversion = abs(np.random.normal(0., parameters[\"w_mean_reversion\"]))\n",
    "        f_cast_adj = 1. / (weight_fundamentalist + weight_chartist + weight_random + weight_mean_reversion)\n",
    "        horizon = np.random.randint(1, parameters['horizon_max'])\n",
    "        spread = parameters['spread_max'] * np.random.rand()\n",
    "        exp_price = parameters['fundamental_value']\n",
    "        \n",
    "        init_traders.append((name, weight_fundamentalist, weight_chartist, weight_random, weight_mean_reversion, \n",
    "                      f_cast_adj, horizon, spread, exp_price))\n",
    "\n",
    "    traders = np.rec.array(init_traders, dtype=agent_def)\n",
    "    orderbook = LimitOrderBook(parameters['fundamental_value'], parameters[\"spread_max\"],\n",
    "                               parameters['horizon_max'], parameters['max_order_expiration_ticks'])\n",
    "\n",
    "    return traders, orderbook"
   ]
  },
  {
   "cell_type": "code",
   "execution_count": null,
   "metadata": {},
   "outputs": [],
   "source": [
    "np.rec.array()"
   ]
  },
  {
   "cell_type": "code",
   "execution_count": 111,
   "metadata": {},
   "outputs": [],
   "source": [
    "traders, orderbook = init_objects_optimized(params, 1)"
   ]
  },
  {
   "cell_type": "code",
   "execution_count": 113,
   "metadata": {},
   "outputs": [
    {
     "data": {
      "text/plain": [
       "array([7, 3, 7, 9, 2, 1, 4, 8, 2, 7, 8, 8, 2, 8, 8, 2, 1, 9, 9, 1, 4, 8, 9,\n",
       "       4, 2, 1, 7, 7, 5, 6, 7, 3, 6, 5, 7, 6, 5, 3, 4, 3, 1, 5, 1, 3, 9, 2,\n",
       "       7, 1, 3, 6, 4, 1, 6, 4, 6, 5, 8, 4, 7, 4, 4, 9, 9, 5, 3, 5, 3, 9, 9,\n",
       "       2, 3, 1, 6, 2, 5, 4, 5, 6, 7, 7, 8, 6, 2, 6, 4, 5, 9, 6, 9, 1, 6, 6,\n",
       "       9, 8, 5, 6, 3, 3, 1, 3, 5, 2, 6, 6, 6, 5, 1, 4, 4, 7, 2, 3, 6, 8, 5,\n",
       "       4, 5, 4, 8, 8, 6, 4, 3, 1, 8, 9, 2, 4, 7, 6, 2, 3, 4, 3, 3, 2, 9, 9,\n",
       "       8, 5, 1, 5, 8, 2, 9, 7, 9, 1, 1, 4, 8, 5, 7, 5, 3, 2, 1, 1, 1, 1, 7,\n",
       "       5, 2, 4, 9, 9, 3, 6, 6, 8, 9, 6, 6, 5, 4, 5, 5, 8, 5, 1, 1, 6, 8, 1,\n",
       "       3, 9, 6, 8, 9, 7, 9, 7, 6, 7, 9, 7, 6, 1, 6, 7, 7, 2, 2, 2, 1, 7, 2,\n",
       "       6, 7, 1, 2, 7, 6, 9, 6, 3, 5, 6, 8, 2, 5, 8, 8, 8, 3, 4, 5, 3, 4, 6,\n",
       "       9, 5, 6, 1, 5, 4, 3, 9, 4, 2, 9, 4, 2, 1, 3, 6, 5, 2, 2, 5, 7, 5, 8,\n",
       "       9, 5, 8, 3, 2, 1, 6, 1, 4, 1, 1, 4, 6, 9, 1, 7, 7, 8, 8, 6, 8, 9, 7,\n",
       "       1, 6, 7, 9, 1, 2, 9, 1, 7, 3, 4, 7, 9, 1, 9, 1, 6, 7, 2, 1, 2, 4, 5,\n",
       "       6, 7, 8, 7, 7, 6, 6, 5, 1, 8, 5, 6, 6, 8, 6, 7, 1, 5, 2, 6, 4, 9, 7,\n",
       "       7, 9, 4, 2, 9, 7, 1, 1, 8, 1, 5, 6, 2, 8, 6, 5, 1, 8, 8, 9, 6, 9, 4,\n",
       "       6, 3, 9, 7, 2, 4, 9, 9, 4, 7, 4, 3, 5, 9, 1, 2, 1, 8, 9, 9, 6, 2, 7,\n",
       "       9, 8, 6, 5, 9, 7, 2, 1, 6, 9, 5, 3, 4, 5, 7, 8, 6, 3, 6, 2, 6, 6, 9,\n",
       "       2, 8, 6, 3, 8, 3, 1, 2, 4, 3, 8, 6, 4, 7, 4, 8, 8, 6, 4, 7, 6, 4, 7,\n",
       "       7, 7, 9, 4, 7, 9, 9, 6, 3, 1, 9, 9, 2, 1, 3, 3, 9, 6, 6, 7, 2, 4, 6,\n",
       "       5, 9, 7, 2, 6, 2, 5, 1, 1, 5, 8, 7, 2, 4, 4, 7, 5, 5, 7, 3, 6, 7, 4,\n",
       "       9, 6, 7, 3, 5, 3, 4, 1, 2, 7, 3, 1, 4, 2, 3, 5, 2, 3, 6, 6, 5, 8, 8,\n",
       "       5, 3, 3, 6, 3, 4, 1, 9, 4, 9, 1, 6, 9, 8, 7, 5, 5, 1, 3, 5, 7, 3, 4,\n",
       "       9, 4, 4, 4, 1, 8, 9, 5, 8, 5, 3, 3, 8, 3, 3, 7, 9, 4, 9, 3, 6, 3, 1,\n",
       "       5, 2, 4, 9, 8, 1, 6, 7, 1, 2, 8, 4, 4, 3, 3, 8, 6, 7, 1, 1, 5, 6, 3,\n",
       "       8, 2, 6, 7, 8, 3, 5, 6, 3, 9, 7, 4, 8, 7, 6, 3, 9, 1, 6, 4, 5, 9, 7,\n",
       "       9, 6, 2, 4, 9, 6, 7, 9, 8, 8, 4, 6, 5, 7, 2, 4, 3, 9, 7, 1, 4, 7, 8,\n",
       "       7, 6, 9, 2, 7, 6, 5, 6, 6, 9, 1, 7, 4, 5, 4, 6, 3, 5, 9, 6, 4, 8, 6,\n",
       "       5, 1, 1, 5, 2, 9, 4, 3, 2, 5, 6, 6, 6, 5, 8, 9, 4, 3, 5, 1, 1, 5, 1,\n",
       "       6, 2, 8, 2, 6, 3, 6, 2, 9, 5, 4, 1, 9, 8, 3, 8, 9, 8, 2, 1, 3, 5, 2,\n",
       "       4, 4, 7, 3, 2, 8, 5, 6, 5, 4, 6, 5, 4, 3, 5, 5, 3, 6, 2, 6, 1, 4, 5,\n",
       "       7, 1, 6, 3, 3, 3, 2, 1, 9, 1, 4, 4, 9, 3, 9, 4, 2, 9, 3, 9, 4, 1, 6,\n",
       "       9, 2, 1, 5, 5, 8, 3, 7, 8, 2, 7, 8, 4, 5, 7, 4, 9, 6, 2, 9, 8, 4, 9,\n",
       "       9, 9, 3, 4, 3, 7, 8, 4, 8, 2, 2, 1, 3, 5, 2, 5, 8, 3, 7, 2, 4, 7, 6,\n",
       "       7, 8, 1, 9, 2, 6, 3, 4, 7, 1, 9, 5, 7, 2, 2, 2, 8, 9, 8, 6, 3, 9, 8,\n",
       "       4, 6, 1, 4, 9, 1, 1, 1, 4, 7, 5, 8, 3, 1, 2, 4, 9, 3, 9, 2, 3, 4, 9,\n",
       "       6, 8, 1, 6, 4, 2, 1, 1, 5, 1, 6, 9, 4, 2, 1, 9, 5, 7, 1, 2, 2, 6, 1,\n",
       "       9, 3, 5, 2, 6, 6, 2, 1, 8, 5, 1, 7, 5, 4, 1, 9, 6, 1, 7, 5, 4, 9, 1,\n",
       "       7, 7, 2, 6, 6, 7, 1, 6, 4, 5, 8, 1, 4, 7, 5, 6, 5, 7, 8, 7, 4, 9, 6,\n",
       "       1, 7, 8, 1, 3, 1, 6, 3, 6, 4, 4, 3, 2, 8, 5, 1, 2, 8, 9, 7, 6, 1, 1,\n",
       "       3, 7, 4, 1, 6, 1, 5, 6, 9, 9, 9, 8, 4, 8, 1, 7, 6, 2, 6, 5, 6, 1, 8,\n",
       "       5, 7, 6, 5, 5, 9, 2, 6, 9, 1, 9, 1, 4, 6, 7, 1, 2, 8, 2, 4, 9, 3, 6,\n",
       "       3, 4, 2, 8, 4, 3, 8, 8, 8, 6, 2, 8, 9, 4, 1, 1, 9, 2, 9, 4, 2, 1, 7,\n",
       "       5, 1, 8, 8, 8, 4, 5, 7, 8, 3, 6, 7, 3, 2, 1, 2, 3, 4, 2, 3, 8, 6, 1,\n",
       "       3, 4, 2, 5, 4, 4, 5, 9, 6, 7, 8], dtype=int64)"
      ]
     },
     "execution_count": 113,
     "metadata": {},
     "output_type": "execute_result"
    }
   ],
   "source": [
    "# you can select all qualities some agents like this: \n",
    "traders.horizon"
   ]
  },
  {
   "cell_type": "code",
   "execution_count": 114,
   "metadata": {},
   "outputs": [
    {
     "data": {
      "text/plain": [
       "2"
      ]
     },
     "execution_count": 114,
     "metadata": {},
     "output_type": "execute_result"
    }
   ],
   "source": [
    "# you can modify a property like this: \n",
    "traders[0]['horizon'] = 2\n",
    "traders[0]['horizon']"
   ]
  },
  {
   "cell_type": "code",
   "execution_count": 116,
   "metadata": {},
   "outputs": [
    {
     "data": {
      "text/plain": [
       "3"
      ]
     },
     "execution_count": 116,
     "metadata": {},
     "output_type": "execute_result"
    }
   ],
   "source": [
    "# it is also possible to set a property based on the array of all properties like this: \n",
    "traders['horizon'][0] = 3\n",
    "traders[0].horizon"
   ]
  },
  {
   "cell_type": "markdown",
   "metadata": {},
   "source": [
    "## play around with the new type of traders and see the speed difference\n",
    "Let's say, I want to update all expected prices by 0.1 "
   ]
  },
  {
   "cell_type": "code",
   "execution_count": 87,
   "metadata": {},
   "outputs": [
    {
     "data": {
      "text/plain": [
       "166"
      ]
     },
     "execution_count": 87,
     "metadata": {},
     "output_type": "execute_result"
    }
   ],
   "source": [
    "slow_traders[0].exp.price"
   ]
  },
  {
   "cell_type": "code",
   "execution_count": 88,
   "metadata": {},
   "outputs": [],
   "source": [
    "def increase_price():\n",
    "    for trader in slow_traders:\n",
    "        trader.exp.price += 1"
   ]
  },
  {
   "cell_type": "code",
   "execution_count": 89,
   "metadata": {},
   "outputs": [
    {
     "name": "stdout",
     "output_type": "stream",
     "text": [
      "10000 loops, best of 3: 98.9 µs per loop\n"
     ]
    }
   ],
   "source": [
    "%timeit increase_price()"
   ]
  },
  {
   "cell_type": "code",
   "execution_count": 92,
   "metadata": {},
   "outputs": [
    {
     "data": {
      "text/plain": [
       "41277"
      ]
     },
     "execution_count": 92,
     "metadata": {},
     "output_type": "execute_result"
    }
   ],
   "source": [
    "slow_traders[0].exp.price"
   ]
  },
  {
   "cell_type": "code",
   "execution_count": 101,
   "metadata": {},
   "outputs": [],
   "source": [
    "def increase_price_fast():\n",
    "    # for all fast traders increase price by 1 \n",
    "    traders['exp_price'] = traders['exp_price'] + 1"
   ]
  },
  {
   "cell_type": "code",
   "execution_count": 104,
   "metadata": {},
   "outputs": [
    {
     "name": "stdout",
     "output_type": "stream",
     "text": [
      "100000 loops, best of 3: 10.4 µs per loop\n"
     ]
    }
   ],
   "source": [
    "%timeit increase_price_fast()"
   ]
  },
  {
   "cell_type": "code",
   "execution_count": 105,
   "metadata": {},
   "outputs": [
    {
     "data": {
      "text/plain": [
       "411277.0"
      ]
     },
     "execution_count": 105,
     "metadata": {},
     "output_type": "execute_result"
    }
   ],
   "source": [
    "traders[0]['exp_price']"
   ]
  },
  {
   "cell_type": "code",
   "execution_count": 44,
   "metadata": {},
   "outputs": [
    {
     "data": {
      "text/plain": [
       "('agent0',  50.,  40.,  40.,  20.,  0.00666667, 4,  0.002,  1.)"
      ]
     },
     "execution_count": 44,
     "metadata": {},
     "output_type": "execute_result"
    }
   ],
   "source": []
  },
  {
   "cell_type": "code",
   "execution_count": 13,
   "metadata": {},
   "outputs": [],
   "source": [
    "agent = np.dtype({'names': ['var1', 'var2'], 'formats': [np.double, np.double]})"
   ]
  },
  {
   "cell_type": "code",
   "execution_count": 23,
   "metadata": {},
   "outputs": [
    {
     "data": {
      "text/plain": [
       "'var1'"
      ]
     },
     "execution_count": 23,
     "metadata": {},
     "output_type": "execute_result"
    }
   ],
   "source": [
    "agent.names[0]"
   ]
  },
  {
   "cell_type": "code",
   "execution_count": 33,
   "metadata": {},
   "outputs": [
    {
     "ename": "TypeError",
     "evalue": "'numpy.dtype' object does not support item assignment",
     "output_type": "error",
     "traceback": [
      "\u001b[1;31m---------------------------------------------------------------------------\u001b[0m",
      "\u001b[1;31mTypeError\u001b[0m                                 Traceback (most recent call last)",
      "\u001b[1;32m<ipython-input-33-d0d9c495bd10>\u001b[0m in \u001b[0;36m<module>\u001b[1;34m()\u001b[0m\n\u001b[1;32m----> 1\u001b[1;33m \u001b[0magent\u001b[0m\u001b[1;33m[\u001b[0m\u001b[1;36m0\u001b[0m\u001b[1;33m]\u001b[0m\u001b[1;33m[\u001b[0m\u001b[1;34m'var1'\u001b[0m\u001b[1;33m]\u001b[0m \u001b[1;33m=\u001b[0m \u001b[1;36m2.3\u001b[0m\u001b[1;33m\u001b[0m\u001b[0m\n\u001b[0m",
      "\u001b[1;31mTypeError\u001b[0m: 'numpy.dtype' object does not support item assignment"
     ]
    }
   ],
   "source": [
    "agent[0]['var1'] = 2.3"
   ]
  },
  {
   "cell_type": "code",
   "execution_count": null,
   "metadata": {},
   "outputs": [],
   "source": []
  }
 ],
 "metadata": {
  "kernelspec": {
   "display_name": "Python [default]",
   "language": "python",
   "name": "python2"
  },
  "language_info": {
   "codemirror_mode": {
    "name": "ipython",
    "version": 2
   },
   "file_extension": ".py",
   "mimetype": "text/x-python",
   "name": "python",
   "nbconvert_exporter": "python",
   "pygments_lexer": "ipython2",
   "version": "2.7.15"
  }
 },
 "nbformat": 4,
 "nbformat_minor": 2
}
